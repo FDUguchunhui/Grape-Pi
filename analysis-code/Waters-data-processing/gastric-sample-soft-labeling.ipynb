{
 "cells": [
  {
   "cell_type": "code",
   "execution_count": 57,
   "metadata": {
    "collapsed": true,
    "pycharm": {
     "name": "#%%\n"
    },
    "ExecuteTime": {
     "end_time": "2023-10-03T21:01:38.120384Z",
     "start_time": "2023-10-03T21:01:38.113232Z"
    }
   },
   "outputs": [],
   "source": [
    "import os\n",
    "import re\n",
    "\n",
    "from IPython.core.interactiveshell import InteractiveShell\n",
    "InteractiveShell.ast_node_interactivity = \"all\"\n",
    "import pandas as pd\n",
    "import numpy as np\n",
    "from functools import reduce\n",
    "import matplotlib.pyplot as plt\n",
    "from matplotlib_venn import venn2"
   ]
  },
  {
   "cell_type": "code",
   "execution_count": 24,
   "outputs": [],
   "source": [
    "# %connect_info\n",
    "%qtconsole"
   ],
   "metadata": {
    "collapsed": false,
    "pycharm": {
     "name": "#%%\n"
    },
    "ExecuteTime": {
     "end_time": "2023-09-30T22:24:46.948658Z",
     "start_time": "2023-09-30T22:24:46.733893Z"
    }
   }
  },
  {
   "cell_type": "code",
   "execution_count": 58,
   "outputs": [],
   "source": [
    "os.chdir('/Users/cgu3/Documents/data')"
   ],
   "metadata": {
    "collapsed": false,
    "ExecuteTime": {
     "end_time": "2023-10-03T21:01:43.144485Z",
     "start_time": "2023-10-03T21:01:43.134926Z"
    }
   }
  },
  {
   "cell_type": "code",
   "execution_count": 59,
   "outputs": [
    {
     "data": {
      "text/plain": "'/Users/cgu3/Documents/data'"
     },
     "execution_count": 59,
     "metadata": {},
     "output_type": "execute_result"
    }
   ],
   "source": [
    "pwd"
   ],
   "metadata": {
    "collapsed": false,
    "pycharm": {
     "name": "#%%\n"
    },
    "ExecuteTime": {
     "end_time": "2023-10-03T21:01:43.454807Z",
     "start_time": "2023-10-03T21:01:43.444397Z"
    }
   }
  },
  {
   "cell_type": "code",
   "execution_count": 60,
   "outputs": [
    {
     "name": "stdout",
     "output_type": "stream",
     "text": [
      "['SG_combined_protein_0993_with_protein_probability.csv', 'SG_combined_protein_7105_with_protein_probability.csv', 'SG_combined_protein_7103_with_protein_probability.csv', 'SG_combined_protein_0995_with_protein_probability.csv', 'SG_combined_protein_7100_with_protein_probability.csv', 'SG_combined_protein_0981_with_protein_probability.csv', 'SG_combined_protein_0982_with_protein_probability.csv', 'SG_combined_protein_0999_with_protein_probability.csv']\n"
     ]
    }
   ],
   "source": [
    "# Define the regular expression\n",
    "pattern = re.compile(r'.*_with_protein_probability\\.csv$')\n",
    "\n",
    "# Get a list of all files in the current directory\n",
    "files = os.listdir()\n",
    "\n",
    "# Filter the list of files to only include those that match the regular expression\n",
    "matching_files = [file for file in files if pattern.match(file)]\n",
    "\n",
    "# Print the list of matching files\n",
    "print(matching_files)"
   ],
   "metadata": {
    "collapsed": false,
    "ExecuteTime": {
     "end_time": "2023-10-03T21:01:43.891276Z",
     "start_time": "2023-10-03T21:01:43.881118Z"
    }
   }
  },
  {
   "cell_type": "code",
   "execution_count": 43,
   "outputs": [],
   "source": [
    "csv_files = []\n",
    "i = 0\n",
    "for file in matching_files:\n",
    "    csv_file = pd.read_csv(file)\n",
    "    csv_file.rename(columns={'protein_probability': 'protein_probability' + str(i)}, inplace=True)\n",
    "    csv_files.append(csv_file)\n",
    "    i += 1"
   ],
   "metadata": {
    "collapsed": false,
    "ExecuteTime": {
     "end_time": "2023-10-03T21:00:15.240856Z",
     "start_time": "2023-10-03T21:00:14.872291Z"
    }
   }
  },
  {
   "cell_type": "code",
   "execution_count": 44,
   "outputs": [
    {
     "data": {
      "text/plain": "['SG_combined_protein_0993_with_protein_probability.csv',\n 'SG_combined_protein_7105_with_protein_probability.csv',\n 'SG_combined_protein_7103_with_protein_probability.csv',\n 'SG_combined_protein_0995_with_protein_probability.csv',\n 'SG_combined_protein_7100_with_protein_probability.csv',\n 'SG_combined_protein_0981_with_protein_probability.csv',\n 'SG_combined_protein_0982_with_protein_probability.csv',\n 'SG_combined_protein_0999_with_protein_probability.csv']"
     },
     "execution_count": 44,
     "metadata": {},
     "output_type": "execute_result"
    }
   ],
   "source": [
    " matching_files"
   ],
   "metadata": {
    "collapsed": false,
    "ExecuteTime": {
     "end_time": "2023-10-03T21:00:16.254212Z",
     "start_time": "2023-10-03T21:00:16.049074Z"
    }
   }
  },
  {
   "cell_type": "code",
   "execution_count": 45,
   "outputs": [
    {
     "data": {
      "text/plain": "  protein.Accession  protein_probability0\n0        A0A024RBG1              0.999992\n1        A0A075B6J2              0.939846\n2        A0A075B6K0              0.991211\n3        A0A075B6K2              0.331800\n4        A0A075B6K4              0.469839",
      "text/html": "<div>\n<style scoped>\n    .dataframe tbody tr th:only-of-type {\n        vertical-align: middle;\n    }\n\n    .dataframe tbody tr th {\n        vertical-align: top;\n    }\n\n    .dataframe thead th {\n        text-align: right;\n    }\n</style>\n<table border=\"1\" class=\"dataframe\">\n  <thead>\n    <tr style=\"text-align: right;\">\n      <th></th>\n      <th>protein.Accession</th>\n      <th>protein_probability0</th>\n    </tr>\n  </thead>\n  <tbody>\n    <tr>\n      <th>0</th>\n      <td>A0A024RBG1</td>\n      <td>0.999992</td>\n    </tr>\n    <tr>\n      <th>1</th>\n      <td>A0A075B6J2</td>\n      <td>0.939846</td>\n    </tr>\n    <tr>\n      <th>2</th>\n      <td>A0A075B6K0</td>\n      <td>0.991211</td>\n    </tr>\n    <tr>\n      <th>3</th>\n      <td>A0A075B6K2</td>\n      <td>0.331800</td>\n    </tr>\n    <tr>\n      <th>4</th>\n      <td>A0A075B6K4</td>\n      <td>0.469839</td>\n    </tr>\n  </tbody>\n</table>\n</div>"
     },
     "execution_count": 45,
     "metadata": {},
     "output_type": "execute_result"
    }
   ],
   "source": [
    "csv_files[0].head()"
   ],
   "metadata": {
    "collapsed": false,
    "ExecuteTime": {
     "end_time": "2023-10-03T21:00:20.402483Z",
     "start_time": "2023-10-03T21:00:20.351083Z"
    }
   }
  },
  {
   "cell_type": "code",
   "execution_count": 46,
   "outputs": [],
   "source": [
    "joined_file = reduce(lambda left,right: pd.merge(left,right,on='protein.Accession'), csv_files)"
   ],
   "metadata": {
    "collapsed": false,
    "ExecuteTime": {
     "end_time": "2023-10-03T21:00:23.032200Z",
     "start_time": "2023-10-03T21:00:22.883566Z"
    }
   }
  },
  {
   "cell_type": "code",
   "execution_count": 50,
   "outputs": [
    {
     "data": {
      "text/plain": "      protein.Accession  protein_probability0  protein_probability1  \\\n0            A0A024RBG1              0.999992              0.999766   \n1            A0A075B6J2              0.939846              0.000000   \n2            A0A075B6K0              0.991211              0.000000   \n3            A0A075B6K2              0.331800              0.000000   \n4            A0A075B6K4              0.469839              0.000000   \n...                 ...                   ...                   ...   \n20421            Q9UI72              0.000000              0.000000   \n20422            Q9Y3F1              0.000000              0.748260   \n20423            Q9Y6C7              0.000000              0.000000   \n20424            Q9Y6Z2              0.000000              0.000000   \n20425            X6R8R1              0.000000              0.769844   \n\n       protein_probability2  protein_probability3  protein_probability4  \\\n0                  0.000000              0.990977              0.000000   \n1                  0.000000              0.000000              0.000000   \n2                  0.000000              0.000000              0.000000   \n3                  0.000000              0.000000              0.997536   \n4                  0.000000              0.000000              0.956788   \n...                     ...                   ...                   ...   \n20421              0.000000              0.000000              0.000000   \n20422              0.000000              0.000000              0.633704   \n20423              0.000000              0.000000              0.000000   \n20424              0.000000              0.000000              0.000000   \n20425              0.583961              0.383530              0.000000   \n\n       protein_probability5  protein_probability6  protein_probability7  \\\n0                  0.890032              0.681366              0.999911   \n1                  0.000000              0.847492              0.000000   \n2                  0.000000              0.000000              0.000000   \n3                  0.000000              0.000000              0.000000   \n4                  0.000000              0.000000              0.356269   \n...                     ...                   ...                   ...   \n20421              0.609402              0.000000              0.000000   \n20422              0.000000              0.000000              0.000000   \n20423              0.000000              0.000000              0.652250   \n20424              0.000000              0.000000              0.000000   \n20425              0.000000              0.249031              0.000000   \n\n            max  \n0      0.999992  \n1      0.939846  \n2      0.991211  \n3      0.997536  \n4      0.956788  \n...         ...  \n20421  0.609402  \n20422  0.748260  \n20423  0.652250  \n20424  0.000000  \n20425  0.769844  \n\n[20426 rows x 10 columns]",
      "text/html": "<div>\n<style scoped>\n    .dataframe tbody tr th:only-of-type {\n        vertical-align: middle;\n    }\n\n    .dataframe tbody tr th {\n        vertical-align: top;\n    }\n\n    .dataframe thead th {\n        text-align: right;\n    }\n</style>\n<table border=\"1\" class=\"dataframe\">\n  <thead>\n    <tr style=\"text-align: right;\">\n      <th></th>\n      <th>protein.Accession</th>\n      <th>protein_probability0</th>\n      <th>protein_probability1</th>\n      <th>protein_probability2</th>\n      <th>protein_probability3</th>\n      <th>protein_probability4</th>\n      <th>protein_probability5</th>\n      <th>protein_probability6</th>\n      <th>protein_probability7</th>\n      <th>max</th>\n    </tr>\n  </thead>\n  <tbody>\n    <tr>\n      <th>0</th>\n      <td>A0A024RBG1</td>\n      <td>0.999992</td>\n      <td>0.999766</td>\n      <td>0.000000</td>\n      <td>0.990977</td>\n      <td>0.000000</td>\n      <td>0.890032</td>\n      <td>0.681366</td>\n      <td>0.999911</td>\n      <td>0.999992</td>\n    </tr>\n    <tr>\n      <th>1</th>\n      <td>A0A075B6J2</td>\n      <td>0.939846</td>\n      <td>0.000000</td>\n      <td>0.000000</td>\n      <td>0.000000</td>\n      <td>0.000000</td>\n      <td>0.000000</td>\n      <td>0.847492</td>\n      <td>0.000000</td>\n      <td>0.939846</td>\n    </tr>\n    <tr>\n      <th>2</th>\n      <td>A0A075B6K0</td>\n      <td>0.991211</td>\n      <td>0.000000</td>\n      <td>0.000000</td>\n      <td>0.000000</td>\n      <td>0.000000</td>\n      <td>0.000000</td>\n      <td>0.000000</td>\n      <td>0.000000</td>\n      <td>0.991211</td>\n    </tr>\n    <tr>\n      <th>3</th>\n      <td>A0A075B6K2</td>\n      <td>0.331800</td>\n      <td>0.000000</td>\n      <td>0.000000</td>\n      <td>0.000000</td>\n      <td>0.997536</td>\n      <td>0.000000</td>\n      <td>0.000000</td>\n      <td>0.000000</td>\n      <td>0.997536</td>\n    </tr>\n    <tr>\n      <th>4</th>\n      <td>A0A075B6K4</td>\n      <td>0.469839</td>\n      <td>0.000000</td>\n      <td>0.000000</td>\n      <td>0.000000</td>\n      <td>0.956788</td>\n      <td>0.000000</td>\n      <td>0.000000</td>\n      <td>0.356269</td>\n      <td>0.956788</td>\n    </tr>\n    <tr>\n      <th>...</th>\n      <td>...</td>\n      <td>...</td>\n      <td>...</td>\n      <td>...</td>\n      <td>...</td>\n      <td>...</td>\n      <td>...</td>\n      <td>...</td>\n      <td>...</td>\n      <td>...</td>\n    </tr>\n    <tr>\n      <th>20421</th>\n      <td>Q9UI72</td>\n      <td>0.000000</td>\n      <td>0.000000</td>\n      <td>0.000000</td>\n      <td>0.000000</td>\n      <td>0.000000</td>\n      <td>0.609402</td>\n      <td>0.000000</td>\n      <td>0.000000</td>\n      <td>0.609402</td>\n    </tr>\n    <tr>\n      <th>20422</th>\n      <td>Q9Y3F1</td>\n      <td>0.000000</td>\n      <td>0.748260</td>\n      <td>0.000000</td>\n      <td>0.000000</td>\n      <td>0.633704</td>\n      <td>0.000000</td>\n      <td>0.000000</td>\n      <td>0.000000</td>\n      <td>0.748260</td>\n    </tr>\n    <tr>\n      <th>20423</th>\n      <td>Q9Y6C7</td>\n      <td>0.000000</td>\n      <td>0.000000</td>\n      <td>0.000000</td>\n      <td>0.000000</td>\n      <td>0.000000</td>\n      <td>0.000000</td>\n      <td>0.000000</td>\n      <td>0.652250</td>\n      <td>0.652250</td>\n    </tr>\n    <tr>\n      <th>20424</th>\n      <td>Q9Y6Z2</td>\n      <td>0.000000</td>\n      <td>0.000000</td>\n      <td>0.000000</td>\n      <td>0.000000</td>\n      <td>0.000000</td>\n      <td>0.000000</td>\n      <td>0.000000</td>\n      <td>0.000000</td>\n      <td>0.000000</td>\n    </tr>\n    <tr>\n      <th>20425</th>\n      <td>X6R8R1</td>\n      <td>0.000000</td>\n      <td>0.769844</td>\n      <td>0.583961</td>\n      <td>0.383530</td>\n      <td>0.000000</td>\n      <td>0.000000</td>\n      <td>0.249031</td>\n      <td>0.000000</td>\n      <td>0.769844</td>\n    </tr>\n  </tbody>\n</table>\n<p>20426 rows × 10 columns</p>\n</div>"
     },
     "execution_count": 50,
     "metadata": {},
     "output_type": "execute_result"
    }
   ],
   "source": [
    "# joined_file['max'] = joined_file.iloc[:, 1:].mean(axis=1)\n",
    "joined_file['max'] = joined_file.iloc[:, 1:].max(axis=1)\n",
    "joined_file"
   ],
   "metadata": {
    "collapsed": false,
    "ExecuteTime": {
     "end_time": "2023-10-03T21:00:44.202747Z",
     "start_time": "2023-10-03T21:00:44.161795Z"
    }
   }
  },
  {
   "cell_type": "code",
   "execution_count": 51,
   "outputs": [
    {
     "data": {
      "text/plain": "      protein.Accession  protein_probability\n0            A0A024RBG1             0.999992\n1            A0A075B6J2             0.939846\n2            A0A075B6K0             0.991211\n3            A0A075B6K2             0.997536\n4            A0A075B6K4             0.956788\n...                 ...                  ...\n20421            Q9UI72             0.609402\n20422            Q9Y3F1             0.748260\n20423            Q9Y6C7             0.652250\n20424            Q9Y6Z2             0.000000\n20425            X6R8R1             0.769844\n\n[20426 rows x 2 columns]",
      "text/html": "<div>\n<style scoped>\n    .dataframe tbody tr th:only-of-type {\n        vertical-align: middle;\n    }\n\n    .dataframe tbody tr th {\n        vertical-align: top;\n    }\n\n    .dataframe thead th {\n        text-align: right;\n    }\n</style>\n<table border=\"1\" class=\"dataframe\">\n  <thead>\n    <tr style=\"text-align: right;\">\n      <th></th>\n      <th>protein.Accession</th>\n      <th>protein_probability</th>\n    </tr>\n  </thead>\n  <tbody>\n    <tr>\n      <th>0</th>\n      <td>A0A024RBG1</td>\n      <td>0.999992</td>\n    </tr>\n    <tr>\n      <th>1</th>\n      <td>A0A075B6J2</td>\n      <td>0.939846</td>\n    </tr>\n    <tr>\n      <th>2</th>\n      <td>A0A075B6K0</td>\n      <td>0.991211</td>\n    </tr>\n    <tr>\n      <th>3</th>\n      <td>A0A075B6K2</td>\n      <td>0.997536</td>\n    </tr>\n    <tr>\n      <th>4</th>\n      <td>A0A075B6K4</td>\n      <td>0.956788</td>\n    </tr>\n    <tr>\n      <th>...</th>\n      <td>...</td>\n      <td>...</td>\n    </tr>\n    <tr>\n      <th>20421</th>\n      <td>Q9UI72</td>\n      <td>0.609402</td>\n    </tr>\n    <tr>\n      <th>20422</th>\n      <td>Q9Y3F1</td>\n      <td>0.748260</td>\n    </tr>\n    <tr>\n      <th>20423</th>\n      <td>Q9Y6C7</td>\n      <td>0.652250</td>\n    </tr>\n    <tr>\n      <th>20424</th>\n      <td>Q9Y6Z2</td>\n      <td>0.000000</td>\n    </tr>\n    <tr>\n      <th>20425</th>\n      <td>X6R8R1</td>\n      <td>0.769844</td>\n    </tr>\n  </tbody>\n</table>\n<p>20426 rows × 2 columns</p>\n</div>"
     },
     "execution_count": 51,
     "metadata": {},
     "output_type": "execute_result"
    }
   ],
   "source": [
    "soft_label = joined_file.loc[:, ['protein.Accession', 'max']]\n",
    "soft_label.rename(columns={'max': 'protein_probability'}, inplace=True)\n",
    "soft_label"
   ],
   "metadata": {
    "collapsed": false,
    "ExecuteTime": {
     "end_time": "2023-10-03T21:00:44.764940Z",
     "start_time": "2023-10-03T21:00:44.735972Z"
    }
   }
  },
  {
   "cell_type": "code",
   "execution_count": 52,
   "outputs": [
    {
     "data": {
      "text/plain": "<Axes: >"
     },
     "execution_count": 52,
     "metadata": {},
     "output_type": "execute_result"
    },
    {
     "data": {
      "text/plain": "<Figure size 640x480 with 1 Axes>",
      "image/png": "[encoded data removed]"
     },
     "metadata": {},
     "output_type": "display_data"
    }
   ],
   "source": [
    "soft_label['protein_probability'].hist(bins=100)"
   ],
   "metadata": {
    "collapsed": false,
    "ExecuteTime": {
     "end_time": "2023-10-03T21:00:45.942522Z",
     "start_time": "2023-10-03T21:00:45.548827Z"
    }
   }
  },
  {
   "cell_type": "code",
   "execution_count": 53,
   "outputs": [],
   "source": [
    "soft_label.to_csv('soft_label.csv', index=False)"
   ],
   "metadata": {
    "collapsed": false,
    "ExecuteTime": {
     "end_time": "2023-10-03T21:00:52.045361Z",
     "start_time": "2023-10-03T21:00:51.978053Z"
    }
   }
  },
  {
   "cell_type": "code",
   "execution_count": 54,
   "outputs": [],
   "source": [
    "file_0981 = pd.read_csv('SG_combined_protein_0981_with_protein_probability.csv')"
   ],
   "metadata": {
    "collapsed": false,
    "ExecuteTime": {
     "end_time": "2023-10-03T21:00:55.315313Z",
     "start_time": "2023-10-03T21:00:55.218413Z"
    }
   }
  },
  {
   "cell_type": "code",
   "execution_count": 55,
   "outputs": [],
   "source": [
    "file_0981_with_soft_label = pd.merge(file_0981, soft_label, on='protein.Accession', suffixes=('', '_soft_label'))"
   ],
   "metadata": {
    "collapsed": false,
    "ExecuteTime": {
     "end_time": "2023-10-03T21:00:56.702606Z",
     "start_time": "2023-10-03T21:00:56.687872Z"
    }
   }
  },
  {
   "cell_type": "code",
   "execution_count": 56,
   "outputs": [],
   "source": [
    "file_0981_with_soft_label.to_csv('SG_combined_protein_0981_with_soft_label.csv', index=False)"
   ],
   "metadata": {
    "collapsed": false,
    "ExecuteTime": {
     "end_time": "2023-10-03T21:00:58.955790Z",
     "start_time": "2023-10-03T21:00:58.876589Z"
    }
   }
  },
  {
   "cell_type": "code",
   "execution_count": null,
   "outputs": [],
   "source": [],
   "metadata": {
    "collapsed": false
   }
  }
 ],
 "metadata": {
  "kernelspec": {
   "display_name": "Python 3",
   "language": "python",
   "name": "python3"
  },
  "language_info": {
   "codemirror_mode": {
    "name": "ipython",
    "version": 2
   },
   "file_extension": ".py",
   "mimetype": "text/x-python",
   "name": "python",
   "nbconvert_exporter": "python",
   "pygments_lexer": "ipython2",
   "version": "2.7.6"
  }
 },
 "nbformat": 4,
 "nbformat_minor": 0
}

{
 "cells": [
  {
   "cell_type": "code",
   "execution_count": 2,
   "outputs": [],
   "source": [
    "import pandas as pd\n",
    "from IPython.core.interactiveshell import InteractiveShell\n",
    "InteractiveShell.ast_node_interactivity = \"all\"\n"
   ],
   "metadata": {
    "collapsed": false,
    "ExecuteTime": {
     "end_time": "2023-10-11T18:21:39.142805Z",
     "start_time": "2023-10-11T18:21:38.241957Z"
    }
   },
   "id": "bb9e08d295657b00"
  },
  {
   "cell_type": "code",
   "execution_count": 3,
   "outputs": [
    {
     "data": {
      "text/plain": "                     STRING       Entry\n2      9606.ENSP00000482829  A0A0B4J2F2\n7      9606.ENSP00000377112      A0AV02\n8      9606.ENSP00000371212      A0AV96\n9      9606.ENSP00000419279      A0AVF1\n10     9606.ENSP00000372394      A0AVI4\n...                     ...         ...\n20371  9606.ENSP00000429608      Q96PS1\n20373  9606.ENSP00000402355      Q96T59\n20383  9606.ENSP00000359558      Q9H1L0\n20388  9606.ENSP00000455079      Q9H693\n20394  9606.ENSP00000418086      Q9HBI5\n\n[18528 rows x 2 columns]",
      "text/html": "<div>\n<style scoped>\n    .dataframe tbody tr th:only-of-type {\n        vertical-align: middle;\n    }\n\n    .dataframe tbody tr th {\n        vertical-align: top;\n    }\n\n    .dataframe thead th {\n        text-align: right;\n    }\n</style>\n<table border=\"1\" class=\"dataframe\">\n  <thead>\n    <tr style=\"text-align: right;\">\n      <th></th>\n      <th>STRING</th>\n      <th>Entry</th>\n    </tr>\n  </thead>\n  <tbody>\n    <tr>\n      <th>2</th>\n      <td>9606.ENSP00000482829</td>\n      <td>A0A0B4J2F2</td>\n    </tr>\n    <tr>\n      <th>7</th>\n      <td>9606.ENSP00000377112</td>\n      <td>A0AV02</td>\n    </tr>\n    <tr>\n      <th>8</th>\n      <td>9606.ENSP00000371212</td>\n      <td>A0AV96</td>\n    </tr>\n    <tr>\n      <th>9</th>\n      <td>9606.ENSP00000419279</td>\n      <td>A0AVF1</td>\n    </tr>\n    <tr>\n      <th>10</th>\n      <td>9606.ENSP00000372394</td>\n      <td>A0AVI4</td>\n    </tr>\n    <tr>\n      <th>...</th>\n      <td>...</td>\n      <td>...</td>\n    </tr>\n    <tr>\n      <th>20371</th>\n      <td>9606.ENSP00000429608</td>\n      <td>Q96PS1</td>\n    </tr>\n    <tr>\n      <th>20373</th>\n      <td>9606.ENSP00000402355</td>\n      <td>Q96T59</td>\n    </tr>\n    <tr>\n      <th>20383</th>\n      <td>9606.ENSP00000359558</td>\n      <td>Q9H1L0</td>\n    </tr>\n    <tr>\n      <th>20388</th>\n      <td>9606.ENSP00000455079</td>\n      <td>Q9H693</td>\n    </tr>\n    <tr>\n      <th>20394</th>\n      <td>9606.ENSP00000418086</td>\n      <td>Q9HBI5</td>\n    </tr>\n  </tbody>\n</table>\n<p>18528 rows × 2 columns</p>\n</div>"
     },
     "execution_count": 3,
     "metadata": {},
     "output_type": "execute_result"
    }
   ],
   "source": [
    "uniprot_df = pd.read_table('/Users/cgu3/Documents/Grape-Pi/data/miscellaneous/uniprotkb_proteome_UP000005640_AND_revi_2023_10_05.tsv', sep='\\t')\n",
    "uniprot_df = uniprot_df[['STRING', 'Entry']]\n",
    "uniprot_df.dropna(subset=['STRING'], inplace=True)\n",
    "uniprot_df['STRING'] = uniprot_df['STRING'].str.replace(';', '')\n",
    "uniprot_df"
   ],
   "metadata": {
    "collapsed": false,
    "ExecuteTime": {
     "end_time": "2023-10-07T16:26:24.977355Z",
     "start_time": "2023-10-07T16:26:24.913964Z"
    }
   },
   "id": "e033884092d1123f"
  },
  {
   "cell_type": "code",
   "execution_count": 4,
   "outputs": [
    {
     "data": {
      "text/plain": "                      protein1              protein2  combined_score\n0         9606.ENSP00000000233  9606.ENSP00000356607             173\n1         9606.ENSP00000000233  9606.ENSP00000427567             154\n2         9606.ENSP00000000233  9606.ENSP00000253413             151\n3         9606.ENSP00000000233  9606.ENSP00000493357             471\n4         9606.ENSP00000000233  9606.ENSP00000324127             201\n...                        ...                   ...             ...\n13715399  9606.ENSP00000501317  9606.ENSP00000475489             195\n13715400  9606.ENSP00000501317  9606.ENSP00000370447             158\n13715401  9606.ENSP00000501317  9606.ENSP00000312272             226\n13715402  9606.ENSP00000501317  9606.ENSP00000402092             169\n13715403  9606.ENSP00000501317  9606.ENSP00000404074             251\n\n[13715404 rows x 3 columns]",
      "text/html": "<div>\n<style scoped>\n    .dataframe tbody tr th:only-of-type {\n        vertical-align: middle;\n    }\n\n    .dataframe tbody tr th {\n        vertical-align: top;\n    }\n\n    .dataframe thead th {\n        text-align: right;\n    }\n</style>\n<table border=\"1\" class=\"dataframe\">\n  <thead>\n    <tr style=\"text-align: right;\">\n      <th></th>\n      <th>protein1</th>\n      <th>protein2</th>\n      <th>combined_score</th>\n    </tr>\n  </thead>\n  <tbody>\n    <tr>\n      <th>0</th>\n      <td>9606.ENSP00000000233</td>\n      <td>9606.ENSP00000356607</td>\n      <td>173</td>\n    </tr>\n    <tr>\n      <th>1</th>\n      <td>9606.ENSP00000000233</td>\n      <td>9606.ENSP00000427567</td>\n      <td>154</td>\n    </tr>\n    <tr>\n      <th>2</th>\n      <td>9606.ENSP00000000233</td>\n      <td>9606.ENSP00000253413</td>\n      <td>151</td>\n    </tr>\n    <tr>\n      <th>3</th>\n      <td>9606.ENSP00000000233</td>\n      <td>9606.ENSP00000493357</td>\n      <td>471</td>\n    </tr>\n    <tr>\n      <th>4</th>\n      <td>9606.ENSP00000000233</td>\n      <td>9606.ENSP00000324127</td>\n      <td>201</td>\n    </tr>\n    <tr>\n      <th>...</th>\n      <td>...</td>\n      <td>...</td>\n      <td>...</td>\n    </tr>\n    <tr>\n      <th>13715399</th>\n      <td>9606.ENSP00000501317</td>\n      <td>9606.ENSP00000475489</td>\n      <td>195</td>\n    </tr>\n    <tr>\n      <th>13715400</th>\n      <td>9606.ENSP00000501317</td>\n      <td>9606.ENSP00000370447</td>\n      <td>158</td>\n    </tr>\n    <tr>\n      <th>13715401</th>\n      <td>9606.ENSP00000501317</td>\n      <td>9606.ENSP00000312272</td>\n      <td>226</td>\n    </tr>\n    <tr>\n      <th>13715402</th>\n      <td>9606.ENSP00000501317</td>\n      <td>9606.ENSP00000402092</td>\n      <td>169</td>\n    </tr>\n    <tr>\n      <th>13715403</th>\n      <td>9606.ENSP00000501317</td>\n      <td>9606.ENSP00000404074</td>\n      <td>251</td>\n    </tr>\n  </tbody>\n</table>\n<p>13715404 rows × 3 columns</p>\n</div>"
     },
     "execution_count": 4,
     "metadata": {},
     "output_type": "execute_result"
    }
   ],
   "source": [
    "string_df = pd.read_table('/Users/cgu3/Documents/Grape-Pi/data/miscellaneous/9606.protein.links.v12.0.txt', sep=' ')\n",
    "string_df"
   ],
   "metadata": {
    "collapsed": false,
    "ExecuteTime": {
     "end_time": "2023-10-07T16:26:33.045719Z",
     "start_time": "2023-10-07T16:26:24.975198Z"
    }
   },
   "id": "36e89ef514a2dfb9"
  },
  {
   "cell_type": "code",
   "execution_count": 5,
   "outputs": [],
   "source": [
    "def get_values_from_dict(keys, dictionary, na_rm=True):\n",
    "    # Ensure the dictionary is a DataFrame\n",
    "    dictionary = pd.DataFrame(dictionary)\n",
    "    \n",
    "    # Check for duplicated keys in the dictionary\n",
    "    if dictionary.iloc[:, 0].duplicated().any():\n",
    "        raise ValueError(\"Non-unique keys in dictionary: the same key can be mapped to multiple values\")\n",
    "    \n",
    "    # Convert keys to a DataFrame\n",
    "    keys_df = pd.DataFrame({'key': keys})\n",
    "    \n",
    "    # Join keys with the dictionary to get the corresponding values\n",
    "    merged = keys_df.merge(dictionary, left_on='key', right_on=dictionary.columns[0], how='left')\n",
    "    \n",
    "    # Select the values column\n",
    "    values = merged[dictionary.columns[1]]\n",
    "    \n",
    "    # If na_rm is True, remove NA values\n",
    "    if na_rm:\n",
    "        values = values.dropna()\n",
    "    \n",
    "    return values.tolist()"
   ],
   "metadata": {
    "collapsed": false,
    "ExecuteTime": {
     "end_time": "2023-10-07T16:26:33.055407Z",
     "start_time": "2023-10-07T16:26:33.044577Z"
    }
   },
   "id": "e248bfb472e839fa"
  },
  {
   "cell_type": "code",
   "execution_count": 6,
   "outputs": [
    {
     "data": {
      "text/plain": "False"
     },
     "execution_count": 6,
     "metadata": {},
     "output_type": "execute_result"
    },
    {
     "data": {
      "text/plain": "False"
     },
     "execution_count": 6,
     "metadata": {},
     "output_type": "execute_result"
    }
   ],
   "source": [
    "protein1 = get_values_from_dict(string_df['protein1'], uniprot_df, na_rm=False)\n",
    "protein2 = get_values_from_dict(string_df['protein2'], uniprot_df, na_rm=False)\n",
    "'NA' in protein1\n",
    "'NA' in protein2"
   ],
   "metadata": {
    "collapsed": false,
    "ExecuteTime": {
     "end_time": "2023-10-07T16:26:44.397677Z",
     "start_time": "2023-10-07T16:26:33.048964Z"
    }
   },
   "id": "43955bad63d65ff6"
  },
  {
   "cell_type": "code",
   "execution_count": 7,
   "outputs": [
    {
     "data": {
      "text/plain": "            protein1 protein2  combined_score\n0             P84085   Q86X27             173\n1             P84085   Q9C0D6             154\n2             P84085   P36543             151\n4             P84085   Q9NYI0             201\n5             P84085   Q8N5M4             180\n...              ...      ...             ...\n13175330  A0A096LPK9   P25098             670\n13175331  A0A096LPK9   P22612             650\n13175332  A0A096LPK9   P49407             679\n13175333  A0A096LPK9   Q5JWF2             153\n13175334  A0A096LPK9   Q96PQ6             507\n\n[10609742 rows x 3 columns]",
      "text/html": "<div>\n<style scoped>\n    .dataframe tbody tr th:only-of-type {\n        vertical-align: middle;\n    }\n\n    .dataframe tbody tr th {\n        vertical-align: top;\n    }\n\n    .dataframe thead th {\n        text-align: right;\n    }\n</style>\n<table border=\"1\" class=\"dataframe\">\n  <thead>\n    <tr style=\"text-align: right;\">\n      <th></th>\n      <th>protein1</th>\n      <th>protein2</th>\n      <th>combined_score</th>\n    </tr>\n  </thead>\n  <tbody>\n    <tr>\n      <th>0</th>\n      <td>P84085</td>\n      <td>Q86X27</td>\n      <td>173</td>\n    </tr>\n    <tr>\n      <th>1</th>\n      <td>P84085</td>\n      <td>Q9C0D6</td>\n      <td>154</td>\n    </tr>\n    <tr>\n      <th>2</th>\n      <td>P84085</td>\n      <td>P36543</td>\n      <td>151</td>\n    </tr>\n    <tr>\n      <th>4</th>\n      <td>P84085</td>\n      <td>Q9NYI0</td>\n      <td>201</td>\n    </tr>\n    <tr>\n      <th>5</th>\n      <td>P84085</td>\n      <td>Q8N5M4</td>\n      <td>180</td>\n    </tr>\n    <tr>\n      <th>...</th>\n      <td>...</td>\n      <td>...</td>\n      <td>...</td>\n    </tr>\n    <tr>\n      <th>13175330</th>\n      <td>A0A096LPK9</td>\n      <td>P25098</td>\n      <td>670</td>\n    </tr>\n    <tr>\n      <th>13175331</th>\n      <td>A0A096LPK9</td>\n      <td>P22612</td>\n      <td>650</td>\n    </tr>\n    <tr>\n      <th>13175332</th>\n      <td>A0A096LPK9</td>\n      <td>P49407</td>\n      <td>679</td>\n    </tr>\n    <tr>\n      <th>13175333</th>\n      <td>A0A096LPK9</td>\n      <td>Q5JWF2</td>\n      <td>153</td>\n    </tr>\n    <tr>\n      <th>13175334</th>\n      <td>A0A096LPK9</td>\n      <td>Q96PQ6</td>\n      <td>507</td>\n    </tr>\n  </tbody>\n</table>\n<p>10609742 rows × 3 columns</p>\n</div>"
     },
     "execution_count": 7,
     "metadata": {},
     "output_type": "execute_result"
    }
   ],
   "source": [
    "interaction_df = pd.DataFrame({'protein1': protein1, 'protein2': protein2, 'combined_score': string_df['combined_score']})\n",
    "interaction_df.dropna(inplace=True)\n",
    "interaction_df\n",
    "interaction_df.to_csv('/Users/cgu3/Documents/Grape-Pi/data/miscellaneous/9606.protein.links.v12.0-translated.csv', index=False)"
   ],
   "metadata": {
    "collapsed": false,
    "ExecuteTime": {
     "end_time": "2023-10-07T16:27:00.885698Z",
     "start_time": "2023-10-07T16:26:44.399637Z"
    }
   },
   "id": "c1e17ceb8bff9068"
  },
  {
   "cell_type": "code",
   "execution_count": 57,
   "outputs": [
    {
     "data": {
      "text/plain": "150"
     },
     "execution_count": 57,
     "metadata": {},
     "output_type": "execute_result"
    },
    {
     "data": {
      "text/plain": "999"
     },
     "execution_count": 57,
     "metadata": {},
     "output_type": "execute_result"
    }
   ],
   "source": [
    "interaction_df['combined_score'].min()\n",
    "interaction_df['combined_score'].max()"
   ],
   "metadata": {
    "collapsed": false,
    "ExecuteTime": {
     "end_time": "2023-10-05T19:52:02.007439Z",
     "start_time": "2023-10-05T19:52:01.889008Z"
    }
   },
   "id": "6a07189a700ad4c"
  },
  {
   "cell_type": "code",
   "execution_count": 58,
   "outputs": [
    {
     "data": {
      "text/plain": "<Figure size 640x480 with 1 Axes>",
      "image/png": "[encoded data removed]"
     },
     "metadata": {},
     "output_type": "display_data"
    }
   ],
   "source": [
    "from matplotlib import pyplot as plt\n",
    "plt.hist(ppi['combined_score'], bins=100);"
   ],
   "metadata": {
    "collapsed": false,
    "ExecuteTime": {
     "end_time": "2023-10-05T19:53:22.640032Z",
     "start_time": "2023-10-05T19:53:21.928499Z"
    }
   },
   "id": "61b35a317a4abc04"
  },
  {
   "cell_type": "code",
   "execution_count": 52,
   "outputs": [
    {
     "data": {
      "text/plain": "            protein1 protein2  combined_score\n16            P84085   Q7Z4S6             513\n26            P84085   Q9H0U4             648\n29            P84085   Q9BXF6             501\n34            P84085   Q96FN5             533\n59            P84085   P20340             415\n...              ...      ...             ...\n13175329  A0A096LPK9   O60262             678\n13175330  A0A096LPK9   P25098             670\n13175331  A0A096LPK9   P22612             650\n13175332  A0A096LPK9   P49407             679\n13175334  A0A096LPK9   Q96PQ6             507\n\n[1434504 rows x 3 columns]",
      "text/html": "<div>\n<style scoped>\n    .dataframe tbody tr th:only-of-type {\n        vertical-align: middle;\n    }\n\n    .dataframe tbody tr th {\n        vertical-align: top;\n    }\n\n    .dataframe thead th {\n        text-align: right;\n    }\n</style>\n<table border=\"1\" class=\"dataframe\">\n  <thead>\n    <tr style=\"text-align: right;\">\n      <th></th>\n      <th>protein1</th>\n      <th>protein2</th>\n      <th>combined_score</th>\n    </tr>\n  </thead>\n  <tbody>\n    <tr>\n      <th>16</th>\n      <td>P84085</td>\n      <td>Q7Z4S6</td>\n      <td>513</td>\n    </tr>\n    <tr>\n      <th>26</th>\n      <td>P84085</td>\n      <td>Q9H0U4</td>\n      <td>648</td>\n    </tr>\n    <tr>\n      <th>29</th>\n      <td>P84085</td>\n      <td>Q9BXF6</td>\n      <td>501</td>\n    </tr>\n    <tr>\n      <th>34</th>\n      <td>P84085</td>\n      <td>Q96FN5</td>\n      <td>533</td>\n    </tr>\n    <tr>\n      <th>59</th>\n      <td>P84085</td>\n      <td>P20340</td>\n      <td>415</td>\n    </tr>\n    <tr>\n      <th>...</th>\n      <td>...</td>\n      <td>...</td>\n      <td>...</td>\n    </tr>\n    <tr>\n      <th>13175329</th>\n      <td>A0A096LPK9</td>\n      <td>O60262</td>\n      <td>678</td>\n    </tr>\n    <tr>\n      <th>13175330</th>\n      <td>A0A096LPK9</td>\n      <td>P25098</td>\n      <td>670</td>\n    </tr>\n    <tr>\n      <th>13175331</th>\n      <td>A0A096LPK9</td>\n      <td>P22612</td>\n      <td>650</td>\n    </tr>\n    <tr>\n      <th>13175332</th>\n      <td>A0A096LPK9</td>\n      <td>P49407</td>\n      <td>679</td>\n    </tr>\n    <tr>\n      <th>13175334</th>\n      <td>A0A096LPK9</td>\n      <td>Q96PQ6</td>\n      <td>507</td>\n    </tr>\n  </tbody>\n</table>\n<p>1434504 rows × 3 columns</p>\n</div>"
     },
     "execution_count": 52,
     "metadata": {},
     "output_type": "execute_result"
    }
   ],
   "source": [
    "interaction_df = interaction_df[interaction_df['combined_score'] >= 400]\n",
    "interaction_df"
   ],
   "metadata": {
    "collapsed": false,
    "ExecuteTime": {
     "end_time": "2023-10-05T19:47:08.550620Z",
     "start_time": "2023-10-05T19:47:08.447329Z"
    }
   },
   "id": "9533626a31b90ec4"
  },
  {
   "cell_type": "code",
   "execution_count": 53,
   "outputs": [],
   "source": [
    "interaction_df.to_csv('/Users/cgu3/Documents/Grape-Pi/data/miscellaneous/9606.protein.links.v12.0-translated-filtered.csv', index=False)"
   ],
   "metadata": {
    "collapsed": false,
    "ExecuteTime": {
     "end_time": "2023-10-05T19:47:44.942996Z",
     "start_time": "2023-10-05T19:47:41.767925Z"
    }
   },
   "id": "10af0496a64d0b54"
  },
  {
   "cell_type": "code",
   "execution_count": 54,
   "outputs": [
    {
     "data": {
      "text/plain": "400"
     },
     "execution_count": 54,
     "metadata": {},
     "output_type": "execute_result"
    },
    {
     "data": {
      "text/plain": "999"
     },
     "execution_count": 54,
     "metadata": {},
     "output_type": "execute_result"
    }
   ],
   "source": [],
   "metadata": {
    "collapsed": false,
    "ExecuteTime": {
     "end_time": "2023-10-05T19:51:27.952987Z",
     "start_time": "2023-10-05T19:51:27.884519Z"
    }
   },
   "id": "e7a39512f630bb7e"
  },
  {
   "cell_type": "code",
   "execution_count": 55,
   "outputs": [
    {
     "data": {
      "text/plain": "<Figure size 640x480 with 1 Axes>",
      "image/png": "[encoded data removed]"
     },
     "metadata": {},
     "output_type": "display_data"
    }
   ],
   "source": [],
   "metadata": {
    "collapsed": false,
    "ExecuteTime": {
     "end_time": "2023-10-05T19:51:33.936059Z",
     "start_time": "2023-10-05T19:51:32.660882Z"
    }
   },
   "id": "36b9a5f3dbabef0e"
  },
  {
   "cell_type": "code",
   "execution_count": 21,
   "outputs": [],
   "source": [
    "mask = ppi['combined_score'] >= 400"
   ],
   "metadata": {
    "collapsed": false,
    "ExecuteTime": {
     "end_time": "2023-10-05T16:51:58.687016Z",
     "start_time": "2023-10-05T16:51:58.664818Z"
    }
   },
   "id": "ac2a3383781aad51"
  },
  {
   "cell_type": "code",
   "execution_count": 22,
   "outputs": [
    {
     "data": {
      "text/plain": "        protein1_acc protein2_acc  combined_score\n4             P84085       Q15057             767\n34            P84085       P13987             600\n90            P84085       P09874             543\n93            P84085       P62820             730\n97            P84085       Q6WKZ4             499\n...              ...          ...             ...\n1048537       Q05209       P62993             837\n1048547       Q05209       Q14511             775\n1048551       Q05209       P06396             422\n1048572       Q05209       O75791             485\n1048574       Q05209       P27361             426\n\n[166758 rows x 3 columns]",
      "text/html": "<div>\n<style scoped>\n    .dataframe tbody tr th:only-of-type {\n        vertical-align: middle;\n    }\n\n    .dataframe tbody tr th {\n        vertical-align: top;\n    }\n\n    .dataframe thead th {\n        text-align: right;\n    }\n</style>\n<table border=\"1\" class=\"dataframe\">\n  <thead>\n    <tr style=\"text-align: right;\">\n      <th></th>\n      <th>protein1_acc</th>\n      <th>protein2_acc</th>\n      <th>combined_score</th>\n    </tr>\n  </thead>\n  <tbody>\n    <tr>\n      <th>4</th>\n      <td>P84085</td>\n      <td>Q15057</td>\n      <td>767</td>\n    </tr>\n    <tr>\n      <th>34</th>\n      <td>P84085</td>\n      <td>P13987</td>\n      <td>600</td>\n    </tr>\n    <tr>\n      <th>90</th>\n      <td>P84085</td>\n      <td>P09874</td>\n      <td>543</td>\n    </tr>\n    <tr>\n      <th>93</th>\n      <td>P84085</td>\n      <td>P62820</td>\n      <td>730</td>\n    </tr>\n    <tr>\n      <th>97</th>\n      <td>P84085</td>\n      <td>Q6WKZ4</td>\n      <td>499</td>\n    </tr>\n    <tr>\n      <th>...</th>\n      <td>...</td>\n      <td>...</td>\n      <td>...</td>\n    </tr>\n    <tr>\n      <th>1048537</th>\n      <td>Q05209</td>\n      <td>P62993</td>\n      <td>837</td>\n    </tr>\n    <tr>\n      <th>1048547</th>\n      <td>Q05209</td>\n      <td>Q14511</td>\n      <td>775</td>\n    </tr>\n    <tr>\n      <th>1048551</th>\n      <td>Q05209</td>\n      <td>P06396</td>\n      <td>422</td>\n    </tr>\n    <tr>\n      <th>1048572</th>\n      <td>Q05209</td>\n      <td>O75791</td>\n      <td>485</td>\n    </tr>\n    <tr>\n      <th>1048574</th>\n      <td>Q05209</td>\n      <td>P27361</td>\n      <td>426</td>\n    </tr>\n  </tbody>\n</table>\n<p>166758 rows × 3 columns</p>\n</div>"
     },
     "execution_count": 22,
     "metadata": {},
     "output_type": "execute_result"
    }
   ],
   "source": [
    "ppi_filtered = ppi[mask]\n",
    "ppi_filtered"
   ],
   "metadata": {
    "collapsed": false,
    "ExecuteTime": {
     "end_time": "2023-10-05T16:52:00.412774Z",
     "start_time": "2023-10-05T16:52:00.277182Z"
    }
   },
   "id": "2aca0c57f6460a07"
  },
  {
   "cell_type": "code",
   "execution_count": 8,
   "outputs": [],
   "source": [
    "ppi_filtered.to_csv('/Users/cgu3/Documents/Grape-Pi/data/single-soft-label/raw/additional/STRING-interaction-swiss-lite-filtered.csv', index=False)"
   ],
   "metadata": {
    "collapsed": false,
    "ExecuteTime": {
     "end_time": "2023-10-05T05:42:35.151108Z",
     "start_time": "2023-10-05T05:42:34.354859Z"
    }
   },
   "id": "dc8af14d7a27c6e3"
  },
  {
   "cell_type": "markdown",
   "source": [],
   "metadata": {
    "collapsed": false
   },
   "id": "4c5f0f6d42a9216b"
  },
  {
   "cell_type": "code",
   "execution_count": 24,
   "outputs": [],
   "source": [
    "full_links = pd.read_table('/Users/cgu3/Downloads/9606.protein.links.v12.0.txt', sep=' ')"
   ],
   "metadata": {
    "collapsed": false,
    "ExecuteTime": {
     "end_time": "2023-10-05T16:56:35.976748Z",
     "start_time": "2023-10-05T16:56:28.447600Z"
    }
   },
   "id": "f25b454b7af9538c"
  },
  {
   "cell_type": "code",
   "execution_count": 26,
   "outputs": [
    {
     "data": {
      "text/plain": "150"
     },
     "execution_count": 26,
     "metadata": {},
     "output_type": "execute_result"
    }
   ],
   "source": [
    "full_links['combined_score'].min()"
   ],
   "metadata": {
    "collapsed": false,
    "ExecuteTime": {
     "end_time": "2023-10-05T16:56:51.112273Z",
     "start_time": "2023-10-05T16:56:51.052392Z"
    }
   },
   "id": "9d81ba19cbcc199d"
  },
  {
   "cell_type": "code",
   "execution_count": 28,
   "outputs": [
    {
     "data": {
      "text/plain": "13715404"
     },
     "execution_count": 28,
     "metadata": {},
     "output_type": "execute_result"
    }
   ],
   "source": [
    "full_links.shape[0]"
   ],
   "metadata": {
    "collapsed": false,
    "ExecuteTime": {
     "end_time": "2023-10-05T16:57:45.246418Z",
     "start_time": "2023-10-05T16:57:45.231717Z"
    }
   },
   "id": "bd8e143aa890c208"
  },
  {
   "cell_type": "markdown",
   "source": [
    "# Check PPI score for yeast"
   ],
   "metadata": {
    "collapsed": false
   },
   "id": "e47fa2f1aacf6a0e"
  },
  {
   "cell_type": "code",
   "execution_count": 3,
   "outputs": [],
   "source": [
    "yeast_PPI = pd.read_csv('/Users/cgu3/Documents/Grape-Pi/data/yeast-ORBI/raw/interaction/yeast_interaction.csv')"
   ],
   "metadata": {
    "collapsed": false,
    "ExecuteTime": {
     "end_time": "2023-10-11T18:21:53.364130Z",
     "start_time": "2023-10-11T18:21:52.527801Z"
    }
   },
   "id": "f37c2ef7788fadf"
  },
  {
   "cell_type": "code",
   "execution_count": 5,
   "outputs": [
    {
     "data": {
      "text/plain": "<Axes: >"
     },
     "execution_count": 5,
     "metadata": {},
     "output_type": "execute_result"
    },
    {
     "data": {
      "text/plain": "<Figure size 640x480 with 1 Axes>",
      "image/png": "[encoded data removed]"
     },
     "metadata": {},
     "output_type": "display_data"
    }
   ],
   "source": [
    "yeast_PPI['combined_score'].hist(bins=100)"
   ],
   "metadata": {
    "collapsed": false,
    "ExecuteTime": {
     "end_time": "2023-10-11T18:22:15.364238Z",
     "start_time": "2023-10-11T18:22:14.975670Z"
    }
   },
   "id": "924beef258c2ee5"
  },
  {
   "cell_type": "code",
   "execution_count": null,
   "outputs": [],
   "source": [],
   "metadata": {
    "collapsed": false
   },
   "id": "587414a0f1387d7a"
  }
 ],
 "metadata": {
  "kernelspec": {
   "display_name": "Python 3",
   "language": "python",
   "name": "python3"
  },
  "language_info": {
   "codemirror_mode": {
    "name": "ipython",
    "version": 2
   },
   "file_extension": ".py",
   "mimetype": "text/x-python",
   "name": "python",
   "nbconvert_exporter": "python",
   "pygments_lexer": "ipython2",
   "version": "2.7.6"
  }
 },
 "nbformat": 4,
 "nbformat_minor": 5
}

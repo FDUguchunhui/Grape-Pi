{
 "cells": [
  {
   "cell_type": "code",
   "execution_count": 1,
   "id": "initial_id",
   "metadata": {
    "collapsed": true,
    "ExecuteTime": {
     "end_time": "2023-10-06T05:05:36.148247Z",
     "start_time": "2023-10-06T05:05:35.170672Z"
    }
   },
   "outputs": [],
   "source": [
    "import os\n",
    "\n",
    "import numpy as np\n",
    "import pandas as pd\n",
    "from matplotlib import pyplot as plt"
   ]
  },
  {
   "cell_type": "code",
   "execution_count": 2,
   "outputs": [],
   "source": [
    "os.chdir('/Users/cgu3/Documents/Grape-Pi')"
   ],
   "metadata": {
    "collapsed": false,
    "ExecuteTime": {
     "end_time": "2023-10-06T05:05:36.155223Z",
     "start_time": "2023-10-06T05:05:36.150440Z"
    }
   },
   "id": "ec8f03d3d9d993b9"
  },
  {
   "cell_type": "code",
   "execution_count": 3,
   "outputs": [
    {
     "data": {
      "text/plain": "(array([1.1767e+04, 1.3400e+03, 1.0360e+03, 9.0900e+02, 7.4900e+02,\n        7.5600e+02, 6.3800e+02, 6.0600e+02, 6.6000e+02, 6.3000e+02,\n        7.0100e+02, 5.9500e+02, 5.8600e+02, 6.2300e+02, 6.1500e+02,\n        5.9600e+02, 6.4500e+02, 5.1700e+02, 5.9100e+02, 4.8000e+02,\n        4.7500e+02, 5.0300e+02, 4.9000e+02, 4.7100e+02, 4.0200e+02,\n        3.9700e+02, 4.0500e+02, 3.2700e+02, 3.2200e+02, 3.0100e+02,\n        2.9700e+02, 2.6300e+02, 2.3900e+02, 2.1000e+02, 1.9100e+02,\n        1.5700e+02, 1.5400e+02, 1.4800e+02, 1.0400e+02, 9.8000e+01,\n        8.5000e+01, 8.0000e+01, 6.4000e+01, 7.2000e+01, 6.5000e+01,\n        6.0000e+01, 4.8000e+01, 3.3000e+01, 2.4000e+01, 3.1000e+01,\n        2.3000e+01, 1.9000e+01, 1.6000e+01, 1.0000e+01, 1.2000e+01,\n        1.2000e+01, 1.6000e+01, 3.0000e+00, 1.4000e+01, 1.2000e+01,\n        6.0000e+00, 6.0000e+00, 6.0000e+00, 1.0000e+00, 3.0000e+00,\n        2.0000e+00, 2.0000e+00, 1.0000e+00, 1.0000e+00, 0.0000e+00,\n        3.0000e+00, 0.0000e+00, 1.0000e+00, 1.0000e+00, 0.0000e+00,\n        0.0000e+00, 0.0000e+00, 0.0000e+00, 0.0000e+00, 1.0000e+00,\n        0.0000e+00, 0.0000e+00, 0.0000e+00, 0.0000e+00, 0.0000e+00,\n        1.0000e+00, 0.0000e+00, 0.0000e+00, 0.0000e+00, 1.0000e+00,\n        0.0000e+00, 2.0000e+00, 0.0000e+00, 2.0000e+00, 2.0000e+00,\n        2.0000e+00, 0.0000e+00, 0.0000e+00, 2.0000e+00, 3.0000e+00]),\n array([ 0.        ,  0.13864764,  0.27729527,  0.41594291,  0.55459055,\n         0.69323819,  0.83188582,  0.97053346,  1.1091811 ,  1.24782873,\n         1.38647637,  1.52512401,  1.66377165,  1.80241928,  1.94106692,\n         2.07971456,  2.21836219,  2.35700983,  2.49565747,  2.6343051 ,\n         2.77295274,  2.91160038,  3.05024802,  3.18889565,  3.32754329,\n         3.46619093,  3.60483856,  3.7434862 ,  3.88213384,  4.02078148,\n         4.15942911,  4.29807675,  4.43672439,  4.57537202,  4.71401966,\n         4.8526673 ,  4.99131494,  5.12996257,  5.26861021,  5.40725785,\n         5.54590548,  5.68455312,  5.82320076,  5.96184839,  6.10049603,\n         6.23914367,  6.37779131,  6.51643894,  6.65508658,  6.79373422,\n         6.93238185,  7.07102949,  7.20967713,  7.34832477,  7.4869724 ,\n         7.62562004,  7.76426768,  7.90291531,  8.04156295,  8.18021059,\n         8.31885823,  8.45750586,  8.5961535 ,  8.73480114,  8.87344877,\n         9.01209641,  9.15074405,  9.28939169,  9.42803932,  9.56668696,\n         9.7053346 ,  9.84398223,  9.98262987, 10.12127751, 10.25992514,\n        10.39857278, 10.53722042, 10.67586806, 10.81451569, 10.95316333,\n        11.09181097, 11.2304586 , 11.36910624, 11.50775388, 11.64640152,\n        11.78504915, 11.92369679, 12.06234443, 12.20099206, 12.3396397 ,\n        12.47828734, 12.61693498, 12.75558261, 12.89423025, 13.03287789,\n        13.17152552, 13.31017316, 13.4488208 , 13.58746844, 13.72611607,\n        13.86476371]),\n <BarContainer object of 100 artists>)"
     },
     "execution_count": 3,
     "metadata": {},
     "output_type": "execute_result"
    },
    {
     "data": {
      "text/plain": "<Figure size 640x480 with 1 Axes>",
      "image/png": "[encoded data removed]"
     },
     "metadata": {},
     "output_type": "display_data"
    }
   ],
   "source": [
    "mRNA_data = pd.read_csv('data/miscellaneous/mRNA-data/processed_RNA_data.csv')\n",
    "mRNA_data = mRNA_data.rename(columns={mRNA_data.columns[0]: 'gene_symbol'})\n",
    "mRNA_data = mRNA_data.loc[:, ['gene_symbol', 'IP0981_1701']]\n",
    "mRNA_data['IP0981_1701'] = np.log(mRNA_data['IP0981_1701'] + 1)\n",
    "mRNA_data.head()\n",
    "plt.hist(mRNA_data['IP0981_1701'], bins=100)"
   ],
   "metadata": {
    "collapsed": false,
    "ExecuteTime": {
     "end_time": "2023-10-06T05:05:37.119983Z",
     "start_time": "2023-10-06T05:05:36.723818Z"
    }
   },
   "id": "179c6b67b089415b"
  },
  {
   "cell_type": "code",
   "execution_count": 14,
   "outputs": [
    {
     "data": {
      "text/plain": "      protein.Accession  protein_probability\n0            A0A024RBG1             0.681366\n1            A0A075B6H7             0.953707\n2            A0A075B6I3             0.513287\n3            A0A075B6I4             0.965112\n4            A0A075B6J1             0.672964\n...                 ...                  ...\n20421            Q9UI54             0.000000\n20422            Q9UI72             0.000000\n20423            Q9Y3F1             0.000000\n20424            Q9Y6C7             0.000000\n20425            Q9Y6Z2             0.000000\n\n[20426 rows x 2 columns]",
      "text/html": "<div>\n<style scoped>\n    .dataframe tbody tr th:only-of-type {\n        vertical-align: middle;\n    }\n\n    .dataframe tbody tr th {\n        vertical-align: top;\n    }\n\n    .dataframe thead th {\n        text-align: right;\n    }\n</style>\n<table border=\"1\" class=\"dataframe\">\n  <thead>\n    <tr style=\"text-align: right;\">\n      <th></th>\n      <th>protein.Accession</th>\n      <th>protein_probability</th>\n    </tr>\n  </thead>\n  <tbody>\n    <tr>\n      <th>0</th>\n      <td>A0A024RBG1</td>\n      <td>0.681366</td>\n    </tr>\n    <tr>\n      <th>1</th>\n      <td>A0A075B6H7</td>\n      <td>0.953707</td>\n    </tr>\n    <tr>\n      <th>2</th>\n      <td>A0A075B6I3</td>\n      <td>0.513287</td>\n    </tr>\n    <tr>\n      <th>3</th>\n      <td>A0A075B6I4</td>\n      <td>0.965112</td>\n    </tr>\n    <tr>\n      <th>4</th>\n      <td>A0A075B6J1</td>\n      <td>0.672964</td>\n    </tr>\n    <tr>\n      <th>...</th>\n      <td>...</td>\n      <td>...</td>\n    </tr>\n    <tr>\n      <th>20421</th>\n      <td>Q9UI54</td>\n      <td>0.000000</td>\n    </tr>\n    <tr>\n      <th>20422</th>\n      <td>Q9UI72</td>\n      <td>0.000000</td>\n    </tr>\n    <tr>\n      <th>20423</th>\n      <td>Q9Y3F1</td>\n      <td>0.000000</td>\n    </tr>\n    <tr>\n      <th>20424</th>\n      <td>Q9Y6C7</td>\n      <td>0.000000</td>\n    </tr>\n    <tr>\n      <th>20425</th>\n      <td>Q9Y6Z2</td>\n      <td>0.000000</td>\n    </tr>\n  </tbody>\n</table>\n<p>20426 rows × 2 columns</p>\n</div>"
     },
     "execution_count": 14,
     "metadata": {},
     "output_type": "execute_result"
    }
   ],
   "source": [
    "protein_data = pd.read_csv('/Users/cgu3/Documents/data/SG_combined_protein_0982_with_protein_probability.csv')\n",
    "protein_data"
   ],
   "metadata": {
    "collapsed": false,
    "ExecuteTime": {
     "end_time": "2023-10-06T05:07:01.686205Z",
     "start_time": "2023-10-06T05:07:01.654867Z"
    }
   },
   "id": "cbec394751b9d808"
  },
  {
   "cell_type": "code",
   "execution_count": 15,
   "outputs": [],
   "source": [
    "import pandas as pd\n",
    "\n",
    "def get_values_from_dict(keys, dictionary, na_rm=True):\n",
    "    # Ensure the dictionary is a DataFrame\n",
    "    dictionary = pd.DataFrame(dictionary)\n",
    "    \n",
    "    # Check for duplicated keys in the dictionary\n",
    "    if dictionary.iloc[:, 0].duplicated().any():\n",
    "        raise ValueError(\"Non-unique keys in dictionary: the same key can be mapped to multiple values\")\n",
    "    \n",
    "    # Convert keys to a DataFrame\n",
    "    keys_df = pd.DataFrame({'key': keys})\n",
    "    \n",
    "    # Join keys with the dictionary to get the corresponding values\n",
    "    merged = keys_df.merge(dictionary, left_on='key', right_on=dictionary.columns[0], how='left')\n",
    "    \n",
    "    # Select the values column\n",
    "    values = merged[dictionary.columns[1]]\n",
    "    \n",
    "    # If na_rm is True, remove NA values\n",
    "    if na_rm:\n",
    "        values = values.dropna()\n",
    "    \n",
    "    return values.tolist()\n",
    "\n",
    "# Example usage:\n",
    "# dictionary = {'key_column': ['a', 'b', 'c'], 'value_column': [1, 2, 3]}\n",
    "# keys = ['a', 'b']\n",
    "# print(get_values_from_dict(keys, dictionary))\n"
   ],
   "metadata": {
    "collapsed": false,
    "ExecuteTime": {
     "end_time": "2023-10-06T05:07:02.355038Z",
     "start_time": "2023-10-06T05:07:02.349718Z"
    }
   },
   "id": "cc96bf8bd69ec3fc"
  },
  {
   "cell_type": "code",
   "execution_count": 16,
   "outputs": [
    {
     "data": {
      "text/plain": "            Entry Gene Names (primary)  Length   Entry Name  \\\n0      A0A087X1C5               CYP2D7     515  CP2D7_HUMAN   \n1      A0A0B4J2F0              PIGBOS1      54  PIOS1_HUMAN   \n2      A0A0B4J2F2                SIK1B     783  SIK1B_HUMAN   \n3      A0A0C5B5G6              MT-RNR1      16  MOTSC_HUMAN   \n4      A0A0K2S4Q6               CD300H     201  CD3CH_HUMAN   \n...           ...                  ...     ...          ...   \n20406      Q9UI72                  NaN      69  YE014_HUMAN   \n20407      Q9Y3F1                  NaN      56   TA6P_HUMAN   \n20408      Q9Y6C7            LINC00312      94  L3R2A_HUMAN   \n20409      Q9Y6Z2            LINC01558      57  CF123_HUMAN   \n20410      X6R8R1               SYT15B     474  ST15B_HUMAN   \n\n                      STRING  \n0                        NaN  \n1                        NaN  \n2      9606.ENSP00000482829;  \n3                        NaN  \n4                        NaN  \n...                      ...  \n20406                    NaN  \n20407                    NaN  \n20408                    NaN  \n20409                    NaN  \n20410                    NaN  \n\n[20411 rows x 5 columns]",
      "text/html": "<div>\n<style scoped>\n    .dataframe tbody tr th:only-of-type {\n        vertical-align: middle;\n    }\n\n    .dataframe tbody tr th {\n        vertical-align: top;\n    }\n\n    .dataframe thead th {\n        text-align: right;\n    }\n</style>\n<table border=\"1\" class=\"dataframe\">\n  <thead>\n    <tr style=\"text-align: right;\">\n      <th></th>\n      <th>Entry</th>\n      <th>Gene Names (primary)</th>\n      <th>Length</th>\n      <th>Entry Name</th>\n      <th>STRING</th>\n    </tr>\n  </thead>\n  <tbody>\n    <tr>\n      <th>0</th>\n      <td>A0A087X1C5</td>\n      <td>CYP2D7</td>\n      <td>515</td>\n      <td>CP2D7_HUMAN</td>\n      <td>NaN</td>\n    </tr>\n    <tr>\n      <th>1</th>\n      <td>A0A0B4J2F0</td>\n      <td>PIGBOS1</td>\n      <td>54</td>\n      <td>PIOS1_HUMAN</td>\n      <td>NaN</td>\n    </tr>\n    <tr>\n      <th>2</th>\n      <td>A0A0B4J2F2</td>\n      <td>SIK1B</td>\n      <td>783</td>\n      <td>SIK1B_HUMAN</td>\n      <td>9606.ENSP00000482829;</td>\n    </tr>\n    <tr>\n      <th>3</th>\n      <td>A0A0C5B5G6</td>\n      <td>MT-RNR1</td>\n      <td>16</td>\n      <td>MOTSC_HUMAN</td>\n      <td>NaN</td>\n    </tr>\n    <tr>\n      <th>4</th>\n      <td>A0A0K2S4Q6</td>\n      <td>CD300H</td>\n      <td>201</td>\n      <td>CD3CH_HUMAN</td>\n      <td>NaN</td>\n    </tr>\n    <tr>\n      <th>...</th>\n      <td>...</td>\n      <td>...</td>\n      <td>...</td>\n      <td>...</td>\n      <td>...</td>\n    </tr>\n    <tr>\n      <th>20406</th>\n      <td>Q9UI72</td>\n      <td>NaN</td>\n      <td>69</td>\n      <td>YE014_HUMAN</td>\n      <td>NaN</td>\n    </tr>\n    <tr>\n      <th>20407</th>\n      <td>Q9Y3F1</td>\n      <td>NaN</td>\n      <td>56</td>\n      <td>TA6P_HUMAN</td>\n      <td>NaN</td>\n    </tr>\n    <tr>\n      <th>20408</th>\n      <td>Q9Y6C7</td>\n      <td>LINC00312</td>\n      <td>94</td>\n      <td>L3R2A_HUMAN</td>\n      <td>NaN</td>\n    </tr>\n    <tr>\n      <th>20409</th>\n      <td>Q9Y6Z2</td>\n      <td>LINC01558</td>\n      <td>57</td>\n      <td>CF123_HUMAN</td>\n      <td>NaN</td>\n    </tr>\n    <tr>\n      <th>20410</th>\n      <td>X6R8R1</td>\n      <td>SYT15B</td>\n      <td>474</td>\n      <td>ST15B_HUMAN</td>\n      <td>NaN</td>\n    </tr>\n  </tbody>\n</table>\n<p>20411 rows × 5 columns</p>\n</div>"
     },
     "execution_count": 16,
     "metadata": {},
     "output_type": "execute_result"
    }
   ],
   "source": [
    "acc_to_gene_symbol_dict = pd.read_table('data/miscellaneous/uniprotkb_proteome_UP000005640_AND_revi_2023_10_05.tsv', sep='\\t')\n",
    "acc_to_gene_symbol_dict"
   ],
   "metadata": {
    "collapsed": false,
    "ExecuteTime": {
     "end_time": "2023-10-06T05:07:03.011333Z",
     "start_time": "2023-10-06T05:07:02.944918Z"
    }
   },
   "id": "2adb76170273f7c"
  },
  {
   "cell_type": "code",
   "execution_count": 17,
   "outputs": [
    {
     "data": {
      "text/plain": "  protein.Accession  protein_probability gene_symbol\n0        A0A024RBG1             0.681366      NUDT4B\n1        A0A075B6H7             0.953707     IGKV3-7\n2        A0A075B6I3             0.513287   IGLV11-55\n3        A0A075B6I4             0.965112   IGLV10-54\n4        A0A075B6J1             0.672964    IGLV5-37",
      "text/html": "<div>\n<style scoped>\n    .dataframe tbody tr th:only-of-type {\n        vertical-align: middle;\n    }\n\n    .dataframe tbody tr th {\n        vertical-align: top;\n    }\n\n    .dataframe thead th {\n        text-align: right;\n    }\n</style>\n<table border=\"1\" class=\"dataframe\">\n  <thead>\n    <tr style=\"text-align: right;\">\n      <th></th>\n      <th>protein.Accession</th>\n      <th>protein_probability</th>\n      <th>gene_symbol</th>\n    </tr>\n  </thead>\n  <tbody>\n    <tr>\n      <th>0</th>\n      <td>A0A024RBG1</td>\n      <td>0.681366</td>\n      <td>NUDT4B</td>\n    </tr>\n    <tr>\n      <th>1</th>\n      <td>A0A075B6H7</td>\n      <td>0.953707</td>\n      <td>IGKV3-7</td>\n    </tr>\n    <tr>\n      <th>2</th>\n      <td>A0A075B6I3</td>\n      <td>0.513287</td>\n      <td>IGLV11-55</td>\n    </tr>\n    <tr>\n      <th>3</th>\n      <td>A0A075B6I4</td>\n      <td>0.965112</td>\n      <td>IGLV10-54</td>\n    </tr>\n    <tr>\n      <th>4</th>\n      <td>A0A075B6J1</td>\n      <td>0.672964</td>\n      <td>IGLV5-37</td>\n    </tr>\n  </tbody>\n</table>\n</div>"
     },
     "execution_count": 17,
     "metadata": {},
     "output_type": "execute_result"
    }
   ],
   "source": [
    "protein_data['gene_symbol'] = get_values_from_dict(protein_data['protein.Accession'], acc_to_gene_symbol_dict, na_rm=False)\n",
    "protein_data.head()"
   ],
   "metadata": {
    "collapsed": false,
    "ExecuteTime": {
     "end_time": "2023-10-06T05:07:04.606170Z",
     "start_time": "2023-10-06T05:07:04.582674Z"
    }
   },
   "id": "a7a1aa34f450bc6c"
  },
  {
   "cell_type": "code",
   "execution_count": 18,
   "outputs": [],
   "source": [
    "merged_data = pd.merge(protein_data, mRNA_data, on='gene_symbol', how='left')\n",
    "merged_data.fillna(0, inplace=True)\n",
    "merged_data = merged_data.rename(columns={'IP0981_1701': 'mRNA_TPM'})"
   ],
   "metadata": {
    "collapsed": false,
    "ExecuteTime": {
     "end_time": "2023-10-06T05:07:06.227224Z",
     "start_time": "2023-10-06T05:07:06.211444Z"
    }
   },
   "id": "ed8465fad7027012"
  },
  {
   "cell_type": "code",
   "execution_count": 19,
   "outputs": [
    {
     "data": {
      "text/plain": "      protein.Accession  protein_probability gene_symbol  mRNA_TPM\n0            A0A024RBG1             0.681366      NUDT4B  0.000000\n1            A0A075B6H7             0.953707     IGKV3-7  0.000000\n2            A0A075B6I3             0.513287   IGLV11-55  0.000000\n3            A0A075B6I4             0.965112   IGLV10-54  1.656257\n4            A0A075B6J1             0.672964    IGLV5-37  0.000000\n...                 ...                  ...         ...       ...\n20421            Q9UI54             0.000000           0  0.000000\n20422            Q9UI72             0.000000           0  0.000000\n20423            Q9Y3F1             0.000000           0  0.000000\n20424            Q9Y6C7             0.000000   LINC00312  0.000000\n20425            Q9Y6Z2             0.000000   LINC01558  0.053100\n\n[20426 rows x 4 columns]",
      "text/html": "<div>\n<style scoped>\n    .dataframe tbody tr th:only-of-type {\n        vertical-align: middle;\n    }\n\n    .dataframe tbody tr th {\n        vertical-align: top;\n    }\n\n    .dataframe thead th {\n        text-align: right;\n    }\n</style>\n<table border=\"1\" class=\"dataframe\">\n  <thead>\n    <tr style=\"text-align: right;\">\n      <th></th>\n      <th>protein.Accession</th>\n      <th>protein_probability</th>\n      <th>gene_symbol</th>\n      <th>mRNA_TPM</th>\n    </tr>\n  </thead>\n  <tbody>\n    <tr>\n      <th>0</th>\n      <td>A0A024RBG1</td>\n      <td>0.681366</td>\n      <td>NUDT4B</td>\n      <td>0.000000</td>\n    </tr>\n    <tr>\n      <th>1</th>\n      <td>A0A075B6H7</td>\n      <td>0.953707</td>\n      <td>IGKV3-7</td>\n      <td>0.000000</td>\n    </tr>\n    <tr>\n      <th>2</th>\n      <td>A0A075B6I3</td>\n      <td>0.513287</td>\n      <td>IGLV11-55</td>\n      <td>0.000000</td>\n    </tr>\n    <tr>\n      <th>3</th>\n      <td>A0A075B6I4</td>\n      <td>0.965112</td>\n      <td>IGLV10-54</td>\n      <td>1.656257</td>\n    </tr>\n    <tr>\n      <th>4</th>\n      <td>A0A075B6J1</td>\n      <td>0.672964</td>\n      <td>IGLV5-37</td>\n      <td>0.000000</td>\n    </tr>\n    <tr>\n      <th>...</th>\n      <td>...</td>\n      <td>...</td>\n      <td>...</td>\n      <td>...</td>\n    </tr>\n    <tr>\n      <th>20421</th>\n      <td>Q9UI54</td>\n      <td>0.000000</td>\n      <td>0</td>\n      <td>0.000000</td>\n    </tr>\n    <tr>\n      <th>20422</th>\n      <td>Q9UI72</td>\n      <td>0.000000</td>\n      <td>0</td>\n      <td>0.000000</td>\n    </tr>\n    <tr>\n      <th>20423</th>\n      <td>Q9Y3F1</td>\n      <td>0.000000</td>\n      <td>0</td>\n      <td>0.000000</td>\n    </tr>\n    <tr>\n      <th>20424</th>\n      <td>Q9Y6C7</td>\n      <td>0.000000</td>\n      <td>LINC00312</td>\n      <td>0.000000</td>\n    </tr>\n    <tr>\n      <th>20425</th>\n      <td>Q9Y6Z2</td>\n      <td>0.000000</td>\n      <td>LINC01558</td>\n      <td>0.053100</td>\n    </tr>\n  </tbody>\n</table>\n<p>20426 rows × 4 columns</p>\n</div>"
     },
     "execution_count": 19,
     "metadata": {},
     "output_type": "execute_result"
    }
   ],
   "source": [
    "merged_data"
   ],
   "metadata": {
    "collapsed": false,
    "ExecuteTime": {
     "end_time": "2023-10-06T05:07:07.845304Z",
     "start_time": "2023-10-06T05:07:07.824985Z"
    }
   },
   "id": "5dd4d5f0ce1b53a7"
  },
  {
   "cell_type": "code",
   "execution_count": 20,
   "outputs": [],
   "source": [
    "merged_data.to_csv('data/single-soft-label/raw/protein/SG_combined_protein_0982_with_soft_label_and_mRNA_TPM.csv', index=False)"
   ],
   "metadata": {
    "collapsed": false,
    "ExecuteTime": {
     "end_time": "2023-10-06T05:07:11.922774Z",
     "start_time": "2023-10-06T05:07:11.838034Z"
    }
   },
   "id": "f19fa00369ebee11"
  },
  {
   "cell_type": "code",
   "execution_count": null,
   "outputs": [],
   "source": [],
   "metadata": {
    "collapsed": false
   },
   "id": "6a634a03da6544c5"
  }
 ],
 "metadata": {
  "kernelspec": {
   "display_name": "Python 3",
   "language": "python",
   "name": "python3"
  },
  "language_info": {
   "codemirror_mode": {
    "name": "ipython",
    "version": 2
   },
   "file_extension": ".py",
   "mimetype": "text/x-python",
   "name": "python",
   "nbconvert_exporter": "python",
   "pygments_lexer": "ipython2",
   "version": "2.7.6"
  }
 },
 "nbformat": 4,
 "nbformat_minor": 5
}

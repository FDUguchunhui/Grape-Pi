{
 "cells": [
  {
   "cell_type": "code",
   "execution_count": 73,
   "outputs": [],
   "source": [
    "from IPython.core.interactiveshell import InteractiveShell\n",
    "InteractiveShell.ast_node_interactivity = \"all\"\n",
    "import pandas as pd\n",
    "import numpy as np\n",
    "from graphgym.custom_graphgym.loader.protein_batch import ProteinBatchDataset\n",
    "import matplotlib.pyplot as plt\n",
    "import os"
   ],
   "metadata": {
    "collapsed": false,
    "ExecuteTime": {
     "end_time": "2023-11-28T22:35:43.777528Z",
     "start_time": "2023-11-28T22:35:43.759622Z"
    }
   },
   "id": "1c12ca16f29958a8"
  },
  {
   "cell_type": "code",
   "execution_count": 74,
   "outputs": [],
   "source": [
    "# General imports\n",
    "import os\n",
    "import json\n",
    "import collections\n",
    "\n",
    "# Data science imports\n",
    "import numpy as np\n",
    "import pandas as pd\n",
    "import matplotlib.pyplot as plt\n",
    "import seaborn as sns\n",
    "import plotly\n",
    "import scipy.sparse as sp\n",
    "\n",
    "# Import Weights & Biases for Experiment Tracking\n",
    "import wandb\n",
    "\n",
    "# Graph imports\n",
    "import torch\n",
    "from torch import Tensor\n",
    "import torch.nn.functional as F\n",
    "\n",
    "import torch_geometric\n",
    "from torch_geometric.nn import GCNConv\n",
    "from torch_geometric.utils import to_networkx\n",
    "\n",
    "import networkx as nx\n",
    "from networkx.algorithms import community\n",
    "\n",
    "from tqdm.auto import trange"
   ],
   "metadata": {
    "collapsed": false,
    "ExecuteTime": {
     "end_time": "2023-11-28T22:35:43.777955Z",
     "start_time": "2023-11-28T22:35:43.763917Z"
    }
   },
   "id": "2649fed2e0903e2e"
  },
  {
   "cell_type": "code",
   "execution_count": 75,
   "outputs": [],
   "source": [
    "os.chdir('/Users/cgu3/Documents/Grape-Pi')"
   ],
   "metadata": {
    "collapsed": false,
    "ExecuteTime": {
     "end_time": "2023-11-28T22:35:43.777993Z",
     "start_time": "2023-11-28T22:35:43.766552Z"
    }
   },
   "id": "9b83d01527608cab"
  },
  {
   "cell_type": "code",
   "execution_count": 76,
   "id": "initial_id",
   "metadata": {
    "collapsed": true,
    "ExecuteTime": {
     "end_time": "2023-11-28T22:35:46.079049Z",
     "start_time": "2023-11-28T22:35:43.769623Z"
    }
   },
   "outputs": [
    {
     "name": "stderr",
     "output_type": "stream",
     "text": [
      "Rebuilding...\n"
     ]
    },
    {
     "ename": "KeyboardInterrupt",
     "evalue": "",
     "output_type": "error",
     "traceback": [
      "\u001B[0;31m---------------------------------------------------------------------------\u001B[0m",
      "\u001B[0;31mKeyboardInterrupt\u001B[0m                         Traceback (most recent call last)",
      "Cell \u001B[0;32mIn[76], line 1\u001B[0m\n\u001B[0;32m----> 1\u001B[0m protein_dataset \u001B[38;5;241m=\u001B[39m \u001B[43mProteinBatchDataset\u001B[49m\u001B[43m(\u001B[49m\u001B[38;5;124;43m\"\u001B[39;49m\u001B[38;5;124;43mdata/protein_graphs\u001B[39;49m\u001B[38;5;124;43m\"\u001B[39;49m\u001B[43m,\u001B[49m\u001B[43m \u001B[49m\u001B[43mrebuild\u001B[49m\u001B[38;5;241;43m=\u001B[39;49m\u001B[38;5;28;43;01mTrue\u001B[39;49;00m\u001B[43m)\u001B[49m\n\u001B[1;32m      2\u001B[0m \u001B[38;5;66;03m# protein_dataset = ProteinBatchDataset(\"data/TCE_graphs\", rebuild=True)\u001B[39;00m\n\u001B[1;32m      3\u001B[0m \u001B[38;5;66;03m# protein_dataset = ProteinBatchDataset(\"data/localization\", rebuild=True)\u001B[39;00m\n",
      "File \u001B[0;32m~/Documents/Grape-Pi/graphgym/custom_graphgym/loader/protein_batch.py:46\u001B[0m, in \u001B[0;36mProteinBatchDataset.__init__\u001B[0;34m(self, root, encoder, undirected, rebuild, transform, pre_transform, pre_filter)\u001B[0m\n\u001B[1;32m     44\u001B[0m \u001B[38;5;28mself\u001B[39m\u001B[38;5;241m.\u001B[39mundirected \u001B[38;5;241m=\u001B[39m undirected\n\u001B[1;32m     45\u001B[0m \u001B[38;5;28mself\u001B[39m\u001B[38;5;241m.\u001B[39mencoder \u001B[38;5;241m=\u001B[39m encoder\n\u001B[0;32m---> 46\u001B[0m \u001B[38;5;28;43msuper\u001B[39;49m\u001B[43m(\u001B[49m\u001B[43m)\u001B[49m\u001B[38;5;241;43m.\u001B[39;49m\u001B[38;5;21;43m__init__\u001B[39;49m\u001B[43m(\u001B[49m\u001B[43mroot\u001B[49m\u001B[43m,\u001B[49m\u001B[43m \u001B[49m\u001B[43mtransform\u001B[49m\u001B[43m,\u001B[49m\u001B[43m \u001B[49m\u001B[43mpre_transform\u001B[49m\u001B[43m,\u001B[49m\u001B[43m \u001B[49m\u001B[43mpre_filter\u001B[49m\u001B[43m)\u001B[49m\n\u001B[1;32m     47\u001B[0m \u001B[38;5;28mself\u001B[39m\u001B[38;5;241m.\u001B[39mdata, \u001B[38;5;28mself\u001B[39m\u001B[38;5;241m.\u001B[39mslices \u001B[38;5;241m=\u001B[39m torch\u001B[38;5;241m.\u001B[39mload(\u001B[38;5;28mself\u001B[39m\u001B[38;5;241m.\u001B[39mprocessed_paths[\u001B[38;5;241m0\u001B[39m])\n",
      "File \u001B[0;32m~/Documents/Grape-Pi/torch_geometric/data/in_memory_dataset.py:73\u001B[0m, in \u001B[0;36mInMemoryDataset.__init__\u001B[0;34m(self, root, transform, pre_transform, pre_filter, log)\u001B[0m\n\u001B[1;32m     65\u001B[0m \u001B[38;5;28;01mdef\u001B[39;00m \u001B[38;5;21m__init__\u001B[39m(\n\u001B[1;32m     66\u001B[0m     \u001B[38;5;28mself\u001B[39m,\n\u001B[1;32m     67\u001B[0m     root: Optional[\u001B[38;5;28mstr\u001B[39m] \u001B[38;5;241m=\u001B[39m \u001B[38;5;28;01mNone\u001B[39;00m,\n\u001B[0;32m   (...)\u001B[0m\n\u001B[1;32m     71\u001B[0m     log: \u001B[38;5;28mbool\u001B[39m \u001B[38;5;241m=\u001B[39m \u001B[38;5;28;01mTrue\u001B[39;00m,\n\u001B[1;32m     72\u001B[0m ):\n\u001B[0;32m---> 73\u001B[0m     \u001B[38;5;28;43msuper\u001B[39;49m\u001B[43m(\u001B[49m\u001B[43m)\u001B[49m\u001B[38;5;241;43m.\u001B[39;49m\u001B[38;5;21;43m__init__\u001B[39;49m\u001B[43m(\u001B[49m\u001B[43mroot\u001B[49m\u001B[43m,\u001B[49m\u001B[43m \u001B[49m\u001B[43mtransform\u001B[49m\u001B[43m,\u001B[49m\u001B[43m \u001B[49m\u001B[43mpre_transform\u001B[49m\u001B[43m,\u001B[49m\u001B[43m \u001B[49m\u001B[43mpre_filter\u001B[49m\u001B[43m,\u001B[49m\u001B[43m \u001B[49m\u001B[43mlog\u001B[49m\u001B[43m)\u001B[49m\n\u001B[1;32m     74\u001B[0m     \u001B[38;5;28mself\u001B[39m\u001B[38;5;241m.\u001B[39m_data \u001B[38;5;241m=\u001B[39m \u001B[38;5;28;01mNone\u001B[39;00m\n\u001B[1;32m     75\u001B[0m     \u001B[38;5;28mself\u001B[39m\u001B[38;5;241m.\u001B[39mslices \u001B[38;5;241m=\u001B[39m \u001B[38;5;28;01mNone\u001B[39;00m\n",
      "File \u001B[0;32m~/Documents/Grape-Pi/torch_geometric/data/dataset.py:102\u001B[0m, in \u001B[0;36mDataset.__init__\u001B[0;34m(self, root, transform, pre_transform, pre_filter, log)\u001B[0m\n\u001B[1;32m     99\u001B[0m     \u001B[38;5;28mself\u001B[39m\u001B[38;5;241m.\u001B[39m_download()\n\u001B[1;32m    101\u001B[0m \u001B[38;5;28;01mif\u001B[39;00m \u001B[38;5;28mself\u001B[39m\u001B[38;5;241m.\u001B[39mhas_process:\n\u001B[0;32m--> 102\u001B[0m     \u001B[38;5;28;43mself\u001B[39;49m\u001B[38;5;241;43m.\u001B[39;49m\u001B[43m_process\u001B[49m\u001B[43m(\u001B[49m\u001B[43m)\u001B[49m\n",
      "File \u001B[0;32m~/Documents/Grape-Pi/graphgym/custom_graphgym/loader/protein_batch.py:186\u001B[0m, in \u001B[0;36mProteinBatchDataset._process\u001B[0;34m(self)\u001B[0m\n\u001B[1;32m    183\u001B[0m \u001B[38;5;28;01melse\u001B[39;00m:\n\u001B[1;32m    184\u001B[0m     os\u001B[38;5;241m.\u001B[39mmakedirs(\u001B[38;5;28mself\u001B[39m\u001B[38;5;241m.\u001B[39mprocessed_dir)\n\u001B[0;32m--> 186\u001B[0m \u001B[38;5;28;43mself\u001B[39;49m\u001B[38;5;241;43m.\u001B[39;49m\u001B[43mprocess\u001B[49m\u001B[43m(\u001B[49m\u001B[43m)\u001B[49m\n\u001B[1;32m    188\u001B[0m path \u001B[38;5;241m=\u001B[39m osp\u001B[38;5;241m.\u001B[39mjoin(\u001B[38;5;28mself\u001B[39m\u001B[38;5;241m.\u001B[39mprocessed_dir, \u001B[38;5;124m'\u001B[39m\u001B[38;5;124mpre_transform.pt\u001B[39m\u001B[38;5;124m'\u001B[39m)\n\u001B[1;32m    189\u001B[0m torch\u001B[38;5;241m.\u001B[39msave(_repr(\u001B[38;5;28mself\u001B[39m\u001B[38;5;241m.\u001B[39mpre_transform), path)\n",
      "File \u001B[0;32m~/Documents/Grape-Pi/graphgym/custom_graphgym/loader/protein_batch.py:109\u001B[0m, in \u001B[0;36mProteinBatchDataset.process\u001B[0;34m(self)\u001B[0m\n\u001B[1;32m    106\u001B[0m \u001B[38;5;66;03m# only keep interactions related to proteins that in the protein dataset (i.e. in mapping keys)\u001B[39;00m\n\u001B[1;32m    107\u001B[0m protein_data_acc \u001B[38;5;241m=\u001B[39m mapping\u001B[38;5;241m.\u001B[39mkeys()\n\u001B[1;32m    108\u001B[0m sample_interaction \u001B[38;5;241m=\u001B[39m df_interaction[\n\u001B[0;32m--> 109\u001B[0m     df_interaction\u001B[38;5;241m.\u001B[39miloc[:, \u001B[38;5;241m0\u001B[39m]\u001B[38;5;241m.\u001B[39misin(protein_data_acc) \u001B[38;5;241m&\u001B[39m \u001B[43mdf_interaction\u001B[49m\u001B[38;5;241;43m.\u001B[39;49m\u001B[43miloc\u001B[49m\u001B[43m[\u001B[49m\u001B[43m:\u001B[49m\u001B[43m,\u001B[49m\u001B[43m \u001B[49m\u001B[38;5;241;43m1\u001B[39;49m\u001B[43m]\u001B[49m\u001B[38;5;241;43m.\u001B[39;49m\u001B[43misin\u001B[49m\u001B[43m(\u001B[49m\u001B[43mprotein_data_acc\u001B[49m\u001B[43m)\u001B[49m]\n\u001B[1;32m    111\u001B[0m x \u001B[38;5;241m=\u001B[39m torch\u001B[38;5;241m.\u001B[39mtensor(series_sample\u001B[38;5;241m.\u001B[39mvalues, dtype\u001B[38;5;241m=\u001B[39mtorch\u001B[38;5;241m.\u001B[39mfloat)\u001B[38;5;241m.\u001B[39munsqueeze(\u001B[38;5;241m1\u001B[39m)\n\u001B[1;32m    112\u001B[0m \u001B[38;5;66;03m# implement encoder later\u001B[39;00m\n",
      "File \u001B[0;32m~/anaconda3/envs/grape-pi/lib/python3.10/site-packages/pandas/core/series.py:5346\u001B[0m, in \u001B[0;36mSeries.isin\u001B[0;34m(self, values)\u001B[0m\n\u001B[1;32m   5273\u001B[0m \u001B[38;5;28;01mdef\u001B[39;00m \u001B[38;5;21misin\u001B[39m(\u001B[38;5;28mself\u001B[39m, values) \u001B[38;5;241m-\u001B[39m\u001B[38;5;241m>\u001B[39m Series:\n\u001B[1;32m   5274\u001B[0m \u001B[38;5;250m    \u001B[39m\u001B[38;5;124;03m\"\"\"\u001B[39;00m\n\u001B[1;32m   5275\u001B[0m \u001B[38;5;124;03m    Whether elements in Series are contained in `values`.\u001B[39;00m\n\u001B[1;32m   5276\u001B[0m \n\u001B[0;32m   (...)\u001B[0m\n\u001B[1;32m   5344\u001B[0m \u001B[38;5;124;03m    dtype: bool\u001B[39;00m\n\u001B[1;32m   5345\u001B[0m \u001B[38;5;124;03m    \"\"\"\u001B[39;00m\n\u001B[0;32m-> 5346\u001B[0m     result \u001B[38;5;241m=\u001B[39m \u001B[43malgorithms\u001B[49m\u001B[38;5;241;43m.\u001B[39;49m\u001B[43misin\u001B[49m\u001B[43m(\u001B[49m\u001B[38;5;28;43mself\u001B[39;49m\u001B[38;5;241;43m.\u001B[39;49m\u001B[43m_values\u001B[49m\u001B[43m,\u001B[49m\u001B[43m \u001B[49m\u001B[43mvalues\u001B[49m\u001B[43m)\u001B[49m\n\u001B[1;32m   5347\u001B[0m     \u001B[38;5;28;01mreturn\u001B[39;00m \u001B[38;5;28mself\u001B[39m\u001B[38;5;241m.\u001B[39m_constructor(result, index\u001B[38;5;241m=\u001B[39m\u001B[38;5;28mself\u001B[39m\u001B[38;5;241m.\u001B[39mindex, copy\u001B[38;5;241m=\u001B[39m\u001B[38;5;28;01mFalse\u001B[39;00m)\u001B[38;5;241m.\u001B[39m__finalize__(\n\u001B[1;32m   5348\u001B[0m         \u001B[38;5;28mself\u001B[39m, method\u001B[38;5;241m=\u001B[39m\u001B[38;5;124m\"\u001B[39m\u001B[38;5;124misin\u001B[39m\u001B[38;5;124m\"\u001B[39m\n\u001B[1;32m   5349\u001B[0m     )\n",
      "File \u001B[0;32m~/anaconda3/envs/grape-pi/lib/python3.10/site-packages/pandas/core/algorithms.py:545\u001B[0m, in \u001B[0;36misin\u001B[0;34m(comps, values)\u001B[0m\n\u001B[1;32m    542\u001B[0m     comps_array \u001B[38;5;241m=\u001B[39m comps_array\u001B[38;5;241m.\u001B[39mastype(common, copy\u001B[38;5;241m=\u001B[39m\u001B[38;5;28;01mFalse\u001B[39;00m)\n\u001B[1;32m    543\u001B[0m     f \u001B[38;5;241m=\u001B[39m htable\u001B[38;5;241m.\u001B[39mismember\n\u001B[0;32m--> 545\u001B[0m \u001B[38;5;28;01mreturn\u001B[39;00m \u001B[43mf\u001B[49m\u001B[43m(\u001B[49m\u001B[43mcomps_array\u001B[49m\u001B[43m,\u001B[49m\u001B[43m \u001B[49m\u001B[43mvalues\u001B[49m\u001B[43m)\u001B[49m\n",
      "\u001B[0;31mKeyboardInterrupt\u001B[0m: "
     ]
    }
   ],
   "source": [
    "protein_dataset = ProteinBatchDataset(\"data/protein_graphs\", rebuild=True)\n",
    "# protein_dataset = ProteinBatchDataset(\"data/TCE_graphs\", rebuild=True)\n",
    "# protein_dataset = ProteinBatchDataset(\"data/localization\", rebuild=True)"
   ]
  },
  {
   "cell_type": "code",
   "execution_count": null,
   "outputs": [],
   "source": [
    "len(protein_dataset.y)"
   ],
   "metadata": {
    "collapsed": false,
    "ExecuteTime": {
     "end_time": "2023-11-28T22:35:46.081815Z",
     "start_time": "2023-11-28T22:35:46.081438Z"
    }
   },
   "id": "8f923fd4a1da96a"
  },
  {
   "cell_type": "code",
   "execution_count": null,
   "outputs": [],
   "source": [
    "import random\n",
    "\n",
    "random.seed(1234)\n",
    "\n",
    "ids = list(range(0, len(protein_dataset.y)))\n",
    "train_ids = random.sample(ids, int(0.80 * len(ids)))\n",
    "test_ids = list(set(ids) - set(train_ids))"
   ],
   "metadata": {
    "collapsed": false,
    "ExecuteTime": {
     "start_time": "2023-11-28T22:35:46.082713Z"
    }
   },
   "id": "bdd644e478f5de98"
  },
  {
   "cell_type": "code",
   "execution_count": null,
   "outputs": [],
   "source": [
    "from torch_geometric.loader import DataLoader\n",
    "train_loader = DataLoader(protein_dataset[train_ids], batch_size=10, shuffle=True)\n",
    "test_loader = DataLoader(protein_dataset[test_ids], batch_size=10, shuffle=False)\n",
    "\n",
    "for step, data in enumerate(train_loader):\n",
    "    print(f'Step {step + 1}:')\n",
    "    print('=======')\n",
    "    print(f'Number of graphs in the current batch: {data.num_graphs}')\n",
    "    print(data)\n",
    "    print()"
   ],
   "metadata": {
    "collapsed": false,
    "ExecuteTime": {
     "start_time": "2023-11-28T22:35:46.084033Z"
    }
   },
   "id": "35450408a9ff2e3f"
  },
  {
   "cell_type": "code",
   "execution_count": null,
   "outputs": [],
   "source": [
    "from torch.nn import Linear\n",
    "import torch.nn.functional as F\n",
    "from torch_geometric.nn import GCNConv\n",
    "from torch_geometric.nn import global_mean_pool\n",
    "\n",
    "\n",
    "class GCN(torch.nn.Module):\n",
    "    def __init__(self, hidden_channels):\n",
    "        super(GCN, self).__init__()\n",
    "        torch.manual_seed(12345)\n",
    "        self.conv1 = GCNConv(1, hidden_channels)\n",
    "        self.conv2 = GCNConv(hidden_channels, hidden_channels)\n",
    "        # self.conv3 = GCNConv(hidden_channels, hidden_channels)\n",
    "        self.lin1 = Linear(hidden_channels, 128)\n",
    "        self.lin2 = Linear(128, 64)\n",
    "        self.lin3 = Linear(64, 3) # (previous_dim, num_classes)\n",
    "\n",
    "    def forward(self, x, edge_index, batch):\n",
    "        # 1. Obtain node embeddings \n",
    "        x = self.conv1(x, edge_index)\n",
    "        x = x.relu()\n",
    "        x = self.conv2(x, edge_index)\n",
    "        x = x.relu()\n",
    "        # x = self.conv3(x, edge_index)\n",
    "        # x = x.relu()\n",
    "        # 2. Readout layer\n",
    "        x = global_mean_pool(x, batch)  # [batch_size, hidden_channels]\n",
    "\n",
    "        # 3. Apply a final classifier\n",
    "        # x = F.dropout(x, p=0.5, training=self.training)\n",
    "        x = self.lin1(x)\n",
    "        x = x.relu()\n",
    "        x = self.lin2(x)\n",
    "        x = x.relu()\n",
    "        x = self.lin3(x)\n",
    "        \n",
    "        return x\n",
    "\n",
    "model = GCN(hidden_channels=64)\n",
    "print(model)\n",
    "\n",
    "from IPython.display import Javascript\n",
    "display(Javascript('''google.colab.output.setIframeHeight(0, true, {maxHeight: 300})'''))\n",
    "\n",
    "model = GCN(hidden_channels=256)\n",
    "\n",
    "optimizer = torch.optim.Adam(model.parameters(), lr=0.001)\n",
    "criterion = torch.nn.CrossEntropyLoss()\n",
    "\n",
    "def train():\n",
    "    model.train()\n",
    "\n",
    "    for data in train_loader:  # Iterate in batches over the training dataset.\n",
    "         out = model(data.x, data.edge_index, data.batch)  # Perform a single forward pass.\n",
    "         loss = criterion(out, data.y)  # Compute the loss.\n",
    "         loss.backward()  # Derive gradients.\n",
    "         optimizer.step()  # Update parameters based on gradients.\n",
    "         optimizer.zero_grad()  # Clear gradients.\n",
    "        \n",
    "def test(loader):\n",
    "     model.eval()\n",
    "     correct = 0\n",
    "     loss_ = 0\n",
    "     for data in loader:  # Iterate in batches over the training/test dataset.\n",
    "         out = model(data.x, data.edge_index, data.batch)  \n",
    "         loss = criterion(out, data.y)\n",
    "         loss_ += loss.item()\n",
    "         pred = out.argmax(dim=1)  # Use the class with highest probability.\n",
    "         \n",
    "         correct += int((pred == data.y).sum())  # Check against ground-truth labels.\n",
    "     return correct / len(loader.dataset), loss_ / len(loader.dataset)  # Derive ratio of correct predictions."
   ],
   "metadata": {
    "collapsed": false,
    "ExecuteTime": {
     "start_time": "2023-11-28T22:35:46.085424Z"
    }
   },
   "id": "d1ee775416c79405"
  },
  {
   "cell_type": "code",
   "execution_count": null,
   "outputs": [],
   "source": [],
   "metadata": {
    "collapsed": false,
    "ExecuteTime": {
     "start_time": "2023-11-28T22:35:46.086635Z"
    }
   },
   "id": "18f55c6fb4bb65c5"
  },
  {
   "cell_type": "code",
   "execution_count": null,
   "outputs": [],
   "source": [
    "for epoch in trange(1, 101):\n",
    "    train()\n",
    "    train_acc, train_loss = test(train_loader)\n",
    "    test_acc, test_loss = test(test_loader)\n",
    "    print(f'Epoch: {epoch:03d}, Train loss: {train_loss:.4f}, Test loss: {test_loss:.4f}')\n",
    "    print(f'Epoch: {epoch:03d}, Train Acc: {train_acc:.4f}, Test Acc: {test_acc:.4f}')"
   ],
   "metadata": {
    "collapsed": false,
    "ExecuteTime": {
     "start_time": "2023-11-28T22:35:46.087933Z"
    }
   },
   "id": "24bfcb9773babcb9"
  },
  {
   "cell_type": "code",
   "execution_count": null,
   "outputs": [],
   "source": [],
   "metadata": {
    "collapsed": false,
    "ExecuteTime": {
     "start_time": "2023-11-28T22:35:46.089011Z"
    }
   },
   "id": "b9bbb81364eab78d"
  },
  {
   "cell_type": "code",
   "execution_count": 91,
   "outputs": [],
   "source": [
    "import pandas as pd\n",
    "from sklearn.model_selection import train_test_split\n",
    "from sklearn.preprocessing import StandardScaler\n",
    "\n",
    "# Load data\n",
    "data = pd.read_csv('/Users/cgu3/Documents/Grape-Pi/data/protein_graphs/raw/proteins.csv', index_col=0)  # Replace with your file path\n",
    "with open('/Users/cgu3/Documents/Grape-Pi/data/protein_graphs/raw/graph_labels.txt') as f:\n",
    "    graph_labels = f.read().splitlines()\n",
    "graph_labels = [int(label) for label in graph_labels]\n",
    "\n",
    "# Assuming the last column is the target variable\n",
    "X = np.transpose(data.values)\n",
    "y = graph_labels\n",
    "\n",
    "# Split data into training and test sets\n",
    "X_train, X_test, y_train, y_test = train_test_split(X, y, test_size=0.2, random_state=42)\n",
    "\n",
    "# Normalize features\n",
    "scaler = StandardScaler()\n",
    "X_train = scaler.fit_transform(X_train)\n",
    "X_test = scaler.transform(X_test)\n"
   ],
   "metadata": {
    "collapsed": false,
    "ExecuteTime": {
     "end_time": "2023-11-28T22:37:39.556191Z",
     "start_time": "2023-11-28T22:37:39.536354Z"
    }
   },
   "id": "e9d7408c815dcc8"
  },
  {
   "cell_type": "code",
   "execution_count": 92,
   "outputs": [],
   "source": [
    "import torch\n",
    "from torch.utils.data import TensorDataset, DataLoader\n",
    "\n",
    "# Convert arrays to PyTorch tensors\n",
    "train_data = TensorDataset(torch.FloatTensor(X_train), torch.LongTensor(y_train))\n",
    "test_data = TensorDataset(torch.FloatTensor(X_test), torch.LongTensor(y_test))\n",
    "\n",
    "# Create DataLoaders\n",
    "batch_size = 32  # You can modify this\n",
    "train_loader = DataLoader(dataset=train_data, batch_size=batch_size, shuffle=True)\n",
    "test_loader = DataLoader(dataset=test_data, batch_size=batch_size, shuffle=False)\n"
   ],
   "metadata": {
    "collapsed": false,
    "ExecuteTime": {
     "end_time": "2023-11-28T22:37:39.972554Z",
     "start_time": "2023-11-28T22:37:39.968901Z"
    }
   },
   "id": "e37e433c8b139b84"
  },
  {
   "cell_type": "code",
   "execution_count": 103,
   "outputs": [],
   "source": [
    "import torch.nn as nn\n",
    "import torch.nn.functional as F\n",
    "\n",
    "class MLP(nn.Module):\n",
    "    def __init__(self, input_size, hidden_size, output_size):\n",
    "        super(MLP, self).__init__()\n",
    "        self.fc1 = nn.Linear(input_size, hidden_size)\n",
    "        self.fc2 = nn.Linear(hidden_size, output_size)\n",
    "\n",
    "    def forward(self, x):\n",
    "        x = F.relu(self.fc1(x))\n",
    "        x = self.fc2(x)\n",
    "        return x\n",
    "\n",
    "# Create the model instance\n",
    "input_size = X_train.shape[1]\n",
    "hidden_size = 50  # Example size, adjust as needed\n",
    "output_size = 3  # Adjust based on your task\n",
    "model = MLP(input_size, hidden_size, output_size)\n"
   ],
   "metadata": {
    "collapsed": false,
    "ExecuteTime": {
     "end_time": "2023-11-28T22:43:26.503723Z",
     "start_time": "2023-11-28T22:43:26.481792Z"
    }
   },
   "id": "c4b7e7e45c30383b"
  },
  {
   "cell_type": "code",
   "execution_count": 104,
   "outputs": [
    {
     "data": {
      "text/plain": "MLP(\n  (fc1): Linear(in_features=1119, out_features=50, bias=True)\n  (fc2): Linear(in_features=50, out_features=3, bias=True)\n)"
     },
     "execution_count": 104,
     "metadata": {},
     "output_type": "execute_result"
    },
    {
     "name": "stdout",
     "output_type": "stream",
     "text": [
      "Test accuracy: 69.23076923076923 %\n"
     ]
    },
    {
     "data": {
      "text/plain": "MLP(\n  (fc1): Linear(in_features=1119, out_features=50, bias=True)\n  (fc2): Linear(in_features=50, out_features=3, bias=True)\n)"
     },
     "execution_count": 104,
     "metadata": {},
     "output_type": "execute_result"
    },
    {
     "name": "stdout",
     "output_type": "stream",
     "text": [
      "Test accuracy: 69.23076923076923 %\n"
     ]
    },
    {
     "data": {
      "text/plain": "MLP(\n  (fc1): Linear(in_features=1119, out_features=50, bias=True)\n  (fc2): Linear(in_features=50, out_features=3, bias=True)\n)"
     },
     "execution_count": 104,
     "metadata": {},
     "output_type": "execute_result"
    },
    {
     "name": "stdout",
     "output_type": "stream",
     "text": [
      "Test accuracy: 73.07692307692308 %\n"
     ]
    },
    {
     "data": {
      "text/plain": "MLP(\n  (fc1): Linear(in_features=1119, out_features=50, bias=True)\n  (fc2): Linear(in_features=50, out_features=3, bias=True)\n)"
     },
     "execution_count": 104,
     "metadata": {},
     "output_type": "execute_result"
    },
    {
     "name": "stdout",
     "output_type": "stream",
     "text": [
      "Test accuracy: 73.07692307692308 %\n"
     ]
    },
    {
     "data": {
      "text/plain": "MLP(\n  (fc1): Linear(in_features=1119, out_features=50, bias=True)\n  (fc2): Linear(in_features=50, out_features=3, bias=True)\n)"
     },
     "execution_count": 104,
     "metadata": {},
     "output_type": "execute_result"
    },
    {
     "name": "stdout",
     "output_type": "stream",
     "text": [
      "Test accuracy: 84.61538461538461 %\n"
     ]
    },
    {
     "data": {
      "text/plain": "MLP(\n  (fc1): Linear(in_features=1119, out_features=50, bias=True)\n  (fc2): Linear(in_features=50, out_features=3, bias=True)\n)"
     },
     "execution_count": 104,
     "metadata": {},
     "output_type": "execute_result"
    },
    {
     "name": "stdout",
     "output_type": "stream",
     "text": [
      "Test accuracy: 84.61538461538461 %\n"
     ]
    },
    {
     "data": {
      "text/plain": "MLP(\n  (fc1): Linear(in_features=1119, out_features=50, bias=True)\n  (fc2): Linear(in_features=50, out_features=3, bias=True)\n)"
     },
     "execution_count": 104,
     "metadata": {},
     "output_type": "execute_result"
    },
    {
     "name": "stdout",
     "output_type": "stream",
     "text": [
      "Test accuracy: 84.61538461538461 %\n"
     ]
    },
    {
     "data": {
      "text/plain": "MLP(\n  (fc1): Linear(in_features=1119, out_features=50, bias=True)\n  (fc2): Linear(in_features=50, out_features=3, bias=True)\n)"
     },
     "execution_count": 104,
     "metadata": {},
     "output_type": "execute_result"
    },
    {
     "name": "stdout",
     "output_type": "stream",
     "text": [
      "Test accuracy: 84.61538461538461 %\n"
     ]
    },
    {
     "data": {
      "text/plain": "MLP(\n  (fc1): Linear(in_features=1119, out_features=50, bias=True)\n  (fc2): Linear(in_features=50, out_features=3, bias=True)\n)"
     },
     "execution_count": 104,
     "metadata": {},
     "output_type": "execute_result"
    },
    {
     "name": "stdout",
     "output_type": "stream",
     "text": [
      "Test accuracy: 84.61538461538461 %\n"
     ]
    },
    {
     "data": {
      "text/plain": "MLP(\n  (fc1): Linear(in_features=1119, out_features=50, bias=True)\n  (fc2): Linear(in_features=50, out_features=3, bias=True)\n)"
     },
     "execution_count": 104,
     "metadata": {},
     "output_type": "execute_result"
    },
    {
     "name": "stdout",
     "output_type": "stream",
     "text": [
      "Test accuracy: 84.61538461538461 %\n"
     ]
    },
    {
     "data": {
      "text/plain": "MLP(\n  (fc1): Linear(in_features=1119, out_features=50, bias=True)\n  (fc2): Linear(in_features=50, out_features=3, bias=True)\n)"
     },
     "execution_count": 104,
     "metadata": {},
     "output_type": "execute_result"
    },
    {
     "name": "stdout",
     "output_type": "stream",
     "text": [
      "Test accuracy: 84.61538461538461 %\n"
     ]
    },
    {
     "data": {
      "text/plain": "MLP(\n  (fc1): Linear(in_features=1119, out_features=50, bias=True)\n  (fc2): Linear(in_features=50, out_features=3, bias=True)\n)"
     },
     "execution_count": 104,
     "metadata": {},
     "output_type": "execute_result"
    },
    {
     "name": "stdout",
     "output_type": "stream",
     "text": [
      "Test accuracy: 84.61538461538461 %\n"
     ]
    },
    {
     "data": {
      "text/plain": "MLP(\n  (fc1): Linear(in_features=1119, out_features=50, bias=True)\n  (fc2): Linear(in_features=50, out_features=3, bias=True)\n)"
     },
     "execution_count": 104,
     "metadata": {},
     "output_type": "execute_result"
    },
    {
     "name": "stdout",
     "output_type": "stream",
     "text": [
      "Test accuracy: 84.61538461538461 %\n"
     ]
    },
    {
     "data": {
      "text/plain": "MLP(\n  (fc1): Linear(in_features=1119, out_features=50, bias=True)\n  (fc2): Linear(in_features=50, out_features=3, bias=True)\n)"
     },
     "execution_count": 104,
     "metadata": {},
     "output_type": "execute_result"
    },
    {
     "name": "stdout",
     "output_type": "stream",
     "text": [
      "Test accuracy: 84.61538461538461 %\n"
     ]
    },
    {
     "data": {
      "text/plain": "MLP(\n  (fc1): Linear(in_features=1119, out_features=50, bias=True)\n  (fc2): Linear(in_features=50, out_features=3, bias=True)\n)"
     },
     "execution_count": 104,
     "metadata": {},
     "output_type": "execute_result"
    },
    {
     "name": "stdout",
     "output_type": "stream",
     "text": [
      "Test accuracy: 84.61538461538461 %\n"
     ]
    },
    {
     "data": {
      "text/plain": "MLP(\n  (fc1): Linear(in_features=1119, out_features=50, bias=True)\n  (fc2): Linear(in_features=50, out_features=3, bias=True)\n)"
     },
     "execution_count": 104,
     "metadata": {},
     "output_type": "execute_result"
    },
    {
     "name": "stdout",
     "output_type": "stream",
     "text": [
      "Test accuracy: 84.61538461538461 %\n"
     ]
    },
    {
     "data": {
      "text/plain": "MLP(\n  (fc1): Linear(in_features=1119, out_features=50, bias=True)\n  (fc2): Linear(in_features=50, out_features=3, bias=True)\n)"
     },
     "execution_count": 104,
     "metadata": {},
     "output_type": "execute_result"
    },
    {
     "name": "stdout",
     "output_type": "stream",
     "text": [
      "Test accuracy: 84.61538461538461 %\n"
     ]
    },
    {
     "data": {
      "text/plain": "MLP(\n  (fc1): Linear(in_features=1119, out_features=50, bias=True)\n  (fc2): Linear(in_features=50, out_features=3, bias=True)\n)"
     },
     "execution_count": 104,
     "metadata": {},
     "output_type": "execute_result"
    },
    {
     "name": "stdout",
     "output_type": "stream",
     "text": [
      "Test accuracy: 84.61538461538461 %\n"
     ]
    },
    {
     "data": {
      "text/plain": "MLP(\n  (fc1): Linear(in_features=1119, out_features=50, bias=True)\n  (fc2): Linear(in_features=50, out_features=3, bias=True)\n)"
     },
     "execution_count": 104,
     "metadata": {},
     "output_type": "execute_result"
    },
    {
     "name": "stdout",
     "output_type": "stream",
     "text": [
      "Test accuracy: 84.61538461538461 %\n"
     ]
    },
    {
     "data": {
      "text/plain": "MLP(\n  (fc1): Linear(in_features=1119, out_features=50, bias=True)\n  (fc2): Linear(in_features=50, out_features=3, bias=True)\n)"
     },
     "execution_count": 104,
     "metadata": {},
     "output_type": "execute_result"
    },
    {
     "name": "stdout",
     "output_type": "stream",
     "text": [
      "Test accuracy: 84.61538461538461 %\n"
     ]
    },
    {
     "data": {
      "text/plain": "MLP(\n  (fc1): Linear(in_features=1119, out_features=50, bias=True)\n  (fc2): Linear(in_features=50, out_features=3, bias=True)\n)"
     },
     "execution_count": 104,
     "metadata": {},
     "output_type": "execute_result"
    },
    {
     "name": "stdout",
     "output_type": "stream",
     "text": [
      "Test accuracy: 84.61538461538461 %\n"
     ]
    },
    {
     "data": {
      "text/plain": "MLP(\n  (fc1): Linear(in_features=1119, out_features=50, bias=True)\n  (fc2): Linear(in_features=50, out_features=3, bias=True)\n)"
     },
     "execution_count": 104,
     "metadata": {},
     "output_type": "execute_result"
    },
    {
     "name": "stdout",
     "output_type": "stream",
     "text": [
      "Test accuracy: 84.61538461538461 %\n"
     ]
    },
    {
     "data": {
      "text/plain": "MLP(\n  (fc1): Linear(in_features=1119, out_features=50, bias=True)\n  (fc2): Linear(in_features=50, out_features=3, bias=True)\n)"
     },
     "execution_count": 104,
     "metadata": {},
     "output_type": "execute_result"
    },
    {
     "name": "stdout",
     "output_type": "stream",
     "text": [
      "Test accuracy: 84.61538461538461 %\n"
     ]
    },
    {
     "data": {
      "text/plain": "MLP(\n  (fc1): Linear(in_features=1119, out_features=50, bias=True)\n  (fc2): Linear(in_features=50, out_features=3, bias=True)\n)"
     },
     "execution_count": 104,
     "metadata": {},
     "output_type": "execute_result"
    },
    {
     "name": "stdout",
     "output_type": "stream",
     "text": [
      "Test accuracy: 84.61538461538461 %\n"
     ]
    },
    {
     "data": {
      "text/plain": "MLP(\n  (fc1): Linear(in_features=1119, out_features=50, bias=True)\n  (fc2): Linear(in_features=50, out_features=3, bias=True)\n)"
     },
     "execution_count": 104,
     "metadata": {},
     "output_type": "execute_result"
    },
    {
     "name": "stdout",
     "output_type": "stream",
     "text": [
      "Test accuracy: 84.61538461538461 %\n"
     ]
    },
    {
     "data": {
      "text/plain": "MLP(\n  (fc1): Linear(in_features=1119, out_features=50, bias=True)\n  (fc2): Linear(in_features=50, out_features=3, bias=True)\n)"
     },
     "execution_count": 104,
     "metadata": {},
     "output_type": "execute_result"
    },
    {
     "name": "stdout",
     "output_type": "stream",
     "text": [
      "Test accuracy: 84.61538461538461 %\n"
     ]
    },
    {
     "data": {
      "text/plain": "MLP(\n  (fc1): Linear(in_features=1119, out_features=50, bias=True)\n  (fc2): Linear(in_features=50, out_features=3, bias=True)\n)"
     },
     "execution_count": 104,
     "metadata": {},
     "output_type": "execute_result"
    },
    {
     "name": "stdout",
     "output_type": "stream",
     "text": [
      "Test accuracy: 84.61538461538461 %\n"
     ]
    },
    {
     "data": {
      "text/plain": "MLP(\n  (fc1): Linear(in_features=1119, out_features=50, bias=True)\n  (fc2): Linear(in_features=50, out_features=3, bias=True)\n)"
     },
     "execution_count": 104,
     "metadata": {},
     "output_type": "execute_result"
    },
    {
     "name": "stdout",
     "output_type": "stream",
     "text": [
      "Test accuracy: 84.61538461538461 %\n"
     ]
    },
    {
     "data": {
      "text/plain": "MLP(\n  (fc1): Linear(in_features=1119, out_features=50, bias=True)\n  (fc2): Linear(in_features=50, out_features=3, bias=True)\n)"
     },
     "execution_count": 104,
     "metadata": {},
     "output_type": "execute_result"
    },
    {
     "name": "stdout",
     "output_type": "stream",
     "text": [
      "Test accuracy: 84.61538461538461 %\n"
     ]
    },
    {
     "data": {
      "text/plain": "MLP(\n  (fc1): Linear(in_features=1119, out_features=50, bias=True)\n  (fc2): Linear(in_features=50, out_features=3, bias=True)\n)"
     },
     "execution_count": 104,
     "metadata": {},
     "output_type": "execute_result"
    },
    {
     "name": "stdout",
     "output_type": "stream",
     "text": [
      "Test accuracy: 84.61538461538461 %\n"
     ]
    },
    {
     "data": {
      "text/plain": "MLP(\n  (fc1): Linear(in_features=1119, out_features=50, bias=True)\n  (fc2): Linear(in_features=50, out_features=3, bias=True)\n)"
     },
     "execution_count": 104,
     "metadata": {},
     "output_type": "execute_result"
    },
    {
     "name": "stdout",
     "output_type": "stream",
     "text": [
      "Test accuracy: 84.61538461538461 %\n"
     ]
    },
    {
     "data": {
      "text/plain": "MLP(\n  (fc1): Linear(in_features=1119, out_features=50, bias=True)\n  (fc2): Linear(in_features=50, out_features=3, bias=True)\n)"
     },
     "execution_count": 104,
     "metadata": {},
     "output_type": "execute_result"
    },
    {
     "name": "stdout",
     "output_type": "stream",
     "text": [
      "Test accuracy: 84.61538461538461 %\n"
     ]
    },
    {
     "data": {
      "text/plain": "MLP(\n  (fc1): Linear(in_features=1119, out_features=50, bias=True)\n  (fc2): Linear(in_features=50, out_features=3, bias=True)\n)"
     },
     "execution_count": 104,
     "metadata": {},
     "output_type": "execute_result"
    },
    {
     "name": "stdout",
     "output_type": "stream",
     "text": [
      "Test accuracy: 84.61538461538461 %\n"
     ]
    },
    {
     "data": {
      "text/plain": "MLP(\n  (fc1): Linear(in_features=1119, out_features=50, bias=True)\n  (fc2): Linear(in_features=50, out_features=3, bias=True)\n)"
     },
     "execution_count": 104,
     "metadata": {},
     "output_type": "execute_result"
    },
    {
     "name": "stdout",
     "output_type": "stream",
     "text": [
      "Test accuracy: 84.61538461538461 %\n"
     ]
    },
    {
     "data": {
      "text/plain": "MLP(\n  (fc1): Linear(in_features=1119, out_features=50, bias=True)\n  (fc2): Linear(in_features=50, out_features=3, bias=True)\n)"
     },
     "execution_count": 104,
     "metadata": {},
     "output_type": "execute_result"
    },
    {
     "name": "stdout",
     "output_type": "stream",
     "text": [
      "Test accuracy: 84.61538461538461 %\n"
     ]
    },
    {
     "data": {
      "text/plain": "MLP(\n  (fc1): Linear(in_features=1119, out_features=50, bias=True)\n  (fc2): Linear(in_features=50, out_features=3, bias=True)\n)"
     },
     "execution_count": 104,
     "metadata": {},
     "output_type": "execute_result"
    },
    {
     "name": "stdout",
     "output_type": "stream",
     "text": [
      "Test accuracy: 84.61538461538461 %\n"
     ]
    },
    {
     "data": {
      "text/plain": "MLP(\n  (fc1): Linear(in_features=1119, out_features=50, bias=True)\n  (fc2): Linear(in_features=50, out_features=3, bias=True)\n)"
     },
     "execution_count": 104,
     "metadata": {},
     "output_type": "execute_result"
    },
    {
     "name": "stdout",
     "output_type": "stream",
     "text": [
      "Test accuracy: 84.61538461538461 %\n"
     ]
    },
    {
     "data": {
      "text/plain": "MLP(\n  (fc1): Linear(in_features=1119, out_features=50, bias=True)\n  (fc2): Linear(in_features=50, out_features=3, bias=True)\n)"
     },
     "execution_count": 104,
     "metadata": {},
     "output_type": "execute_result"
    },
    {
     "name": "stdout",
     "output_type": "stream",
     "text": [
      "Test accuracy: 84.61538461538461 %\n"
     ]
    },
    {
     "data": {
      "text/plain": "MLP(\n  (fc1): Linear(in_features=1119, out_features=50, bias=True)\n  (fc2): Linear(in_features=50, out_features=3, bias=True)\n)"
     },
     "execution_count": 104,
     "metadata": {},
     "output_type": "execute_result"
    },
    {
     "name": "stdout",
     "output_type": "stream",
     "text": [
      "Test accuracy: 84.61538461538461 %\n"
     ]
    },
    {
     "data": {
      "text/plain": "MLP(\n  (fc1): Linear(in_features=1119, out_features=50, bias=True)\n  (fc2): Linear(in_features=50, out_features=3, bias=True)\n)"
     },
     "execution_count": 104,
     "metadata": {},
     "output_type": "execute_result"
    },
    {
     "name": "stdout",
     "output_type": "stream",
     "text": [
      "Test accuracy: 84.61538461538461 %\n"
     ]
    },
    {
     "data": {
      "text/plain": "MLP(\n  (fc1): Linear(in_features=1119, out_features=50, bias=True)\n  (fc2): Linear(in_features=50, out_features=3, bias=True)\n)"
     },
     "execution_count": 104,
     "metadata": {},
     "output_type": "execute_result"
    },
    {
     "name": "stdout",
     "output_type": "stream",
     "text": [
      "Test accuracy: 84.61538461538461 %\n"
     ]
    },
    {
     "data": {
      "text/plain": "MLP(\n  (fc1): Linear(in_features=1119, out_features=50, bias=True)\n  (fc2): Linear(in_features=50, out_features=3, bias=True)\n)"
     },
     "execution_count": 104,
     "metadata": {},
     "output_type": "execute_result"
    },
    {
     "name": "stdout",
     "output_type": "stream",
     "text": [
      "Test accuracy: 84.61538461538461 %\n"
     ]
    },
    {
     "data": {
      "text/plain": "MLP(\n  (fc1): Linear(in_features=1119, out_features=50, bias=True)\n  (fc2): Linear(in_features=50, out_features=3, bias=True)\n)"
     },
     "execution_count": 104,
     "metadata": {},
     "output_type": "execute_result"
    },
    {
     "name": "stdout",
     "output_type": "stream",
     "text": [
      "Test accuracy: 84.61538461538461 %\n"
     ]
    },
    {
     "data": {
      "text/plain": "MLP(\n  (fc1): Linear(in_features=1119, out_features=50, bias=True)\n  (fc2): Linear(in_features=50, out_features=3, bias=True)\n)"
     },
     "execution_count": 104,
     "metadata": {},
     "output_type": "execute_result"
    },
    {
     "name": "stdout",
     "output_type": "stream",
     "text": [
      "Test accuracy: 84.61538461538461 %\n"
     ]
    },
    {
     "data": {
      "text/plain": "MLP(\n  (fc1): Linear(in_features=1119, out_features=50, bias=True)\n  (fc2): Linear(in_features=50, out_features=3, bias=True)\n)"
     },
     "execution_count": 104,
     "metadata": {},
     "output_type": "execute_result"
    },
    {
     "name": "stdout",
     "output_type": "stream",
     "text": [
      "Test accuracy: 84.61538461538461 %\n"
     ]
    },
    {
     "data": {
      "text/plain": "MLP(\n  (fc1): Linear(in_features=1119, out_features=50, bias=True)\n  (fc2): Linear(in_features=50, out_features=3, bias=True)\n)"
     },
     "execution_count": 104,
     "metadata": {},
     "output_type": "execute_result"
    },
    {
     "name": "stdout",
     "output_type": "stream",
     "text": [
      "Test accuracy: 84.61538461538461 %\n"
     ]
    },
    {
     "data": {
      "text/plain": "MLP(\n  (fc1): Linear(in_features=1119, out_features=50, bias=True)\n  (fc2): Linear(in_features=50, out_features=3, bias=True)\n)"
     },
     "execution_count": 104,
     "metadata": {},
     "output_type": "execute_result"
    },
    {
     "name": "stdout",
     "output_type": "stream",
     "text": [
      "Test accuracy: 84.61538461538461 %\n"
     ]
    },
    {
     "data": {
      "text/plain": "MLP(\n  (fc1): Linear(in_features=1119, out_features=50, bias=True)\n  (fc2): Linear(in_features=50, out_features=3, bias=True)\n)"
     },
     "execution_count": 104,
     "metadata": {},
     "output_type": "execute_result"
    },
    {
     "name": "stdout",
     "output_type": "stream",
     "text": [
      "Test accuracy: 84.61538461538461 %\n"
     ]
    },
    {
     "data": {
      "text/plain": "MLP(\n  (fc1): Linear(in_features=1119, out_features=50, bias=True)\n  (fc2): Linear(in_features=50, out_features=3, bias=True)\n)"
     },
     "execution_count": 104,
     "metadata": {},
     "output_type": "execute_result"
    },
    {
     "name": "stdout",
     "output_type": "stream",
     "text": [
      "Test accuracy: 84.61538461538461 %\n"
     ]
    },
    {
     "data": {
      "text/plain": "MLP(\n  (fc1): Linear(in_features=1119, out_features=50, bias=True)\n  (fc2): Linear(in_features=50, out_features=3, bias=True)\n)"
     },
     "execution_count": 104,
     "metadata": {},
     "output_type": "execute_result"
    },
    {
     "name": "stdout",
     "output_type": "stream",
     "text": [
      "Test accuracy: 84.61538461538461 %\n"
     ]
    },
    {
     "data": {
      "text/plain": "MLP(\n  (fc1): Linear(in_features=1119, out_features=50, bias=True)\n  (fc2): Linear(in_features=50, out_features=3, bias=True)\n)"
     },
     "execution_count": 104,
     "metadata": {},
     "output_type": "execute_result"
    },
    {
     "name": "stdout",
     "output_type": "stream",
     "text": [
      "Test accuracy: 84.61538461538461 %\n"
     ]
    },
    {
     "data": {
      "text/plain": "MLP(\n  (fc1): Linear(in_features=1119, out_features=50, bias=True)\n  (fc2): Linear(in_features=50, out_features=3, bias=True)\n)"
     },
     "execution_count": 104,
     "metadata": {},
     "output_type": "execute_result"
    },
    {
     "name": "stdout",
     "output_type": "stream",
     "text": [
      "Test accuracy: 84.61538461538461 %\n"
     ]
    },
    {
     "data": {
      "text/plain": "MLP(\n  (fc1): Linear(in_features=1119, out_features=50, bias=True)\n  (fc2): Linear(in_features=50, out_features=3, bias=True)\n)"
     },
     "execution_count": 104,
     "metadata": {},
     "output_type": "execute_result"
    },
    {
     "name": "stdout",
     "output_type": "stream",
     "text": [
      "Test accuracy: 84.61538461538461 %\n"
     ]
    },
    {
     "data": {
      "text/plain": "MLP(\n  (fc1): Linear(in_features=1119, out_features=50, bias=True)\n  (fc2): Linear(in_features=50, out_features=3, bias=True)\n)"
     },
     "execution_count": 104,
     "metadata": {},
     "output_type": "execute_result"
    },
    {
     "name": "stdout",
     "output_type": "stream",
     "text": [
      "Test accuracy: 84.61538461538461 %\n"
     ]
    },
    {
     "data": {
      "text/plain": "MLP(\n  (fc1): Linear(in_features=1119, out_features=50, bias=True)\n  (fc2): Linear(in_features=50, out_features=3, bias=True)\n)"
     },
     "execution_count": 104,
     "metadata": {},
     "output_type": "execute_result"
    },
    {
     "name": "stdout",
     "output_type": "stream",
     "text": [
      "Test accuracy: 84.61538461538461 %\n"
     ]
    },
    {
     "data": {
      "text/plain": "MLP(\n  (fc1): Linear(in_features=1119, out_features=50, bias=True)\n  (fc2): Linear(in_features=50, out_features=3, bias=True)\n)"
     },
     "execution_count": 104,
     "metadata": {},
     "output_type": "execute_result"
    },
    {
     "name": "stdout",
     "output_type": "stream",
     "text": [
      "Test accuracy: 84.61538461538461 %\n"
     ]
    },
    {
     "data": {
      "text/plain": "MLP(\n  (fc1): Linear(in_features=1119, out_features=50, bias=True)\n  (fc2): Linear(in_features=50, out_features=3, bias=True)\n)"
     },
     "execution_count": 104,
     "metadata": {},
     "output_type": "execute_result"
    },
    {
     "name": "stdout",
     "output_type": "stream",
     "text": [
      "Test accuracy: 84.61538461538461 %\n"
     ]
    },
    {
     "data": {
      "text/plain": "MLP(\n  (fc1): Linear(in_features=1119, out_features=50, bias=True)\n  (fc2): Linear(in_features=50, out_features=3, bias=True)\n)"
     },
     "execution_count": 104,
     "metadata": {},
     "output_type": "execute_result"
    },
    {
     "name": "stdout",
     "output_type": "stream",
     "text": [
      "Test accuracy: 84.61538461538461 %\n"
     ]
    },
    {
     "data": {
      "text/plain": "MLP(\n  (fc1): Linear(in_features=1119, out_features=50, bias=True)\n  (fc2): Linear(in_features=50, out_features=3, bias=True)\n)"
     },
     "execution_count": 104,
     "metadata": {},
     "output_type": "execute_result"
    },
    {
     "name": "stdout",
     "output_type": "stream",
     "text": [
      "Test accuracy: 84.61538461538461 %\n"
     ]
    },
    {
     "data": {
      "text/plain": "MLP(\n  (fc1): Linear(in_features=1119, out_features=50, bias=True)\n  (fc2): Linear(in_features=50, out_features=3, bias=True)\n)"
     },
     "execution_count": 104,
     "metadata": {},
     "output_type": "execute_result"
    },
    {
     "name": "stdout",
     "output_type": "stream",
     "text": [
      "Test accuracy: 84.61538461538461 %\n"
     ]
    },
    {
     "data": {
      "text/plain": "MLP(\n  (fc1): Linear(in_features=1119, out_features=50, bias=True)\n  (fc2): Linear(in_features=50, out_features=3, bias=True)\n)"
     },
     "execution_count": 104,
     "metadata": {},
     "output_type": "execute_result"
    },
    {
     "name": "stdout",
     "output_type": "stream",
     "text": [
      "Test accuracy: 84.61538461538461 %\n"
     ]
    },
    {
     "data": {
      "text/plain": "MLP(\n  (fc1): Linear(in_features=1119, out_features=50, bias=True)\n  (fc2): Linear(in_features=50, out_features=3, bias=True)\n)"
     },
     "execution_count": 104,
     "metadata": {},
     "output_type": "execute_result"
    },
    {
     "name": "stdout",
     "output_type": "stream",
     "text": [
      "Test accuracy: 84.61538461538461 %\n"
     ]
    },
    {
     "data": {
      "text/plain": "MLP(\n  (fc1): Linear(in_features=1119, out_features=50, bias=True)\n  (fc2): Linear(in_features=50, out_features=3, bias=True)\n)"
     },
     "execution_count": 104,
     "metadata": {},
     "output_type": "execute_result"
    },
    {
     "name": "stdout",
     "output_type": "stream",
     "text": [
      "Test accuracy: 84.61538461538461 %\n"
     ]
    },
    {
     "data": {
      "text/plain": "MLP(\n  (fc1): Linear(in_features=1119, out_features=50, bias=True)\n  (fc2): Linear(in_features=50, out_features=3, bias=True)\n)"
     },
     "execution_count": 104,
     "metadata": {},
     "output_type": "execute_result"
    },
    {
     "name": "stdout",
     "output_type": "stream",
     "text": [
      "Test accuracy: 84.61538461538461 %\n"
     ]
    },
    {
     "data": {
      "text/plain": "MLP(\n  (fc1): Linear(in_features=1119, out_features=50, bias=True)\n  (fc2): Linear(in_features=50, out_features=3, bias=True)\n)"
     },
     "execution_count": 104,
     "metadata": {},
     "output_type": "execute_result"
    },
    {
     "name": "stdout",
     "output_type": "stream",
     "text": [
      "Test accuracy: 84.61538461538461 %\n"
     ]
    },
    {
     "data": {
      "text/plain": "MLP(\n  (fc1): Linear(in_features=1119, out_features=50, bias=True)\n  (fc2): Linear(in_features=50, out_features=3, bias=True)\n)"
     },
     "execution_count": 104,
     "metadata": {},
     "output_type": "execute_result"
    },
    {
     "name": "stdout",
     "output_type": "stream",
     "text": [
      "Test accuracy: 84.61538461538461 %\n"
     ]
    },
    {
     "data": {
      "text/plain": "MLP(\n  (fc1): Linear(in_features=1119, out_features=50, bias=True)\n  (fc2): Linear(in_features=50, out_features=3, bias=True)\n)"
     },
     "execution_count": 104,
     "metadata": {},
     "output_type": "execute_result"
    },
    {
     "name": "stdout",
     "output_type": "stream",
     "text": [
      "Test accuracy: 84.61538461538461 %\n"
     ]
    },
    {
     "data": {
      "text/plain": "MLP(\n  (fc1): Linear(in_features=1119, out_features=50, bias=True)\n  (fc2): Linear(in_features=50, out_features=3, bias=True)\n)"
     },
     "execution_count": 104,
     "metadata": {},
     "output_type": "execute_result"
    },
    {
     "name": "stdout",
     "output_type": "stream",
     "text": [
      "Test accuracy: 84.61538461538461 %\n"
     ]
    },
    {
     "data": {
      "text/plain": "MLP(\n  (fc1): Linear(in_features=1119, out_features=50, bias=True)\n  (fc2): Linear(in_features=50, out_features=3, bias=True)\n)"
     },
     "execution_count": 104,
     "metadata": {},
     "output_type": "execute_result"
    },
    {
     "name": "stdout",
     "output_type": "stream",
     "text": [
      "Test accuracy: 84.61538461538461 %\n"
     ]
    },
    {
     "data": {
      "text/plain": "MLP(\n  (fc1): Linear(in_features=1119, out_features=50, bias=True)\n  (fc2): Linear(in_features=50, out_features=3, bias=True)\n)"
     },
     "execution_count": 104,
     "metadata": {},
     "output_type": "execute_result"
    },
    {
     "name": "stdout",
     "output_type": "stream",
     "text": [
      "Test accuracy: 84.61538461538461 %\n"
     ]
    },
    {
     "data": {
      "text/plain": "MLP(\n  (fc1): Linear(in_features=1119, out_features=50, bias=True)\n  (fc2): Linear(in_features=50, out_features=3, bias=True)\n)"
     },
     "execution_count": 104,
     "metadata": {},
     "output_type": "execute_result"
    },
    {
     "name": "stdout",
     "output_type": "stream",
     "text": [
      "Test accuracy: 84.61538461538461 %\n"
     ]
    },
    {
     "data": {
      "text/plain": "MLP(\n  (fc1): Linear(in_features=1119, out_features=50, bias=True)\n  (fc2): Linear(in_features=50, out_features=3, bias=True)\n)"
     },
     "execution_count": 104,
     "metadata": {},
     "output_type": "execute_result"
    },
    {
     "name": "stdout",
     "output_type": "stream",
     "text": [
      "Test accuracy: 84.61538461538461 %\n"
     ]
    },
    {
     "data": {
      "text/plain": "MLP(\n  (fc1): Linear(in_features=1119, out_features=50, bias=True)\n  (fc2): Linear(in_features=50, out_features=3, bias=True)\n)"
     },
     "execution_count": 104,
     "metadata": {},
     "output_type": "execute_result"
    },
    {
     "name": "stdout",
     "output_type": "stream",
     "text": [
      "Test accuracy: 84.61538461538461 %\n"
     ]
    },
    {
     "data": {
      "text/plain": "MLP(\n  (fc1): Linear(in_features=1119, out_features=50, bias=True)\n  (fc2): Linear(in_features=50, out_features=3, bias=True)\n)"
     },
     "execution_count": 104,
     "metadata": {},
     "output_type": "execute_result"
    },
    {
     "name": "stdout",
     "output_type": "stream",
     "text": [
      "Test accuracy: 84.61538461538461 %\n"
     ]
    },
    {
     "data": {
      "text/plain": "MLP(\n  (fc1): Linear(in_features=1119, out_features=50, bias=True)\n  (fc2): Linear(in_features=50, out_features=3, bias=True)\n)"
     },
     "execution_count": 104,
     "metadata": {},
     "output_type": "execute_result"
    },
    {
     "name": "stdout",
     "output_type": "stream",
     "text": [
      "Test accuracy: 84.61538461538461 %\n"
     ]
    },
    {
     "data": {
      "text/plain": "MLP(\n  (fc1): Linear(in_features=1119, out_features=50, bias=True)\n  (fc2): Linear(in_features=50, out_features=3, bias=True)\n)"
     },
     "execution_count": 104,
     "metadata": {},
     "output_type": "execute_result"
    },
    {
     "name": "stdout",
     "output_type": "stream",
     "text": [
      "Test accuracy: 84.61538461538461 %\n"
     ]
    },
    {
     "data": {
      "text/plain": "MLP(\n  (fc1): Linear(in_features=1119, out_features=50, bias=True)\n  (fc2): Linear(in_features=50, out_features=3, bias=True)\n)"
     },
     "execution_count": 104,
     "metadata": {},
     "output_type": "execute_result"
    },
    {
     "name": "stdout",
     "output_type": "stream",
     "text": [
      "Test accuracy: 84.61538461538461 %\n"
     ]
    },
    {
     "data": {
      "text/plain": "MLP(\n  (fc1): Linear(in_features=1119, out_features=50, bias=True)\n  (fc2): Linear(in_features=50, out_features=3, bias=True)\n)"
     },
     "execution_count": 104,
     "metadata": {},
     "output_type": "execute_result"
    },
    {
     "name": "stdout",
     "output_type": "stream",
     "text": [
      "Test accuracy: 84.61538461538461 %\n"
     ]
    },
    {
     "data": {
      "text/plain": "MLP(\n  (fc1): Linear(in_features=1119, out_features=50, bias=True)\n  (fc2): Linear(in_features=50, out_features=3, bias=True)\n)"
     },
     "execution_count": 104,
     "metadata": {},
     "output_type": "execute_result"
    },
    {
     "name": "stdout",
     "output_type": "stream",
     "text": [
      "Test accuracy: 84.61538461538461 %\n"
     ]
    },
    {
     "data": {
      "text/plain": "MLP(\n  (fc1): Linear(in_features=1119, out_features=50, bias=True)\n  (fc2): Linear(in_features=50, out_features=3, bias=True)\n)"
     },
     "execution_count": 104,
     "metadata": {},
     "output_type": "execute_result"
    },
    {
     "name": "stdout",
     "output_type": "stream",
     "text": [
      "Test accuracy: 84.61538461538461 %\n"
     ]
    },
    {
     "data": {
      "text/plain": "MLP(\n  (fc1): Linear(in_features=1119, out_features=50, bias=True)\n  (fc2): Linear(in_features=50, out_features=3, bias=True)\n)"
     },
     "execution_count": 104,
     "metadata": {},
     "output_type": "execute_result"
    },
    {
     "name": "stdout",
     "output_type": "stream",
     "text": [
      "Test accuracy: 84.61538461538461 %\n"
     ]
    },
    {
     "data": {
      "text/plain": "MLP(\n  (fc1): Linear(in_features=1119, out_features=50, bias=True)\n  (fc2): Linear(in_features=50, out_features=3, bias=True)\n)"
     },
     "execution_count": 104,
     "metadata": {},
     "output_type": "execute_result"
    },
    {
     "name": "stdout",
     "output_type": "stream",
     "text": [
      "Test accuracy: 84.61538461538461 %\n"
     ]
    },
    {
     "data": {
      "text/plain": "MLP(\n  (fc1): Linear(in_features=1119, out_features=50, bias=True)\n  (fc2): Linear(in_features=50, out_features=3, bias=True)\n)"
     },
     "execution_count": 104,
     "metadata": {},
     "output_type": "execute_result"
    },
    {
     "name": "stdout",
     "output_type": "stream",
     "text": [
      "Test accuracy: 84.61538461538461 %\n"
     ]
    },
    {
     "data": {
      "text/plain": "MLP(\n  (fc1): Linear(in_features=1119, out_features=50, bias=True)\n  (fc2): Linear(in_features=50, out_features=3, bias=True)\n)"
     },
     "execution_count": 104,
     "metadata": {},
     "output_type": "execute_result"
    },
    {
     "name": "stdout",
     "output_type": "stream",
     "text": [
      "Test accuracy: 84.61538461538461 %\n"
     ]
    },
    {
     "data": {
      "text/plain": "MLP(\n  (fc1): Linear(in_features=1119, out_features=50, bias=True)\n  (fc2): Linear(in_features=50, out_features=3, bias=True)\n)"
     },
     "execution_count": 104,
     "metadata": {},
     "output_type": "execute_result"
    },
    {
     "name": "stdout",
     "output_type": "stream",
     "text": [
      "Test accuracy: 84.61538461538461 %\n"
     ]
    },
    {
     "data": {
      "text/plain": "MLP(\n  (fc1): Linear(in_features=1119, out_features=50, bias=True)\n  (fc2): Linear(in_features=50, out_features=3, bias=True)\n)"
     },
     "execution_count": 104,
     "metadata": {},
     "output_type": "execute_result"
    },
    {
     "name": "stdout",
     "output_type": "stream",
     "text": [
      "Test accuracy: 84.61538461538461 %\n"
     ]
    },
    {
     "data": {
      "text/plain": "MLP(\n  (fc1): Linear(in_features=1119, out_features=50, bias=True)\n  (fc2): Linear(in_features=50, out_features=3, bias=True)\n)"
     },
     "execution_count": 104,
     "metadata": {},
     "output_type": "execute_result"
    },
    {
     "name": "stdout",
     "output_type": "stream",
     "text": [
      "Test accuracy: 84.61538461538461 %\n"
     ]
    },
    {
     "data": {
      "text/plain": "MLP(\n  (fc1): Linear(in_features=1119, out_features=50, bias=True)\n  (fc2): Linear(in_features=50, out_features=3, bias=True)\n)"
     },
     "execution_count": 104,
     "metadata": {},
     "output_type": "execute_result"
    },
    {
     "name": "stdout",
     "output_type": "stream",
     "text": [
      "Test accuracy: 84.61538461538461 %\n"
     ]
    },
    {
     "data": {
      "text/plain": "MLP(\n  (fc1): Linear(in_features=1119, out_features=50, bias=True)\n  (fc2): Linear(in_features=50, out_features=3, bias=True)\n)"
     },
     "execution_count": 104,
     "metadata": {},
     "output_type": "execute_result"
    },
    {
     "name": "stdout",
     "output_type": "stream",
     "text": [
      "Test accuracy: 84.61538461538461 %\n"
     ]
    },
    {
     "data": {
      "text/plain": "MLP(\n  (fc1): Linear(in_features=1119, out_features=50, bias=True)\n  (fc2): Linear(in_features=50, out_features=3, bias=True)\n)"
     },
     "execution_count": 104,
     "metadata": {},
     "output_type": "execute_result"
    },
    {
     "name": "stdout",
     "output_type": "stream",
     "text": [
      "Test accuracy: 84.61538461538461 %\n"
     ]
    },
    {
     "data": {
      "text/plain": "MLP(\n  (fc1): Linear(in_features=1119, out_features=50, bias=True)\n  (fc2): Linear(in_features=50, out_features=3, bias=True)\n)"
     },
     "execution_count": 104,
     "metadata": {},
     "output_type": "execute_result"
    },
    {
     "name": "stdout",
     "output_type": "stream",
     "text": [
      "Test accuracy: 84.61538461538461 %\n"
     ]
    },
    {
     "data": {
      "text/plain": "MLP(\n  (fc1): Linear(in_features=1119, out_features=50, bias=True)\n  (fc2): Linear(in_features=50, out_features=3, bias=True)\n)"
     },
     "execution_count": 104,
     "metadata": {},
     "output_type": "execute_result"
    },
    {
     "name": "stdout",
     "output_type": "stream",
     "text": [
      "Test accuracy: 84.61538461538461 %\n"
     ]
    },
    {
     "data": {
      "text/plain": "MLP(\n  (fc1): Linear(in_features=1119, out_features=50, bias=True)\n  (fc2): Linear(in_features=50, out_features=3, bias=True)\n)"
     },
     "execution_count": 104,
     "metadata": {},
     "output_type": "execute_result"
    },
    {
     "name": "stdout",
     "output_type": "stream",
     "text": [
      "Test accuracy: 84.61538461538461 %\n"
     ]
    },
    {
     "data": {
      "text/plain": "MLP(\n  (fc1): Linear(in_features=1119, out_features=50, bias=True)\n  (fc2): Linear(in_features=50, out_features=3, bias=True)\n)"
     },
     "execution_count": 104,
     "metadata": {},
     "output_type": "execute_result"
    },
    {
     "name": "stdout",
     "output_type": "stream",
     "text": [
      "Test accuracy: 84.61538461538461 %\n"
     ]
    },
    {
     "data": {
      "text/plain": "MLP(\n  (fc1): Linear(in_features=1119, out_features=50, bias=True)\n  (fc2): Linear(in_features=50, out_features=3, bias=True)\n)"
     },
     "execution_count": 104,
     "metadata": {},
     "output_type": "execute_result"
    },
    {
     "name": "stdout",
     "output_type": "stream",
     "text": [
      "Test accuracy: 84.61538461538461 %\n"
     ]
    },
    {
     "data": {
      "text/plain": "MLP(\n  (fc1): Linear(in_features=1119, out_features=50, bias=True)\n  (fc2): Linear(in_features=50, out_features=3, bias=True)\n)"
     },
     "execution_count": 104,
     "metadata": {},
     "output_type": "execute_result"
    },
    {
     "name": "stdout",
     "output_type": "stream",
     "text": [
      "Test accuracy: 84.61538461538461 %\n"
     ]
    },
    {
     "data": {
      "text/plain": "MLP(\n  (fc1): Linear(in_features=1119, out_features=50, bias=True)\n  (fc2): Linear(in_features=50, out_features=3, bias=True)\n)"
     },
     "execution_count": 104,
     "metadata": {},
     "output_type": "execute_result"
    },
    {
     "name": "stdout",
     "output_type": "stream",
     "text": [
      "Test accuracy: 84.61538461538461 %\n"
     ]
    },
    {
     "data": {
      "text/plain": "MLP(\n  (fc1): Linear(in_features=1119, out_features=50, bias=True)\n  (fc2): Linear(in_features=50, out_features=3, bias=True)\n)"
     },
     "execution_count": 104,
     "metadata": {},
     "output_type": "execute_result"
    },
    {
     "name": "stdout",
     "output_type": "stream",
     "text": [
      "Test accuracy: 84.61538461538461 %\n"
     ]
    },
    {
     "data": {
      "text/plain": "MLP(\n  (fc1): Linear(in_features=1119, out_features=50, bias=True)\n  (fc2): Linear(in_features=50, out_features=3, bias=True)\n)"
     },
     "execution_count": 104,
     "metadata": {},
     "output_type": "execute_result"
    },
    {
     "name": "stdout",
     "output_type": "stream",
     "text": [
      "Test accuracy: 84.61538461538461 %\n"
     ]
    },
    {
     "data": {
      "text/plain": "MLP(\n  (fc1): Linear(in_features=1119, out_features=50, bias=True)\n  (fc2): Linear(in_features=50, out_features=3, bias=True)\n)"
     },
     "execution_count": 104,
     "metadata": {},
     "output_type": "execute_result"
    },
    {
     "name": "stdout",
     "output_type": "stream",
     "text": [
      "Test accuracy: 84.61538461538461 %\n"
     ]
    }
   ],
   "source": [
    "# Loss and optimizer\n",
    "criterion = nn.CrossEntropyLoss()  # For regression tasks, use MSE. For classification, use CrossEntropyLoss\n",
    "optimizer = torch.optim.Adam(model.parameters(), lr=0.001)\n",
    "\n",
    "# Training loop\n",
    "epochs = 100  # Example, adjust as needed\n",
    "for epoch in range(epochs):\n",
    "    for inputs, labels in train_loader:\n",
    "        # Forward pass\n",
    "        outputs = model(inputs)\n",
    "        loss = criterion(outputs, labels)\n",
    "\n",
    "        # Backward and optimize\n",
    "        optimizer.zero_grad()\n",
    "        loss.backward()\n",
    "        optimizer.step()\n",
    "        \n",
    "        # # Print loss for every epoch\n",
    "        # print(f'Epoch [{epoch+1}/{epochs}], Loss: {loss.item():.4f}')\n",
    "        # # print accuracy for every epoch\n",
    "        # _, predicted = torch.max(outputs.data, 1)\n",
    "        # print('Accuracy: %.2f %%' % (100 * torch.sum(labels==predicted) / len(labels)))\n",
    "\n",
    "    # Evaluate the model\n",
    "    model.eval()\n",
    "    with torch.no_grad():\n",
    "        correct = 0\n",
    "        total = 0\n",
    "        for inputs, labels in test_loader:\n",
    "            outputs = model(inputs)\n",
    "            # ... add evaluation metrics relevant to your task\n",
    "            # evaluate accuracy\n",
    "            predicted = torch.argmax(outputs, axis=1)\n",
    "            correct += (predicted == labels).sum().item()\n",
    "            total += labels.size(0)\n",
    "        print('Test accuracy: {} %'.format(100 * correct / total))\n"
   ],
   "metadata": {
    "collapsed": false,
    "ExecuteTime": {
     "end_time": "2023-11-28T22:43:27.605648Z",
     "start_time": "2023-11-28T22:43:27.043074Z"
    }
   },
   "id": "c96e1691438654cc"
  },
  {
   "cell_type": "code",
   "execution_count": 94,
   "outputs": [
    {
     "data": {
      "text/plain": "MLP(\n  (fc1): Linear(in_features=1119, out_features=50, bias=True)\n  (fc2): Linear(in_features=50, out_features=3, bias=True)\n)"
     },
     "execution_count": 94,
     "metadata": {},
     "output_type": "execute_result"
    },
    {
     "name": "stdout",
     "output_type": "stream",
     "text": [
      "Test accuracy: 34.61538461538461 %\n"
     ]
    }
   ],
   "source": [],
   "metadata": {
    "collapsed": false,
    "ExecuteTime": {
     "end_time": "2023-11-28T22:37:46.582677Z",
     "start_time": "2023-11-28T22:37:46.576909Z"
    }
   },
   "id": "d4876d78a4914f3a"
  },
  {
   "cell_type": "code",
   "execution_count": 88,
   "outputs": [],
   "source": [],
   "metadata": {
    "collapsed": false,
    "ExecuteTime": {
     "end_time": "2023-11-28T22:37:27.633587Z",
     "start_time": "2023-11-28T22:37:27.628661Z"
    }
   },
   "id": "bea30f5bf08a9a0d"
  },
  {
   "cell_type": "code",
   "execution_count": null,
   "outputs": [],
   "source": [],
   "metadata": {
    "collapsed": false,
    "ExecuteTime": {
     "start_time": "2023-11-28T22:35:46.094447Z"
    }
   },
   "id": "2fa12f6920f26604"
  }
 ],
 "metadata": {
  "kernelspec": {
   "display_name": "Python 3",
   "language": "python",
   "name": "python3"
  },
  "language_info": {
   "codemirror_mode": {
    "name": "ipython",
    "version": 2
   },
   "file_extension": ".py",
   "mimetype": "text/x-python",
   "name": "python",
   "nbconvert_exporter": "python",
   "pygments_lexer": "ipython2",
   "version": "2.7.6"
  }
 },
 "nbformat": 4,
 "nbformat_minor": 5
}

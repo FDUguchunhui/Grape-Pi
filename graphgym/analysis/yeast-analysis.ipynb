{
 "cells": [
  {
   "cell_type": "code",
   "execution_count": 171,
   "metadata": {
    "collapsed": true,
    "pycharm": {
     "name": "#%%\n"
    }
   },
   "outputs": [],
   "source": [
    "from IPython.core.interactiveshell import InteractiveShell\n",
    "InteractiveShell.ast_node_interactivity = \"all\"\n",
    "import pandas as pd\n",
    "import numpy as np\n",
    "from functools import reduce"
   ]
  },
  {
   "cell_type": "code",
   "execution_count": 172,
   "outputs": [
    {
     "name": "stdout",
     "output_type": "stream",
     "text": [
      "{\n",
      "  \"shell_port\": 57966,\n",
      "  \"iopub_port\": 57967,\n",
      "  \"stdin_port\": 57968,\n",
      "  \"control_port\": 57970,\n",
      "  \"hb_port\": 57969,\n",
      "  \"ip\": \"127.0.0.1\",\n",
      "  \"key\": \"1a90cb15-87bd8bf4a1fa2295d26ba593\",\n",
      "  \"transport\": \"tcp\",\n",
      "  \"signature_scheme\": \"hmac-sha256\",\n",
      "  \"kernel_name\": \"\"\n",
      "}\n",
      "\n",
      "Paste the above JSON into a file, and connect with:\n",
      "    $> jupyter <app> --existing <file>\n",
      "or, if you are local, you can connect with just:\n",
      "    $> jupyter <app> --existing kernel-9e42a008-5430-4096-8c2c-ff77f1e09a61.json\n",
      "or even just:\n",
      "    $> jupyter <app> --existing\n",
      "if this is the most recent Jupyter kernel you have started.\n"
     ]
    }
   ],
   "source": [
    "%connect_info\n",
    "%qtconsole\n"
   ],
   "metadata": {
    "collapsed": false,
    "pycharm": {
     "name": "#%%\n"
    }
   }
  },
  {
   "cell_type": "code",
   "execution_count": 173,
   "outputs": [
    {
     "data": {
      "text/plain": "'/Users/cgu3/Library/CloudStorage/OneDrive-InsideMDAnderson/untitled folder/pytorch_geometric/graphgym/analysis'"
     },
     "execution_count": 173,
     "metadata": {},
     "output_type": "execute_result"
    }
   ],
   "source": [
    "pwd"
   ],
   "metadata": {
    "collapsed": false,
    "pycharm": {
     "name": "#%%\n"
    }
   }
  },
  {
   "cell_type": "code",
   "execution_count": 174,
   "outputs": [],
   "source": [
    "gs1 = pd.read_csv('../data/yeast/raw/reference/goldstandard1.txt', header=None, index_col=False, names=['protein'])\n",
    "gs2 = pd.read_csv('../data/yeast/raw/reference/goldstandard2.txt', header=None, index_col=False, names=['protein'])\n",
    "gs3 = pd.read_csv('../data/yeast/raw/reference/goldstandard3.txt', header=None, index_col=False, names=['protein'])\n",
    "gs4 = pd.read_csv('../data/yeast/raw/reference/goldstandard4.txt', header=None, index_col=False, names=['protein'])\n",
    "all = pd.read_csv('../data/yeast/raw/reference/yeast_all.lst.txt', header=None, index_col=False, names=['protein'])"
   ],
   "metadata": {
    "collapsed": false,
    "pycharm": {
     "name": "#%%\n"
    }
   }
  },
  {
   "cell_type": "code",
   "execution_count": 175,
   "outputs": [],
   "source": [
    "gs1['detected'] = 1\n",
    "gs2['detected'] = 1\n",
    "gs3['detected'] = 1\n",
    "gs4['detected'] = 1"
   ],
   "metadata": {
    "collapsed": false,
    "pycharm": {
     "name": "#%%\n"
    }
   }
  },
  {
   "cell_type": "code",
   "execution_count": 176,
   "outputs": [
    {
     "data": {
      "text/plain": "      protein  detected\n0       Q0250         1\n1     YAL003W         1\n2     YAL005C         1\n3     YAL012W         1\n4     YAL015C         1\n...       ...       ...\n1998  YPR184W         1\n1999  YPR187W         1\n2000  YPR189W         1\n2001  YPR190C         1\n2002  YPR191W         1\n\n[2003 rows x 2 columns]",
      "text/html": "<div>\n<style scoped>\n    .dataframe tbody tr th:only-of-type {\n        vertical-align: middle;\n    }\n\n    .dataframe tbody tr th {\n        vertical-align: top;\n    }\n\n    .dataframe thead th {\n        text-align: right;\n    }\n</style>\n<table border=\"1\" class=\"dataframe\">\n  <thead>\n    <tr style=\"text-align: right;\">\n      <th></th>\n      <th>protein</th>\n      <th>detected</th>\n    </tr>\n  </thead>\n  <tbody>\n    <tr>\n      <th>0</th>\n      <td>Q0250</td>\n      <td>1</td>\n    </tr>\n    <tr>\n      <th>1</th>\n      <td>YAL003W</td>\n      <td>1</td>\n    </tr>\n    <tr>\n      <th>2</th>\n      <td>YAL005C</td>\n      <td>1</td>\n    </tr>\n    <tr>\n      <th>3</th>\n      <td>YAL012W</td>\n      <td>1</td>\n    </tr>\n    <tr>\n      <th>4</th>\n      <td>YAL015C</td>\n      <td>1</td>\n    </tr>\n    <tr>\n      <th>...</th>\n      <td>...</td>\n      <td>...</td>\n    </tr>\n    <tr>\n      <th>1998</th>\n      <td>YPR184W</td>\n      <td>1</td>\n    </tr>\n    <tr>\n      <th>1999</th>\n      <td>YPR187W</td>\n      <td>1</td>\n    </tr>\n    <tr>\n      <th>2000</th>\n      <td>YPR189W</td>\n      <td>1</td>\n    </tr>\n    <tr>\n      <th>2001</th>\n      <td>YPR190C</td>\n      <td>1</td>\n    </tr>\n    <tr>\n      <th>2002</th>\n      <td>YPR191W</td>\n      <td>1</td>\n    </tr>\n  </tbody>\n</table>\n<p>2003 rows × 2 columns</p>\n</div>"
     },
     "execution_count": 176,
     "metadata": {},
     "output_type": "execute_result"
    }
   ],
   "source": [
    "gs1"
   ],
   "metadata": {
    "collapsed": false,
    "pycharm": {
     "name": "#%%\n"
    }
   }
  },
  {
   "cell_type": "code",
   "execution_count": 177,
   "outputs": [],
   "source": [
    "data_frames = [gs1, gs2, gs3, gs4]\n"
   ],
   "metadata": {
    "collapsed": false,
    "pycharm": {
     "name": "#%%\n"
    }
   }
  },
  {
   "cell_type": "code",
   "execution_count": 178,
   "outputs": [
    {
     "name": "stderr",
     "output_type": "stream",
     "text": [
      "/var/folders/xs/_jggb8_n03q3bxbybznls2w1q5_5xx/T/ipykernel_57272/1543971361.py:1: FutureWarning: Passing 'suffixes' which cause duplicate columns {'detected_x'} in the result is deprecated and will raise a MergeError in a future version.\n",
      "  df_merged = reduce(lambda  left,right: pd.merge(left,right,on=['protein'],\n"
     ]
    }
   ],
   "source": [
    "df_merged = reduce(lambda  left,right: pd.merge(left,right,on=['protein'],\n",
    "                                            how='outer'), data_frames).fillna(0)"
   ],
   "metadata": {
    "collapsed": false,
    "pycharm": {
     "name": "#%%\n"
    }
   }
  },
  {
   "cell_type": "code",
   "execution_count": 179,
   "outputs": [],
   "source": [
    "df_merged.columns = ['protein', 'gs1', 'gs2', 'gs3', 'gs4']"
   ],
   "metadata": {
    "collapsed": false,
    "pycharm": {
     "name": "#%%\n"
    }
   }
  },
  {
   "cell_type": "code",
   "execution_count": 180,
   "outputs": [],
   "source": [
    "\n",
    "df_merged = df_merged.set_index('protein')"
   ],
   "metadata": {
    "collapsed": false,
    "pycharm": {
     "name": "#%%\n"
    }
   }
  },
  {
   "cell_type": "code",
   "execution_count": 181,
   "outputs": [],
   "source": [
    "positive_protein = df_merged[df_merged.sum(axis=1) >= 2].index.to_series()"
   ],
   "metadata": {
    "collapsed": false,
    "pycharm": {
     "name": "#%%\n"
    }
   }
  },
  {
   "cell_type": "code",
   "execution_count": 182,
   "outputs": [
    {
     "data": {
      "text/plain": "Empty DataFrame\nColumns: [gs1, gs2, gs3, gs4]\nIndex: []",
      "text/html": "<div>\n<style scoped>\n    .dataframe tbody tr th:only-of-type {\n        vertical-align: middle;\n    }\n\n    .dataframe tbody tr th {\n        vertical-align: top;\n    }\n\n    .dataframe thead th {\n        text-align: right;\n    }\n</style>\n<table border=\"1\" class=\"dataframe\">\n  <thead>\n    <tr style=\"text-align: right;\">\n      <th></th>\n      <th>gs1</th>\n      <th>gs2</th>\n      <th>gs3</th>\n      <th>gs4</th>\n    </tr>\n    <tr>\n      <th>protein</th>\n      <th></th>\n      <th></th>\n      <th></th>\n      <th></th>\n    </tr>\n  </thead>\n  <tbody>\n  </tbody>\n</table>\n</div>"
     },
     "execution_count": 182,
     "metadata": {},
     "output_type": "execute_result"
    }
   ],
   "source": [
    "df_merged[df_merged.sum(axis=1) == 0]"
   ],
   "metadata": {
    "collapsed": false,
    "pycharm": {
     "name": "#%%\n"
    }
   }
  },
  {
   "cell_type": "code",
   "execution_count": 183,
   "outputs": [],
   "source": [
    "protein_with_evidence = df_merged.index.to_series()"
   ],
   "metadata": {
    "collapsed": false,
    "pycharm": {
     "name": "#%%\n"
    }
   }
  },
  {
   "cell_type": "code",
   "execution_count": 184,
   "outputs": [],
   "source": [
    "all_protein = all.iloc[:, 0]"
   ],
   "metadata": {
    "collapsed": false,
    "pycharm": {
     "name": "#%%\n"
    }
   }
  },
  {
   "cell_type": "code",
   "execution_count": 185,
   "outputs": [],
   "source": [
    "negative_protein = all_protein[~all_protein.isin(protein_with_evidence)]"
   ],
   "metadata": {
    "collapsed": false,
    "pycharm": {
     "name": "#%%\n"
    }
   }
  },
  {
   "cell_type": "code",
   "execution_count": 206,
   "outputs": [
    {
     "data": {
      "text/plain": "entry no.                         object\nprotein                           object\nprotein probability              float64\nprotein description               object\nprotein length                     int64\npercent coverage                 float64\ntot indep spectra                  int64\npercent share of spectrum ids    float64\npeptides                          object\ndtype: object"
     },
     "execution_count": 206,
     "metadata": {},
     "output_type": "execute_result"
    },
    {
     "data": {
      "text/plain": "  entry no.   protein  protein probability  \\\n0         1  YAL003W                   1.0   \n1         2  YAL005C                   1.0   \n2         3  YAL012W                   1.0   \n3         4  YAL016W                   1.0   \n4         5  YAL021C                   1.0   \n\n                                 protein description  protein length  \\\n0  EFB1 SGDID:S000000003,'Translation elongation ...               0   \n1  SSA1 SGDID:S000000004,'ATPase involved in prot...               0   \n2  CYS3 SGDID:S000000010,'Cystathionine gamma-lya...               0   \n3  TPD3 SGDID:S000000014,'Regulatory subunit A of...               0   \n4  CCR4 SGDID:S000000019,'Component of the CCR4-N...               0   \n\n   percent coverage  tot indep spectra  percent share of spectrum ids  \\\n0              42.7                312                          0.425   \n1              54.5                838                          0.797   \n2              36.5                235                          0.321   \n3              13.9                 17                          0.021   \n4               5.7                  8                          0.007   \n\n                                            peptides  \n0  AFQSAYPEFSR+AIEMEGLTWGAHQFIPIGFGIK+IETLKQLNASL...  \n1  AEETISWLDSNTTASKEEFDDKLK+ARFEELCADLFR+ATAGDTHL...  \n2  AIHAGEHVDVHGSVIEPISLSTTFK+DALGGGMISFR+EASGVFDD...  \n3  DSDSNESLYPLALLMDELK+FLNDPSIILNK+ILPAVQNLSMDESE...  \n4  DAMDFSGAWMKHKK+FIGFPNDKFPSDHIPLLAR+LSQYSIDEDDD...  ",
      "text/html": "<div>\n<style scoped>\n    .dataframe tbody tr th:only-of-type {\n        vertical-align: middle;\n    }\n\n    .dataframe tbody tr th {\n        vertical-align: top;\n    }\n\n    .dataframe thead th {\n        text-align: right;\n    }\n</style>\n<table border=\"1\" class=\"dataframe\">\n  <thead>\n    <tr style=\"text-align: right;\">\n      <th></th>\n      <th>entry no.</th>\n      <th>protein</th>\n      <th>protein probability</th>\n      <th>protein description</th>\n      <th>protein length</th>\n      <th>percent coverage</th>\n      <th>tot indep spectra</th>\n      <th>percent share of spectrum ids</th>\n      <th>peptides</th>\n    </tr>\n  </thead>\n  <tbody>\n    <tr>\n      <th>0</th>\n      <td>1</td>\n      <td>YAL003W</td>\n      <td>1.0</td>\n      <td>EFB1 SGDID:S000000003,'Translation elongation ...</td>\n      <td>0</td>\n      <td>42.7</td>\n      <td>312</td>\n      <td>0.425</td>\n      <td>AFQSAYPEFSR+AIEMEGLTWGAHQFIPIGFGIK+IETLKQLNASL...</td>\n    </tr>\n    <tr>\n      <th>1</th>\n      <td>2</td>\n      <td>YAL005C</td>\n      <td>1.0</td>\n      <td>SSA1 SGDID:S000000004,'ATPase involved in prot...</td>\n      <td>0</td>\n      <td>54.5</td>\n      <td>838</td>\n      <td>0.797</td>\n      <td>AEETISWLDSNTTASKEEFDDKLK+ARFEELCADLFR+ATAGDTHL...</td>\n    </tr>\n    <tr>\n      <th>2</th>\n      <td>3</td>\n      <td>YAL012W</td>\n      <td>1.0</td>\n      <td>CYS3 SGDID:S000000010,'Cystathionine gamma-lya...</td>\n      <td>0</td>\n      <td>36.5</td>\n      <td>235</td>\n      <td>0.321</td>\n      <td>AIHAGEHVDVHGSVIEPISLSTTFK+DALGGGMISFR+EASGVFDD...</td>\n    </tr>\n    <tr>\n      <th>3</th>\n      <td>4</td>\n      <td>YAL016W</td>\n      <td>1.0</td>\n      <td>TPD3 SGDID:S000000014,'Regulatory subunit A of...</td>\n      <td>0</td>\n      <td>13.9</td>\n      <td>17</td>\n      <td>0.021</td>\n      <td>DSDSNESLYPLALLMDELK+FLNDPSIILNK+ILPAVQNLSMDESE...</td>\n    </tr>\n    <tr>\n      <th>4</th>\n      <td>5</td>\n      <td>YAL021C</td>\n      <td>1.0</td>\n      <td>CCR4 SGDID:S000000019,'Component of the CCR4-N...</td>\n      <td>0</td>\n      <td>5.7</td>\n      <td>8</td>\n      <td>0.007</td>\n      <td>DAMDFSGAWMKHKK+FIGFPNDKFPSDHIPLLAR+LSQYSIDEDDD...</td>\n    </tr>\n  </tbody>\n</table>\n</div>"
     },
     "execution_count": 206,
     "metadata": {},
     "output_type": "execute_result"
    }
   ],
   "source": [
    "protein_MS = pd.read_csv('../data/yeast/raw/protein/yeast_rich_medium.csv')\n",
    "protein_MS.dtypes\n",
    "protein_MS.head()\n",
    "protein_MS['protein'] = protein_MS['protein'].str.strip()"
   ],
   "metadata": {
    "collapsed": false,
    "pycharm": {
     "name": "#%%\n"
    }
   }
  },
  {
   "cell_type": "code",
   "execution_count": 210,
   "outputs": [],
   "source": [
    "protein_MS['y'] = 3\n",
    "protein_MS.loc[protein_MS['protein'].isin(list(positive_protein)), 'y'] = 1\n",
    "protein_MS.loc[protein_MS['protein'].isin(list(negative_protein)), 'y'] = 0"
   ],
   "metadata": {
    "collapsed": false,
    "pycharm": {
     "name": "#%%\n"
    }
   }
  },
  {
   "cell_type": "code",
   "execution_count": 211,
   "outputs": [
    {
     "data": {
      "text/plain": "0       1\n1       1\n2       1\n3       1\n4       1\n       ..\n3848    0\n3849    0\n3850    0\n3851    1\n3852    0\nName: y, Length: 3853, dtype: int64"
     },
     "execution_count": 211,
     "metadata": {},
     "output_type": "execute_result"
    }
   ],
   "source": [
    "protein_MS['y']"
   ],
   "metadata": {
    "collapsed": false,
    "pycharm": {
     "name": "#%%\n"
    }
   }
  },
  {
   "cell_type": "code",
   "execution_count": 212,
   "outputs": [
    {
     "data": {
      "text/plain": "0    1463\n1    1413\n3     977\nName: y, dtype: int64"
     },
     "execution_count": 212,
     "metadata": {},
     "output_type": "execute_result"
    }
   ],
   "source": [
    "protein_MS['y'].value_counts()"
   ],
   "metadata": {
    "collapsed": false,
    "pycharm": {
     "name": "#%%\n"
    }
   }
  },
  {
   "cell_type": "code",
   "execution_count": null,
   "outputs": [],
   "source": [],
   "metadata": {
    "collapsed": false,
    "pycharm": {
     "name": "#%%\n"
    }
   }
  }
 ],
 "metadata": {
  "kernelspec": {
   "display_name": "Python 3",
   "language": "python",
   "name": "python3"
  },
  "language_info": {
   "codemirror_mode": {
    "name": "ipython",
    "version": 2
   },
   "file_extension": ".py",
   "mimetype": "text/x-python",
   "name": "python",
   "nbconvert_exporter": "python",
   "pygments_lexer": "ipython2",
   "version": "2.7.6"
  }
 },
 "nbformat": 4,
 "nbformat_minor": 0
}
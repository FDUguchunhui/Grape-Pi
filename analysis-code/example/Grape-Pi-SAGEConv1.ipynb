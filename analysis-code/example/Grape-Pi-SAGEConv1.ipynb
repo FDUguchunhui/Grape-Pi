{
 "cells": [
  {
   "cell_type": "code",
   "execution_count": 23,
   "outputs": [],
   "source": [
    "import os\n",
    "from graphgym.custom_graphgym.loader.protein import ProteinDataset"
   ],
   "metadata": {
    "collapsed": false,
    "ExecuteTime": {
     "end_time": "2023-10-12T03:04:44.809982Z",
     "start_time": "2023-10-12T03:04:44.648645Z"
    }
   },
   "id": "9a55c6dd18f6790a"
  },
  {
   "cell_type": "code",
   "execution_count": 24,
   "outputs": [],
   "source": [
    "os.chdir('/Users/cgu3/Documents/Grape-Pi')"
   ],
   "metadata": {
    "collapsed": false,
    "ExecuteTime": {
     "end_time": "2023-10-12T03:04:44.812087Z",
     "start_time": "2023-10-12T03:04:44.659530Z"
    }
   },
   "id": "cc1b48002b7c6fda"
  },
  {
   "cell_type": "code",
   "execution_count": 25,
   "id": "initial_id",
   "metadata": {
    "collapsed": true,
    "ExecuteTime": {
     "end_time": "2023-10-12T03:04:53.857345Z",
     "start_time": "2023-10-12T03:04:44.669771Z"
    }
   },
   "outputs": [
    {
     "name": "stderr",
     "output_type": "stream",
     "text": [
      "Rebuilding...\n",
      "Done!\n"
     ]
    }
   ],
   "source": [
    "dataset = ProteinDataset(\"data/single\", numeric_columns=['protein_probability'], label_column='hard_label', rebuild=True)\n",
    "# dataset = ProteinDataset(\"data/yeast-ORBI\", numeric_columns=['protein_probability'], label_column=None, rebuild=True)\n",
    "# dataset = ProteinDataset(\"data/human-ORBI\", numeric_columns=['protein_probability'], label_column='label', rebuild=True)"
   ]
  },
  {
   "cell_type": "code",
   "execution_count": 25,
   "outputs": [],
   "source": [],
   "metadata": {
    "collapsed": false,
    "ExecuteTime": {
     "end_time": "2023-10-12T03:04:53.869646Z",
     "start_time": "2023-10-12T03:04:53.856608Z"
    }
   },
   "id": "5692021396f44e17"
  },
  {
   "cell_type": "code",
   "execution_count": 26,
   "outputs": [
    {
     "data": {
      "text/plain": "<Figure size 640x480 with 1 Axes>",
      "image/png": "[encoded data removed]"
     },
     "metadata": {},
     "output_type": "display_data"
    }
   ],
   "source": [
    "from matplotlib import pyplot as plt\n",
    "from torch_geometric.utils import  degree\n",
    "# plt.hist(degree(dataset.edge_index[0]), bins=100);"
   ],
   "metadata": {
    "collapsed": false,
    "ExecuteTime": {
     "end_time": "2023-10-12T03:04:54.364145Z",
     "start_time": "2023-10-12T03:04:53.867709Z"
    }
   },
   "id": "6786432e0527a665"
  },
  {
   "cell_type": "code",
   "execution_count": 27,
   "outputs": [
    {
     "data": {
      "text/plain": "<Figure size 640x480 with 1 Axes>",
      "image/png": "[encoded data removed]"
     },
     "metadata": {},
     "output_type": "display_data"
    }
   ],
   "source": [
    "plt.hist(dataset.x[:, 0], bins=100);"
   ],
   "metadata": {
    "collapsed": false,
    "ExecuteTime": {
     "end_time": "2023-10-12T03:04:54.732125Z",
     "start_time": "2023-10-12T03:04:54.369746Z"
    }
   },
   "id": "9513cfbaa7a86bd3"
  },
  {
   "cell_type": "code",
   "execution_count": 28,
   "outputs": [
    {
     "data": {
      "text/plain": "1"
     },
     "execution_count": 28,
     "metadata": {},
     "output_type": "execute_result"
    }
   ],
   "source": [
    "dataset.num_features\n",
    "# try implement this\n",
    "# dataset.num_nodes"
   ],
   "metadata": {
    "collapsed": false,
    "ExecuteTime": {
     "end_time": "2023-10-12T03:04:54.737447Z",
     "start_time": "2023-10-12T03:04:54.732018Z"
    }
   },
   "id": "c1b83e9b794ae4c9"
  },
  {
   "cell_type": "code",
   "execution_count": 29,
   "outputs": [],
   "source": [
    "import copy\n",
    "import os.path as osp\n",
    "import time\n",
    "\n",
    "import torch\n",
    "import torch.nn.functional as F\n",
    "from tqdm import tqdm\n",
    "\n",
    "from torch_geometric.loader import NeighborLoader\n",
    "from torch_geometric.nn import SAGEConv\n",
    "\n",
    "device = torch.device('cuda' if torch.cuda.is_available() else 'cpu')\n",
    "\n",
    "data = dataset[0].to(device, 'x', 'y', 'train_mask', 'val_mask', 'test_mask')"
   ],
   "metadata": {
    "collapsed": false,
    "ExecuteTime": {
     "end_time": "2023-10-12T03:04:54.749539Z",
     "start_time": "2023-10-12T03:04:54.740450Z"
    }
   },
   "id": "1d81189dc77095c9"
  },
  {
   "cell_type": "code",
   "execution_count": 30,
   "outputs": [],
   "source": [
    "import torchmetrics\n",
    "from torchmetrics.classification import BinaryAUROC, BinaryAccuracy, BinaryF1Score\n",
    "import numpy as np\n",
    "\n",
    "kwargs = {'batch_size': 256, 'num_workers': 4, 'persistent_workers': True}\n",
    "train_loader = NeighborLoader(data, input_nodes=data.train_mask,\n",
    "                              num_neighbors=[50], shuffle=True, **kwargs)\n",
    "\n",
    "subgraph_loader = NeighborLoader(copy.copy(data), input_nodes=None,\n",
    "                                 num_neighbors=[-1], shuffle=False, **kwargs)\n",
    "\n",
    "# No need to maintain these features during evaluation:\n",
    "del subgraph_loader.data.x, subgraph_loader.data.y\n",
    "# Add global node index information.\n",
    "subgraph_loader.data.num_nodes = data.num_nodes\n",
    "subgraph_loader.data.n_id = torch.arange(data.num_nodes)\n",
    "\n",
    "\n",
    "class SAGE(torch.nn.Module):\n",
    "    def __init__(self, in_channels, hidden_channels, out_channels):\n",
    "        super().__init__()\n",
    "        self.convs = torch.nn.ModuleList()\n",
    "        self.convs.append(SAGEConv(in_channels, hidden_channels))\n",
    "        self.convs.append(SAGEConv(hidden_channels, out_channels))\n",
    "        # self.lin1 = torch.nn.Linear(hidden_channels, out_channels)\n",
    "\n",
    "    def forward(self, x, edge_index):\n",
    "        for i, conv in enumerate(self.convs):\n",
    "            x = conv(x, edge_index)\n",
    "            if i < len(self.convs) - 1:\n",
    "                x = x.relu_()\n",
    "                # x = F.dropout(x, p=0.5, training=self.training)\n",
    "            # x = self.lin1(x)\n",
    "        return x\n",
    "\n",
    "    @torch.no_grad()\n",
    "    def inference(self, x_all, subgraph_loader):\n",
    "        pbar = tqdm(total=len(subgraph_loader.dataset) * len(self.convs))\n",
    "        pbar.set_description('Evaluating')\n",
    "\n",
    "        # Compute representations of nodes layer by layer, using *all*\n",
    "        # available edges. This leads to faster computation in contrast to\n",
    "        # immediately computing the final representations of each batch:\n",
    "        for i, conv in enumerate(self.convs):\n",
    "            xs = []\n",
    "            for batch in subgraph_loader:\n",
    "                x = x_all[batch.n_id.to(x_all.device)].to(device)\n",
    "                x = conv(x, batch.edge_index.to(device))\n",
    "                if i < len(self.convs) - 1:\n",
    "                    x = x.relu_()\n",
    "                # x = self.lin1(x)\n",
    "                xs.append(x[:batch.batch_size].cpu())\n",
    "                pbar.update(batch.batch_size)\n",
    "            x_all = torch.cat(xs, dim=0)\n",
    "        pbar.close()\n",
    "        return x_all\n",
    "\n",
    "\n",
    "model = SAGE(dataset.num_features, 10, 1).to(device)\n",
    "optimizer = torch.optim.Adam(model.parameters(), lr=0.005)\n",
    "\n",
    "def train(epoch):\n",
    "    model.train()\n",
    "\n",
    "    pbar = tqdm(total=int(len(train_loader.dataset)))\n",
    "    pbar.set_description(f'Epoch {epoch:02d}')\n",
    "\n",
    "    total_loss = total_correct = total_examples = 0\n",
    "    for batch in train_loader:\n",
    "        optimizer.zero_grad()\n",
    "        y = batch.y[:batch.batch_size]\n",
    "        y_hat = model(batch.x, batch.edge_index.to(device))[:batch.batch_size]\n",
    "        loss = F.binary_cross_entropy_with_logits(y_hat.squeeze(-1), y)\n",
    "        loss.backward()\n",
    "        optimizer.step()\n",
    "\n",
    "        # total_loss += float(loss) * batch.batch_size\n",
    "        # total_correct += int((y_hat.argmax(dim=-1) == y).sum())\n",
    "        total_examples += batch.batch_size\n",
    "        pbar.update(batch.batch_size)\n",
    "    pbar.close()\n",
    "\n",
    "    return total_loss / total_examples, total_correct / total_examples\n",
    "\n",
    "train_collection = torchmetrics.MetricCollection(\n",
    "    BinaryAccuracy(),\n",
    "    BinaryAUROC(),\n",
    "    BinaryF1Score()\n",
    ")\n",
    "\n",
    "val_collection = torchmetrics.MetricCollection(\n",
    "    BinaryAccuracy(),\n",
    "    BinaryAUROC(),\n",
    "    BinaryF1Score()\n",
    ")\n",
    "\n",
    "test_collection = torchmetrics.MetricCollection(\n",
    "    BinaryAccuracy(),\n",
    "    BinaryAUROC(),\n",
    "    BinaryF1Score()\n",
    ")\n",
    "\n",
    "train_tracker = torchmetrics.wrappers.MetricTracker(train_collection)\n",
    "val_tracker = torchmetrics.wrappers.MetricTracker(val_collection)\n",
    "test_tracker = torchmetrics.wrappers.MetricTracker(test_collection)\n",
    "    \n",
    "\n",
    "@torch.no_grad()\n",
    "def test():\n",
    "    model.eval()\n",
    "    logits = model.inference(data.x, subgraph_loader).squeeze(-1)\n",
    "    y_pred_prob = torch.nn.functional.sigmoid(logits)\n",
    "    # binary prediction\n",
    "    y_pred = torch.where(y_pred_prob > 0.5, 1, 0)\n",
    "    # create hard label only for confidence proteins\n",
    "    y_hard = torch.where(data.y > 0.99, 1, \n",
    "                         torch.where(data.y < 0.5, 0, -1))\n",
    "    binary_mask = (y_hard != -1).bool()\n",
    "    y_hard = y_hard.to(y_pred_prob.device)\n",
    "    y = data.y.to(y_pred_prob.device)\n",
    "\n",
    "\n",
    "    loss = []\n",
    "    train_tracker.update(y_pred_prob[data.train_mask], y_hard[data.train_mask])\n",
    "    val_tracker.update(y_pred_prob[data.val_mask], y_hard[data.val_mask])\n",
    "    test_tracker.update(y_pred_prob[data.test_mask], y_hard[data.test_mask])\n",
    "    \n",
    "    # for mask in [data.train_mask, data.val_mask, data.test_mask]:\n",
    "    #     mask = mask & binary_mask\n",
    "    #     tracker.update(y_pred_prob[mask], y_hard[mask])\n",
    "    #     loss.append(F.binary_cross_entropy_with_logits(logits[mask], y[mask]))\n",
    "    \n",
    "    return loss"
   ],
   "metadata": {
    "collapsed": false,
    "ExecuteTime": {
     "end_time": "2023-10-12T03:04:55.934114Z",
     "start_time": "2023-10-12T03:04:54.775131Z"
    }
   },
   "id": "ed6a72c0fcaf4ee"
  },
  {
   "cell_type": "code",
   "execution_count": 31,
   "outputs": [
    {
     "name": "stderr",
     "output_type": "stream",
     "text": [
      "Evaluating: 100%|██████████| 10503/10503 [00:05<00:00, 1844.10it/s]\n"
     ]
    },
    {
     "name": "stdout",
     "output_type": "stream",
     "text": [
      "Epoch: 01, Train Loss: 0.7679, Val Loss: 0.7665, Test Loss: 0.7683\n",
      "Epoch: 01, Train Acc: 0.2197, Val Acc: 0.2302, Test Acc: 0.2142\n",
      "Epoch: 01, Train AUC: 0.1527, Val AUC: 0.1676, Test AUC: 0.1414\n",
      "Epoch: 01, Train F1: 0.0000, Val F1: 0.0000, Test F1: 0.0000\n"
     ]
    },
    {
     "name": "stderr",
     "output_type": "stream",
     "text": [
      "Epoch 01: 100%|██████████| 8403/8403 [00:04<00:00, 1894.10it/s]\n"
     ]
    },
    {
     "name": "stdout",
     "output_type": "stream",
     "text": [
      "Epoch 01, Loss: 0.0000\n"
     ]
    },
    {
     "name": "stderr",
     "output_type": "stream",
     "text": [
      "Evaluating: 100%|██████████| 10503/10503 [00:00<00:00, 24846.95it/s]\n"
     ]
    },
    {
     "name": "stdout",
     "output_type": "stream",
     "text": [
      "Epoch: 02, Train Loss: 0.5929, Val Loss: 0.5953, Test Loss: 0.5922\n",
      "Epoch: 02, Train Acc: 0.7803, Val Acc: 0.7698, Test Acc: 0.7858\n",
      "Epoch: 02, Train AUC: 0.8471, Val AUC: 0.8324, Test AUC: 0.8594\n",
      "Epoch: 02, Train F1: 0.8766, Val F1: 0.8699, Test F1: 0.8801\n"
     ]
    },
    {
     "name": "stderr",
     "output_type": "stream",
     "text": [
      "Epoch 02: 100%|██████████| 8403/8403 [00:00<00:00, 34397.19it/s]\n"
     ]
    },
    {
     "name": "stdout",
     "output_type": "stream",
     "text": [
      "Epoch 02, Loss: 0.0000\n"
     ]
    },
    {
     "name": "stderr",
     "output_type": "stream",
     "text": [
      "Evaluating: 100%|██████████| 10503/10503 [00:00<00:00, 25079.92it/s]\n"
     ]
    },
    {
     "name": "stdout",
     "output_type": "stream",
     "text": [
      "Epoch: 03, Train Loss: 0.4947, Val Loss: 0.5012, Test Loss: 0.4929\n",
      "Epoch: 03, Train Acc: 0.7803, Val Acc: 0.7698, Test Acc: 0.7858\n",
      "Epoch: 03, Train AUC: 0.8471, Val AUC: 0.8325, Test AUC: 0.8593\n",
      "Epoch: 03, Train F1: 0.8766, Val F1: 0.8699, Test F1: 0.8801\n"
     ]
    },
    {
     "name": "stderr",
     "output_type": "stream",
     "text": [
      "Epoch 03: 100%|██████████| 8403/8403 [00:00<00:00, 35449.85it/s]\n"
     ]
    },
    {
     "name": "stdout",
     "output_type": "stream",
     "text": [
      "Epoch 03, Loss: 0.0000\n"
     ]
    },
    {
     "name": "stderr",
     "output_type": "stream",
     "text": [
      "Evaluating: 100%|██████████| 10503/10503 [00:00<00:00, 22388.16it/s]\n"
     ]
    },
    {
     "name": "stdout",
     "output_type": "stream",
     "text": [
      "Epoch: 04, Train Loss: 0.4608, Val Loss: 0.4706, Test Loss: 0.4582\n",
      "Epoch: 04, Train Acc: 0.7803, Val Acc: 0.7698, Test Acc: 0.7858\n",
      "Epoch: 04, Train AUC: 0.8471, Val AUC: 0.8324, Test AUC: 0.8602\n",
      "Epoch: 04, Train F1: 0.8766, Val F1: 0.8699, Test F1: 0.8801\n"
     ]
    },
    {
     "name": "stderr",
     "output_type": "stream",
     "text": [
      "Epoch 04: 100%|██████████| 8403/8403 [00:00<00:00, 37242.38it/s]\n"
     ]
    },
    {
     "name": "stdout",
     "output_type": "stream",
     "text": [
      "Epoch 04, Loss: 0.0000\n"
     ]
    },
    {
     "name": "stderr",
     "output_type": "stream",
     "text": [
      "Evaluating: 100%|██████████| 10503/10503 [00:00<00:00, 14358.54it/s]\n"
     ]
    },
    {
     "name": "stdout",
     "output_type": "stream",
     "text": [
      "Epoch: 05, Train Loss: 0.4533, Val Loss: 0.4648, Test Loss: 0.4502\n",
      "Epoch: 05, Train Acc: 0.7803, Val Acc: 0.7698, Test Acc: 0.7858\n",
      "Epoch: 05, Train AUC: 0.8472, Val AUC: 0.8332, Test AUC: 0.8603\n",
      "Epoch: 05, Train F1: 0.8766, Val F1: 0.8699, Test F1: 0.8801\n"
     ]
    },
    {
     "name": "stderr",
     "output_type": "stream",
     "text": [
      "Epoch 05: 100%|██████████| 8403/8403 [00:00<00:00, 37484.63it/s]\n"
     ]
    },
    {
     "name": "stdout",
     "output_type": "stream",
     "text": [
      "Epoch 05, Loss: 0.0000\n"
     ]
    },
    {
     "name": "stderr",
     "output_type": "stream",
     "text": [
      "Evaluating: 100%|██████████| 10503/10503 [00:00<00:00, 13920.68it/s]\n"
     ]
    },
    {
     "name": "stdout",
     "output_type": "stream",
     "text": [
      "Epoch: 06, Train Loss: 0.4505, Val Loss: 0.4625, Test Loss: 0.4470\n",
      "Epoch: 06, Train Acc: 0.7803, Val Acc: 0.7698, Test Acc: 0.7858\n",
      "Epoch: 06, Train AUC: 0.8467, Val AUC: 0.8345, Test AUC: 0.8621\n",
      "Epoch: 06, Train F1: 0.8766, Val F1: 0.8699, Test F1: 0.8801\n"
     ]
    },
    {
     "name": "stderr",
     "output_type": "stream",
     "text": [
      "Epoch 06: 100%|██████████| 8403/8403 [00:00<00:00, 36520.32it/s]\n"
     ]
    },
    {
     "name": "stdout",
     "output_type": "stream",
     "text": [
      "Epoch 06, Loss: 0.0000\n"
     ]
    },
    {
     "name": "stderr",
     "output_type": "stream",
     "text": [
      "Evaluating: 100%|██████████| 10503/10503 [00:00<00:00, 23607.82it/s]\n"
     ]
    },
    {
     "name": "stdout",
     "output_type": "stream",
     "text": [
      "Epoch: 07, Train Loss: 0.4481, Val Loss: 0.4604, Test Loss: 0.4444\n",
      "Epoch: 07, Train Acc: 0.7803, Val Acc: 0.7698, Test Acc: 0.7858\n",
      "Epoch: 07, Train AUC: 0.8460, Val AUC: 0.8356, Test AUC: 0.8626\n",
      "Epoch: 07, Train F1: 0.8766, Val F1: 0.8699, Test F1: 0.8801\n"
     ]
    },
    {
     "name": "stderr",
     "output_type": "stream",
     "text": [
      "Epoch 07: 100%|██████████| 8403/8403 [00:00<00:00, 37740.48it/s]\n"
     ]
    },
    {
     "name": "stdout",
     "output_type": "stream",
     "text": [
      "Epoch 07, Loss: 0.0000\n"
     ]
    },
    {
     "name": "stderr",
     "output_type": "stream",
     "text": [
      "Evaluating: 100%|██████████| 10503/10503 [00:00<00:00, 25461.44it/s]\n"
     ]
    },
    {
     "name": "stdout",
     "output_type": "stream",
     "text": [
      "Epoch: 08, Train Loss: 0.4459, Val Loss: 0.4582, Test Loss: 0.4419\n",
      "Epoch: 08, Train Acc: 0.7803, Val Acc: 0.7698, Test Acc: 0.7858\n",
      "Epoch: 08, Train AUC: 0.8456, Val AUC: 0.8359, Test AUC: 0.8622\n",
      "Epoch: 08, Train F1: 0.8766, Val F1: 0.8699, Test F1: 0.8801\n"
     ]
    },
    {
     "name": "stderr",
     "output_type": "stream",
     "text": [
      "Epoch 08: 100%|██████████| 8403/8403 [00:00<00:00, 38636.82it/s]\n"
     ]
    },
    {
     "name": "stdout",
     "output_type": "stream",
     "text": [
      "Epoch 08, Loss: 0.0000\n"
     ]
    },
    {
     "name": "stderr",
     "output_type": "stream",
     "text": [
      "Evaluating: 100%|██████████| 10503/10503 [00:00<00:00, 24507.99it/s]\n"
     ]
    },
    {
     "name": "stdout",
     "output_type": "stream",
     "text": [
      "Epoch: 09, Train Loss: 0.4438, Val Loss: 0.4561, Test Loss: 0.4396\n",
      "Epoch: 09, Train Acc: 0.7803, Val Acc: 0.7698, Test Acc: 0.7858\n",
      "Epoch: 09, Train AUC: 0.8451, Val AUC: 0.8358, Test AUC: 0.8626\n",
      "Epoch: 09, Train F1: 0.8766, Val F1: 0.8699, Test F1: 0.8801\n"
     ]
    },
    {
     "name": "stderr",
     "output_type": "stream",
     "text": [
      "Epoch 09: 100%|██████████| 8403/8403 [00:00<00:00, 39465.67it/s]\n"
     ]
    },
    {
     "name": "stdout",
     "output_type": "stream",
     "text": [
      "Epoch 09, Loss: 0.0000\n"
     ]
    },
    {
     "name": "stderr",
     "output_type": "stream",
     "text": [
      "Evaluating: 100%|██████████| 10503/10503 [00:00<00:00, 23782.19it/s]\n"
     ]
    },
    {
     "name": "stdout",
     "output_type": "stream",
     "text": [
      "Epoch: 10, Train Loss: 0.4418, Val Loss: 0.4543, Test Loss: 0.4375\n",
      "Epoch: 10, Train Acc: 0.7803, Val Acc: 0.7698, Test Acc: 0.7858\n",
      "Epoch: 10, Train AUC: 0.8447, Val AUC: 0.8360, Test AUC: 0.8625\n",
      "Epoch: 10, Train F1: 0.8766, Val F1: 0.8699, Test F1: 0.8801\n"
     ]
    },
    {
     "name": "stderr",
     "output_type": "stream",
     "text": [
      "Epoch 10: 100%|██████████| 8403/8403 [00:00<00:00, 36764.16it/s]\n"
     ]
    },
    {
     "name": "stdout",
     "output_type": "stream",
     "text": [
      "Epoch 10, Loss: 0.0000\n"
     ]
    },
    {
     "name": "stderr",
     "output_type": "stream",
     "text": [
      "Evaluating: 100%|██████████| 10503/10503 [00:00<00:00, 24409.73it/s]\n"
     ]
    },
    {
     "name": "stdout",
     "output_type": "stream",
     "text": [
      "Epoch: 11, Train Loss: 0.4401, Val Loss: 0.4526, Test Loss: 0.4355\n",
      "Epoch: 11, Train Acc: 0.7803, Val Acc: 0.7698, Test Acc: 0.7858\n",
      "Epoch: 11, Train AUC: 0.8443, Val AUC: 0.8359, Test AUC: 0.8620\n",
      "Epoch: 11, Train F1: 0.8766, Val F1: 0.8699, Test F1: 0.8801\n"
     ]
    },
    {
     "name": "stderr",
     "output_type": "stream",
     "text": [
      "Epoch 11: 100%|██████████| 8403/8403 [00:00<00:00, 36593.50it/s]\n"
     ]
    },
    {
     "name": "stdout",
     "output_type": "stream",
     "text": [
      "Epoch 11, Loss: 0.0000\n"
     ]
    },
    {
     "name": "stderr",
     "output_type": "stream",
     "text": [
      "Evaluating: 100%|██████████| 10503/10503 [00:00<00:00, 23541.83it/s]\n"
     ]
    },
    {
     "name": "stdout",
     "output_type": "stream",
     "text": [
      "Epoch: 12, Train Loss: 0.4384, Val Loss: 0.4509, Test Loss: 0.4336\n",
      "Epoch: 12, Train Acc: 0.7803, Val Acc: 0.7698, Test Acc: 0.7858\n",
      "Epoch: 12, Train AUC: 0.8438, Val AUC: 0.8363, Test AUC: 0.8621\n",
      "Epoch: 12, Train F1: 0.8766, Val F1: 0.8699, Test F1: 0.8801\n"
     ]
    },
    {
     "name": "stderr",
     "output_type": "stream",
     "text": [
      "Epoch 12: 100%|██████████| 8403/8403 [00:00<00:00, 38520.94it/s]\n"
     ]
    },
    {
     "name": "stdout",
     "output_type": "stream",
     "text": [
      "Epoch 12, Loss: 0.0000\n"
     ]
    },
    {
     "name": "stderr",
     "output_type": "stream",
     "text": [
      "Evaluating: 100%|██████████| 10503/10503 [00:00<00:00, 24702.90it/s]\n"
     ]
    },
    {
     "name": "stdout",
     "output_type": "stream",
     "text": [
      "Epoch: 13, Train Loss: 0.4370, Val Loss: 0.4496, Test Loss: 0.4320\n",
      "Epoch: 13, Train Acc: 0.7803, Val Acc: 0.7698, Test Acc: 0.7858\n",
      "Epoch: 13, Train AUC: 0.8435, Val AUC: 0.8366, Test AUC: 0.8623\n",
      "Epoch: 13, Train F1: 0.8766, Val F1: 0.8699, Test F1: 0.8801\n"
     ]
    },
    {
     "name": "stderr",
     "output_type": "stream",
     "text": [
      "Epoch 13: 100%|██████████| 8403/8403 [00:00<00:00, 36762.71it/s]\n"
     ]
    },
    {
     "name": "stdout",
     "output_type": "stream",
     "text": [
      "Epoch 13, Loss: 0.0000\n"
     ]
    },
    {
     "name": "stderr",
     "output_type": "stream",
     "text": [
      "Evaluating: 100%|██████████| 10503/10503 [00:00<00:00, 24991.72it/s]\n"
     ]
    },
    {
     "name": "stdout",
     "output_type": "stream",
     "text": [
      "Epoch: 14, Train Loss: 0.4357, Val Loss: 0.4483, Test Loss: 0.4305\n",
      "Epoch: 14, Train Acc: 0.7803, Val Acc: 0.7698, Test Acc: 0.7858\n",
      "Epoch: 14, Train AUC: 0.8432, Val AUC: 0.8366, Test AUC: 0.8623\n",
      "Epoch: 14, Train F1: 0.8766, Val F1: 0.8699, Test F1: 0.8801\n"
     ]
    },
    {
     "name": "stderr",
     "output_type": "stream",
     "text": [
      "Epoch 14: 100%|██████████| 8403/8403 [00:00<00:00, 39104.99it/s]\n"
     ]
    },
    {
     "name": "stdout",
     "output_type": "stream",
     "text": [
      "Epoch 14, Loss: 0.0000\n"
     ]
    },
    {
     "name": "stderr",
     "output_type": "stream",
     "text": [
      "Evaluating: 100%|██████████| 10503/10503 [00:00<00:00, 24593.80it/s]\n"
     ]
    },
    {
     "name": "stdout",
     "output_type": "stream",
     "text": [
      "Epoch: 15, Train Loss: 0.4345, Val Loss: 0.4471, Test Loss: 0.4291\n",
      "Epoch: 15, Train Acc: 0.7803, Val Acc: 0.7698, Test Acc: 0.7858\n",
      "Epoch: 15, Train AUC: 0.8430, Val AUC: 0.8364, Test AUC: 0.8624\n",
      "Epoch: 15, Train F1: 0.8766, Val F1: 0.8699, Test F1: 0.8801\n"
     ]
    },
    {
     "name": "stderr",
     "output_type": "stream",
     "text": [
      "Epoch 15: 100%|██████████| 8403/8403 [00:00<00:00, 39290.04it/s]\n"
     ]
    },
    {
     "name": "stdout",
     "output_type": "stream",
     "text": [
      "Epoch 15, Loss: 0.0000\n"
     ]
    },
    {
     "name": "stderr",
     "output_type": "stream",
     "text": [
      "Evaluating: 100%|██████████| 10503/10503 [00:00<00:00, 24030.90it/s]\n"
     ]
    },
    {
     "name": "stdout",
     "output_type": "stream",
     "text": [
      "Epoch: 16, Train Loss: 0.4336, Val Loss: 0.4462, Test Loss: 0.4280\n",
      "Epoch: 16, Train Acc: 0.7803, Val Acc: 0.7698, Test Acc: 0.7858\n",
      "Epoch: 16, Train AUC: 0.8429, Val AUC: 0.8364, Test AUC: 0.8622\n",
      "Epoch: 16, Train F1: 0.8766, Val F1: 0.8699, Test F1: 0.8801\n"
     ]
    },
    {
     "name": "stderr",
     "output_type": "stream",
     "text": [
      "Epoch 16: 100%|██████████| 8403/8403 [00:00<00:00, 35227.09it/s]\n"
     ]
    },
    {
     "name": "stdout",
     "output_type": "stream",
     "text": [
      "Epoch 16, Loss: 0.0000\n"
     ]
    },
    {
     "name": "stderr",
     "output_type": "stream",
     "text": [
      "Evaluating: 100%|██████████| 10503/10503 [00:00<00:00, 24046.48it/s]\n"
     ]
    },
    {
     "name": "stdout",
     "output_type": "stream",
     "text": [
      "Epoch: 17, Train Loss: 0.4327, Val Loss: 0.4456, Test Loss: 0.4270\n",
      "Epoch: 17, Train Acc: 0.7803, Val Acc: 0.7698, Test Acc: 0.7858\n",
      "Epoch: 17, Train AUC: 0.8428, Val AUC: 0.8364, Test AUC: 0.8620\n",
      "Epoch: 17, Train F1: 0.8766, Val F1: 0.8699, Test F1: 0.8801\n"
     ]
    },
    {
     "name": "stderr",
     "output_type": "stream",
     "text": [
      "Epoch 17: 100%|██████████| 8403/8403 [00:00<00:00, 39547.99it/s]\n"
     ]
    },
    {
     "name": "stdout",
     "output_type": "stream",
     "text": [
      "Epoch 17, Loss: 0.0000\n"
     ]
    },
    {
     "name": "stderr",
     "output_type": "stream",
     "text": [
      "Evaluating: 100%|██████████| 10503/10503 [00:00<00:00, 25211.23it/s]\n"
     ]
    },
    {
     "name": "stdout",
     "output_type": "stream",
     "text": [
      "Epoch: 18, Train Loss: 0.4321, Val Loss: 0.4448, Test Loss: 0.4262\n",
      "Epoch: 18, Train Acc: 0.7803, Val Acc: 0.7698, Test Acc: 0.7858\n",
      "Epoch: 18, Train AUC: 0.8426, Val AUC: 0.8365, Test AUC: 0.8619\n",
      "Epoch: 18, Train F1: 0.8766, Val F1: 0.8699, Test F1: 0.8801\n"
     ]
    },
    {
     "name": "stderr",
     "output_type": "stream",
     "text": [
      "Epoch 18: 100%|██████████| 8403/8403 [00:00<00:00, 38696.76it/s]\n"
     ]
    },
    {
     "name": "stdout",
     "output_type": "stream",
     "text": [
      "Epoch 18, Loss: 0.0000\n"
     ]
    },
    {
     "name": "stderr",
     "output_type": "stream",
     "text": [
      "Evaluating: 100%|██████████| 10503/10503 [00:00<00:00, 24761.35it/s]\n"
     ]
    },
    {
     "name": "stdout",
     "output_type": "stream",
     "text": [
      "Epoch: 19, Train Loss: 0.4315, Val Loss: 0.4446, Test Loss: 0.4254\n",
      "Epoch: 19, Train Acc: 0.7803, Val Acc: 0.7698, Test Acc: 0.7858\n",
      "Epoch: 19, Train AUC: 0.8426, Val AUC: 0.8365, Test AUC: 0.8619\n",
      "Epoch: 19, Train F1: 0.8766, Val F1: 0.8699, Test F1: 0.8801\n"
     ]
    },
    {
     "name": "stderr",
     "output_type": "stream",
     "text": [
      "Epoch 19: 100%|██████████| 8403/8403 [00:00<00:00, 36397.74it/s]\n"
     ]
    },
    {
     "name": "stdout",
     "output_type": "stream",
     "text": [
      "Epoch 19, Loss: 0.0000\n"
     ]
    },
    {
     "name": "stderr",
     "output_type": "stream",
     "text": [
      "Evaluating: 100%|██████████| 10503/10503 [00:00<00:00, 24120.15it/s]\n"
     ]
    },
    {
     "name": "stdout",
     "output_type": "stream",
     "text": [
      "Epoch: 20, Train Loss: 0.4311, Val Loss: 0.4444, Test Loss: 0.4249\n",
      "Epoch: 20, Train Acc: 0.7803, Val Acc: 0.7698, Test Acc: 0.7858\n",
      "Epoch: 20, Train AUC: 0.8426, Val AUC: 0.8365, Test AUC: 0.8619\n",
      "Epoch: 20, Train F1: 0.8766, Val F1: 0.8699, Test F1: 0.8801\n"
     ]
    },
    {
     "name": "stderr",
     "output_type": "stream",
     "text": [
      "Epoch 20: 100%|██████████| 8403/8403 [00:00<00:00, 38953.46it/s]\n"
     ]
    },
    {
     "name": "stdout",
     "output_type": "stream",
     "text": [
      "Epoch 20, Loss: 0.0000\n"
     ]
    },
    {
     "name": "stderr",
     "output_type": "stream",
     "text": [
      "Evaluating: 100%|██████████| 10503/10503 [00:00<00:00, 23989.97it/s]\n"
     ]
    },
    {
     "name": "stdout",
     "output_type": "stream",
     "text": [
      "Epoch: 21, Train Loss: 0.4307, Val Loss: 0.4439, Test Loss: 0.4244\n",
      "Epoch: 21, Train Acc: 0.7803, Val Acc: 0.7698, Test Acc: 0.7858\n",
      "Epoch: 21, Train AUC: 0.8426, Val AUC: 0.8365, Test AUC: 0.8619\n",
      "Epoch: 21, Train F1: 0.8766, Val F1: 0.8699, Test F1: 0.8801\n"
     ]
    },
    {
     "name": "stderr",
     "output_type": "stream",
     "text": [
      "Epoch 21: 100%|██████████| 8403/8403 [00:00<00:00, 36785.23it/s]\n"
     ]
    },
    {
     "name": "stdout",
     "output_type": "stream",
     "text": [
      "Epoch 21, Loss: 0.0000\n"
     ]
    },
    {
     "name": "stderr",
     "output_type": "stream",
     "text": [
      "Evaluating: 100%|██████████| 10503/10503 [00:00<00:00, 23035.72it/s]\n"
     ]
    },
    {
     "name": "stdout",
     "output_type": "stream",
     "text": [
      "Epoch: 22, Train Loss: 0.4304, Val Loss: 0.4436, Test Loss: 0.4241\n",
      "Epoch: 22, Train Acc: 0.7803, Val Acc: 0.7698, Test Acc: 0.7858\n",
      "Epoch: 22, Train AUC: 0.8425, Val AUC: 0.8365, Test AUC: 0.8619\n",
      "Epoch: 22, Train F1: 0.8766, Val F1: 0.8699, Test F1: 0.8801\n"
     ]
    },
    {
     "name": "stderr",
     "output_type": "stream",
     "text": [
      "Epoch 22: 100%|██████████| 8403/8403 [00:00<00:00, 36522.10it/s]\n"
     ]
    },
    {
     "name": "stdout",
     "output_type": "stream",
     "text": [
      "Epoch 22, Loss: 0.0000\n"
     ]
    },
    {
     "name": "stderr",
     "output_type": "stream",
     "text": [
      "Evaluating: 100%|██████████| 10503/10503 [00:00<00:00, 25095.16it/s]\n"
     ]
    },
    {
     "name": "stdout",
     "output_type": "stream",
     "text": [
      "Epoch: 23, Train Loss: 0.4303, Val Loss: 0.4434, Test Loss: 0.4238\n",
      "Epoch: 23, Train Acc: 0.7803, Val Acc: 0.7698, Test Acc: 0.7858\n",
      "Epoch: 23, Train AUC: 0.8425, Val AUC: 0.8365, Test AUC: 0.8619\n",
      "Epoch: 23, Train F1: 0.8766, Val F1: 0.8699, Test F1: 0.8801\n"
     ]
    },
    {
     "name": "stderr",
     "output_type": "stream",
     "text": [
      "Epoch 23: 100%|██████████| 8403/8403 [00:00<00:00, 39020.86it/s]\n"
     ]
    },
    {
     "name": "stdout",
     "output_type": "stream",
     "text": [
      "Epoch 23, Loss: 0.0000\n"
     ]
    },
    {
     "name": "stderr",
     "output_type": "stream",
     "text": [
      "Evaluating: 100%|██████████| 10503/10503 [00:00<00:00, 24405.37it/s]\n"
     ]
    },
    {
     "name": "stdout",
     "output_type": "stream",
     "text": [
      "Epoch: 24, Train Loss: 0.4301, Val Loss: 0.4436, Test Loss: 0.4235\n",
      "Epoch: 24, Train Acc: 0.7803, Val Acc: 0.7698, Test Acc: 0.7858\n",
      "Epoch: 24, Train AUC: 0.8427, Val AUC: 0.8364, Test AUC: 0.8620\n",
      "Epoch: 24, Train F1: 0.8766, Val F1: 0.8699, Test F1: 0.8801\n"
     ]
    },
    {
     "name": "stderr",
     "output_type": "stream",
     "text": [
      "Epoch 24: 100%|██████████| 8403/8403 [00:00<00:00, 37516.75it/s]\n"
     ]
    },
    {
     "name": "stdout",
     "output_type": "stream",
     "text": [
      "Epoch 24, Loss: 0.0000\n"
     ]
    },
    {
     "name": "stderr",
     "output_type": "stream",
     "text": [
      "Evaluating: 100%|██████████| 10503/10503 [00:00<00:00, 24213.59it/s]\n"
     ]
    },
    {
     "name": "stdout",
     "output_type": "stream",
     "text": [
      "Epoch: 25, Train Loss: 0.4300, Val Loss: 0.4435, Test Loss: 0.4234\n",
      "Epoch: 25, Train Acc: 0.7803, Val Acc: 0.7698, Test Acc: 0.7858\n",
      "Epoch: 25, Train AUC: 0.8427, Val AUC: 0.8364, Test AUC: 0.8620\n",
      "Epoch: 25, Train F1: 0.8766, Val F1: 0.8699, Test F1: 0.8801\n"
     ]
    },
    {
     "name": "stderr",
     "output_type": "stream",
     "text": [
      "Epoch 25: 100%|██████████| 8403/8403 [00:00<00:00, 36986.93it/s]\n"
     ]
    },
    {
     "name": "stdout",
     "output_type": "stream",
     "text": [
      "Epoch 25, Loss: 0.0000\n"
     ]
    },
    {
     "name": "stderr",
     "output_type": "stream",
     "text": [
      "Evaluating: 100%|██████████| 10503/10503 [00:00<00:00, 21342.10it/s]\n"
     ]
    },
    {
     "name": "stdout",
     "output_type": "stream",
     "text": [
      "Epoch: 26, Train Loss: 0.4299, Val Loss: 0.4432, Test Loss: 0.4233\n",
      "Epoch: 26, Train Acc: 0.7803, Val Acc: 0.7698, Test Acc: 0.7858\n",
      "Epoch: 26, Train AUC: 0.8428, Val AUC: 0.8364, Test AUC: 0.8620\n",
      "Epoch: 26, Train F1: 0.8766, Val F1: 0.8699, Test F1: 0.8801\n"
     ]
    },
    {
     "name": "stderr",
     "output_type": "stream",
     "text": [
      "Epoch 26: 100%|██████████| 8403/8403 [00:00<00:00, 35677.72it/s]\n"
     ]
    },
    {
     "name": "stdout",
     "output_type": "stream",
     "text": [
      "Epoch 26, Loss: 0.0000\n"
     ]
    },
    {
     "name": "stderr",
     "output_type": "stream",
     "text": [
      "Evaluating: 100%|██████████| 10503/10503 [00:00<00:00, 22682.31it/s]\n"
     ]
    },
    {
     "name": "stdout",
     "output_type": "stream",
     "text": [
      "Epoch: 27, Train Loss: 0.4298, Val Loss: 0.4436, Test Loss: 0.4231\n",
      "Epoch: 27, Train Acc: 0.7803, Val Acc: 0.7698, Test Acc: 0.7858\n",
      "Epoch: 27, Train AUC: 0.8430, Val AUC: 0.8365, Test AUC: 0.8622\n",
      "Epoch: 27, Train F1: 0.8766, Val F1: 0.8699, Test F1: 0.8801\n"
     ]
    },
    {
     "name": "stderr",
     "output_type": "stream",
     "text": [
      "Epoch 27: 100%|██████████| 8403/8403 [00:00<00:00, 37032.64it/s]\n"
     ]
    },
    {
     "name": "stdout",
     "output_type": "stream",
     "text": [
      "Epoch 27, Loss: 0.0000\n"
     ]
    },
    {
     "name": "stderr",
     "output_type": "stream",
     "text": [
      "Evaluating: 100%|██████████| 10503/10503 [00:00<00:00, 21105.33it/s]\n"
     ]
    },
    {
     "name": "stdout",
     "output_type": "stream",
     "text": [
      "Epoch: 28, Train Loss: 0.4298, Val Loss: 0.4437, Test Loss: 0.4230\n",
      "Epoch: 28, Train Acc: 0.7803, Val Acc: 0.7698, Test Acc: 0.7858\n",
      "Epoch: 28, Train AUC: 0.8431, Val AUC: 0.8364, Test AUC: 0.8624\n",
      "Epoch: 28, Train F1: 0.8766, Val F1: 0.8699, Test F1: 0.8801\n"
     ]
    },
    {
     "name": "stderr",
     "output_type": "stream",
     "text": [
      "Epoch 28: 100%|██████████| 8403/8403 [00:00<00:00, 29405.09it/s]\n"
     ]
    },
    {
     "name": "stdout",
     "output_type": "stream",
     "text": [
      "Epoch 28, Loss: 0.0000\n"
     ]
    },
    {
     "name": "stderr",
     "output_type": "stream",
     "text": [
      "Evaluating: 100%|██████████| 10503/10503 [00:00<00:00, 21333.21it/s]\n"
     ]
    },
    {
     "name": "stdout",
     "output_type": "stream",
     "text": [
      "Epoch: 29, Train Loss: 0.4297, Val Loss: 0.4434, Test Loss: 0.4230\n",
      "Epoch: 29, Train Acc: 0.7803, Val Acc: 0.7698, Test Acc: 0.7858\n",
      "Epoch: 29, Train AUC: 0.8431, Val AUC: 0.8364, Test AUC: 0.8624\n",
      "Epoch: 29, Train F1: 0.8766, Val F1: 0.8699, Test F1: 0.8801\n"
     ]
    },
    {
     "name": "stderr",
     "output_type": "stream",
     "text": [
      "Epoch 29: 100%|██████████| 8403/8403 [00:00<00:00, 34575.73it/s]"
     ]
    },
    {
     "name": "stdout",
     "output_type": "stream",
     "text": [
      "Epoch 29, Loss: 0.0000\n",
      "Median time per epoch: 0.6855s\n"
     ]
    },
    {
     "name": "stderr",
     "output_type": "stream",
     "text": [
      "\n"
     ]
    }
   ],
   "source": [
    "\n",
    "times = []\n",
    "for epoch in range(1, 11):\n",
    "    start = time.time()\n",
    "    loss, acc = train(epoch)\n",
    "    # print(f'Epoch {epoch:02d}, Loss: {loss:.4f}, Approx. Train: {acc:.4f}')\n",
    "    train_loss, val_loss, test_loss = test()\n",
    "    \n",
    "    train_tracker.compute()\n",
    "    val_tracker.compute()\n",
    "    test_tracker.compute()\n",
    "    \n",
    "    # print(f'Epoch: {epoch:02d}, Train Loss: {train_loss:.4f}, Val Loss: {val_loss:.4f}, '\n",
    "    #       f'Test Loss: {test_loss:.4f}')\n",
    "    print(f'Epoch: {epoch:02d}, Train Acc: {train_tracker[\"BinaryAccuracy\"]:.4f}, Val Acc: {val_tracker[\"BinaryAccuracy\"]:.4f}, '\n",
    "          f'Test AUC: {test_tracker[\"BinaryAccuracy\"]:.4f}')\n",
    "    # print(f'Epoch: {epoch:02d}, Train AUC: {train_auc:.4f}, Val AUC: {val_auc:.4f}, '\n",
    "    #       f'Test AUC: {test_auc:.4f}')\n",
    "    times.append(time.time() - start)\n",
    "print(f\"Median time per epoch: {torch.tensor(times).median():.4f}s\")"
   ],
   "metadata": {
    "collapsed": false,
    "ExecuteTime": {
     "end_time": "2023-10-12T03:05:26.079491Z",
     "start_time": "2023-10-12T03:04:55.940009Z"
    }
   },
   "id": "6c62e37d979f323a"
  },
  {
   "cell_type": "code",
   "execution_count": 32,
   "outputs": [
    {
     "data": {
      "text/plain": "({'BinaryAccuracy': 0.7858197689056396,\n  'BinaryAUROC': 0.8626264929771423,\n  'BinaryF1Score': 0.8800661563873291},\n {'BinaryAccuracy': 1, 'BinaryAUROC': 6, 'BinaryF1Score': 1})"
     },
     "execution_count": 32,
     "metadata": {},
     "output_type": "execute_result"
    }
   ],
   "source": [],
   "metadata": {
    "collapsed": false,
    "ExecuteTime": {
     "end_time": "2023-10-12T03:05:30.932594Z",
     "start_time": "2023-10-12T03:05:30.910500Z"
    }
   },
   "id": "fe515b8f1316afb9"
  },
  {
   "cell_type": "code",
   "execution_count": 33,
   "outputs": [
    {
     "data": {
      "text/plain": "(<Figure size 640x480 with 1 Axes>,\n <Axes: xlabel='Step', ylabel='MetricTracker'>)"
     },
     "execution_count": 33,
     "metadata": {},
     "output_type": "execute_result"
    },
    {
     "data": {
      "text/plain": "<Figure size 640x480 with 1 Axes>",
      "image/png": "[encoded data removed]"
     },
     "metadata": {},
     "output_type": "display_data"
    }
   ],
   "source": [],
   "metadata": {
    "collapsed": false,
    "ExecuteTime": {
     "end_time": "2023-10-12T03:05:50.321366Z",
     "start_time": "2023-10-12T03:05:49.836337Z"
    }
   },
   "id": "50482ef34df9570b"
  }
 ],
 "metadata": {
  "kernelspec": {
   "display_name": "Python 3",
   "language": "python",
   "name": "python3"
  },
  "language_info": {
   "codemirror_mode": {
    "name": "ipython",
    "version": 2
   },
   "file_extension": ".py",
   "mimetype": "text/x-python",
   "name": "python",
   "nbconvert_exporter": "python",
   "pygments_lexer": "ipython2",
   "version": "2.7.6"
  }
 },
 "nbformat": 4,
 "nbformat_minor": 5
}

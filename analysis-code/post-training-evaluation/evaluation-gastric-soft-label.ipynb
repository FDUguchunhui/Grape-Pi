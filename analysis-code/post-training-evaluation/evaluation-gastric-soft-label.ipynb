{
 "cells": [
  {
   "cell_type": "code",
   "execution_count": 16,
   "metadata": {
    "collapsed": true,
    "pycharm": {
     "name": "#%%\n"
    },
    "ExecuteTime": {
     "end_time": "2023-10-03T21:01:48.968216Z",
     "start_time": "2023-10-03T21:01:48.964042Z"
    }
   },
   "outputs": [],
   "source": [
    "from IPython.core.interactiveshell import InteractiveShell\n",
    "InteractiveShell.ast_node_interactivity = \"all\"\n",
    "import pandas as pd\n",
    "import numpy as np\n",
    "from graphgym.custom_graphgym.loader.protein import ProteinDataset"
   ]
  },
  {
   "cell_type": "code",
   "execution_count": 2,
   "outputs": [],
   "source": [
    "# %connect_info\n",
    "%qtconsole"
   ],
   "metadata": {
    "collapsed": false,
    "pycharm": {
     "name": "#%%\n"
    },
    "ExecuteTime": {
     "end_time": "2023-09-22T19:42:08.213823Z",
     "start_time": "2023-09-22T19:42:08.185278Z"
    }
   }
  },
  {
   "cell_type": "markdown",
   "source": [
    "Import data from csv fies"
   ],
   "metadata": {
    "collapsed": false,
    "pycharm": {
     "name": "#%% md\n"
    }
   }
  },
  {
   "cell_type": "code",
   "execution_count": 26,
   "outputs": [],
   "source": [
    "\n",
    "# dataset = ProteinDataset(\"../data/yeast-ORBI\", numeric_columns=['protein probability'], label_column=None)\n",
    "# dataset = ProteinBatchDataset(\"../data/yeast-LCQ\", numeric_params=['protein probability'])\n",
    "# dataset = ProteinBatchDataset(\"../data/yeast-ORBI-mRNA\", numeric_params=['protein probability', 'mRNA(M)'])\n",
    "# dataset = ProteinBatchDataset(\"../data/yeast-LCQ-mRNA\", numeric_params=['protein probability', 'mRNA(M)'])\n",
    "dataset = ProteinDataset(\"../../data/single-soft-label\", numeric_columns=['protein_probability'], label_column=None)"
   ],
   "metadata": {
    "collapsed": false,
    "ExecuteTime": {
     "end_time": "2023-10-03T21:03:44.422192Z",
     "start_time": "2023-10-03T21:03:44.371303Z"
    }
   }
  },
  {
   "cell_type": "code",
   "execution_count": 27,
   "outputs": [
    {
     "data": {
      "text/plain": "tensor([[0.8900],\n        [0.7001],\n        [0.2869],\n        ...,\n        [0.0000],\n        [0.0000],\n        [0.0000]])"
     },
     "execution_count": 27,
     "metadata": {},
     "output_type": "execute_result"
    }
   ],
   "source": [
    "dataset.x"
   ],
   "metadata": {
    "collapsed": false,
    "ExecuteTime": {
     "end_time": "2023-10-03T21:03:44.748285Z",
     "start_time": "2023-10-03T21:03:44.735834Z"
    }
   }
  },
  {
   "cell_type": "code",
   "execution_count": 28,
   "outputs": [
    {
     "data": {
      "text/plain": "(array([7.830e+02, 0.000e+00, 0.000e+00, 0.000e+00, 0.000e+00, 0.000e+00,\n        0.000e+00, 0.000e+00, 0.000e+00, 0.000e+00, 0.000e+00, 0.000e+00,\n        2.000e+00, 3.000e+00, 1.600e+01, 2.300e+01, 3.100e+01, 8.500e+01,\n        5.600e+01, 6.400e+01, 4.800e+01, 5.500e+01, 5.500e+01, 7.200e+01,\n        6.400e+01, 7.300e+01, 6.800e+01, 6.100e+01, 7.900e+01, 7.900e+01,\n        6.900e+01, 8.100e+01, 7.400e+01, 7.800e+01, 7.800e+01, 8.800e+01,\n        8.400e+01, 9.300e+01, 8.200e+01, 9.000e+01, 1.090e+02, 1.220e+02,\n        1.140e+02, 1.160e+02, 1.280e+02, 1.050e+02, 1.150e+02, 1.350e+02,\n        1.050e+02, 1.280e+02, 1.330e+02, 1.130e+02, 1.300e+02, 1.210e+02,\n        1.660e+02, 1.400e+02, 1.240e+02, 1.280e+02, 1.360e+02, 1.450e+02,\n        1.440e+02, 1.430e+02, 1.390e+02, 1.350e+02, 1.550e+02, 1.680e+02,\n        1.540e+02, 1.550e+02, 1.530e+02, 1.560e+02, 1.710e+02, 1.700e+02,\n        1.590e+02, 1.740e+02, 1.540e+02, 1.690e+02, 1.840e+02, 1.760e+02,\n        2.160e+02, 1.820e+02, 1.980e+02, 1.900e+02, 1.750e+02, 1.930e+02,\n        1.880e+02, 2.660e+02, 2.180e+02, 3.150e+02, 3.050e+02, 2.480e+02,\n        2.530e+02, 2.520e+02, 2.800e+02, 3.000e+02, 3.370e+02, 3.910e+02,\n        4.350e+02, 4.710e+02, 5.880e+02, 6.519e+03]),\n array([0.        , 0.01      , 0.02      , 0.03      , 0.04      ,\n        0.05      , 0.06      , 0.07      , 0.08      , 0.09      ,\n        0.1       , 0.11      , 0.12      , 0.13      , 0.14      ,\n        0.15000001, 0.16      , 0.17      , 0.18000001, 0.19      ,\n        0.2       , 0.20999999, 0.22      , 0.23      , 0.23999999,\n        0.25      , 0.25999999, 0.27000001, 0.28      , 0.28999999,\n        0.30000001, 0.31      , 0.31999999, 0.33000001, 0.34      ,\n        0.34999999, 0.36000001, 0.37      , 0.38      , 0.38999999,\n        0.40000001, 0.41      , 0.41999999, 0.43000001, 0.44      ,\n        0.44999999, 0.46000001, 0.47      , 0.47999999, 0.49000001,\n        0.5       , 0.50999999, 0.51999998, 0.52999997, 0.54000002,\n        0.55000001, 0.56      , 0.56999999, 0.57999998, 0.58999997,\n        0.60000002, 0.61000001, 0.62      , 0.63      , 0.63999999,\n        0.64999998, 0.66000003, 0.67000002, 0.68000001, 0.69      ,\n        0.69999999, 0.70999998, 0.72000003, 0.73000002, 0.74000001,\n        0.75      , 0.75999999, 0.76999998, 0.77999997, 0.79000002,\n        0.80000001, 0.81      , 0.81999999, 0.82999998, 0.83999997,\n        0.85000002, 0.86000001, 0.87      , 0.88      , 0.88999999,\n        0.89999998, 0.91000003, 0.92000002, 0.93000001, 0.94      ,\n        0.94999999, 0.95999998, 0.97000003, 0.98000002, 0.99000001,\n        1.        ]),\n <BarContainer object of 100 artists>)"
     },
     "execution_count": 28,
     "metadata": {},
     "output_type": "execute_result"
    },
    {
     "data": {
      "text/plain": "<Figure size 640x480 with 1 Axes>",
      "image/png": "[encoded data removed]"
     },
     "metadata": {},
     "output_type": "display_data"
    }
   ],
   "source": [
    "from matplotlib.pyplot import hist\n",
    "\n",
    "# dataset.y[dataset.train_mask].bincount()\n",
    "# dataset.y[dataset.val_mask].bincount()\n",
    "# dataset.y[dataset.test_mask].bincount()\n",
    "hist(dataset.y, bins=100)"
   ],
   "metadata": {
    "collapsed": false,
    "ExecuteTime": {
     "end_time": "2023-10-03T21:03:45.987977Z",
     "start_time": "2023-10-03T21:03:45.265955Z"
    }
   }
  },
  {
   "cell_type": "code",
   "execution_count": 28,
   "outputs": [],
   "source": [],
   "metadata": {
    "collapsed": false,
    "ExecuteTime": {
     "end_time": "2023-10-03T21:03:46.304191Z",
     "start_time": "2023-10-03T21:03:46.292619Z"
    }
   }
  },
  {
   "cell_type": "code",
   "execution_count": 29,
   "outputs": [
    {
     "name": "stdout",
     "output_type": "stream",
     "text": [
      "Number of node features: 1\n",
      "Number of edge features: 0\n",
      "Number of training nodes: 12256\n"
     ]
    }
   ],
   "source": [
    "# print(f'Number of nodes: {dataset.num_nodes}')\n",
    "print(f'Number of node features: {dataset.num_node_features}')\n",
    "# print(f'Number of edges: {dataset.num_edges}')\n",
    "print(f'Number of edge features: {dataset.num_edge_features}')\n",
    "# print(f'Average node degree: {dataset.num_edges / dataset.num_nodes:.2f}')\n",
    "print(f'Number of training nodes: {dataset.train_mask.sum()}')\n",
    "# print(f'Training node label rate: {int(dataset.train_mask.sum()) / dataset.num_nodes:.2f}')\n",
    "# print(f'Validation node label rate: {int(dataset.val_mask.sum()) / dataset.num_nodes:.2f}')\n",
    "# print(f'Test node label rate: {int(dataset.test_mask.sum()) / dataset.num_nodes:.2f}')\n",
    "# print(f'Has isolated nodes: {dataset.has_isolated_nodes()}')\n",
    "# print(f'Has self-loops: {dataset.has_self_loops()}')\n",
    "# print(f'Is undirected: {dataset.is_undirected()}')"
   ],
   "metadata": {
    "collapsed": false,
    "ExecuteTime": {
     "end_time": "2023-10-03T21:03:47.235937Z",
     "start_time": "2023-10-03T21:03:47.225422Z"
    }
   }
  },
  {
   "cell_type": "code",
   "execution_count": 30,
   "outputs": [
    {
     "data": {
      "text/plain": "ProteinDataset()"
     },
     "execution_count": 30,
     "metadata": {},
     "output_type": "execute_result"
    }
   ],
   "source": [
    "dataset"
   ],
   "metadata": {
    "collapsed": false,
    "ExecuteTime": {
     "end_time": "2023-10-03T21:03:47.583698Z",
     "start_time": "2023-10-03T21:03:47.568660Z"
    }
   }
  },
  {
   "cell_type": "code",
   "execution_count": 31,
   "outputs": [],
   "source": [
    "from torch.utils.data import DataLoader\n",
    "import torch\n",
    "train_dataset = torch.utils.data.TensorDataset(dataset.x[dataset.train_mask], dataset.y[dataset.train_mask].unsqueeze(1))\n",
    "train_dataloader = DataLoader(train_dataset, batch_size=64, shuffle=True)\n",
    "val_dataset = torch.utils.data.TensorDataset(dataset.x[dataset.val_mask], dataset.y[dataset.val_mask].unsqueeze(-1))\n",
    "val_dataloader = DataLoader(val_dataset, batch_size=64, shuffle=False)\n",
    "test_dataset = torch.utils.data.TensorDataset(dataset.x[dataset.test_mask], dataset.y[dataset.test_mask].unsqueeze(-1))\n",
    "test_dataloader = DataLoader(test_dataset, batch_size=64, shuffle=False)"
   ],
   "metadata": {
    "collapsed": false,
    "ExecuteTime": {
     "end_time": "2023-10-03T21:03:48.032585Z",
     "start_time": "2023-10-03T21:03:48.006985Z"
    }
   }
  },
  {
   "cell_type": "code",
   "execution_count": 32,
   "outputs": [],
   "source": [
    "import os\n",
    "from torch import optim, nn, utils, Tensor\n",
    "from torchvision.datasets import MNIST\n",
    "from torchvision.transforms import ToTensor\n",
    "import pytorch_lightning as pl\n",
    "from torchmetrics.classification import BinaryAUROC, BinaryAccuracy, BinaryF1Score\n",
    "\n",
    "\n",
    "# define the LightningModule\n",
    "class MLP(pl.LightningModule):\n",
    "    def __init__(self, num_features, hidden_channels, num_classes, criterion):\n",
    "        super().__init__()\n",
    "        torch.manual_seed(12345)\n",
    "        self.lin1 = nn.Linear(num_features, hidden_channels)\n",
    "        self.lin2 = nn.Linear(hidden_channels, hidden_channels)\n",
    "        self.lin3 = nn.Linear(hidden_channels, num_classes)\n",
    "        self.criterion = criterion\n",
    "        self.val_auroc = BinaryAUROC()\n",
    "        self.test_auroc = BinaryAUROC()\n",
    "        # self.val_accuracy = BinaryAccuracy()\n",
    "        # self.test_accuracy = BinaryAccuracy()\n",
    "        self.val_F1 = BinaryF1Score()\n",
    "        self.test_F1 = BinaryF1Score()\n",
    "\n",
    "    def forward(self, x):\n",
    "        x = self.lin1(x)\n",
    "        x = x.relu()\n",
    "        x = self.lin2(x)\n",
    "        x = x.relu()\n",
    "        x = self.lin3(x)\n",
    "        return x\n",
    "\n",
    "    def get_auc(self, out, target):\n",
    "        return self.auroc(out, target)\n",
    "\n",
    "    def training_step(self, batch, batch_idx):\n",
    "        x, y = batch\n",
    "        logits = self(x)  # Perform a single forward pass.\n",
    "\n",
    "        loss = self.criterion(logits, y)  # Compute the loss solely based on the training nodes.\n",
    "        values = {\"loss\": loss}\n",
    "        self.log_dict(values, prog_bar=True)\n",
    "        return loss\n",
    "\n",
    "    def validation_step(self, batch, batch_idx):\n",
    "        x, y = batch\n",
    "        logits = self(x)  # Perform a single forward pass.\n",
    "\n",
    "        # self.val_accuracy.update(logits[:, 1], y)\n",
    "        loss = self.criterion(logits, y)  # Compute the loss solely based on the training nodes.\n",
    "        # self.val_auroc.update(logits, y)\n",
    "        # self.val_F1.update(logits, y)\n",
    "        values = {\"val_loss\": loss}\n",
    "        self.log_dict(values, prog_bar=True, on_step=False, on_epoch=True)\n",
    "        return loss\n",
    "\n",
    "    def test_step(self, batch, batch_idx):\n",
    "        x, y = batch\n",
    "        logits = self(x)\n",
    "        # self.test_accuracy.update(logits[:, 1], y)\n",
    "        loss = self.criterion(logits, y)\n",
    "        # self.test_auroc.update(logits, y)\n",
    "        # self.test_F1.update(logits, y)\n",
    "        values = {\"test_loss\": loss}\n",
    "        self.log_dict(values, prog_bar=True, on_step=False, on_epoch=True)\n",
    "        return loss\n",
    "\n",
    "    def configure_optimizers(self):\n",
    "        optimizer = optim.Adam(self.parameters(), lr=1e-3)\n",
    "        return optimizer\n",
    "\n"
   ],
   "metadata": {
    "collapsed": false,
    "ExecuteTime": {
     "end_time": "2023-10-03T21:03:48.224039Z",
     "start_time": "2023-10-03T21:03:48.212801Z"
    }
   }
  },
  {
   "cell_type": "code",
   "execution_count": 33,
   "outputs": [],
   "source": [
    "# init the autoencoder\n",
    "MLP_model = MLP(dataset.num_node_features, 10, 1, criterion = torch.nn.BCEWithLogitsLoss())\n",
    "# MLP_model = MLP(dataset.num_node_features, 10, 2, criterion = torch.nn.CrossEntropyLoss())"
   ],
   "metadata": {
    "collapsed": false,
    "ExecuteTime": {
     "end_time": "2023-10-03T21:03:48.392071Z",
     "start_time": "2023-10-03T21:03:48.380731Z"
    }
   }
  },
  {
   "cell_type": "code",
   "execution_count": 33,
   "outputs": [],
   "source": [],
   "metadata": {
    "collapsed": false,
    "ExecuteTime": {
     "end_time": "2023-10-03T21:03:48.556854Z",
     "start_time": "2023-10-03T21:03:48.542648Z"
    }
   }
  },
  {
   "cell_type": "code",
   "execution_count": 34,
   "outputs": [
    {
     "name": "stderr",
     "output_type": "stream",
     "text": [
      "GPU available: False, used: False\n",
      "TPU available: False, using: 0 TPU cores\n",
      "IPU available: False, using: 0 IPUs\n",
      "HPU available: False, using: 0 HPUs\n",
      "\n",
      "  | Name       | Type              | Params\n",
      "-------------------------------------------------\n",
      "0 | lin1       | Linear            | 20    \n",
      "1 | lin2       | Linear            | 110   \n",
      "2 | lin3       | Linear            | 11    \n",
      "3 | criterion  | BCEWithLogitsLoss | 0     \n",
      "4 | val_auroc  | BinaryAUROC       | 0     \n",
      "5 | test_auroc | BinaryAUROC       | 0     \n",
      "6 | val_F1     | BinaryF1Score     | 0     \n",
      "7 | test_F1    | BinaryF1Score     | 0     \n",
      "-------------------------------------------------\n",
      "141       Trainable params\n",
      "0         Non-trainable params\n",
      "141       Total params\n",
      "0.001     Total estimated model params size (MB)\n",
      "/Users/cgu3/opt/anaconda3/envs/Grape-Pi/lib/python3.10/site-packages/pytorch_lightning/trainer/connectors/data_connector.py:438: PossibleUserWarning: The dataloader, val_dataloader, does not have many workers which may be a bottleneck. Consider increasing the value of the `num_workers` argument` (try 8 which is the number of cpus on this machine) in the `DataLoader` init to improve performance.\n",
      "  rank_zero_warn(\n",
      "/Users/cgu3/opt/anaconda3/envs/Grape-Pi/lib/python3.10/site-packages/pytorch_lightning/trainer/connectors/data_connector.py:438: PossibleUserWarning: The dataloader, train_dataloader, does not have many workers which may be a bottleneck. Consider increasing the value of the `num_workers` argument` (try 8 which is the number of cpus on this machine) in the `DataLoader` init to improve performance.\n",
      "  rank_zero_warn(\n",
      "`Trainer.fit` stopped: `max_epochs=300` reached.\n"
     ]
    }
   ],
   "source": [
    "trainer = pl.Trainer(limit_train_batches=100, max_epochs=300, enable_progress_bar = False)\n",
    "trainer.fit(model=MLP_model, train_dataloaders=train_dataloader, val_dataloaders=val_dataloader)"
   ],
   "metadata": {
    "collapsed": false,
    "ExecuteTime": {
     "end_time": "2023-10-03T21:05:20.483608Z",
     "start_time": "2023-10-03T21:03:49.033640Z"
    }
   }
  },
  {
   "cell_type": "code",
   "execution_count": 35,
   "outputs": [
    {
     "name": "stdout",
     "output_type": "stream",
     "text": [
      "────────────────────────────────────────────────────────────────────────────────────────────────────────────────────────\n",
      "       Test metric             DataLoader 0\n",
      "────────────────────────────────────────────────────────────────────────────────────────────────────────────────────────\n",
      "        test_loss           0.4833141565322876\n",
      "────────────────────────────────────────────────────────────────────────────────────────────────────────────────────────\n"
     ]
    },
    {
     "name": "stderr",
     "output_type": "stream",
     "text": [
      "/Users/cgu3/opt/anaconda3/envs/Grape-Pi/lib/python3.10/site-packages/pytorch_lightning/trainer/connectors/data_connector.py:438: PossibleUserWarning: The dataloader, test_dataloader, does not have many workers which may be a bottleneck. Consider increasing the value of the `num_workers` argument` (try 8 which is the number of cpus on this machine) in the `DataLoader` init to improve performance.\n",
      "  rank_zero_warn(\n"
     ]
    },
    {
     "data": {
      "text/plain": "[{'test_loss': 0.4833141565322876}]"
     },
     "execution_count": 35,
     "metadata": {},
     "output_type": "execute_result"
    }
   ],
   "source": [
    "trainer.test(model=MLP_model, dataloaders=test_dataloader)"
   ],
   "metadata": {
    "collapsed": false,
    "ExecuteTime": {
     "end_time": "2023-10-03T21:05:20.579894Z",
     "start_time": "2023-10-03T21:05:20.485106Z"
    }
   }
  },
  {
   "cell_type": "code",
   "execution_count": 54,
   "outputs": [
    {
     "data": {
      "text/plain": "Launching TensorBoard..."
     },
     "metadata": {},
     "output_type": "display_data"
    }
   ],
   "source": [
    "%reload_ext tensorboard\n",
    "%tensorboard --logdir=lightning_logs/"
   ],
   "metadata": {
    "collapsed": false,
    "ExecuteTime": {
     "end_time": "2023-09-22T21:19:13.658811Z",
     "start_time": "2023-09-22T21:19:09.970212Z"
    }
   }
  },
  {
   "cell_type": "code",
   "execution_count": null,
   "outputs": [],
   "source": [],
   "metadata": {
    "collapsed": false
   }
  }
 ],
 "metadata": {
  "kernelspec": {
   "display_name": "Python 3",
   "language": "python",
   "name": "python3"
  },
  "language_info": {
   "codemirror_mode": {
    "name": "ipython",
    "version": 2
   },
   "file_extension": ".py",
   "mimetype": "text/x-python",
   "name": "python",
   "nbconvert_exporter": "python",
   "pygments_lexer": "ipython2",
   "version": "2.7.6"
  }
 },
 "nbformat": 4,
 "nbformat_minor": 0
}

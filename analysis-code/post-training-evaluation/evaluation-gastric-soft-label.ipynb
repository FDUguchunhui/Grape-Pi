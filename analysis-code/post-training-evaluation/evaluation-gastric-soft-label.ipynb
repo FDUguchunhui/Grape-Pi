{
 "cells": [
  {
   "cell_type": "code",
   "execution_count": 23,
   "outputs": [],
   "source": [
    "# %connect_info\n",
    "%qtconsole"
   ],
   "metadata": {
    "collapsed": false,
    "pycharm": {
     "name": "#%%\n"
    },
    "ExecuteTime": {
     "end_time": "2023-10-05T04:51:22.131970Z",
     "start_time": "2023-10-05T04:51:21.797768Z"
    }
   }
  },
  {
   "cell_type": "code",
   "execution_count": 187,
   "outputs": [],
   "source": [
    "from IPython.core.interactiveshell import InteractiveShell\n",
    "InteractiveShell.ast_node_interactivity = \"all\"\n",
    "import pandas as pd\n",
    "import numpy as np\n",
    "from graphgym.custom_graphgym.loader.protein import ProteinDataset\n",
    "import matplotlib.pyplot as plt\n",
    "import os"
   ],
   "metadata": {
    "collapsed": false,
    "ExecuteTime": {
     "end_time": "2023-10-07T16:22:38.891284Z",
     "start_time": "2023-10-07T16:22:38.772441Z"
    }
   }
  },
  {
   "cell_type": "code",
   "execution_count": 188,
   "outputs": [],
   "source": [
    "os.chdir('/Users/cgu3/Documents/Grape-Pi')"
   ],
   "metadata": {
    "collapsed": false,
    "ExecuteTime": {
     "end_time": "2023-10-07T16:22:38.922370Z",
     "start_time": "2023-10-07T16:22:38.873694Z"
    }
   }
  },
  {
   "cell_type": "markdown",
   "source": [
    "Import data from csv fies"
   ],
   "metadata": {
    "collapsed": false,
    "pycharm": {
     "name": "#%% md\n"
    }
   }
  },
  {
   "cell_type": "code",
   "execution_count": 200,
   "outputs": [],
   "source": [
    "\n",
    "# dataset = ProteinDataset(\"data/yeast-ORBI\", numeric_columns=['protein probability'], label_column=None)\n",
    "# dataset = ProteinBatchDataset(\"data/yeast-LCQ\", numeric_params=['protein probability'])\n",
    "# dataset = ProteinBatchDataset(\"data/yeast-ORBI-mRNA\", numeric_params=['protein probability', 'mRNA(M)'])\n",
    "# dataset = ProteinBatchDataset(\"data/yeast-LCQ-mRNA\", numeric_params=['protein probability', 'mRNA(M)'])\n",
    "# dataset = ProteinDataset(\"data/single-soft-label\", numeric_columns=['protein_probability', 'mRNA_TPM'], label_column=None)\n",
    "dataset = ProteinDataset(\"data/single\", numeric_columns=['protein_probability'], label_column=None)"
   ],
   "metadata": {
    "collapsed": false,
    "ExecuteTime": {
     "end_time": "2023-10-07T16:41:00.251925Z",
     "start_time": "2023-10-07T16:41:00.163145Z"
    }
   }
  },
  {
   "cell_type": "code",
   "execution_count": 190,
   "outputs": [
    {
     "ename": "FileNotFoundError",
     "evalue": "[Errno 2] No such file or directory: 'data/single-soft-label/raw/protein/data_train_with_soft_label.csv'",
     "output_type": "error",
     "traceback": [
      "\u001B[0;31m---------------------------------------------------------------------------\u001B[0m",
      "\u001B[0;31mFileNotFoundError\u001B[0m                         Traceback (most recent call last)",
      "Cell \u001B[0;32mIn[190], line 1\u001B[0m\n\u001B[0;32m----> 1\u001B[0m df \u001B[38;5;241m=\u001B[39m \u001B[43mpd\u001B[49m\u001B[38;5;241;43m.\u001B[39;49m\u001B[43mread_csv\u001B[49m\u001B[43m(\u001B[49m\u001B[38;5;124;43m'\u001B[39;49m\u001B[38;5;124;43mdata/single-soft-label/raw/protein/data_train_with_soft_label.csv\u001B[39;49m\u001B[38;5;124;43m'\u001B[39;49m\u001B[43m)\u001B[49m\n\u001B[1;32m      2\u001B[0m \u001B[38;5;66;03m# df = pd.read_csv('/Users/cgu3/Documents/data/SG_combined_protein_0982_with_protein_probability.csv')\u001B[39;00m\n",
      "File \u001B[0;32m~/opt/anaconda3/envs/Grape-Pi/lib/python3.10/site-packages/pandas/io/parsers/readers.py:912\u001B[0m, in \u001B[0;36mread_csv\u001B[0;34m(filepath_or_buffer, sep, delimiter, header, names, index_col, usecols, dtype, engine, converters, true_values, false_values, skipinitialspace, skiprows, skipfooter, nrows, na_values, keep_default_na, na_filter, verbose, skip_blank_lines, parse_dates, infer_datetime_format, keep_date_col, date_parser, date_format, dayfirst, cache_dates, iterator, chunksize, compression, thousands, decimal, lineterminator, quotechar, quoting, doublequote, escapechar, comment, encoding, encoding_errors, dialect, on_bad_lines, delim_whitespace, low_memory, memory_map, float_precision, storage_options, dtype_backend)\u001B[0m\n\u001B[1;32m    899\u001B[0m kwds_defaults \u001B[38;5;241m=\u001B[39m _refine_defaults_read(\n\u001B[1;32m    900\u001B[0m     dialect,\n\u001B[1;32m    901\u001B[0m     delimiter,\n\u001B[0;32m   (...)\u001B[0m\n\u001B[1;32m    908\u001B[0m     dtype_backend\u001B[38;5;241m=\u001B[39mdtype_backend,\n\u001B[1;32m    909\u001B[0m )\n\u001B[1;32m    910\u001B[0m kwds\u001B[38;5;241m.\u001B[39mupdate(kwds_defaults)\n\u001B[0;32m--> 912\u001B[0m \u001B[38;5;28;01mreturn\u001B[39;00m \u001B[43m_read\u001B[49m\u001B[43m(\u001B[49m\u001B[43mfilepath_or_buffer\u001B[49m\u001B[43m,\u001B[49m\u001B[43m \u001B[49m\u001B[43mkwds\u001B[49m\u001B[43m)\u001B[49m\n",
      "File \u001B[0;32m~/opt/anaconda3/envs/Grape-Pi/lib/python3.10/site-packages/pandas/io/parsers/readers.py:577\u001B[0m, in \u001B[0;36m_read\u001B[0;34m(filepath_or_buffer, kwds)\u001B[0m\n\u001B[1;32m    574\u001B[0m _validate_names(kwds\u001B[38;5;241m.\u001B[39mget(\u001B[38;5;124m\"\u001B[39m\u001B[38;5;124mnames\u001B[39m\u001B[38;5;124m\"\u001B[39m, \u001B[38;5;28;01mNone\u001B[39;00m))\n\u001B[1;32m    576\u001B[0m \u001B[38;5;66;03m# Create the parser.\u001B[39;00m\n\u001B[0;32m--> 577\u001B[0m parser \u001B[38;5;241m=\u001B[39m \u001B[43mTextFileReader\u001B[49m\u001B[43m(\u001B[49m\u001B[43mfilepath_or_buffer\u001B[49m\u001B[43m,\u001B[49m\u001B[43m \u001B[49m\u001B[38;5;241;43m*\u001B[39;49m\u001B[38;5;241;43m*\u001B[39;49m\u001B[43mkwds\u001B[49m\u001B[43m)\u001B[49m\n\u001B[1;32m    579\u001B[0m \u001B[38;5;28;01mif\u001B[39;00m chunksize \u001B[38;5;129;01mor\u001B[39;00m iterator:\n\u001B[1;32m    580\u001B[0m     \u001B[38;5;28;01mreturn\u001B[39;00m parser\n",
      "File \u001B[0;32m~/opt/anaconda3/envs/Grape-Pi/lib/python3.10/site-packages/pandas/io/parsers/readers.py:1407\u001B[0m, in \u001B[0;36mTextFileReader.__init__\u001B[0;34m(self, f, engine, **kwds)\u001B[0m\n\u001B[1;32m   1404\u001B[0m     \u001B[38;5;28mself\u001B[39m\u001B[38;5;241m.\u001B[39moptions[\u001B[38;5;124m\"\u001B[39m\u001B[38;5;124mhas_index_names\u001B[39m\u001B[38;5;124m\"\u001B[39m] \u001B[38;5;241m=\u001B[39m kwds[\u001B[38;5;124m\"\u001B[39m\u001B[38;5;124mhas_index_names\u001B[39m\u001B[38;5;124m\"\u001B[39m]\n\u001B[1;32m   1406\u001B[0m \u001B[38;5;28mself\u001B[39m\u001B[38;5;241m.\u001B[39mhandles: IOHandles \u001B[38;5;241m|\u001B[39m \u001B[38;5;28;01mNone\u001B[39;00m \u001B[38;5;241m=\u001B[39m \u001B[38;5;28;01mNone\u001B[39;00m\n\u001B[0;32m-> 1407\u001B[0m \u001B[38;5;28mself\u001B[39m\u001B[38;5;241m.\u001B[39m_engine \u001B[38;5;241m=\u001B[39m \u001B[38;5;28;43mself\u001B[39;49m\u001B[38;5;241;43m.\u001B[39;49m\u001B[43m_make_engine\u001B[49m\u001B[43m(\u001B[49m\u001B[43mf\u001B[49m\u001B[43m,\u001B[49m\u001B[43m \u001B[49m\u001B[38;5;28;43mself\u001B[39;49m\u001B[38;5;241;43m.\u001B[39;49m\u001B[43mengine\u001B[49m\u001B[43m)\u001B[49m\n",
      "File \u001B[0;32m~/opt/anaconda3/envs/Grape-Pi/lib/python3.10/site-packages/pandas/io/parsers/readers.py:1661\u001B[0m, in \u001B[0;36mTextFileReader._make_engine\u001B[0;34m(self, f, engine)\u001B[0m\n\u001B[1;32m   1659\u001B[0m     \u001B[38;5;28;01mif\u001B[39;00m \u001B[38;5;124m\"\u001B[39m\u001B[38;5;124mb\u001B[39m\u001B[38;5;124m\"\u001B[39m \u001B[38;5;129;01mnot\u001B[39;00m \u001B[38;5;129;01min\u001B[39;00m mode:\n\u001B[1;32m   1660\u001B[0m         mode \u001B[38;5;241m+\u001B[39m\u001B[38;5;241m=\u001B[39m \u001B[38;5;124m\"\u001B[39m\u001B[38;5;124mb\u001B[39m\u001B[38;5;124m\"\u001B[39m\n\u001B[0;32m-> 1661\u001B[0m \u001B[38;5;28mself\u001B[39m\u001B[38;5;241m.\u001B[39mhandles \u001B[38;5;241m=\u001B[39m \u001B[43mget_handle\u001B[49m\u001B[43m(\u001B[49m\n\u001B[1;32m   1662\u001B[0m \u001B[43m    \u001B[49m\u001B[43mf\u001B[49m\u001B[43m,\u001B[49m\n\u001B[1;32m   1663\u001B[0m \u001B[43m    \u001B[49m\u001B[43mmode\u001B[49m\u001B[43m,\u001B[49m\n\u001B[1;32m   1664\u001B[0m \u001B[43m    \u001B[49m\u001B[43mencoding\u001B[49m\u001B[38;5;241;43m=\u001B[39;49m\u001B[38;5;28;43mself\u001B[39;49m\u001B[38;5;241;43m.\u001B[39;49m\u001B[43moptions\u001B[49m\u001B[38;5;241;43m.\u001B[39;49m\u001B[43mget\u001B[49m\u001B[43m(\u001B[49m\u001B[38;5;124;43m\"\u001B[39;49m\u001B[38;5;124;43mencoding\u001B[39;49m\u001B[38;5;124;43m\"\u001B[39;49m\u001B[43m,\u001B[49m\u001B[43m \u001B[49m\u001B[38;5;28;43;01mNone\u001B[39;49;00m\u001B[43m)\u001B[49m\u001B[43m,\u001B[49m\n\u001B[1;32m   1665\u001B[0m \u001B[43m    \u001B[49m\u001B[43mcompression\u001B[49m\u001B[38;5;241;43m=\u001B[39;49m\u001B[38;5;28;43mself\u001B[39;49m\u001B[38;5;241;43m.\u001B[39;49m\u001B[43moptions\u001B[49m\u001B[38;5;241;43m.\u001B[39;49m\u001B[43mget\u001B[49m\u001B[43m(\u001B[49m\u001B[38;5;124;43m\"\u001B[39;49m\u001B[38;5;124;43mcompression\u001B[39;49m\u001B[38;5;124;43m\"\u001B[39;49m\u001B[43m,\u001B[49m\u001B[43m \u001B[49m\u001B[38;5;28;43;01mNone\u001B[39;49;00m\u001B[43m)\u001B[49m\u001B[43m,\u001B[49m\n\u001B[1;32m   1666\u001B[0m \u001B[43m    \u001B[49m\u001B[43mmemory_map\u001B[49m\u001B[38;5;241;43m=\u001B[39;49m\u001B[38;5;28;43mself\u001B[39;49m\u001B[38;5;241;43m.\u001B[39;49m\u001B[43moptions\u001B[49m\u001B[38;5;241;43m.\u001B[39;49m\u001B[43mget\u001B[49m\u001B[43m(\u001B[49m\u001B[38;5;124;43m\"\u001B[39;49m\u001B[38;5;124;43mmemory_map\u001B[39;49m\u001B[38;5;124;43m\"\u001B[39;49m\u001B[43m,\u001B[49m\u001B[43m \u001B[49m\u001B[38;5;28;43;01mFalse\u001B[39;49;00m\u001B[43m)\u001B[49m\u001B[43m,\u001B[49m\n\u001B[1;32m   1667\u001B[0m \u001B[43m    \u001B[49m\u001B[43mis_text\u001B[49m\u001B[38;5;241;43m=\u001B[39;49m\u001B[43mis_text\u001B[49m\u001B[43m,\u001B[49m\n\u001B[1;32m   1668\u001B[0m \u001B[43m    \u001B[49m\u001B[43merrors\u001B[49m\u001B[38;5;241;43m=\u001B[39;49m\u001B[38;5;28;43mself\u001B[39;49m\u001B[38;5;241;43m.\u001B[39;49m\u001B[43moptions\u001B[49m\u001B[38;5;241;43m.\u001B[39;49m\u001B[43mget\u001B[49m\u001B[43m(\u001B[49m\u001B[38;5;124;43m\"\u001B[39;49m\u001B[38;5;124;43mencoding_errors\u001B[39;49m\u001B[38;5;124;43m\"\u001B[39;49m\u001B[43m,\u001B[49m\u001B[43m \u001B[49m\u001B[38;5;124;43m\"\u001B[39;49m\u001B[38;5;124;43mstrict\u001B[39;49m\u001B[38;5;124;43m\"\u001B[39;49m\u001B[43m)\u001B[49m\u001B[43m,\u001B[49m\n\u001B[1;32m   1669\u001B[0m \u001B[43m    \u001B[49m\u001B[43mstorage_options\u001B[49m\u001B[38;5;241;43m=\u001B[39;49m\u001B[38;5;28;43mself\u001B[39;49m\u001B[38;5;241;43m.\u001B[39;49m\u001B[43moptions\u001B[49m\u001B[38;5;241;43m.\u001B[39;49m\u001B[43mget\u001B[49m\u001B[43m(\u001B[49m\u001B[38;5;124;43m\"\u001B[39;49m\u001B[38;5;124;43mstorage_options\u001B[39;49m\u001B[38;5;124;43m\"\u001B[39;49m\u001B[43m,\u001B[49m\u001B[43m \u001B[49m\u001B[38;5;28;43;01mNone\u001B[39;49;00m\u001B[43m)\u001B[49m\u001B[43m,\u001B[49m\n\u001B[1;32m   1670\u001B[0m \u001B[43m\u001B[49m\u001B[43m)\u001B[49m\n\u001B[1;32m   1671\u001B[0m \u001B[38;5;28;01massert\u001B[39;00m \u001B[38;5;28mself\u001B[39m\u001B[38;5;241m.\u001B[39mhandles \u001B[38;5;129;01mis\u001B[39;00m \u001B[38;5;129;01mnot\u001B[39;00m \u001B[38;5;28;01mNone\u001B[39;00m\n\u001B[1;32m   1672\u001B[0m f \u001B[38;5;241m=\u001B[39m \u001B[38;5;28mself\u001B[39m\u001B[38;5;241m.\u001B[39mhandles\u001B[38;5;241m.\u001B[39mhandle\n",
      "File \u001B[0;32m~/opt/anaconda3/envs/Grape-Pi/lib/python3.10/site-packages/pandas/io/common.py:859\u001B[0m, in \u001B[0;36mget_handle\u001B[0;34m(path_or_buf, mode, encoding, compression, memory_map, is_text, errors, storage_options)\u001B[0m\n\u001B[1;32m    854\u001B[0m \u001B[38;5;28;01melif\u001B[39;00m \u001B[38;5;28misinstance\u001B[39m(handle, \u001B[38;5;28mstr\u001B[39m):\n\u001B[1;32m    855\u001B[0m     \u001B[38;5;66;03m# Check whether the filename is to be opened in binary mode.\u001B[39;00m\n\u001B[1;32m    856\u001B[0m     \u001B[38;5;66;03m# Binary mode does not support 'encoding' and 'newline'.\u001B[39;00m\n\u001B[1;32m    857\u001B[0m     \u001B[38;5;28;01mif\u001B[39;00m ioargs\u001B[38;5;241m.\u001B[39mencoding \u001B[38;5;129;01mand\u001B[39;00m \u001B[38;5;124m\"\u001B[39m\u001B[38;5;124mb\u001B[39m\u001B[38;5;124m\"\u001B[39m \u001B[38;5;129;01mnot\u001B[39;00m \u001B[38;5;129;01min\u001B[39;00m ioargs\u001B[38;5;241m.\u001B[39mmode:\n\u001B[1;32m    858\u001B[0m         \u001B[38;5;66;03m# Encoding\u001B[39;00m\n\u001B[0;32m--> 859\u001B[0m         handle \u001B[38;5;241m=\u001B[39m \u001B[38;5;28;43mopen\u001B[39;49m\u001B[43m(\u001B[49m\n\u001B[1;32m    860\u001B[0m \u001B[43m            \u001B[49m\u001B[43mhandle\u001B[49m\u001B[43m,\u001B[49m\n\u001B[1;32m    861\u001B[0m \u001B[43m            \u001B[49m\u001B[43mioargs\u001B[49m\u001B[38;5;241;43m.\u001B[39;49m\u001B[43mmode\u001B[49m\u001B[43m,\u001B[49m\n\u001B[1;32m    862\u001B[0m \u001B[43m            \u001B[49m\u001B[43mencoding\u001B[49m\u001B[38;5;241;43m=\u001B[39;49m\u001B[43mioargs\u001B[49m\u001B[38;5;241;43m.\u001B[39;49m\u001B[43mencoding\u001B[49m\u001B[43m,\u001B[49m\n\u001B[1;32m    863\u001B[0m \u001B[43m            \u001B[49m\u001B[43merrors\u001B[49m\u001B[38;5;241;43m=\u001B[39;49m\u001B[43merrors\u001B[49m\u001B[43m,\u001B[49m\n\u001B[1;32m    864\u001B[0m \u001B[43m            \u001B[49m\u001B[43mnewline\u001B[49m\u001B[38;5;241;43m=\u001B[39;49m\u001B[38;5;124;43m\"\u001B[39;49m\u001B[38;5;124;43m\"\u001B[39;49m\u001B[43m,\u001B[49m\n\u001B[1;32m    865\u001B[0m \u001B[43m        \u001B[49m\u001B[43m)\u001B[49m\n\u001B[1;32m    866\u001B[0m     \u001B[38;5;28;01melse\u001B[39;00m:\n\u001B[1;32m    867\u001B[0m         \u001B[38;5;66;03m# Binary mode\u001B[39;00m\n\u001B[1;32m    868\u001B[0m         handle \u001B[38;5;241m=\u001B[39m \u001B[38;5;28mopen\u001B[39m(handle, ioargs\u001B[38;5;241m.\u001B[39mmode)\n",
      "\u001B[0;31mFileNotFoundError\u001B[0m: [Errno 2] No such file or directory: 'data/single-soft-label/raw/protein/data_train_with_soft_label.csv'"
     ]
    }
   ],
   "source": [
    "\n",
    "df = pd.read_csv('data/single-soft-label/raw/protein/data_train_with_soft_label.csv')\n",
    "# df = pd.read_csv('/Users/cgu3/Documents/data/SG_combined_protein_0982_with_protein_probability.csv')"
   ],
   "metadata": {
    "collapsed": false,
    "ExecuteTime": {
     "end_time": "2023-10-07T16:22:41.541555Z",
     "start_time": "2023-10-07T16:22:40.785301Z"
    }
   }
  },
  {
   "cell_type": "code",
   "execution_count": 109,
   "outputs": [],
   "source": [
    "import torch\n",
    "from torch.utils.data import Dataset\n",
    "\n",
    "class CustomDataset(Dataset):\n",
    "    def __init__(self, data, labels, ids, train_mask=None, val_mask=None, test_mask=None):\n",
    "        self.data = data\n",
    "        self.labels = labels\n",
    "        self.ids = ids\n",
    "\n",
    "    def __len__(self):\n",
    "        return len(self.data)\n",
    "\n",
    "    def __getitem__(self, index):\n",
    "        sample_data = self.data[index]\n",
    "        sample_label = self.labels[index]\n",
    "        sample_id = self.ids[index].tolist()\n",
    "        return sample_data, sample_label, sample_id\n"
   ],
   "metadata": {
    "collapsed": false,
    "ExecuteTime": {
     "end_time": "2023-10-06T15:33:32.598501Z",
     "start_time": "2023-10-06T15:33:32.581962Z"
    }
   }
  },
  {
   "cell_type": "code",
   "execution_count": 65,
   "outputs": [],
   "source": [
    "x = torch.tensor(df.loc[:, ['protein_probability']].values, dtype=torch.float)\n",
    "# x = torch.tensor(df.loc[:, ['protein_probability', 'mRNA_TPM']].values, dtype=torch.float)\n",
    "y = torch.tensor(df.loc[:, ['protein_probability_soft_label']].values, dtype=torch.float)\n",
    "ids = df.loc[:, ['protein.Accession']].values"
   ],
   "metadata": {
    "collapsed": false,
    "ExecuteTime": {
     "end_time": "2023-10-05T21:39:44.692867Z",
     "start_time": "2023-10-05T21:39:44.673987Z"
    }
   }
  },
  {
   "cell_type": "code",
   "execution_count": 66,
   "outputs": [
    {
     "data": {
      "text/plain": "<Figure size 640x480 with 2 Axes>",
      "image/png": "[encoded data removed]"
     },
     "metadata": {},
     "output_type": "display_data"
    }
   ],
   "source": [
    "plt.subplot(3, 1, 1)\n",
    "plt.hist(x[:, 0], bins=100);\n",
    "plt.title('protein_probability');\n",
    "# \n",
    "# plt.subplot(3, 1, 2)\n",
    "# plt.hist(x[:, 1], bins=100);\n",
    "# plt.title('mRNA_TPM');\n",
    "\n",
    "plt.subplot(3, 1, 3)\n",
    "plt.hist(y.squeeze(-1), bins=100);\n",
    "plt.title('soft_label');"
   ],
   "metadata": {
    "collapsed": false,
    "ExecuteTime": {
     "end_time": "2023-10-05T21:39:46.320984Z",
     "start_time": "2023-10-05T21:39:45.110789Z"
    }
   }
  },
  {
   "cell_type": "code",
   "execution_count": 201,
   "outputs": [
    {
     "name": "stderr",
     "output_type": "stream",
     "text": [
      "Rebuilding...\n",
      "Done!\n"
     ]
    }
   ],
   "source": [
    "protein_dataset = ProteinDataset(\"data/single\", numeric_columns=['protein_probability'], label_column='hard_label', rebuild=True)\n",
    "# protein_dataset = ProteinDataset(\"data/yeast-ORBI\", numeric_columns=['protein_probability'], label_column=None, rebuild=True)"
   ],
   "metadata": {
    "collapsed": false,
    "ExecuteTime": {
     "end_time": "2023-10-07T16:41:12.730397Z",
     "start_time": "2023-10-07T16:41:11.005633Z"
    }
   }
  },
  {
   "cell_type": "code",
   "execution_count": 202,
   "outputs": [],
   "source": [
    "from torch.utils.data import Dataset, Subset\n",
    "dataset = CustomDataset(protein_dataset.x, protein_dataset.y, ids)\n",
    "\n",
    "train_indices = torch.nonzero(protein_dataset.train_mask).squeeze().tolist()\n",
    "train_dataset = Subset(dataset, train_indices)\n",
    "\n",
    "val_indices = torch.nonzero(protein_dataset.val_mask).squeeze().tolist()\n",
    "val_dataset = Subset(dataset, val_indices)\n",
    "\n",
    "test_indices = torch.nonzero(protein_dataset.test_mask).squeeze().tolist()\n",
    "test_dataset = Subset(dataset, test_indices)\n"
   ],
   "metadata": {
    "collapsed": false,
    "ExecuteTime": {
     "end_time": "2023-10-07T16:41:12.763299Z",
     "start_time": "2023-10-07T16:41:12.745969Z"
    }
   }
  },
  {
   "cell_type": "code",
   "execution_count": 203,
   "outputs": [],
   "source": [
    "from torch.utils.data import DataLoader\n",
    "train_dataloader = DataLoader(train_dataset, batch_size=64, shuffle=True)\n",
    "val_dataloader = DataLoader(val_dataset, batch_size=64, shuffle=False)\n",
    "test_dataloader = DataLoader(test_dataset, batch_size=64, shuffle=False)"
   ],
   "metadata": {
    "collapsed": false,
    "ExecuteTime": {
     "end_time": "2023-10-07T16:41:12.791367Z",
     "start_time": "2023-10-07T16:41:12.769493Z"
    }
   }
  },
  {
   "cell_type": "code",
   "execution_count": 204,
   "outputs": [],
   "source": [
    "import os\n",
    "from torch import optim, nn, utils, Tensor\n",
    "from torchvision.datasets import MNIST\n",
    "from torchvision.transforms import ToTensor\n",
    "import pytorch_lightning as pl\n",
    "from torchmetrics.classification import BinaryAUROC, BinaryAccuracy, BinaryF1Score\n",
    "\n",
    "\n",
    "# define the LightningModule\n",
    "class MLP(pl.LightningModule):\n",
    "    def __init__(self, num_features, hidden_channels, num_classes, criterion):\n",
    "        super().__init__()\n",
    "        torch.manual_seed(12345)\n",
    "        self.lin1 = nn.Linear(num_features, hidden_channels)\n",
    "        self.lin2 = nn.Linear(hidden_channels, num_classes)\n",
    "        # self.lin3 = nn.Linear(hidden_channels, num_classes)\n",
    "        self.criterion = criterion\n",
    "        self.val_auroc = BinaryAUROC()\n",
    "        self.test_auroc = BinaryAUROC()\n",
    "        self.val_accuracy = BinaryAccuracy()\n",
    "        self.test_accuracy = BinaryAccuracy()\n",
    "        self.val_F1 = BinaryF1Score()\n",
    "        self.test_F1 = BinaryF1Score()\n",
    "\n",
    "    def forward(self, x):\n",
    "        x = self.lin1(x)\n",
    "        x = x.relu()\n",
    "        x = self.lin2(x)\n",
    "        # x = x.relu()\n",
    "        # x = self.lin3(x)\n",
    "        return x\n",
    "\n",
    "    def get_auc(self, out, target):\n",
    "        return self.auroc(out, target)\n",
    "\n",
    "    def training_step(self, batch, batch_idx):\n",
    "        x, y, id = batch\n",
    "        logits = self(x).squeeze(-1)  # Perform a single forward pass.\n",
    "\n",
    "        loss = self.criterion(logits, y)  # Compute the loss solely based on the training nodes.\n",
    "        values = {\"loss\": loss}\n",
    "        self.log_dict(values, prog_bar=True)\n",
    "        return loss\n",
    "\n",
    "    def validation_step(self, batch, batch_idx):\n",
    "        x, y, ids = batch\n",
    "        logits = self(x).squeeze(-1)  # Perform a single forward pass.\n",
    "        y = torch.where(y > 0.95, 1.0, 0.0)\n",
    "        self.val_accuracy.update(logits, y)\n",
    "        loss = self.criterion(logits, y)  # Compute the loss solely based on the training nodes.\n",
    "        self.val_auroc.update(logits, y)\n",
    "        self.val_F1.update(logits, y)\n",
    "        values = {\"val_loss\": loss, \"val_acc\": self.val_accuracy, \"val_auroc\": self.val_auroc, \"val_F1\": self.val_F1}\n",
    "        self.log_dict(values, prog_bar=True, on_step=False, on_epoch=True)\n",
    "        return loss\n",
    "\n",
    "    def test_step(self, batch, batch_idx):\n",
    "        x, y, ids = batch\n",
    "        logits = self(x).squeeze(-1)\n",
    "        y = torch.where(y > 0.95, 1.0, 0.0)\n",
    "        self.test_accuracy.update(logits, y)\n",
    "        loss = self.criterion(logits, y)\n",
    "        self.test_auroc.update(logits, y)\n",
    "        self.test_F1.update(logits, y)\n",
    "        values = {\"test_loss\": loss, \"test_acc\": self.test_accuracy, \"test_auroc\": self.test_auroc, \"test_F1\": self.test_F1}\n",
    "        self.log_dict(values, prog_bar=True, on_step=False, on_epoch=True)\n",
    "        return loss\n",
    "    \n",
    "    def predict_step(self, batch, batch_idx):\n",
    "        x, y, ids = batch\n",
    "        ids = [item for sublist in ids for item in sublist]\n",
    "        logits = self(x).squeeze(-1)\n",
    "        pred_prob = torch.nn.functional.sigmoid(logits)\n",
    "        return (ids, x[:, 0], x[:, 1], pred_prob, y)\n",
    "\n",
    "    def configure_optimizers(self):\n",
    "        optimizer = optim.Adam(self.parameters(), lr=1e-3)\n",
    "        return optimizer\n",
    "\n"
   ],
   "metadata": {
    "collapsed": false,
    "ExecuteTime": {
     "end_time": "2023-10-07T16:41:12.838125Z",
     "start_time": "2023-10-07T16:41:12.833734Z"
    }
   }
  },
  {
   "cell_type": "code",
   "execution_count": 205,
   "outputs": [],
   "source": [
    "# init the autoencoder\n",
    "MLP_model = MLP(1, 1, 1, criterion = torch.nn.BCEWithLogitsLoss())\n",
    "# MLP_model = MLP(dataset.num_node_features, 10, 2, criterion = torch.nn.CrossEntropyLoss())"
   ],
   "metadata": {
    "collapsed": false,
    "ExecuteTime": {
     "end_time": "2023-10-07T16:41:13.132064Z",
     "start_time": "2023-10-07T16:41:13.099859Z"
    }
   }
  },
  {
   "cell_type": "code",
   "execution_count": 206,
   "outputs": [],
   "source": [
    "import sys\n",
    "from pytorch_lightning.callbacks import TQDMProgressBar\n",
    "\n",
    "\n",
    "class MyProgressBar(TQDMProgressBar):\n",
    "    def init_validation_tqdm(self):\n",
    "        bar = super().init_validation_tqdm()\n",
    "        if not sys.stdout.isatty():\n",
    "            bar.disable = True\n",
    "        return bar\n",
    "\n",
    "    def init_predict_tqdm(self):\n",
    "        bar = super().init_predict_tqdm()\n",
    "        if not sys.stdout.isatty():\n",
    "            bar.disable = True\n",
    "        return bar\n",
    "\n",
    "    def init_test_tqdm(self):\n",
    "        bar = super().init_test_tqdm()\n",
    "        if not sys.stdout.isatty():\n",
    "            bar.disable = True\n",
    "        return bar\n",
    "\n"
   ],
   "metadata": {
    "collapsed": false,
    "ExecuteTime": {
     "end_time": "2023-10-07T16:41:13.326364Z",
     "start_time": "2023-10-07T16:41:13.315606Z"
    }
   }
  },
  {
   "cell_type": "code",
   "execution_count": 207,
   "outputs": [
    {
     "name": "stderr",
     "output_type": "stream",
     "text": [
      "GPU available: False, used: False\n",
      "TPU available: False, using: 0 TPU cores\n",
      "IPU available: False, using: 0 IPUs\n",
      "HPU available: False, using: 0 HPUs\n"
     ]
    }
   ],
   "source": [
    "trainer = pl.Trainer(limit_train_batches=100, max_epochs=100, callbacks=[MyProgressBar()])"
   ],
   "metadata": {
    "collapsed": false,
    "ExecuteTime": {
     "end_time": "2023-10-07T16:41:13.648873Z",
     "start_time": "2023-10-07T16:41:13.519931Z"
    }
   }
  },
  {
   "cell_type": "code",
   "execution_count": 208,
   "outputs": [
    {
     "name": "stderr",
     "output_type": "stream",
     "text": [
      "\n",
      "  | Name          | Type              | Params\n",
      "----------------------------------------------------\n",
      "0 | lin1          | Linear            | 2     \n",
      "1 | lin2          | Linear            | 2     \n",
      "2 | criterion     | BCEWithLogitsLoss | 0     \n",
      "3 | val_auroc     | BinaryAUROC       | 0     \n",
      "4 | test_auroc    | BinaryAUROC       | 0     \n",
      "5 | val_accuracy  | BinaryAccuracy    | 0     \n",
      "6 | test_accuracy | BinaryAccuracy    | 0     \n",
      "7 | val_F1        | BinaryF1Score     | 0     \n",
      "8 | test_F1       | BinaryF1Score     | 0     \n",
      "----------------------------------------------------\n",
      "4         Trainable params\n",
      "0         Non-trainable params\n",
      "4         Total params\n",
      "0.000     Total estimated model params size (MB)\n"
     ]
    },
    {
     "name": "stdout",
     "output_type": "stream",
     "text": [
      "                                                                           "
     ]
    },
    {
     "name": "stderr",
     "output_type": "stream",
     "text": [
      "/Users/cgu3/opt/anaconda3/envs/Grape-Pi/lib/python3.10/site-packages/pytorch_lightning/trainer/connectors/data_connector.py:438: PossibleUserWarning: The dataloader, val_dataloader, does not have many workers which may be a bottleneck. Consider increasing the value of the `num_workers` argument` (try 8 which is the number of cpus on this machine) in the `DataLoader` init to improve performance.\n",
      "  rank_zero_warn(\n",
      "/Users/cgu3/opt/anaconda3/envs/Grape-Pi/lib/python3.10/site-packages/pytorch_lightning/trainer/connectors/data_connector.py:438: PossibleUserWarning: The dataloader, train_dataloader, does not have many workers which may be a bottleneck. Consider increasing the value of the `num_workers` argument` (try 8 which is the number of cpus on this machine) in the `DataLoader` init to improve performance.\n",
      "  rank_zero_warn(\n"
     ]
    },
    {
     "name": "stdout",
     "output_type": "stream",
     "text": [
      "Epoch 0: 100%|██████████| 100/100 [00:00<00:00, 148.97it/s, v_num=41, loss=0.566]\n",
      "Epoch 1: 100%|██████████| 100/100 [00:00<00:00, 145.07it/s, v_num=41, loss=0.631, val_loss=0.644, val_acc=0.699, val_auroc=0.789, val_F1=0.732]\n",
      "Epoch 2: 100%|██████████| 100/100 [00:00<00:00, 155.91it/s, v_num=41, loss=0.657, val_loss=0.622, val_acc=0.699, val_auroc=0.789, val_F1=0.732]\n",
      "Epoch 3: 100%|██████████| 100/100 [00:00<00:00, 153.20it/s, v_num=41, loss=0.629, val_loss=0.607, val_acc=0.699, val_auroc=0.789, val_F1=0.732]\n",
      "Epoch 4: 100%|██████████| 100/100 [00:00<00:00, 150.94it/s, v_num=41, loss=0.540, val_loss=0.594, val_acc=0.699, val_auroc=0.789, val_F1=0.732]\n",
      "Epoch 5: 100%|██████████| 100/100 [00:00<00:00, 148.30it/s, v_num=41, loss=0.589, val_loss=0.582, val_acc=0.700, val_auroc=0.786, val_F1=0.726]\n",
      "Epoch 6: 100%|██████████| 100/100 [00:00<00:00, 158.24it/s, v_num=41, loss=0.526, val_loss=0.571, val_acc=0.700, val_auroc=0.786, val_F1=0.726]\n",
      "Epoch 7: 100%|██████████| 100/100 [00:00<00:00, 151.36it/s, v_num=41, loss=0.567, val_loss=0.560, val_acc=0.700, val_auroc=0.786, val_F1=0.726]\n",
      "Epoch 8: 100%|██████████| 100/100 [00:00<00:00, 178.12it/s, v_num=41, loss=0.458, val_loss=0.550, val_acc=0.700, val_auroc=0.786, val_F1=0.726]\n",
      "Epoch 9: 100%|██████████| 100/100 [00:00<00:00, 166.65it/s, v_num=41, loss=0.509, val_loss=0.542, val_acc=0.713, val_auroc=0.786, val_F1=0.727]\n",
      "Epoch 10: 100%|██████████| 100/100 [00:00<00:00, 150.55it/s, v_num=41, loss=0.519, val_loss=0.536, val_acc=0.712, val_auroc=0.786, val_F1=0.723]\n",
      "Epoch 11: 100%|██████████| 100/100 [00:00<00:00, 157.65it/s, v_num=41, loss=0.516, val_loss=0.530, val_acc=0.718, val_auroc=0.786, val_F1=0.723]\n",
      "Epoch 12: 100%|██████████| 100/100 [00:00<00:00, 160.11it/s, v_num=41, loss=0.581, val_loss=0.527, val_acc=0.718, val_auroc=0.786, val_F1=0.723]\n",
      "Epoch 13: 100%|██████████| 100/100 [00:00<00:00, 151.63it/s, v_num=41, loss=0.477, val_loss=0.524, val_acc=0.718, val_auroc=0.786, val_F1=0.721]\n",
      "Epoch 14: 100%|██████████| 100/100 [00:00<00:00, 156.84it/s, v_num=41, loss=0.519, val_loss=0.522, val_acc=0.718, val_auroc=0.786, val_F1=0.720]\n",
      "Epoch 15: 100%|██████████| 100/100 [00:00<00:00, 155.91it/s, v_num=41, loss=0.449, val_loss=0.521, val_acc=0.717, val_auroc=0.786, val_F1=0.719]\n",
      "Epoch 16: 100%|██████████| 100/100 [00:00<00:00, 160.02it/s, v_num=41, loss=0.512, val_loss=0.520, val_acc=0.717, val_auroc=0.786, val_F1=0.718]\n",
      "Epoch 17: 100%|██████████| 100/100 [00:00<00:00, 155.39it/s, v_num=41, loss=0.533, val_loss=0.519, val_acc=0.717, val_auroc=0.786, val_F1=0.718]\n",
      "Epoch 18: 100%|██████████| 100/100 [00:00<00:00, 155.30it/s, v_num=41, loss=0.515, val_loss=0.519, val_acc=0.717, val_auroc=0.786, val_F1=0.718]\n",
      "Epoch 19: 100%|██████████| 100/100 [00:00<00:00, 169.75it/s, v_num=41, loss=0.553, val_loss=0.519, val_acc=0.716, val_auroc=0.786, val_F1=0.717]\n",
      "Epoch 20: 100%|██████████| 100/100 [00:00<00:00, 160.13it/s, v_num=41, loss=0.515, val_loss=0.519, val_acc=0.718, val_auroc=0.786, val_F1=0.719]\n",
      "Epoch 21: 100%|██████████| 100/100 [00:00<00:00, 152.80it/s, v_num=41, loss=0.459, val_loss=0.518, val_acc=0.721, val_auroc=0.786, val_F1=0.721]\n",
      "Epoch 22: 100%|██████████| 100/100 [00:00<00:00, 155.36it/s, v_num=41, loss=0.514, val_loss=0.517, val_acc=0.727, val_auroc=0.786, val_F1=0.724]\n",
      "Epoch 23: 100%|██████████| 100/100 [00:00<00:00, 161.13it/s, v_num=41, loss=0.500, val_loss=0.517, val_acc=0.727, val_auroc=0.786, val_F1=0.724]\n",
      "Epoch 24: 100%|██████████| 100/100 [00:00<00:00, 158.74it/s, v_num=41, loss=0.491, val_loss=0.516, val_acc=0.727, val_auroc=0.786, val_F1=0.723]\n",
      "Epoch 25: 100%|██████████| 100/100 [00:00<00:00, 156.94it/s, v_num=41, loss=0.471, val_loss=0.516, val_acc=0.728, val_auroc=0.786, val_F1=0.724]\n",
      "Epoch 26: 100%|██████████| 100/100 [00:00<00:00, 158.27it/s, v_num=41, loss=0.515, val_loss=0.515, val_acc=0.727, val_auroc=0.786, val_F1=0.721]\n",
      "Epoch 27: 100%|██████████| 100/100 [00:00<00:00, 156.03it/s, v_num=41, loss=0.479, val_loss=0.515, val_acc=0.727, val_auroc=0.786, val_F1=0.721]\n",
      "Epoch 28: 100%|██████████| 100/100 [00:00<00:00, 138.30it/s, v_num=41, loss=0.479, val_loss=0.515, val_acc=0.727, val_auroc=0.786, val_F1=0.721]\n",
      "Epoch 29: 100%|██████████| 100/100 [00:00<00:00, 153.58it/s, v_num=41, loss=0.455, val_loss=0.515, val_acc=0.726, val_auroc=0.786, val_F1=0.719]\n",
      "Epoch 30: 100%|██████████| 100/100 [00:00<00:00, 158.52it/s, v_num=41, loss=0.450, val_loss=0.514, val_acc=0.726, val_auroc=0.786, val_F1=0.718]\n",
      "Epoch 31: 100%|██████████| 100/100 [00:00<00:00, 156.59it/s, v_num=41, loss=0.473, val_loss=0.514, val_acc=0.728, val_auroc=0.786, val_F1=0.718]\n",
      "Epoch 32: 100%|██████████| 100/100 [00:00<00:00, 155.68it/s, v_num=41, loss=0.449, val_loss=0.514, val_acc=0.730, val_auroc=0.786, val_F1=0.720]\n",
      "Epoch 33: 100%|██████████| 100/100 [00:00<00:00, 157.49it/s, v_num=41, loss=0.599, val_loss=0.514, val_acc=0.729, val_auroc=0.786, val_F1=0.719]\n",
      "Epoch 34: 100%|██████████| 100/100 [00:00<00:00, 158.86it/s, v_num=41, loss=0.544, val_loss=0.513, val_acc=0.728, val_auroc=0.786, val_F1=0.717]\n",
      "Epoch 35: 100%|██████████| 100/100 [00:00<00:00, 140.17it/s, v_num=41, loss=0.473, val_loss=0.514, val_acc=0.729, val_auroc=0.786, val_F1=0.719]\n",
      "Epoch 36: 100%|██████████| 100/100 [00:00<00:00, 134.97it/s, v_num=41, loss=0.429, val_loss=0.513, val_acc=0.727, val_auroc=0.786, val_F1=0.716]\n",
      "Epoch 37: 100%|██████████| 100/100 [00:00<00:00, 155.40it/s, v_num=41, loss=0.425, val_loss=0.513, val_acc=0.725, val_auroc=0.786, val_F1=0.713]\n",
      "Epoch 38: 100%|██████████| 100/100 [00:00<00:00, 158.97it/s, v_num=41, loss=0.521, val_loss=0.512, val_acc=0.727, val_auroc=0.786, val_F1=0.715]\n",
      "Epoch 39: 100%|██████████| 100/100 [00:00<00:00, 155.48it/s, v_num=41, loss=0.514, val_loss=0.513, val_acc=0.727, val_auroc=0.786, val_F1=0.715]\n",
      "Epoch 40: 100%|██████████| 100/100 [00:00<00:00, 154.52it/s, v_num=41, loss=0.496, val_loss=0.513, val_acc=0.726, val_auroc=0.786, val_F1=0.713]\n",
      "Epoch 41: 100%|██████████| 100/100 [00:00<00:00, 157.88it/s, v_num=41, loss=0.466, val_loss=0.513, val_acc=0.727, val_auroc=0.789, val_F1=0.715]\n",
      "Epoch 42: 100%|██████████| 100/100 [00:00<00:00, 141.09it/s, v_num=41, loss=0.462, val_loss=0.513, val_acc=0.727, val_auroc=0.788, val_F1=0.715]\n",
      "Epoch 43: 100%|██████████| 100/100 [00:00<00:00, 156.24it/s, v_num=41, loss=0.418, val_loss=0.513, val_acc=0.727, val_auroc=0.788, val_F1=0.715]\n",
      "Epoch 44: 100%|██████████| 100/100 [00:00<00:00, 156.79it/s, v_num=41, loss=0.529, val_loss=0.513, val_acc=0.727, val_auroc=0.786, val_F1=0.714]\n",
      "Epoch 45: 100%|██████████| 100/100 [00:00<00:00, 159.07it/s, v_num=41, loss=0.513, val_loss=0.512, val_acc=0.728, val_auroc=0.785, val_F1=0.715]\n",
      "Epoch 46: 100%|██████████| 100/100 [00:00<00:00, 160.81it/s, v_num=41, loss=0.464, val_loss=0.513, val_acc=0.727, val_auroc=0.785, val_F1=0.714]\n",
      "Epoch 47: 100%|██████████| 100/100 [00:00<00:00, 158.44it/s, v_num=41, loss=0.546, val_loss=0.512, val_acc=0.728, val_auroc=0.783, val_F1=0.714]\n",
      "Epoch 48: 100%|██████████| 100/100 [00:00<00:00, 154.60it/s, v_num=41, loss=0.468, val_loss=0.512, val_acc=0.730, val_auroc=0.782, val_F1=0.716]\n",
      "Epoch 49: 100%|██████████| 100/100 [00:00<00:00, 150.87it/s, v_num=41, loss=0.498, val_loss=0.512, val_acc=0.731, val_auroc=0.782, val_F1=0.716]\n",
      "Epoch 50: 100%|██████████| 100/100 [00:00<00:00, 155.86it/s, v_num=41, loss=0.526, val_loss=0.512, val_acc=0.731, val_auroc=0.782, val_F1=0.716]\n",
      "Epoch 51: 100%|██████████| 100/100 [00:00<00:00, 153.38it/s, v_num=41, loss=0.452, val_loss=0.512, val_acc=0.731, val_auroc=0.783, val_F1=0.716]\n",
      "Epoch 52: 100%|██████████| 100/100 [00:00<00:00, 172.41it/s, v_num=41, loss=0.527, val_loss=0.512, val_acc=0.731, val_auroc=0.783, val_F1=0.716]\n",
      "Epoch 53: 100%|██████████| 100/100 [00:00<00:00, 164.52it/s, v_num=41, loss=0.480, val_loss=0.512, val_acc=0.731, val_auroc=0.783, val_F1=0.716]\n",
      "Epoch 54: 100%|██████████| 100/100 [00:00<00:00, 152.99it/s, v_num=41, loss=0.553, val_loss=0.512, val_acc=0.731, val_auroc=0.783, val_F1=0.716]\n",
      "Epoch 55: 100%|██████████| 100/100 [00:00<00:00, 153.14it/s, v_num=41, loss=0.491, val_loss=0.512, val_acc=0.732, val_auroc=0.783, val_F1=0.717]\n",
      "Epoch 56: 100%|██████████| 100/100 [00:00<00:00, 152.19it/s, v_num=41, loss=0.535, val_loss=0.511, val_acc=0.730, val_auroc=0.783, val_F1=0.714]\n",
      "Epoch 57: 100%|██████████| 100/100 [00:00<00:00, 149.01it/s, v_num=41, loss=0.497, val_loss=0.511, val_acc=0.732, val_auroc=0.784, val_F1=0.716]\n",
      "Epoch 58: 100%|██████████| 100/100 [00:00<00:00, 145.30it/s, v_num=41, loss=0.502, val_loss=0.511, val_acc=0.731, val_auroc=0.782, val_F1=0.714]\n",
      "Epoch 59: 100%|██████████| 100/100 [00:00<00:00, 150.99it/s, v_num=41, loss=0.518, val_loss=0.511, val_acc=0.731, val_auroc=0.782, val_F1=0.714]\n",
      "Epoch 60: 100%|██████████| 100/100 [00:00<00:00, 153.76it/s, v_num=41, loss=0.567, val_loss=0.511, val_acc=0.731, val_auroc=0.782, val_F1=0.713]\n",
      "Epoch 61: 100%|██████████| 100/100 [00:00<00:00, 149.47it/s, v_num=41, loss=0.537, val_loss=0.511, val_acc=0.731, val_auroc=0.782, val_F1=0.713]\n",
      "Epoch 62: 100%|██████████| 100/100 [00:00<00:00, 154.83it/s, v_num=41, loss=0.471, val_loss=0.511, val_acc=0.731, val_auroc=0.782, val_F1=0.714]\n",
      "Epoch 63: 100%|██████████| 100/100 [00:00<00:00, 152.61it/s, v_num=41, loss=0.502, val_loss=0.512, val_acc=0.732, val_auroc=0.782, val_F1=0.716]\n",
      "Epoch 64: 100%|██████████| 100/100 [00:00<00:00, 153.81it/s, v_num=41, loss=0.590, val_loss=0.511, val_acc=0.731, val_auroc=0.781, val_F1=0.713]\n",
      "Epoch 65: 100%|██████████| 100/100 [00:00<00:00, 155.73it/s, v_num=41, loss=0.500, val_loss=0.511, val_acc=0.731, val_auroc=0.780, val_F1=0.713]\n",
      "Epoch 66: 100%|██████████| 100/100 [00:00<00:00, 156.93it/s, v_num=41, loss=0.471, val_loss=0.511, val_acc=0.731, val_auroc=0.779, val_F1=0.713]\n",
      "Epoch 67: 100%|██████████| 100/100 [00:00<00:00, 160.55it/s, v_num=41, loss=0.451, val_loss=0.510, val_acc=0.730, val_auroc=0.779, val_F1=0.711]\n",
      "Epoch 68: 100%|██████████| 100/100 [00:00<00:00, 155.87it/s, v_num=41, loss=0.500, val_loss=0.511, val_acc=0.732, val_auroc=0.779, val_F1=0.714]\n",
      "Epoch 69: 100%|██████████| 100/100 [00:00<00:00, 136.54it/s, v_num=41, loss=0.445, val_loss=0.511, val_acc=0.731, val_auroc=0.779, val_F1=0.713]\n",
      "Epoch 70: 100%|██████████| 100/100 [00:00<00:00, 140.85it/s, v_num=41, loss=0.482, val_loss=0.511, val_acc=0.732, val_auroc=0.779, val_F1=0.714]\n",
      "Epoch 71: 100%|██████████| 100/100 [00:00<00:00, 153.61it/s, v_num=41, loss=0.516, val_loss=0.511, val_acc=0.730, val_auroc=0.779, val_F1=0.712]\n",
      "Epoch 72: 100%|██████████| 100/100 [00:00<00:00, 157.19it/s, v_num=41, loss=0.475, val_loss=0.511, val_acc=0.731, val_auroc=0.779, val_F1=0.713]\n",
      "Epoch 73: 100%|██████████| 100/100 [00:00<00:00, 155.19it/s, v_num=41, loss=0.509, val_loss=0.511, val_acc=0.731, val_auroc=0.779, val_F1=0.713]\n",
      "Epoch 74: 100%|██████████| 100/100 [00:00<00:00, 158.66it/s, v_num=41, loss=0.493, val_loss=0.511, val_acc=0.730, val_auroc=0.779, val_F1=0.712]\n",
      "Epoch 75: 100%|██████████| 100/100 [00:00<00:00, 157.52it/s, v_num=41, loss=0.531, val_loss=0.511, val_acc=0.730, val_auroc=0.779, val_F1=0.712]\n",
      "Epoch 76: 100%|██████████| 100/100 [00:00<00:00, 151.90it/s, v_num=41, loss=0.464, val_loss=0.511, val_acc=0.730, val_auroc=0.778, val_F1=0.711]\n",
      "Epoch 77: 100%|██████████| 100/100 [00:00<00:00, 154.75it/s, v_num=41, loss=0.502, val_loss=0.511, val_acc=0.731, val_auroc=0.779, val_F1=0.713]\n",
      "Epoch 78: 100%|██████████| 100/100 [00:00<00:00, 152.22it/s, v_num=41, loss=0.508, val_loss=0.510, val_acc=0.730, val_auroc=0.778, val_F1=0.711]\n",
      "Epoch 79: 100%|██████████| 100/100 [00:00<00:00, 153.09it/s, v_num=41, loss=0.535, val_loss=0.510, val_acc=0.730, val_auroc=0.778, val_F1=0.711]\n",
      "Epoch 80: 100%|██████████| 100/100 [00:00<00:00, 153.66it/s, v_num=41, loss=0.478, val_loss=0.510, val_acc=0.730, val_auroc=0.777, val_F1=0.711]\n",
      "Epoch 81: 100%|██████████| 100/100 [00:00<00:00, 149.94it/s, v_num=41, loss=0.474, val_loss=0.510, val_acc=0.730, val_auroc=0.778, val_F1=0.711]\n",
      "Epoch 82: 100%|██████████| 100/100 [00:00<00:00, 153.90it/s, v_num=41, loss=0.454, val_loss=0.511, val_acc=0.730, val_auroc=0.777, val_F1=0.711]\n",
      "Epoch 83: 100%|██████████| 100/100 [00:00<00:00, 146.35it/s, v_num=41, loss=0.472, val_loss=0.511, val_acc=0.731, val_auroc=0.778, val_F1=0.713]\n",
      "Epoch 84: 100%|██████████| 100/100 [00:00<00:00, 155.76it/s, v_num=41, loss=0.544, val_loss=0.510, val_acc=0.730, val_auroc=0.777, val_F1=0.711]\n",
      "Epoch 85: 100%|██████████| 100/100 [00:00<00:00, 155.29it/s, v_num=41, loss=0.577, val_loss=0.510, val_acc=0.730, val_auroc=0.778, val_F1=0.711]\n",
      "Epoch 86: 100%|██████████| 100/100 [00:00<00:00, 162.80it/s, v_num=41, loss=0.497, val_loss=0.510, val_acc=0.730, val_auroc=0.778, val_F1=0.711]\n",
      "Epoch 87: 100%|██████████| 100/100 [00:00<00:00, 155.36it/s, v_num=41, loss=0.498, val_loss=0.510, val_acc=0.730, val_auroc=0.778, val_F1=0.711]\n",
      "Epoch 88: 100%|██████████| 100/100 [00:00<00:00, 158.83it/s, v_num=41, loss=0.507, val_loss=0.511, val_acc=0.730, val_auroc=0.777, val_F1=0.711]\n",
      "Epoch 89: 100%|██████████| 100/100 [00:00<00:00, 159.12it/s, v_num=41, loss=0.592, val_loss=0.511, val_acc=0.731, val_auroc=0.778, val_F1=0.713]\n",
      "Epoch 90: 100%|██████████| 100/100 [00:00<00:00, 157.20it/s, v_num=41, loss=0.520, val_loss=0.511, val_acc=0.730, val_auroc=0.777, val_F1=0.711]\n",
      "Epoch 91: 100%|██████████| 100/100 [00:00<00:00, 156.02it/s, v_num=41, loss=0.609, val_loss=0.510, val_acc=0.730, val_auroc=0.778, val_F1=0.711]\n",
      "Epoch 92: 100%|██████████| 100/100 [00:00<00:00, 156.23it/s, v_num=41, loss=0.513, val_loss=0.510, val_acc=0.730, val_auroc=0.778, val_F1=0.711]\n",
      "Epoch 93: 100%|██████████| 100/100 [00:00<00:00, 154.11it/s, v_num=41, loss=0.449, val_loss=0.510, val_acc=0.730, val_auroc=0.777, val_F1=0.711]\n",
      "Epoch 94: 100%|██████████| 100/100 [00:00<00:00, 173.36it/s, v_num=41, loss=0.418, val_loss=0.511, val_acc=0.730, val_auroc=0.777, val_F1=0.711]\n",
      "Epoch 95: 100%|██████████| 100/100 [00:00<00:00, 157.49it/s, v_num=41, loss=0.439, val_loss=0.510, val_acc=0.730, val_auroc=0.778, val_F1=0.711]\n",
      "Epoch 96: 100%|██████████| 100/100 [00:00<00:00, 160.00it/s, v_num=41, loss=0.633, val_loss=0.510, val_acc=0.730, val_auroc=0.778, val_F1=0.711]\n",
      "Epoch 97: 100%|██████████| 100/100 [00:00<00:00, 153.64it/s, v_num=41, loss=0.445, val_loss=0.511, val_acc=0.730, val_auroc=0.777, val_F1=0.711]\n",
      "Epoch 98: 100%|██████████| 100/100 [00:00<00:00, 152.66it/s, v_num=41, loss=0.605, val_loss=0.511, val_acc=0.730, val_auroc=0.778, val_F1=0.711]\n",
      "Epoch 99: 100%|██████████| 100/100 [00:00<00:00, 157.12it/s, v_num=41, loss=0.561, val_loss=0.511, val_acc=0.732, val_auroc=0.778, val_F1=0.714]\n",
      "Epoch 99: 100%|██████████| 100/100 [00:00<00:00, 141.04it/s, v_num=41, loss=0.561, val_loss=0.511, val_acc=0.731, val_auroc=0.777, val_F1=0.713]"
     ]
    },
    {
     "name": "stderr",
     "output_type": "stream",
     "text": [
      "`Trainer.fit` stopped: `max_epochs=100` reached.\n"
     ]
    },
    {
     "name": "stdout",
     "output_type": "stream",
     "text": [
      "Epoch 99: 100%|██████████| 100/100 [00:00<00:00, 139.69it/s, v_num=41, loss=0.561, val_loss=0.511, val_acc=0.731, val_auroc=0.777, val_F1=0.713]\n"
     ]
    }
   ],
   "source": [
    "trainer.fit(model=MLP_model, train_dataloaders=train_dataloader, val_dataloaders=val_dataloader)"
   ],
   "metadata": {
    "collapsed": false,
    "ExecuteTime": {
     "end_time": "2023-10-07T16:42:26.804390Z",
     "start_time": "2023-10-07T16:41:14.130208Z"
    }
   }
  },
  {
   "cell_type": "code",
   "execution_count": 209,
   "outputs": [
    {
     "name": "stderr",
     "output_type": "stream",
     "text": [
      "/Users/cgu3/opt/anaconda3/envs/Grape-Pi/lib/python3.10/site-packages/pytorch_lightning/trainer/connectors/data_connector.py:438: PossibleUserWarning: The dataloader, test_dataloader, does not have many workers which may be a bottleneck. Consider increasing the value of the `num_workers` argument` (try 8 which is the number of cpus on this machine) in the `DataLoader` init to improve performance.\n",
      "  rank_zero_warn(\n"
     ]
    },
    {
     "name": "stdout",
     "output_type": "stream",
     "text": [
      "Testing: 0it [00:00, ?it/s]────────────────────────────────────────────────────────────────────────────────────────────────────────────────────────\n",
      "       Test metric             DataLoader 0\n",
      "────────────────────────────────────────────────────────────────────────────────────────────────────────────────────────\n",
      "         test_F1            0.6842639446258545\n",
      "        test_acc            0.7193140983581543\n",
      "       test_auroc           0.7619515061378479\n",
      "        test_loss           0.5236853361129761\n",
      "────────────────────────────────────────────────────────────────────────────────────────────────────────────────────────\n"
     ]
    },
    {
     "data": {
      "text/plain": "[{'test_loss': 0.5236853361129761,\n  'test_acc': 0.7193140983581543,\n  'test_auroc': 0.7619515061378479,\n  'test_F1': 0.6842639446258545}]"
     },
     "execution_count": 209,
     "metadata": {},
     "output_type": "execute_result"
    }
   ],
   "source": [
    "trainer.test(model=MLP_model, dataloaders=test_dataloader)"
   ],
   "metadata": {
    "collapsed": false,
    "ExecuteTime": {
     "end_time": "2023-10-07T16:42:26.871849Z",
     "start_time": "2023-10-07T16:42:26.739411Z"
    }
   }
  },
  {
   "cell_type": "code",
   "execution_count": 127,
   "outputs": [
    {
     "name": "stderr",
     "output_type": "stream",
     "text": [
      "/Users/cgu3/opt/anaconda3/envs/Grape-Pi/lib/python3.10/site-packages/pytorch_lightning/trainer/connectors/data_connector.py:438: PossibleUserWarning: The dataloader, predict_dataloader, does not have many workers which may be a bottleneck. Consider increasing the value of the `num_workers` argument` (try 8 which is the number of cpus on this machine) in the `DataLoader` init to improve performance.\n",
      "  rank_zero_warn(\n"
     ]
    },
    {
     "name": "stdout",
     "output_type": "stream",
     "text": [
      "Predicting: 0it [00:00, ?it/s]"
     ]
    },
    {
     "ename": "IndexError",
     "evalue": "index 1 is out of bounds for dimension 1 with size 1",
     "output_type": "error",
     "traceback": [
      "\u001B[0;31m---------------------------------------------------------------------------\u001B[0m",
      "\u001B[0;31mIndexError\u001B[0m                                Traceback (most recent call last)",
      "Cell \u001B[0;32mIn[127], line 1\u001B[0m\n\u001B[0;32m----> 1\u001B[0m out \u001B[38;5;241m=\u001B[39m \u001B[43mtrainer\u001B[49m\u001B[38;5;241;43m.\u001B[39;49m\u001B[43mpredict\u001B[49m\u001B[43m(\u001B[49m\u001B[43mMLP_model\u001B[49m\u001B[43m,\u001B[49m\u001B[43m \u001B[49m\u001B[43mdataloaders\u001B[49m\u001B[38;5;241;43m=\u001B[39;49m\u001B[43mtest_dataloader\u001B[49m\u001B[43m)\u001B[49m\n\u001B[1;32m      2\u001B[0m out\n",
      "File \u001B[0;32m~/opt/anaconda3/envs/Grape-Pi/lib/python3.10/site-packages/pytorch_lightning/trainer/trainer.py:852\u001B[0m, in \u001B[0;36mTrainer.predict\u001B[0;34m(self, model, dataloaders, datamodule, return_predictions, ckpt_path)\u001B[0m\n\u001B[1;32m    850\u001B[0m     \u001B[38;5;28mself\u001B[39m\u001B[38;5;241m.\u001B[39mstrategy\u001B[38;5;241m.\u001B[39m_lightning_module \u001B[38;5;241m=\u001B[39m model\n\u001B[1;32m    851\u001B[0m _verify_strategy_supports_compile(\u001B[38;5;28mself\u001B[39m\u001B[38;5;241m.\u001B[39mlightning_module, \u001B[38;5;28mself\u001B[39m\u001B[38;5;241m.\u001B[39mstrategy)\n\u001B[0;32m--> 852\u001B[0m \u001B[38;5;28;01mreturn\u001B[39;00m \u001B[43mcall\u001B[49m\u001B[38;5;241;43m.\u001B[39;49m\u001B[43m_call_and_handle_interrupt\u001B[49m\u001B[43m(\u001B[49m\n\u001B[1;32m    853\u001B[0m \u001B[43m    \u001B[49m\u001B[38;5;28;43mself\u001B[39;49m\u001B[43m,\u001B[49m\u001B[43m \u001B[49m\u001B[38;5;28;43mself\u001B[39;49m\u001B[38;5;241;43m.\u001B[39;49m\u001B[43m_predict_impl\u001B[49m\u001B[43m,\u001B[49m\u001B[43m \u001B[49m\u001B[43mmodel\u001B[49m\u001B[43m,\u001B[49m\u001B[43m \u001B[49m\u001B[43mdataloaders\u001B[49m\u001B[43m,\u001B[49m\u001B[43m \u001B[49m\u001B[43mdatamodule\u001B[49m\u001B[43m,\u001B[49m\u001B[43m \u001B[49m\u001B[43mreturn_predictions\u001B[49m\u001B[43m,\u001B[49m\u001B[43m \u001B[49m\u001B[43mckpt_path\u001B[49m\n\u001B[1;32m    854\u001B[0m \u001B[43m\u001B[49m\u001B[43m)\u001B[49m\n",
      "File \u001B[0;32m~/opt/anaconda3/envs/Grape-Pi/lib/python3.10/site-packages/pytorch_lightning/trainer/call.py:43\u001B[0m, in \u001B[0;36m_call_and_handle_interrupt\u001B[0;34m(trainer, trainer_fn, *args, **kwargs)\u001B[0m\n\u001B[1;32m     41\u001B[0m     \u001B[38;5;28;01mif\u001B[39;00m trainer\u001B[38;5;241m.\u001B[39mstrategy\u001B[38;5;241m.\u001B[39mlauncher \u001B[38;5;129;01mis\u001B[39;00m \u001B[38;5;129;01mnot\u001B[39;00m \u001B[38;5;28;01mNone\u001B[39;00m:\n\u001B[1;32m     42\u001B[0m         \u001B[38;5;28;01mreturn\u001B[39;00m trainer\u001B[38;5;241m.\u001B[39mstrategy\u001B[38;5;241m.\u001B[39mlauncher\u001B[38;5;241m.\u001B[39mlaunch(trainer_fn, \u001B[38;5;241m*\u001B[39margs, trainer\u001B[38;5;241m=\u001B[39mtrainer, \u001B[38;5;241m*\u001B[39m\u001B[38;5;241m*\u001B[39mkwargs)\n\u001B[0;32m---> 43\u001B[0m     \u001B[38;5;28;01mreturn\u001B[39;00m \u001B[43mtrainer_fn\u001B[49m\u001B[43m(\u001B[49m\u001B[38;5;241;43m*\u001B[39;49m\u001B[43margs\u001B[49m\u001B[43m,\u001B[49m\u001B[43m \u001B[49m\u001B[38;5;241;43m*\u001B[39;49m\u001B[38;5;241;43m*\u001B[39;49m\u001B[43mkwargs\u001B[49m\u001B[43m)\u001B[49m\n\u001B[1;32m     45\u001B[0m \u001B[38;5;28;01mexcept\u001B[39;00m _TunerExitException:\n\u001B[1;32m     46\u001B[0m     _call_teardown_hook(trainer)\n",
      "File \u001B[0;32m~/opt/anaconda3/envs/Grape-Pi/lib/python3.10/site-packages/pytorch_lightning/trainer/trainer.py:894\u001B[0m, in \u001B[0;36mTrainer._predict_impl\u001B[0;34m(self, model, dataloaders, datamodule, return_predictions, ckpt_path)\u001B[0m\n\u001B[1;32m    889\u001B[0m \u001B[38;5;28mself\u001B[39m\u001B[38;5;241m.\u001B[39m_data_connector\u001B[38;5;241m.\u001B[39mattach_data(model, predict_dataloaders\u001B[38;5;241m=\u001B[39mdataloaders, datamodule\u001B[38;5;241m=\u001B[39mdatamodule)\n\u001B[1;32m    891\u001B[0m ckpt_path \u001B[38;5;241m=\u001B[39m \u001B[38;5;28mself\u001B[39m\u001B[38;5;241m.\u001B[39m_checkpoint_connector\u001B[38;5;241m.\u001B[39m_select_ckpt_path(\n\u001B[1;32m    892\u001B[0m     \u001B[38;5;28mself\u001B[39m\u001B[38;5;241m.\u001B[39mstate\u001B[38;5;241m.\u001B[39mfn, ckpt_path, model_provided\u001B[38;5;241m=\u001B[39mmodel_provided, model_connected\u001B[38;5;241m=\u001B[39m\u001B[38;5;28mself\u001B[39m\u001B[38;5;241m.\u001B[39mlightning_module \u001B[38;5;129;01mis\u001B[39;00m \u001B[38;5;129;01mnot\u001B[39;00m \u001B[38;5;28;01mNone\u001B[39;00m\n\u001B[1;32m    893\u001B[0m )\n\u001B[0;32m--> 894\u001B[0m results \u001B[38;5;241m=\u001B[39m \u001B[38;5;28;43mself\u001B[39;49m\u001B[38;5;241;43m.\u001B[39;49m\u001B[43m_run\u001B[49m\u001B[43m(\u001B[49m\u001B[43mmodel\u001B[49m\u001B[43m,\u001B[49m\u001B[43m \u001B[49m\u001B[43mckpt_path\u001B[49m\u001B[38;5;241;43m=\u001B[39;49m\u001B[43mckpt_path\u001B[49m\u001B[43m)\u001B[49m\n\u001B[1;32m    896\u001B[0m \u001B[38;5;28;01massert\u001B[39;00m \u001B[38;5;28mself\u001B[39m\u001B[38;5;241m.\u001B[39mstate\u001B[38;5;241m.\u001B[39mstopped\n\u001B[1;32m    897\u001B[0m \u001B[38;5;28mself\u001B[39m\u001B[38;5;241m.\u001B[39mpredicting \u001B[38;5;241m=\u001B[39m \u001B[38;5;28;01mFalse\u001B[39;00m\n",
      "File \u001B[0;32m~/opt/anaconda3/envs/Grape-Pi/lib/python3.10/site-packages/pytorch_lightning/trainer/trainer.py:980\u001B[0m, in \u001B[0;36mTrainer._run\u001B[0;34m(self, model, ckpt_path)\u001B[0m\n\u001B[1;32m    975\u001B[0m \u001B[38;5;28mself\u001B[39m\u001B[38;5;241m.\u001B[39m_signal_connector\u001B[38;5;241m.\u001B[39mregister_signal_handlers()\n\u001B[1;32m    977\u001B[0m \u001B[38;5;66;03m# ----------------------------\u001B[39;00m\n\u001B[1;32m    978\u001B[0m \u001B[38;5;66;03m# RUN THE TRAINER\u001B[39;00m\n\u001B[1;32m    979\u001B[0m \u001B[38;5;66;03m# ----------------------------\u001B[39;00m\n\u001B[0;32m--> 980\u001B[0m results \u001B[38;5;241m=\u001B[39m \u001B[38;5;28;43mself\u001B[39;49m\u001B[38;5;241;43m.\u001B[39;49m\u001B[43m_run_stage\u001B[49m\u001B[43m(\u001B[49m\u001B[43m)\u001B[49m\n\u001B[1;32m    982\u001B[0m \u001B[38;5;66;03m# ----------------------------\u001B[39;00m\n\u001B[1;32m    983\u001B[0m \u001B[38;5;66;03m# POST-Training CLEAN UP\u001B[39;00m\n\u001B[1;32m    984\u001B[0m \u001B[38;5;66;03m# ----------------------------\u001B[39;00m\n\u001B[1;32m    985\u001B[0m log\u001B[38;5;241m.\u001B[39mdebug(\u001B[38;5;124mf\u001B[39m\u001B[38;5;124m\"\u001B[39m\u001B[38;5;132;01m{\u001B[39;00m\u001B[38;5;28mself\u001B[39m\u001B[38;5;241m.\u001B[39m\u001B[38;5;18m__class__\u001B[39m\u001B[38;5;241m.\u001B[39m\u001B[38;5;18m__name__\u001B[39m\u001B[38;5;132;01m}\u001B[39;00m\u001B[38;5;124m: trainer tearing down\u001B[39m\u001B[38;5;124m\"\u001B[39m)\n",
      "File \u001B[0;32m~/opt/anaconda3/envs/Grape-Pi/lib/python3.10/site-packages/pytorch_lightning/trainer/trainer.py:1018\u001B[0m, in \u001B[0;36mTrainer._run_stage\u001B[0;34m(self)\u001B[0m\n\u001B[1;32m   1016\u001B[0m     \u001B[38;5;28;01mreturn\u001B[39;00m \u001B[38;5;28mself\u001B[39m\u001B[38;5;241m.\u001B[39m_evaluation_loop\u001B[38;5;241m.\u001B[39mrun()\n\u001B[1;32m   1017\u001B[0m \u001B[38;5;28;01mif\u001B[39;00m \u001B[38;5;28mself\u001B[39m\u001B[38;5;241m.\u001B[39mpredicting:\n\u001B[0;32m-> 1018\u001B[0m     \u001B[38;5;28;01mreturn\u001B[39;00m \u001B[38;5;28;43mself\u001B[39;49m\u001B[38;5;241;43m.\u001B[39;49m\u001B[43mpredict_loop\u001B[49m\u001B[38;5;241;43m.\u001B[39;49m\u001B[43mrun\u001B[49m\u001B[43m(\u001B[49m\u001B[43m)\u001B[49m\n\u001B[1;32m   1019\u001B[0m \u001B[38;5;28;01mif\u001B[39;00m \u001B[38;5;28mself\u001B[39m\u001B[38;5;241m.\u001B[39mtraining:\n\u001B[1;32m   1020\u001B[0m     \u001B[38;5;28;01mwith\u001B[39;00m isolate_rng():\n",
      "File \u001B[0;32m~/opt/anaconda3/envs/Grape-Pi/lib/python3.10/site-packages/pytorch_lightning/loops/utilities.py:181\u001B[0m, in \u001B[0;36m_no_grad_context.<locals>._decorator\u001B[0;34m(self, *args, **kwargs)\u001B[0m\n\u001B[1;32m    179\u001B[0m     context_manager \u001B[38;5;241m=\u001B[39m torch\u001B[38;5;241m.\u001B[39mno_grad\n\u001B[1;32m    180\u001B[0m \u001B[38;5;28;01mwith\u001B[39;00m context_manager():\n\u001B[0;32m--> 181\u001B[0m     \u001B[38;5;28;01mreturn\u001B[39;00m \u001B[43mloop_run\u001B[49m\u001B[43m(\u001B[49m\u001B[38;5;28;43mself\u001B[39;49m\u001B[43m,\u001B[49m\u001B[43m \u001B[49m\u001B[38;5;241;43m*\u001B[39;49m\u001B[43margs\u001B[49m\u001B[43m,\u001B[49m\u001B[43m \u001B[49m\u001B[38;5;241;43m*\u001B[39;49m\u001B[38;5;241;43m*\u001B[39;49m\u001B[43mkwargs\u001B[49m\u001B[43m)\u001B[49m\n",
      "File \u001B[0;32m~/opt/anaconda3/envs/Grape-Pi/lib/python3.10/site-packages/pytorch_lightning/loops/prediction_loop.py:112\u001B[0m, in \u001B[0;36m_PredictionLoop.run\u001B[0;34m(self)\u001B[0m\n\u001B[1;32m    110\u001B[0m     batch, batch_idx, dataloader_idx \u001B[38;5;241m=\u001B[39m \u001B[38;5;28mnext\u001B[39m(data_fetcher)\n\u001B[1;32m    111\u001B[0m     \u001B[38;5;28mself\u001B[39m\u001B[38;5;241m.\u001B[39mbatch_progress\u001B[38;5;241m.\u001B[39mis_last_batch \u001B[38;5;241m=\u001B[39m data_fetcher\u001B[38;5;241m.\u001B[39mdone\n\u001B[0;32m--> 112\u001B[0m     \u001B[38;5;28;43mself\u001B[39;49m\u001B[38;5;241;43m.\u001B[39;49m\u001B[43m_predict_step\u001B[49m\u001B[43m(\u001B[49m\u001B[43mbatch\u001B[49m\u001B[43m,\u001B[49m\u001B[43m \u001B[49m\u001B[43mbatch_idx\u001B[49m\u001B[43m,\u001B[49m\u001B[43m \u001B[49m\u001B[43mdataloader_idx\u001B[49m\u001B[43m)\u001B[49m\n\u001B[1;32m    113\u001B[0m \u001B[38;5;28;01mexcept\u001B[39;00m \u001B[38;5;167;01mStopIteration\u001B[39;00m:\n\u001B[1;32m    114\u001B[0m     \u001B[38;5;66;03m# this needs to wrap the `*_step` call too (not just `next`) for `dataloader_iter` support\u001B[39;00m\n\u001B[1;32m    115\u001B[0m     \u001B[38;5;28;01mbreak\u001B[39;00m\n",
      "File \u001B[0;32m~/opt/anaconda3/envs/Grape-Pi/lib/python3.10/site-packages/pytorch_lightning/loops/prediction_loop.py:229\u001B[0m, in \u001B[0;36m_PredictionLoop._predict_step\u001B[0;34m(self, batch, batch_idx, dataloader_idx)\u001B[0m\n\u001B[1;32m    226\u001B[0m \u001B[38;5;28mself\u001B[39m\u001B[38;5;241m.\u001B[39mbatch_progress\u001B[38;5;241m.\u001B[39mincrement_started()\n\u001B[1;32m    228\u001B[0m \u001B[38;5;66;03m# configure step_kwargs\u001B[39;00m\n\u001B[0;32m--> 229\u001B[0m predictions \u001B[38;5;241m=\u001B[39m \u001B[43mcall\u001B[49m\u001B[38;5;241;43m.\u001B[39;49m\u001B[43m_call_strategy_hook\u001B[49m\u001B[43m(\u001B[49m\u001B[43mtrainer\u001B[49m\u001B[43m,\u001B[49m\u001B[43m \u001B[49m\u001B[38;5;124;43m\"\u001B[39;49m\u001B[38;5;124;43mpredict_step\u001B[39;49m\u001B[38;5;124;43m\"\u001B[39;49m\u001B[43m,\u001B[49m\u001B[43m \u001B[49m\u001B[38;5;241;43m*\u001B[39;49m\u001B[43mstep_kwargs\u001B[49m\u001B[38;5;241;43m.\u001B[39;49m\u001B[43mvalues\u001B[49m\u001B[43m(\u001B[49m\u001B[43m)\u001B[49m\u001B[43m)\u001B[49m\n\u001B[1;32m    231\u001B[0m \u001B[38;5;28mself\u001B[39m\u001B[38;5;241m.\u001B[39mbatch_progress\u001B[38;5;241m.\u001B[39mincrement_processed()\n\u001B[1;32m    233\u001B[0m \u001B[38;5;28;01mif\u001B[39;00m predictions \u001B[38;5;129;01mis\u001B[39;00m \u001B[38;5;28;01mNone\u001B[39;00m:\n",
      "File \u001B[0;32m~/opt/anaconda3/envs/Grape-Pi/lib/python3.10/site-packages/pytorch_lightning/trainer/call.py:293\u001B[0m, in \u001B[0;36m_call_strategy_hook\u001B[0;34m(trainer, hook_name, *args, **kwargs)\u001B[0m\n\u001B[1;32m    290\u001B[0m     \u001B[38;5;28;01mreturn\u001B[39;00m \u001B[38;5;28;01mNone\u001B[39;00m\n\u001B[1;32m    292\u001B[0m \u001B[38;5;28;01mwith\u001B[39;00m trainer\u001B[38;5;241m.\u001B[39mprofiler\u001B[38;5;241m.\u001B[39mprofile(\u001B[38;5;124mf\u001B[39m\u001B[38;5;124m\"\u001B[39m\u001B[38;5;124m[Strategy]\u001B[39m\u001B[38;5;132;01m{\u001B[39;00mtrainer\u001B[38;5;241m.\u001B[39mstrategy\u001B[38;5;241m.\u001B[39m\u001B[38;5;18m__class__\u001B[39m\u001B[38;5;241m.\u001B[39m\u001B[38;5;18m__name__\u001B[39m\u001B[38;5;132;01m}\u001B[39;00m\u001B[38;5;124m.\u001B[39m\u001B[38;5;132;01m{\u001B[39;00mhook_name\u001B[38;5;132;01m}\u001B[39;00m\u001B[38;5;124m\"\u001B[39m):\n\u001B[0;32m--> 293\u001B[0m     output \u001B[38;5;241m=\u001B[39m \u001B[43mfn\u001B[49m\u001B[43m(\u001B[49m\u001B[38;5;241;43m*\u001B[39;49m\u001B[43margs\u001B[49m\u001B[43m,\u001B[49m\u001B[43m \u001B[49m\u001B[38;5;241;43m*\u001B[39;49m\u001B[38;5;241;43m*\u001B[39;49m\u001B[43mkwargs\u001B[49m\u001B[43m)\u001B[49m\n\u001B[1;32m    295\u001B[0m \u001B[38;5;66;03m# restore current_fx when nested context\u001B[39;00m\n\u001B[1;32m    296\u001B[0m pl_module\u001B[38;5;241m.\u001B[39m_current_fx_name \u001B[38;5;241m=\u001B[39m prev_fx_name\n",
      "File \u001B[0;32m~/opt/anaconda3/envs/Grape-Pi/lib/python3.10/site-packages/pytorch_lightning/strategies/strategy.py:413\u001B[0m, in \u001B[0;36mStrategy.predict_step\u001B[0;34m(self, *args, **kwargs)\u001B[0m\n\u001B[1;32m    411\u001B[0m \u001B[38;5;28;01mwith\u001B[39;00m \u001B[38;5;28mself\u001B[39m\u001B[38;5;241m.\u001B[39mprecision_plugin\u001B[38;5;241m.\u001B[39mpredict_step_context():\n\u001B[1;32m    412\u001B[0m     \u001B[38;5;28;01massert\u001B[39;00m \u001B[38;5;28misinstance\u001B[39m(\u001B[38;5;28mself\u001B[39m\u001B[38;5;241m.\u001B[39mmodel, PredictStep)\n\u001B[0;32m--> 413\u001B[0m     \u001B[38;5;28;01mreturn\u001B[39;00m \u001B[38;5;28;43mself\u001B[39;49m\u001B[38;5;241;43m.\u001B[39;49m\u001B[43mmodel\u001B[49m\u001B[38;5;241;43m.\u001B[39;49m\u001B[43mpredict_step\u001B[49m\u001B[43m(\u001B[49m\u001B[38;5;241;43m*\u001B[39;49m\u001B[43margs\u001B[49m\u001B[43m,\u001B[49m\u001B[43m \u001B[49m\u001B[38;5;241;43m*\u001B[39;49m\u001B[38;5;241;43m*\u001B[39;49m\u001B[43mkwargs\u001B[49m\u001B[43m)\u001B[49m\n",
      "Cell \u001B[0;32mIn[118], line 72\u001B[0m, in \u001B[0;36mMLP.predict_step\u001B[0;34m(self, batch, batch_idx)\u001B[0m\n\u001B[1;32m     70\u001B[0m logits \u001B[38;5;241m=\u001B[39m \u001B[38;5;28mself\u001B[39m(x)\u001B[38;5;241m.\u001B[39msqueeze(\u001B[38;5;241m-\u001B[39m\u001B[38;5;241m1\u001B[39m)\n\u001B[1;32m     71\u001B[0m pred_prob \u001B[38;5;241m=\u001B[39m torch\u001B[38;5;241m.\u001B[39mnn\u001B[38;5;241m.\u001B[39mfunctional\u001B[38;5;241m.\u001B[39msigmoid(logits)\n\u001B[0;32m---> 72\u001B[0m \u001B[38;5;28;01mreturn\u001B[39;00m (ids, x[:, \u001B[38;5;241m0\u001B[39m], \u001B[43mx\u001B[49m\u001B[43m[\u001B[49m\u001B[43m:\u001B[49m\u001B[43m,\u001B[49m\u001B[43m \u001B[49m\u001B[38;5;241;43m1\u001B[39;49m\u001B[43m]\u001B[49m, pred_prob, y)\n",
      "\u001B[0;31mIndexError\u001B[0m: index 1 is out of bounds for dimension 1 with size 1"
     ]
    }
   ],
   "source": [
    "out = trainer.predict(MLP_model, dataloaders=test_dataloader)\n",
    "out"
   ],
   "metadata": {
    "collapsed": false,
    "ExecuteTime": {
     "end_time": "2023-10-06T15:54:43.852553Z",
     "start_time": "2023-10-06T15:54:41.014327Z"
    }
   }
  },
  {
   "cell_type": "code",
   "execution_count": null,
   "outputs": [],
   "source": [
    "accession, raw_prob, mRNA, pred_prob, soft_label = zip(*out)\n",
    "accession = [item for sublist in accession for item in sublist]\n",
    "raw_prob = [item.item() for sublist in raw_prob for item in sublist]\n",
    "mRNA = [item.item() for sublist in mRNA for item in sublist]\n",
    "pred_prob = [item.item() for sublist in pred_prob for item in sublist]\n",
    "soft_label = [item.item() for sublist in soft_label for item in sublist]\n",
    "pd.DataFrame({'accession': accession, 'raw_prob': raw_prob, 'mRNA': mRNA, 'pred_prob': pred_prob, 'soft_label': soft_label})"
   ],
   "metadata": {
    "collapsed": false,
    "ExecuteTime": {
     "start_time": "2023-10-05T05:56:26.462766Z"
    }
   }
  },
  {
   "cell_type": "code",
   "execution_count": 102,
   "outputs": [
    {
     "data": {
      "text/plain": "<torch.utils.data.dataloader.DataLoader at 0x156841660>"
     },
     "execution_count": 102,
     "metadata": {},
     "output_type": "execute_result"
    }
   ],
   "source": [
    "test_dataloader"
   ],
   "metadata": {
    "collapsed": false,
    "ExecuteTime": {
     "end_time": "2023-10-04T19:24:41.068889Z",
     "start_time": "2023-10-04T19:24:40.966076Z"
    }
   }
  },
  {
   "cell_type": "code",
   "execution_count": 54,
   "outputs": [
    {
     "data": {
      "text/plain": "Launching TensorBoard..."
     },
     "metadata": {},
     "output_type": "display_data"
    }
   ],
   "source": [
    "%reload_ext tensorboard\n",
    "%tensorboard --logdir=lightning_logs/"
   ],
   "metadata": {
    "collapsed": false,
    "ExecuteTime": {
     "end_time": "2023-09-22T21:19:13.658811Z",
     "start_time": "2023-09-22T21:19:09.970212Z"
    }
   }
  },
  {
   "cell_type": "code",
   "execution_count": null,
   "outputs": [],
   "source": [],
   "metadata": {
    "collapsed": false
   }
  }
 ],
 "metadata": {
  "kernelspec": {
   "display_name": "Python 3",
   "language": "python",
   "name": "python3"
  },
  "language_info": {
   "codemirror_mode": {
    "name": "ipython",
    "version": 2
   },
   "file_extension": ".py",
   "mimetype": "text/x-python",
   "name": "python",
   "nbconvert_exporter": "python",
   "pygments_lexer": "ipython2",
   "version": "2.7.6"
  }
 },
 "nbformat": 4,
 "nbformat_minor": 0
}

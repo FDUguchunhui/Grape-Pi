{
 "cells": [
  {
   "cell_type": "code",
   "execution_count": 68,
   "outputs": [],
   "source": [
    "import os\n",
    "from graphgym.custom_graphgym.loader.protein import ProteinDataset"
   ],
   "metadata": {
    "collapsed": false,
    "ExecuteTime": {
     "end_time": "2023-10-08T23:06:49.660211Z",
     "start_time": "2023-10-08T23:06:49.588200Z"
    }
   },
   "id": "9a55c6dd18f6790a"
  },
  {
   "cell_type": "code",
   "execution_count": 69,
   "outputs": [],
   "source": [
    "os.chdir('/Users/cgu3/Documents/Grape-Pi')"
   ],
   "metadata": {
    "collapsed": false,
    "ExecuteTime": {
     "end_time": "2023-10-08T23:06:49.700829Z",
     "start_time": "2023-10-08T23:06:49.679676Z"
    }
   },
   "id": "cc1b48002b7c6fda"
  },
  {
   "cell_type": "code",
   "execution_count": 70,
   "id": "initial_id",
   "metadata": {
    "collapsed": true,
    "ExecuteTime": {
     "end_time": "2023-10-08T23:06:52.153993Z",
     "start_time": "2023-10-08T23:06:50.010340Z"
    }
   },
   "outputs": [
    {
     "name": "stderr",
     "output_type": "stream",
     "text": [
      "Rebuilding...\n",
      "Done!\n"
     ]
    }
   ],
   "source": [
    "dataset = ProteinDataset(\"data/single\", numeric_columns=['protein_probability'], label_column='hard_label', rebuild=True)\n",
    "# dataset = ProteinDataset(\"data/yeast-ORBI\", numeric_columns=['protein_probability'], label_column=None, rebuild=True)\n",
    "# dataset = ProteinDataset(\"data/human-ORBI\", numeric_columns=['protein_probability'], label_column='label', rebuild=True)"
   ]
  },
  {
   "cell_type": "code",
   "execution_count": 70,
   "outputs": [],
   "source": [],
   "metadata": {
    "collapsed": false,
    "ExecuteTime": {
     "end_time": "2023-10-08T23:06:52.159491Z",
     "start_time": "2023-10-08T23:06:52.142464Z"
    }
   },
   "id": "5692021396f44e17"
  },
  {
   "cell_type": "code",
   "execution_count": 71,
   "outputs": [],
   "source": [
    "from matplotlib import pyplot as plt\n",
    "from torch_geometric.utils import  degree\n",
    "# plt.hist(degree(dataset.edge_index[0]), bins=100);"
   ],
   "metadata": {
    "collapsed": false,
    "ExecuteTime": {
     "end_time": "2023-10-08T23:06:52.176033Z",
     "start_time": "2023-10-08T23:06:52.160167Z"
    }
   },
   "id": "6786432e0527a665"
  },
  {
   "cell_type": "code",
   "execution_count": 72,
   "outputs": [
    {
     "name": "stderr",
     "output_type": "stream",
     "text": [
      "Exception ignored in: <function _MultiProcessingDataLoaderIter.__del__ at 0x11a6efa30>\n",
      "Traceback (most recent call last):\n",
      "  File \"/Users/cgu3/opt/anaconda3/envs/Grape-Pi/lib/python3.10/site-packages/torch/utils/data/dataloader.py\", line 1479, in __del__\n",
      "    self._shutdown_workers()\n",
      "  File \"/Users/cgu3/opt/anaconda3/envs/Grape-Pi/lib/python3.10/site-packages/torch/utils/data/dataloader.py\", line 1443, in _shutdown_workers\n",
      "    w.join(timeout=_utils.MP_STATUS_CHECK_INTERVAL)\n",
      "  File \"/Users/cgu3/opt/anaconda3/envs/Grape-Pi/lib/python3.10/multiprocessing/process.py\", line 149, in join\n",
      "    res = self._popen.wait(timeout)\n",
      "  File \"/Users/cgu3/opt/anaconda3/envs/Grape-Pi/lib/python3.10/multiprocessing/popen_fork.py\", line 40, in wait\n",
      "    if not wait([self.sentinel], timeout):\n",
      "  File \"/Users/cgu3/opt/anaconda3/envs/Grape-Pi/lib/python3.10/multiprocessing/connection.py\", line 931, in wait\n",
      "    ready = selector.select(timeout)\n",
      "  File \"/Users/cgu3/opt/anaconda3/envs/Grape-Pi/lib/python3.10/selectors.py\", line 416, in select\n",
      "    fd_event_list = self._selector.poll(timeout)\n",
      "KeyboardInterrupt: \n",
      "Exception ignored in: <function _MultiProcessingDataLoaderIter.__del__ at 0x11a6efa30>\n",
      "Traceback (most recent call last):\n",
      "  File \"/Users/cgu3/opt/anaconda3/envs/Grape-Pi/lib/python3.10/site-packages/torch/utils/data/dataloader.py\", line 1479, in __del__\n",
      "    self._shutdown_workers()\n",
      "  File \"/Users/cgu3/opt/anaconda3/envs/Grape-Pi/lib/python3.10/site-packages/torch/utils/data/dataloader.py\", line 1443, in _shutdown_workers\n",
      "    w.join(timeout=_utils.MP_STATUS_CHECK_INTERVAL)\n",
      "  File \"/Users/cgu3/opt/anaconda3/envs/Grape-Pi/lib/python3.10/multiprocessing/process.py\", line 149, in join\n",
      "    res = self._popen.wait(timeout)\n",
      "  File \"/Users/cgu3/opt/anaconda3/envs/Grape-Pi/lib/python3.10/multiprocessing/popen_fork.py\", line 40, in wait\n",
      "KeyboardInterrupt: \n"
     ]
    },
    {
     "data": {
      "text/plain": "<Figure size 640x480 with 1 Axes>",
      "image/png": "[encoded data removed]"
     },
     "metadata": {},
     "output_type": "display_data"
    }
   ],
   "source": [
    "plt.hist(dataset.x[:, 0], bins=100);"
   ],
   "metadata": {
    "collapsed": false,
    "ExecuteTime": {
     "end_time": "2023-10-08T23:08:17.998594Z",
     "start_time": "2023-10-08T23:06:52.180917Z"
    }
   },
   "id": "9513cfbaa7a86bd3"
  },
  {
   "cell_type": "code",
   "execution_count": 73,
   "outputs": [
    {
     "data": {
      "text/plain": "1"
     },
     "execution_count": 73,
     "metadata": {},
     "output_type": "execute_result"
    }
   ],
   "source": [
    "dataset.num_features\n",
    "# try implement this\n",
    "# dataset.num_nodes"
   ],
   "metadata": {
    "collapsed": false,
    "ExecuteTime": {
     "end_time": "2023-10-08T23:08:18.003039Z",
     "start_time": "2023-10-08T23:08:17.997873Z"
    }
   },
   "id": "c1b83e9b794ae4c9"
  },
  {
   "cell_type": "code",
   "execution_count": 74,
   "outputs": [],
   "source": [
    "import copy\n",
    "import os.path as osp\n",
    "import time\n",
    "\n",
    "import torch\n",
    "import torch.nn.functional as F\n",
    "from tqdm import tqdm\n",
    "\n",
    "from torch_geometric.loader import NeighborLoader\n",
    "from torch_geometric.nn import SAGEConv\n",
    "\n",
    "device = torch.device('cuda' if torch.cuda.is_available() else 'cpu')\n",
    "\n",
    "data = dataset[0].to(device, 'x', 'y', 'train_mask', 'val_mask', 'test_mask')"
   ],
   "metadata": {
    "collapsed": false,
    "ExecuteTime": {
     "end_time": "2023-10-08T23:08:18.013595Z",
     "start_time": "2023-10-08T23:08:18.004815Z"
    }
   },
   "id": "1d81189dc77095c9"
  },
  {
   "cell_type": "code",
   "execution_count": 83,
   "outputs": [],
   "source": [
    "import torchmetrics\n",
    "from torchmetrics.classification import BinaryAUROC, BinaryAccuracy, BinaryF1Score\n",
    "import numpy as np\n",
    "\n",
    "kwargs = {'batch_size': 256, 'num_workers': 4, 'persistent_workers': True}\n",
    "train_loader = NeighborLoader(data, input_nodes=data.train_mask,\n",
    "                              num_neighbors=[50], shuffle=True, **kwargs)\n",
    "\n",
    "subgraph_loader = NeighborLoader(copy.copy(data), input_nodes=None,\n",
    "                                 num_neighbors=[-1], shuffle=False, **kwargs)\n",
    "\n",
    "# No need to maintain these features during evaluation:\n",
    "del subgraph_loader.data.x, subgraph_loader.data.y\n",
    "# Add global node index information.\n",
    "subgraph_loader.data.num_nodes = data.num_nodes\n",
    "subgraph_loader.data.n_id = torch.arange(data.num_nodes)\n",
    "\n",
    "\n",
    "class SAGE(torch.nn.Module):\n",
    "    def __init__(self, in_channels, hidden_channels, out_channels):\n",
    "        super().__init__()\n",
    "        self.convs = torch.nn.ModuleList()\n",
    "        self.convs.append(SAGEConv(in_channels, hidden_channels))\n",
    "        self.convs.append(SAGEConv(hidden_channels, out_channels))\n",
    "        # self.lin1 = torch.nn.Linear(hidden_channels, out_channels)\n",
    "\n",
    "    def forward(self, x, edge_index):\n",
    "        for i, conv in enumerate(self.convs):\n",
    "            x = conv(x, edge_index)\n",
    "            if i < len(self.convs) - 1:\n",
    "                x = x.relu_()\n",
    "                # x = F.dropout(x, p=0.5, training=self.training)\n",
    "            # x = self.lin1(x)\n",
    "        return x\n",
    "\n",
    "    @torch.no_grad()\n",
    "    def inference(self, x_all, subgraph_loader):\n",
    "        pbar = tqdm(total=len(subgraph_loader.dataset) * len(self.convs))\n",
    "        pbar.set_description('Evaluating')\n",
    "\n",
    "        # Compute representations of nodes layer by layer, using *all*\n",
    "        # available edges. This leads to faster computation in contrast to\n",
    "        # immediately computing the final representations of each batch:\n",
    "        for i, conv in enumerate(self.convs):\n",
    "            xs = []\n",
    "            for batch in subgraph_loader:\n",
    "                x = x_all[batch.n_id.to(x_all.device)].to(device)\n",
    "                x = conv(x, batch.edge_index.to(device))\n",
    "                if i < len(self.convs) - 1:\n",
    "                    x = x.relu_()\n",
    "                # x = self.lin1(x)\n",
    "                xs.append(x[:batch.batch_size].cpu())\n",
    "                pbar.update(batch.batch_size)\n",
    "            x_all = torch.cat(xs, dim=0)\n",
    "        pbar.close()\n",
    "        return x_all\n",
    "\n",
    "\n",
    "model = SAGE(dataset.num_features, 10, 1).to(device)\n",
    "optimizer = torch.optim.Adam(model.parameters(), lr=0.005)\n",
    "\n",
    "def train(epoch):\n",
    "    model.train()\n",
    "\n",
    "    pbar = tqdm(total=int(len(train_loader.dataset)))\n",
    "    pbar.set_description(f'Epoch {epoch:02d}')\n",
    "\n",
    "    total_loss = total_correct = total_examples = 0\n",
    "    for batch in train_loader:\n",
    "        optimizer.zero_grad()\n",
    "        y = batch.y[:batch.batch_size]\n",
    "        y_hat = model(batch.x, batch.edge_index.to(device))[:batch.batch_size]\n",
    "        loss = F.binary_cross_entropy_with_logits(y_hat.squeeze(-1), y)\n",
    "        loss.backward()\n",
    "        optimizer.step()\n",
    "\n",
    "        # total_loss += float(loss) * batch.batch_size\n",
    "        # total_correct += int((y_hat.argmax(dim=-1) == y).sum())\n",
    "        total_examples += batch.batch_size\n",
    "        pbar.update(batch.batch_size)\n",
    "    pbar.close()\n",
    "\n",
    "    return total_loss / total_examples, total_correct / total_examples\n",
    "\n",
    "\n",
    "@torch.no_grad()\n",
    "def test():\n",
    "    model.eval()\n",
    "    logits = model.inference(data.x, subgraph_loader).squeeze(-1)\n",
    "    y_pred_prob = torch.nn.functional.sigmoid(logits)\n",
    "    # binary prediction\n",
    "    y_pred = torch.where(y_pred_prob > 0.5, 1, 0)\n",
    "    # create hard label only for confidence proteins\n",
    "    y_hard = torch.where(data.y > 0.99, 1, \n",
    "                         torch.where(data.y < 0.5, 0, -1))\n",
    "    binary_mask = (y_hard != -1).bool()\n",
    "    y_hard = y_hard.to(y_pred_prob.device)\n",
    "    y = data.y.to(y_pred_prob.device)\n",
    "\n",
    "    \n",
    "    train_auroc, val_auroc, test_auroc = BinaryAUROC(), \n",
    "    accuracy = BinaryAccuracy()\n",
    "    \n",
    "\n",
    "    accs = []\n",
    "    aucs = []\n",
    "    loss = []\n",
    "    for mask in [data.train_mask, data.val_mask, data.test_mask]:\n",
    "        accs.append(int((y_pred[mask] == y_hard[mask]).sum()) / int(mask.sum()))\n",
    "        mask = mask & binary_mask\n",
    "        aucs.append(auroc(y_pred_prob[mask], y_hard[mask]))\n",
    "        loss.append(F.binary_cross_entropy_with_logits(logits[mask], y[mask]))\n",
    "    \n",
    "    # loss = []\n",
    "    # for mask in [data.train_mask, data.val_mask, data.test_mask]:\n",
    "    #     loss.append(F.binary_cross_entropy_with_logits(y_hat[mask], y[mask]))\n",
    "    return loss, accs, aucs"
   ],
   "metadata": {
    "collapsed": false,
    "ExecuteTime": {
     "end_time": "2023-10-08T23:16:59.013573Z",
     "start_time": "2023-10-08T23:16:58.836421Z"
    }
   },
   "id": "ed6a72c0fcaf4ee"
  },
  {
   "cell_type": "code",
   "execution_count": 84,
   "outputs": [
    {
     "name": "stderr",
     "output_type": "stream",
     "text": [
      "Epoch 01: 100%|██████████| 8867/8867 [00:05<00:00, 1558.91it/s]\n",
      "Evaluating: 100%|██████████| 22166/22166 [00:04<00:00, 4509.99it/s] \n"
     ]
    },
    {
     "name": "stdout",
     "output_type": "stream",
     "text": [
      "Epoch: 01, Train Loss: 0.6228, Val Loss: 0.6187, Test Loss: 0.6190\n",
      "Epoch: 01, Train Acc: 0.6276, Val Acc: 0.6327, Test AUC: 0.6309\n",
      "Epoch: 01, Train AUC: 0.8198, Val AUC: 0.8124, Test AUC: 0.8158\n"
     ]
    },
    {
     "name": "stderr",
     "output_type": "stream",
     "text": [
      "Epoch 02: 100%|██████████| 8867/8867 [00:00<00:00, 26139.69it/s]\n",
      "Evaluating: 100%|██████████| 22166/22166 [00:00<00:00, 42212.36it/s]\n"
     ]
    },
    {
     "name": "stdout",
     "output_type": "stream",
     "text": [
      "Epoch: 02, Train Loss: 0.5464, Val Loss: 0.5477, Test Loss: 0.5446\n",
      "Epoch: 02, Train Acc: 0.7539, Val Acc: 0.7536, Test AUC: 0.7536\n",
      "Epoch: 02, Train AUC: 0.8404, Val AUC: 0.8355, Test AUC: 0.8350\n"
     ]
    },
    {
     "name": "stderr",
     "output_type": "stream",
     "text": [
      "Epoch 03: 100%|██████████| 8867/8867 [00:00<00:00, 26749.96it/s]\n",
      "Evaluating: 100%|██████████| 22166/22166 [00:00<00:00, 41155.98it/s]\n"
     ]
    },
    {
     "name": "stdout",
     "output_type": "stream",
     "text": [
      "Epoch: 03, Train Loss: 0.4935, Val Loss: 0.4964, Test Loss: 0.4938\n",
      "Epoch: 03, Train Acc: 0.7564, Val Acc: 0.7563, Test AUC: 0.7563\n",
      "Epoch: 03, Train AUC: 0.8468, Val AUC: 0.8452, Test AUC: 0.8419\n"
     ]
    },
    {
     "name": "stderr",
     "output_type": "stream",
     "text": [
      "Epoch 04: 100%|██████████| 8867/8867 [00:00<00:00, 26648.26it/s]\n",
      "Evaluating: 100%|██████████| 22166/22166 [00:00<00:00, 37764.91it/s]\n"
     ]
    },
    {
     "name": "stdout",
     "output_type": "stream",
     "text": [
      "Epoch: 04, Train Loss: 0.4742, Val Loss: 0.4763, Test Loss: 0.4752\n",
      "Epoch: 04, Train Acc: 0.7594, Val Acc: 0.7590, Test AUC: 0.7572\n",
      "Epoch: 04, Train AUC: 0.8488, Val AUC: 0.8486, Test AUC: 0.8436\n"
     ]
    },
    {
     "name": "stderr",
     "output_type": "stream",
     "text": [
      "Epoch 05: 100%|██████████| 8867/8867 [00:00<00:00, 25107.76it/s]\n",
      "Evaluating: 100%|██████████| 22166/22166 [00:00<00:00, 41487.92it/s]\n"
     ]
    },
    {
     "name": "stdout",
     "output_type": "stream",
     "text": [
      "Epoch: 05, Train Loss: 0.4700, Val Loss: 0.4704, Test Loss: 0.4710\n",
      "Epoch: 05, Train Acc: 0.7616, Val Acc: 0.7608, Test AUC: 0.7626\n",
      "Epoch: 05, Train AUC: 0.8499, Val AUC: 0.8499, Test AUC: 0.8440\n"
     ]
    },
    {
     "name": "stderr",
     "output_type": "stream",
     "text": [
      "Epoch 06: 100%|██████████| 8867/8867 [00:00<00:00, 26357.17it/s]\n",
      "Evaluating: 100%|██████████| 22166/22166 [00:00<00:00, 40576.50it/s]\n"
     ]
    },
    {
     "name": "stdout",
     "output_type": "stream",
     "text": [
      "Epoch: 06, Train Loss: 0.4679, Val Loss: 0.4682, Test Loss: 0.4692\n",
      "Epoch: 06, Train Acc: 0.7610, Val Acc: 0.7608, Test AUC: 0.7608\n",
      "Epoch: 06, Train AUC: 0.8511, Val AUC: 0.8510, Test AUC: 0.8450\n"
     ]
    },
    {
     "name": "stderr",
     "output_type": "stream",
     "text": [
      "Epoch 07: 100%|██████████| 8867/8867 [00:00<00:00, 24595.40it/s]\n",
      "Evaluating: 100%|██████████| 22166/22166 [00:00<00:00, 40959.81it/s]\n"
     ]
    },
    {
     "name": "stdout",
     "output_type": "stream",
     "text": [
      "Epoch: 07, Train Loss: 0.4704, Val Loss: 0.4674, Test Loss: 0.4707\n",
      "Epoch: 07, Train Acc: 0.7611, Val Acc: 0.7744, Test AUC: 0.7690\n",
      "Epoch: 07, Train AUC: 0.8510, Val AUC: 0.8515, Test AUC: 0.8455\n"
     ]
    },
    {
     "name": "stderr",
     "output_type": "stream",
     "text": [
      "Epoch 08: 100%|██████████| 8867/8867 [00:00<00:00, 27451.91it/s]\n",
      "Evaluating: 100%|██████████| 22166/22166 [00:00<00:00, 42098.49it/s]\n"
     ]
    },
    {
     "name": "stdout",
     "output_type": "stream",
     "text": [
      "Epoch: 08, Train Loss: 0.4668, Val Loss: 0.4655, Test Loss: 0.4678\n",
      "Epoch: 08, Train Acc: 0.7637, Val Acc: 0.7635, Test AUC: 0.7608\n",
      "Epoch: 08, Train AUC: 0.8522, Val AUC: 0.8526, Test AUC: 0.8467\n"
     ]
    },
    {
     "name": "stderr",
     "output_type": "stream",
     "text": [
      "Epoch 09: 100%|██████████| 8867/8867 [00:00<00:00, 27146.02it/s]\n",
      "Evaluating: 100%|██████████| 22166/22166 [00:00<00:00, 40794.46it/s]\n"
     ]
    },
    {
     "name": "stdout",
     "output_type": "stream",
     "text": [
      "Epoch: 09, Train Loss: 0.4672, Val Loss: 0.4648, Test Loss: 0.4678\n",
      "Epoch: 09, Train Acc: 0.7617, Val Acc: 0.7708, Test AUC: 0.7635\n",
      "Epoch: 09, Train AUC: 0.8525, Val AUC: 0.8528, Test AUC: 0.8469\n"
     ]
    },
    {
     "name": "stderr",
     "output_type": "stream",
     "text": [
      "Epoch 10: 100%|██████████| 8867/8867 [00:00<00:00, 25675.47it/s]\n",
      "Evaluating: 100%|██████████| 22166/22166 [00:00<00:00, 41448.21it/s]"
     ]
    },
    {
     "name": "stdout",
     "output_type": "stream",
     "text": [
      "Epoch: 10, Train Loss: 0.4663, Val Loss: 0.4637, Test Loss: 0.4668\n",
      "Epoch: 10, Train Acc: 0.7623, Val Acc: 0.7708, Test AUC: 0.7617\n",
      "Epoch: 10, Train AUC: 0.8527, Val AUC: 0.8536, Test AUC: 0.8475\n",
      "Median time per epoch: 0.8943s\n"
     ]
    },
    {
     "name": "stderr",
     "output_type": "stream",
     "text": [
      "\n"
     ]
    }
   ],
   "source": [
    "\n",
    "times = []\n",
    "for epoch in range(1, 11):\n",
    "    start = time.time()\n",
    "    loss, acc = train(epoch)\n",
    "    # print(f'Epoch {epoch:02d}, Loss: {loss:.4f}, Approx. Train: {acc:.4f}')\n",
    "    loss, accs, aucs = test()\n",
    "    train_loss, val_loss, test_loss = loss\n",
    "    train_acc, val_acc, test_acc = accs\n",
    "    train_auc, val_auc, test_auc = aucs\n",
    "    print(f'Epoch: {epoch:02d}, Train Loss: {train_loss:.4f}, Val Loss: {val_loss:.4f}, '\n",
    "          f'Test Loss: {test_loss:.4f}')\n",
    "    print(f'Epoch: {epoch:02d}, Train Acc: {train_acc:.4f}, Val Acc: {val_acc:.4f}, '\n",
    "          f'Test AUC: {test_acc:.4f}')\n",
    "    print(f'Epoch: {epoch:02d}, Train AUC: {train_auc:.4f}, Val AUC: {val_auc:.4f}, '\n",
    "          f'Test AUC: {test_auc:.4f}')\n",
    "    times.append(time.time() - start)\n",
    "print(f\"Median time per epoch: {torch.tensor(times).median():.4f}s\")"
   ],
   "metadata": {
    "collapsed": false,
    "ExecuteTime": {
     "end_time": "2023-10-08T23:17:17.971835Z",
     "start_time": "2023-10-08T23:16:59.230134Z"
    }
   },
   "id": "6c62e37d979f323a"
  },
  {
   "cell_type": "code",
   "execution_count": 34,
   "outputs": [],
   "source": [],
   "metadata": {
    "collapsed": false,
    "ExecuteTime": {
     "end_time": "2023-10-06T22:30:14.071995Z",
     "start_time": "2023-10-06T22:30:14.031753Z"
    }
   },
   "id": "fe515b8f1316afb9"
  },
  {
   "cell_type": "code",
   "execution_count": null,
   "outputs": [],
   "source": [],
   "metadata": {
    "collapsed": false
   },
   "id": "50482ef34df9570b"
  }
 ],
 "metadata": {
  "kernelspec": {
   "display_name": "Python 3",
   "language": "python",
   "name": "python3"
  },
  "language_info": {
   "codemirror_mode": {
    "name": "ipython",
    "version": 2
   },
   "file_extension": ".py",
   "mimetype": "text/x-python",
   "name": "python",
   "nbconvert_exporter": "python",
   "pygments_lexer": "ipython2",
   "version": "2.7.6"
  }
 },
 "nbformat": 4,
 "nbformat_minor": 5
}

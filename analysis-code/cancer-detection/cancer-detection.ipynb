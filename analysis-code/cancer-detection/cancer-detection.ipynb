{
 "cells": [
  {
   "cell_type": "code",
   "execution_count": 1,
   "outputs": [],
   "source": [
    "from IPython.core.interactiveshell import InteractiveShell\n",
    "InteractiveShell.ast_node_interactivity = \"all\"\n",
    "import pandas as pd\n",
    "import numpy as np\n",
    "from graphgym.custom_graphgym.loader.protein_batch import ProteinBatchDataset\n",
    "import matplotlib.pyplot as plt\n",
    "import os"
   ],
   "metadata": {
    "collapsed": false,
    "ExecuteTime": {
     "end_time": "2023-10-24T21:04:08.219585Z",
     "start_time": "2023-10-24T21:04:06.342159Z"
    }
   },
   "id": "1c12ca16f29958a8"
  },
  {
   "cell_type": "code",
   "execution_count": 2,
   "outputs": [],
   "source": [
    "# General imports\n",
    "import os\n",
    "import json\n",
    "import collections\n",
    "\n",
    "# Data science imports\n",
    "import numpy as np\n",
    "import pandas as pd\n",
    "import matplotlib.pyplot as plt\n",
    "import seaborn as sns\n",
    "import plotly\n",
    "import scipy.sparse as sp\n",
    "\n",
    "# Import Weights & Biases for Experiment Tracking\n",
    "import wandb\n",
    "\n",
    "# Graph imports\n",
    "import torch\n",
    "from torch import Tensor\n",
    "import torch.nn.functional as F\n",
    "\n",
    "import torch_geometric\n",
    "from torch_geometric.nn import GCNConv\n",
    "from torch_geometric.utils import to_networkx\n",
    "\n",
    "import networkx as nx\n",
    "from networkx.algorithms import community\n",
    "\n",
    "from tqdm.auto import trange"
   ],
   "metadata": {
    "collapsed": false,
    "ExecuteTime": {
     "end_time": "2023-10-24T21:04:08.623761Z",
     "start_time": "2023-10-24T21:04:08.220867Z"
    }
   },
   "id": "2649fed2e0903e2e"
  },
  {
   "cell_type": "code",
   "execution_count": 3,
   "outputs": [],
   "source": [
    "os.chdir('/Users/cgu3/Documents/Grape-Pi')"
   ],
   "metadata": {
    "collapsed": false,
    "ExecuteTime": {
     "end_time": "2023-10-24T21:04:08.627028Z",
     "start_time": "2023-10-24T21:04:08.624438Z"
    }
   },
   "id": "9b83d01527608cab"
  },
  {
   "cell_type": "code",
   "execution_count": 4,
   "id": "initial_id",
   "metadata": {
    "collapsed": true,
    "ExecuteTime": {
     "end_time": "2023-10-24T21:04:18.780911Z",
     "start_time": "2023-10-24T21:04:10.391801Z"
    }
   },
   "outputs": [
    {
     "name": "stderr",
     "output_type": "stream",
     "text": [
      "Rebuilding...\n",
      "Done!\n"
     ]
    }
   ],
   "source": [
    "protein_dataset = ProteinBatchDataset(\"data/protein_graphs\", rebuild=True)"
   ]
  },
  {
   "cell_type": "code",
   "execution_count": 57,
   "outputs": [
    {
     "data": {
      "text/plain": "tensor([[ 2075,  2075,  2075,  ..., 64290, 63454, 66337],\n        [ 1616,  2839,  1909,  ..., 65646, 65646, 65646]])"
     },
     "execution_count": 57,
     "metadata": {},
     "output_type": "execute_result"
    }
   ],
   "source": [
    "protein_dataset.edge_index"
   ],
   "metadata": {
    "collapsed": false,
    "ExecuteTime": {
     "end_time": "2023-10-24T20:56:28.282294Z",
     "start_time": "2023-10-24T20:56:28.110024Z"
    }
   },
   "id": "8f923fd4a1da96a"
  },
  {
   "cell_type": "code",
   "execution_count": 5,
   "outputs": [
    {
     "name": "stdout",
     "output_type": "stream",
     "text": [
      "Step 1:\n",
      "=======\n",
      "Number of graphs in the current batch: 2\n",
      "DataBatch(x=[13786, 1], edge_index=[2, 6770568], y=[2], train_mask=[2], val_mask=[2], test_mask=[2], batch=[13786], ptr=[3])\n",
      "\n",
      "Step 2:\n",
      "=======\n",
      "Number of graphs in the current batch: 2\n",
      "DataBatch(x=[13786, 1], edge_index=[2, 6770568], y=[2], train_mask=[2], val_mask=[2], test_mask=[2], batch=[13786], ptr=[3])\n",
      "\n",
      "Step 3:\n",
      "=======\n",
      "Number of graphs in the current batch: 2\n",
      "DataBatch(x=[13786, 1], edge_index=[2, 6770568], y=[2], train_mask=[2], val_mask=[2], test_mask=[2], batch=[13786], ptr=[3])\n",
      "\n",
      "Step 4:\n",
      "=======\n",
      "Number of graphs in the current batch: 2\n",
      "DataBatch(x=[13786, 1], edge_index=[2, 6770568], y=[2], train_mask=[2], val_mask=[2], test_mask=[2], batch=[13786], ptr=[3])\n"
     ]
    }
   ],
   "source": [
    "from torch_geometric.loader import DataLoader\n",
    "train_loader = DataLoader(protein_dataset[0:8], batch_size=2, shuffle=True)\n",
    "test_loader = DataLoader(protein_dataset[8:], batch_size=1, shuffle=False)\n",
    "\n",
    "for step, data in enumerate(train_loader):\n",
    "    print(f'Step {step + 1}:')\n",
    "    print('=======')\n",
    "    print(f'Number of graphs in the current batch: {data.num_graphs}')\n",
    "    print(data)\n",
    "    print()"
   ],
   "metadata": {
    "collapsed": false,
    "ExecuteTime": {
     "end_time": "2023-10-24T21:04:19.529988Z",
     "start_time": "2023-10-24T21:04:19.456346Z"
    }
   },
   "id": "35450408a9ff2e3f"
  },
  {
   "cell_type": "code",
   "execution_count": 6,
   "outputs": [
    {
     "name": "stdout",
     "output_type": "stream",
     "text": [
      "GCN(\n",
      "  (conv1): GCNConv(1, 64)\n",
      "  (conv2): GCNConv(64, 64)\n",
      "  (conv3): GCNConv(64, 64)\n",
      "  (lin): Linear(in_features=64, out_features=7, bias=True)\n",
      ")\n"
     ]
    }
   ],
   "source": [
    "from torch.nn import Linear\n",
    "import torch.nn.functional as F\n",
    "from torch_geometric.nn import GCNConv\n",
    "from torch_geometric.nn import global_mean_pool\n",
    "\n",
    "\n",
    "class GCN(torch.nn.Module):\n",
    "    def __init__(self, hidden_channels):\n",
    "        super(GCN, self).__init__()\n",
    "        torch.manual_seed(12345)\n",
    "        self.conv1 = GCNConv(1, hidden_channels)\n",
    "        self.conv2 = GCNConv(hidden_channels, hidden_channels)\n",
    "        self.conv3 = GCNConv(hidden_channels, hidden_channels)\n",
    "        self.lin = Linear(hidden_channels, 7)\n",
    "\n",
    "    def forward(self, x, edge_index, batch):\n",
    "        # 1. Obtain node embeddings \n",
    "        x = self.conv1(x, edge_index)\n",
    "        x = x.relu()\n",
    "        x = self.conv2(x, edge_index)\n",
    "        x = x.relu()\n",
    "        x = self.conv3(x, edge_index)\n",
    "\n",
    "        # 2. Readout layer\n",
    "        x = global_mean_pool(x, batch)  # [batch_size, hidden_channels]\n",
    "\n",
    "        # 3. Apply a final classifier\n",
    "        x = F.dropout(x, p=0.5, training=self.training)\n",
    "        x = self.lin(x)\n",
    "        \n",
    "        return x\n",
    "\n",
    "model = GCN(hidden_channels=64)\n",
    "print(model)"
   ],
   "metadata": {
    "collapsed": false,
    "ExecuteTime": {
     "end_time": "2023-10-24T21:04:24.529393Z",
     "start_time": "2023-10-24T21:04:24.510573Z"
    }
   },
   "id": "d1ee775416c79405"
  },
  {
   "cell_type": "code",
   "execution_count": 7,
   "outputs": [
    {
     "data": {
      "text/plain": "<IPython.core.display.Javascript object>",
      "application/javascript": "google.colab.output.setIframeHeight(0, true, {maxHeight: 300})"
     },
     "metadata": {},
     "output_type": "display_data"
    }
   ],
   "source": [
    "from IPython.display import Javascript\n",
    "display(Javascript('''google.colab.output.setIframeHeight(0, true, {maxHeight: 300})'''))\n",
    "\n",
    "model = GCN(hidden_channels=64)\n",
    "\n",
    "optimizer = torch.optim.Adam(model.parameters(), lr=0.001)\n",
    "criterion = torch.nn.CrossEntropyLoss()\n",
    "\n",
    "def train():\n",
    "    model.train()\n",
    "\n",
    "    for data in train_loader:  # Iterate in batches over the training dataset.\n",
    "         out = model(data.x, data.edge_index, data.batch)  # Perform a single forward pass.\n",
    "         loss = criterion(out, data.y)  # Compute the loss.\n",
    "         loss.backward()  # Derive gradients.\n",
    "         optimizer.step()  # Update parameters based on gradients.\n",
    "         optimizer.zero_grad()  # Clear gradients."
   ],
   "metadata": {
    "collapsed": false,
    "ExecuteTime": {
     "end_time": "2023-10-24T21:04:24.677210Z",
     "start_time": "2023-10-24T21:04:24.671501Z"
    }
   },
   "id": "83122cfc7730ef71"
  },
  {
   "cell_type": "code",
   "execution_count": 8,
   "outputs": [],
   "source": [
    "def test(loader, create_table=False):\n",
    "     model.eval()\n",
    "     correct = 0\n",
    "     loss_ = 0\n",
    "     for data in loader:  # Iterate in batches over the training/test dataset.\n",
    "         out = model(data.x, data.edge_index, data.batch)  \n",
    "         loss = criterion(out, data.y)\n",
    "         loss_ += loss.item()\n",
    "         pred = out.argmax(dim=1)  # Use the class with highest probability.\n",
    "         \n",
    "         correct += int((pred == data.y).sum())  # Check against ground-truth labels.\n",
    "     return correct / len(loader.dataset), loss_ / len(loader.dataset)  # Derive ratio of correct predictions."
   ],
   "metadata": {
    "collapsed": false,
    "ExecuteTime": {
     "end_time": "2023-10-24T21:04:24.860709Z",
     "start_time": "2023-10-24T21:04:24.856996Z"
    }
   },
   "id": "34dca07d0854882d"
  },
  {
   "cell_type": "code",
   "execution_count": 9,
   "outputs": [
    {
     "data": {
      "text/plain": "  0%|          | 0/10 [00:00<?, ?it/s]",
      "application/vnd.jupyter.widget-view+json": {
       "version_major": 2,
       "version_minor": 0,
       "model_id": "f5e02f6357754a42adae2fbffea9e951"
      }
     },
     "metadata": {},
     "output_type": "display_data"
    },
    {
     "name": "stdout",
     "output_type": "stream",
     "text": [
      "Epoch: 001, Train Acc: 0.1250, Test Acc: 0.0000\n",
      "Epoch: 002, Train Acc: 0.1250, Test Acc: 0.0000\n",
      "Epoch: 003, Train Acc: 0.2500, Test Acc: 0.0000\n",
      "Epoch: 004, Train Acc: 0.2500, Test Acc: 0.0000\n",
      "Epoch: 005, Train Acc: 0.3750, Test Acc: 0.5000\n",
      "Epoch: 006, Train Acc: 0.3750, Test Acc: 0.5000\n",
      "Epoch: 007, Train Acc: 0.3750, Test Acc: 0.5000\n",
      "Epoch: 008, Train Acc: 0.3750, Test Acc: 0.5000\n",
      "Epoch: 009, Train Acc: 0.3750, Test Acc: 0.5000\n",
      "Epoch: 010, Train Acc: 0.3750, Test Acc: 0.5000\n"
     ]
    }
   ],
   "source": [
    "for epoch in trange(1, 11):\n",
    "    train()\n",
    "    train_acc, train_loss = test(train_loader)\n",
    "    test_acc, test_loss = test(test_loader, create_table=True)\n",
    "    print(f'Epoch: {epoch:03d}, Train Acc: {train_acc:.4f}, Test Acc: {test_acc:.4f}')"
   ],
   "metadata": {
    "collapsed": false,
    "ExecuteTime": {
     "end_time": "2023-10-24T21:08:34.255097Z",
     "start_time": "2023-10-24T21:04:25.063096Z"
    }
   },
   "id": "24bfcb9773babcb9"
  },
  {
   "cell_type": "code",
   "execution_count": null,
   "outputs": [],
   "source": [],
   "metadata": {
    "collapsed": false
   },
   "id": "801b37e1921f2986"
  }
 ],
 "metadata": {
  "kernelspec": {
   "display_name": "Python 3",
   "language": "python",
   "name": "python3"
  },
  "language_info": {
   "codemirror_mode": {
    "name": "ipython",
    "version": 2
   },
   "file_extension": ".py",
   "mimetype": "text/x-python",
   "name": "python",
   "nbconvert_exporter": "python",
   "pygments_lexer": "ipython2",
   "version": "2.7.6"
  }
 },
 "nbformat": 4,
 "nbformat_minor": 5
}

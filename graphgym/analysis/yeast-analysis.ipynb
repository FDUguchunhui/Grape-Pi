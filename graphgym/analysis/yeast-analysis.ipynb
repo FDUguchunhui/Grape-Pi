{
 "cells": [
  {
   "cell_type": "code",
   "execution_count": 139,
   "metadata": {
    "collapsed": true,
    "pycharm": {
     "name": "#%%\n"
    }
   },
   "outputs": [],
   "source": [
    "from IPython.core.interactiveshell import InteractiveShell\n",
    "InteractiveShell.ast_node_interactivity = \"all\"\n",
    "import pandas as pd\n",
    "import numpy as np\n",
    "from functools import reduce"
   ]
  },
  {
   "cell_type": "code",
   "execution_count": 140,
   "outputs": [
    {
     "name": "stdout",
     "output_type": "stream",
     "text": [
      "{\n",
      "  \"shell_port\": 63578,\n",
      "  \"iopub_port\": 63579,\n",
      "  \"stdin_port\": 63580,\n",
      "  \"control_port\": 63582,\n",
      "  \"hb_port\": 63581,\n",
      "  \"ip\": \"127.0.0.1\",\n",
      "  \"key\": \"d3d77aa5-13449cb347b26a658e84cdb0\",\n",
      "  \"transport\": \"tcp\",\n",
      "  \"signature_scheme\": \"hmac-sha256\",\n",
      "  \"kernel_name\": \"\"\n",
      "}\n",
      "\n",
      "Paste the above JSON into a file, and connect with:\n",
      "    $> jupyter <app> --existing <file>\n",
      "or, if you are local, you can connect with just:\n",
      "    $> jupyter <app> --existing kernel-a3d3afa3-7250-4dea-85d6-43f1de1f6f44.json\n",
      "or even just:\n",
      "    $> jupyter <app> --existing\n",
      "if this is the most recent Jupyter kernel you have started.\n"
     ]
    }
   ],
   "source": [
    "%connect_info\n",
    "# %qtconsole\n"
   ],
   "metadata": {
    "collapsed": false,
    "pycharm": {
     "name": "#%%\n"
    }
   }
  },
  {
   "cell_type": "code",
   "execution_count": 141,
   "outputs": [
    {
     "data": {
      "text/plain": "'/Users/cgu3/Library/CloudStorage/OneDrive-InsideMDAnderson/PPI-project/pytorch_geometric/graphgym/analysis'"
     },
     "execution_count": 141,
     "metadata": {},
     "output_type": "execute_result"
    }
   ],
   "source": [
    "pwd"
   ],
   "metadata": {
    "collapsed": false,
    "pycharm": {
     "name": "#%%\n"
    }
   }
  },
  {
   "cell_type": "code",
   "execution_count": 142,
   "outputs": [],
   "source": [
    "# with open('../data/yeast/raw/reference/goldstandard1.txt') as f:\n",
    "#     content = f.read().splitlines()\n",
    "# content"
   ],
   "metadata": {
    "collapsed": false,
    "pycharm": {
     "name": "#%%\n"
    }
   }
  },
  {
   "cell_type": "code",
   "execution_count": 143,
   "outputs": [],
   "source": [
    "gs1 = pd.read_csv('../data/yeast/raw/additional/goldstandard1.txt', header=None, index_col=False, names=['protein'])\n",
    "gs2 = pd.read_csv('../data/yeast/raw/additional/goldstandard2.txt', header=None, index_col=False, names=['protein'])\n",
    "gs3 = pd.read_csv('../data/yeast/raw/additional/goldstandard3.txt', header=None, index_col=False, names=['protein'])\n",
    "gs4 = pd.read_csv('../data/yeast/raw/additional/goldstandard4.txt', header=None, index_col=False, names=['protein'])\n",
    "all = pd.read_csv('../data/yeast/raw/additional/yeast_all.lst.txt', header=None, index_col=False, names=['protein'])"
   ],
   "metadata": {
    "collapsed": false,
    "pycharm": {
     "name": "#%%\n"
    }
   }
  },
  {
   "cell_type": "code",
   "execution_count": 144,
   "outputs": [],
   "source": [
    "gs1['detected'] = 1\n",
    "gs2['detected'] = 1\n",
    "gs3['detected'] = 1\n",
    "gs4['detected'] = 1"
   ],
   "metadata": {
    "collapsed": false,
    "pycharm": {
     "name": "#%%\n"
    }
   }
  },
  {
   "cell_type": "code",
   "execution_count": 145,
   "outputs": [
    {
     "data": {
      "text/plain": "      protein  detected\n0       Q0250         1\n1     YAL003W         1\n2     YAL005C         1\n3     YAL012W         1\n4     YAL015C         1\n...       ...       ...\n1998  YPR184W         1\n1999  YPR187W         1\n2000  YPR189W         1\n2001  YPR190C         1\n2002  YPR191W         1\n\n[2003 rows x 2 columns]",
      "text/html": "<div>\n<style scoped>\n    .dataframe tbody tr th:only-of-type {\n        vertical-align: middle;\n    }\n\n    .dataframe tbody tr th {\n        vertical-align: top;\n    }\n\n    .dataframe thead th {\n        text-align: right;\n    }\n</style>\n<table border=\"1\" class=\"dataframe\">\n  <thead>\n    <tr style=\"text-align: right;\">\n      <th></th>\n      <th>protein</th>\n      <th>detected</th>\n    </tr>\n  </thead>\n  <tbody>\n    <tr>\n      <th>0</th>\n      <td>Q0250</td>\n      <td>1</td>\n    </tr>\n    <tr>\n      <th>1</th>\n      <td>YAL003W</td>\n      <td>1</td>\n    </tr>\n    <tr>\n      <th>2</th>\n      <td>YAL005C</td>\n      <td>1</td>\n    </tr>\n    <tr>\n      <th>3</th>\n      <td>YAL012W</td>\n      <td>1</td>\n    </tr>\n    <tr>\n      <th>4</th>\n      <td>YAL015C</td>\n      <td>1</td>\n    </tr>\n    <tr>\n      <th>...</th>\n      <td>...</td>\n      <td>...</td>\n    </tr>\n    <tr>\n      <th>1998</th>\n      <td>YPR184W</td>\n      <td>1</td>\n    </tr>\n    <tr>\n      <th>1999</th>\n      <td>YPR187W</td>\n      <td>1</td>\n    </tr>\n    <tr>\n      <th>2000</th>\n      <td>YPR189W</td>\n      <td>1</td>\n    </tr>\n    <tr>\n      <th>2001</th>\n      <td>YPR190C</td>\n      <td>1</td>\n    </tr>\n    <tr>\n      <th>2002</th>\n      <td>YPR191W</td>\n      <td>1</td>\n    </tr>\n  </tbody>\n</table>\n<p>2003 rows × 2 columns</p>\n</div>"
     },
     "execution_count": 145,
     "metadata": {},
     "output_type": "execute_result"
    }
   ],
   "source": [
    "gs1"
   ],
   "metadata": {
    "collapsed": false,
    "pycharm": {
     "name": "#%%\n"
    }
   }
  },
  {
   "cell_type": "code",
   "execution_count": 146,
   "outputs": [],
   "source": [
    "data_frames = [gs1, gs2, gs3, gs4]\n"
   ],
   "metadata": {
    "collapsed": false,
    "pycharm": {
     "name": "#%%\n"
    }
   }
  },
  {
   "cell_type": "code",
   "execution_count": 147,
   "outputs": [
    {
     "name": "stderr",
     "output_type": "stream",
     "text": [
      "/var/folders/xs/_jggb8_n03q3bxbybznls2w1q5_5xx/T/ipykernel_70644/1543971361.py:1: FutureWarning: Passing 'suffixes' which cause duplicate columns {'detected_x'} in the result is deprecated and will raise a MergeError in a future version.\n",
      "  df_merged = reduce(lambda  left,right: pd.merge(left,right,on=['protein'],\n"
     ]
    }
   ],
   "source": [
    "df_merged = reduce(lambda  left,right: pd.merge(left,right,on=['protein'],\n",
    "                                            how='outer'), data_frames).fillna(0)"
   ],
   "metadata": {
    "collapsed": false,
    "pycharm": {
     "name": "#%%\n"
    }
   }
  },
  {
   "cell_type": "code",
   "execution_count": 148,
   "outputs": [],
   "source": [
    "df_merged.columns = ['protein', 'gs1', 'gs2', 'gs3', 'gs4']"
   ],
   "metadata": {
    "collapsed": false,
    "pycharm": {
     "name": "#%%\n"
    }
   }
  },
  {
   "cell_type": "code",
   "execution_count": 149,
   "outputs": [],
   "source": [
    "\n",
    "df_merged = df_merged.set_index('protein')"
   ],
   "metadata": {
    "collapsed": false,
    "pycharm": {
     "name": "#%%\n"
    }
   }
  },
  {
   "cell_type": "code",
   "execution_count": 150,
   "outputs": [],
   "source": [
    "positive_protein = df_merged[df_merged.sum(axis=1) >= 2].index.to_series()"
   ],
   "metadata": {
    "collapsed": false,
    "pycharm": {
     "name": "#%%\n"
    }
   }
  },
  {
   "cell_type": "code",
   "execution_count": 151,
   "outputs": [
    {
     "data": {
      "text/plain": "Empty DataFrame\nColumns: [gs1, gs2, gs3, gs4]\nIndex: []",
      "text/html": "<div>\n<style scoped>\n    .dataframe tbody tr th:only-of-type {\n        vertical-align: middle;\n    }\n\n    .dataframe tbody tr th {\n        vertical-align: top;\n    }\n\n    .dataframe thead th {\n        text-align: right;\n    }\n</style>\n<table border=\"1\" class=\"dataframe\">\n  <thead>\n    <tr style=\"text-align: right;\">\n      <th></th>\n      <th>gs1</th>\n      <th>gs2</th>\n      <th>gs3</th>\n      <th>gs4</th>\n    </tr>\n    <tr>\n      <th>protein</th>\n      <th></th>\n      <th></th>\n      <th></th>\n      <th></th>\n    </tr>\n  </thead>\n  <tbody>\n  </tbody>\n</table>\n</div>"
     },
     "execution_count": 151,
     "metadata": {},
     "output_type": "execute_result"
    }
   ],
   "source": [
    "df_merged[df_merged.sum(axis=1) == 0]"
   ],
   "metadata": {
    "collapsed": false,
    "pycharm": {
     "name": "#%%\n"
    }
   }
  },
  {
   "cell_type": "code",
   "execution_count": 152,
   "outputs": [],
   "source": [
    "protein_with_evidence = df_merged.index.to_series()"
   ],
   "metadata": {
    "collapsed": false,
    "pycharm": {
     "name": "#%%\n"
    }
   }
  },
  {
   "cell_type": "code",
   "execution_count": 153,
   "outputs": [],
   "source": [
    "all_protein = all.iloc[:, 0]"
   ],
   "metadata": {
    "collapsed": false,
    "pycharm": {
     "name": "#%%\n"
    }
   }
  },
  {
   "cell_type": "code",
   "execution_count": 154,
   "outputs": [],
   "source": [
    "negative_protein = all_protein[~all_protein.isin(protein_with_evidence)]"
   ],
   "metadata": {
    "collapsed": false,
    "pycharm": {
     "name": "#%%\n"
    }
   }
  },
  {
   "cell_type": "code",
   "execution_count": 155,
   "outputs": [
    {
     "data": {
      "text/plain": "entry no.                         object\nprotein                           object\nprotein probability              float64\nprotein description               object\nprotein length                     int64\npercent coverage                 float64\ntot indep spectra                  int64\npercent share of spectrum ids    float64\npeptides                          object\ndtype: object"
     },
     "execution_count": 155,
     "metadata": {},
     "output_type": "execute_result"
    },
    {
     "data": {
      "text/plain": "  entry no.   protein  protein probability  \\\n0         1  YAL003W                   1.0   \n1         2  YAL005C                   1.0   \n2         3  YAL012W                   1.0   \n3         4  YAL016W                   1.0   \n4         5  YAL021C                   1.0   \n\n                                 protein description  protein length  \\\n0  EFB1 SGDID:S000000003,'Translation elongation ...               0   \n1  SSA1 SGDID:S000000004,'ATPase involved in prot...               0   \n2  CYS3 SGDID:S000000010,'Cystathionine gamma-lya...               0   \n3  TPD3 SGDID:S000000014,'Regulatory subunit A of...               0   \n4  CCR4 SGDID:S000000019,'Component of the CCR4-N...               0   \n\n   percent coverage  tot indep spectra  percent share of spectrum ids  \\\n0              42.7                312                          0.425   \n1              54.5                838                          0.797   \n2              36.5                235                          0.321   \n3              13.9                 17                          0.021   \n4               5.7                  8                          0.007   \n\n                                            peptides  \n0  AFQSAYPEFSR+AIEMEGLTWGAHQFIPIGFGIK+IETLKQLNASL...  \n1  AEETISWLDSNTTASKEEFDDKLK+ARFEELCADLFR+ATAGDTHL...  \n2  AIHAGEHVDVHGSVIEPISLSTTFK+DALGGGMISFR+EASGVFDD...  \n3  DSDSNESLYPLALLMDELK+FLNDPSIILNK+ILPAVQNLSMDESE...  \n4  DAMDFSGAWMKHKK+FIGFPNDKFPSDHIPLLAR+LSQYSIDEDDD...  ",
      "text/html": "<div>\n<style scoped>\n    .dataframe tbody tr th:only-of-type {\n        vertical-align: middle;\n    }\n\n    .dataframe tbody tr th {\n        vertical-align: top;\n    }\n\n    .dataframe thead th {\n        text-align: right;\n    }\n</style>\n<table border=\"1\" class=\"dataframe\">\n  <thead>\n    <tr style=\"text-align: right;\">\n      <th></th>\n      <th>entry no.</th>\n      <th>protein</th>\n      <th>protein probability</th>\n      <th>protein description</th>\n      <th>protein length</th>\n      <th>percent coverage</th>\n      <th>tot indep spectra</th>\n      <th>percent share of spectrum ids</th>\n      <th>peptides</th>\n    </tr>\n  </thead>\n  <tbody>\n    <tr>\n      <th>0</th>\n      <td>1</td>\n      <td>YAL003W</td>\n      <td>1.0</td>\n      <td>EFB1 SGDID:S000000003,'Translation elongation ...</td>\n      <td>0</td>\n      <td>42.7</td>\n      <td>312</td>\n      <td>0.425</td>\n      <td>AFQSAYPEFSR+AIEMEGLTWGAHQFIPIGFGIK+IETLKQLNASL...</td>\n    </tr>\n    <tr>\n      <th>1</th>\n      <td>2</td>\n      <td>YAL005C</td>\n      <td>1.0</td>\n      <td>SSA1 SGDID:S000000004,'ATPase involved in prot...</td>\n      <td>0</td>\n      <td>54.5</td>\n      <td>838</td>\n      <td>0.797</td>\n      <td>AEETISWLDSNTTASKEEFDDKLK+ARFEELCADLFR+ATAGDTHL...</td>\n    </tr>\n    <tr>\n      <th>2</th>\n      <td>3</td>\n      <td>YAL012W</td>\n      <td>1.0</td>\n      <td>CYS3 SGDID:S000000010,'Cystathionine gamma-lya...</td>\n      <td>0</td>\n      <td>36.5</td>\n      <td>235</td>\n      <td>0.321</td>\n      <td>AIHAGEHVDVHGSVIEPISLSTTFK+DALGGGMISFR+EASGVFDD...</td>\n    </tr>\n    <tr>\n      <th>3</th>\n      <td>4</td>\n      <td>YAL016W</td>\n      <td>1.0</td>\n      <td>TPD3 SGDID:S000000014,'Regulatory subunit A of...</td>\n      <td>0</td>\n      <td>13.9</td>\n      <td>17</td>\n      <td>0.021</td>\n      <td>DSDSNESLYPLALLMDELK+FLNDPSIILNK+ILPAVQNLSMDESE...</td>\n    </tr>\n    <tr>\n      <th>4</th>\n      <td>5</td>\n      <td>YAL021C</td>\n      <td>1.0</td>\n      <td>CCR4 SGDID:S000000019,'Component of the CCR4-N...</td>\n      <td>0</td>\n      <td>5.7</td>\n      <td>8</td>\n      <td>0.007</td>\n      <td>DAMDFSGAWMKHKK+FIGFPNDKFPSDHIPLLAR+LSQYSIDEDDD...</td>\n    </tr>\n  </tbody>\n</table>\n</div>"
     },
     "execution_count": 155,
     "metadata": {},
     "output_type": "execute_result"
    }
   ],
   "source": [
    "protein_MS = pd.read_csv('../data/yeast/raw/additional/yeast_rich_medium.csv')\n",
    "protein_MS.dtypes\n",
    "protein_MS.head()\n",
    "protein_MS['protein'] = protein_MS['protein'].str.strip()"
   ],
   "metadata": {
    "collapsed": false,
    "pycharm": {
     "name": "#%%\n"
    }
   }
  },
  {
   "cell_type": "code",
   "execution_count": 156,
   "outputs": [],
   "source": [
    "protein_MS['y'] = -1\n",
    "protein_MS.loc[protein_MS['protein'].isin(list(positive_protein)), 'y'] = 1\n",
    "protein_MS.loc[protein_MS['protein'].isin(list(negative_protein)), 'y'] = 0"
   ],
   "metadata": {
    "collapsed": false,
    "pycharm": {
     "name": "#%%\n"
    }
   }
  },
  {
   "cell_type": "code",
   "execution_count": 157,
   "outputs": [
    {
     "data": {
      "text/plain": "0       1\n1       1\n2       1\n3       1\n4       1\n       ..\n3848    0\n3849    0\n3850    0\n3851    1\n3852    0\nName: y, Length: 3853, dtype: int64"
     },
     "execution_count": 157,
     "metadata": {},
     "output_type": "execute_result"
    }
   ],
   "source": [
    "protein_MS['y']"
   ],
   "metadata": {
    "collapsed": false,
    "pycharm": {
     "name": "#%%\n"
    }
   }
  },
  {
   "cell_type": "code",
   "execution_count": 158,
   "outputs": [
    {
     "data": {
      "text/plain": " 0    1463\n 1    1413\n-1     977\nName: y, dtype: int64"
     },
     "execution_count": 158,
     "metadata": {},
     "output_type": "execute_result"
    }
   ],
   "source": [
    "protein_MS['y'].value_counts()"
   ],
   "metadata": {
    "collapsed": false,
    "pycharm": {
     "name": "#%%\n"
    }
   }
  },
  {
   "cell_type": "code",
   "execution_count": 159,
   "outputs": [
    {
     "data": {
      "text/plain": "     entry no.  protein  protein probability  \\\n0            1  YAL003W                  1.0   \n1            2  YAL005C                  1.0   \n2            3  YAL012W                  1.0   \n3            4  YAL016W                  1.0   \n4            5  YAL021C                  1.0   \n...        ...      ...                  ...   \n3848      3821  YPR188C                  0.0   \n3849      3822  YPR195C                  0.0   \n3850      3823  YPR196W                  0.0   \n3851     3824a  YGR032W                  0.0   \n3852     3824b  YMR306W                  0.0   \n\n                                    protein description  protein length  \\\n0     EFB1 SGDID:S000000003,'Translation elongation ...               0   \n1     SSA1 SGDID:S000000004,'ATPase involved in prot...               0   \n2     CYS3 SGDID:S000000010,'Cystathionine gamma-lya...               0   \n3     TPD3 SGDID:S000000014,'Regulatory subunit A of...               0   \n4     CCR4 SGDID:S000000019,'Component of the CCR4-N...               0   \n...                                                 ...             ...   \n3848  MLC2 SGDID:S000006392,'Regulatory light chain ...               0   \n3849  YPR195C SGDID:S000006399,'Hypothetical protein...               0   \n3850  YPR196W SGDID:S000006400,'nuclear protein (put...               0   \n3851  GSC2 SGDID:S000003264,'Catalytic subunit of 1,...               0   \n3852  FKS3 SGDID:S000004923,'Protein of unknown func...               0   \n\n      percent coverage  tot indep spectra  percent share of spectrum ids  \\\n0                 42.7                312                          0.425   \n1                 54.5                838                          0.797   \n2                 36.5                235                          0.321   \n3                 13.9                 17                          0.021   \n4                  5.7                  8                          0.007   \n...                ...                ...                            ...   \n3848               0.0                  0                          0.000   \n3849               0.0                  0                          0.000   \n3850               0.0                  0                          0.000   \n3851               0.0                  0                          0.000   \n3852               0.0                  0                          0.000   \n\n                                               peptides  y  \n0     AFQSAYPEFSR+AIEMEGLTWGAHQFIPIGFGIK+IETLKQLNASL...  1  \n1     AEETISWLDSNTTASKEEFDDKLK+ARFEELCADLFR+ATAGDTHL...  1  \n2     AIHAGEHVDVHGSVIEPISLSTTFK+DALGGGMISFR+EASGVFDD...  1  \n3     DSDSNESLYPLALLMDELK+FLNDPSIILNK+ILPAVQNLSMDESE...  1  \n4     DAMDFSGAWMKHKK+FIGFPNDKFPSDHIPLLAR+LSQYSIDEDDD...  1  \n...                                                 ... ..  \n3848                                MDHSESLTFNQLTQDYINK  0  \n3849                        GCDGTVTTFRTWHTQPLGPCNTIIIGR  0  \n3850                              FFDDLSNSDIFRIMTYYCLHR  0  \n3851  APTFFVSQDDNNFETEFFPR+DLGFGTILNFTTK+EQTFGTLFAR+...  1  \n3852                          EQTFGTLFAR+SFLKEAESSHDEDR  0  \n\n[3853 rows x 10 columns]",
      "text/html": "<div>\n<style scoped>\n    .dataframe tbody tr th:only-of-type {\n        vertical-align: middle;\n    }\n\n    .dataframe tbody tr th {\n        vertical-align: top;\n    }\n\n    .dataframe thead th {\n        text-align: right;\n    }\n</style>\n<table border=\"1\" class=\"dataframe\">\n  <thead>\n    <tr style=\"text-align: right;\">\n      <th></th>\n      <th>entry no.</th>\n      <th>protein</th>\n      <th>protein probability</th>\n      <th>protein description</th>\n      <th>protein length</th>\n      <th>percent coverage</th>\n      <th>tot indep spectra</th>\n      <th>percent share of spectrum ids</th>\n      <th>peptides</th>\n      <th>y</th>\n    </tr>\n  </thead>\n  <tbody>\n    <tr>\n      <th>0</th>\n      <td>1</td>\n      <td>YAL003W</td>\n      <td>1.0</td>\n      <td>EFB1 SGDID:S000000003,'Translation elongation ...</td>\n      <td>0</td>\n      <td>42.7</td>\n      <td>312</td>\n      <td>0.425</td>\n      <td>AFQSAYPEFSR+AIEMEGLTWGAHQFIPIGFGIK+IETLKQLNASL...</td>\n      <td>1</td>\n    </tr>\n    <tr>\n      <th>1</th>\n      <td>2</td>\n      <td>YAL005C</td>\n      <td>1.0</td>\n      <td>SSA1 SGDID:S000000004,'ATPase involved in prot...</td>\n      <td>0</td>\n      <td>54.5</td>\n      <td>838</td>\n      <td>0.797</td>\n      <td>AEETISWLDSNTTASKEEFDDKLK+ARFEELCADLFR+ATAGDTHL...</td>\n      <td>1</td>\n    </tr>\n    <tr>\n      <th>2</th>\n      <td>3</td>\n      <td>YAL012W</td>\n      <td>1.0</td>\n      <td>CYS3 SGDID:S000000010,'Cystathionine gamma-lya...</td>\n      <td>0</td>\n      <td>36.5</td>\n      <td>235</td>\n      <td>0.321</td>\n      <td>AIHAGEHVDVHGSVIEPISLSTTFK+DALGGGMISFR+EASGVFDD...</td>\n      <td>1</td>\n    </tr>\n    <tr>\n      <th>3</th>\n      <td>4</td>\n      <td>YAL016W</td>\n      <td>1.0</td>\n      <td>TPD3 SGDID:S000000014,'Regulatory subunit A of...</td>\n      <td>0</td>\n      <td>13.9</td>\n      <td>17</td>\n      <td>0.021</td>\n      <td>DSDSNESLYPLALLMDELK+FLNDPSIILNK+ILPAVQNLSMDESE...</td>\n      <td>1</td>\n    </tr>\n    <tr>\n      <th>4</th>\n      <td>5</td>\n      <td>YAL021C</td>\n      <td>1.0</td>\n      <td>CCR4 SGDID:S000000019,'Component of the CCR4-N...</td>\n      <td>0</td>\n      <td>5.7</td>\n      <td>8</td>\n      <td>0.007</td>\n      <td>DAMDFSGAWMKHKK+FIGFPNDKFPSDHIPLLAR+LSQYSIDEDDD...</td>\n      <td>1</td>\n    </tr>\n    <tr>\n      <th>...</th>\n      <td>...</td>\n      <td>...</td>\n      <td>...</td>\n      <td>...</td>\n      <td>...</td>\n      <td>...</td>\n      <td>...</td>\n      <td>...</td>\n      <td>...</td>\n      <td>...</td>\n    </tr>\n    <tr>\n      <th>3848</th>\n      <td>3821</td>\n      <td>YPR188C</td>\n      <td>0.0</td>\n      <td>MLC2 SGDID:S000006392,'Regulatory light chain ...</td>\n      <td>0</td>\n      <td>0.0</td>\n      <td>0</td>\n      <td>0.000</td>\n      <td>MDHSESLTFNQLTQDYINK</td>\n      <td>0</td>\n    </tr>\n    <tr>\n      <th>3849</th>\n      <td>3822</td>\n      <td>YPR195C</td>\n      <td>0.0</td>\n      <td>YPR195C SGDID:S000006399,'Hypothetical protein...</td>\n      <td>0</td>\n      <td>0.0</td>\n      <td>0</td>\n      <td>0.000</td>\n      <td>GCDGTVTTFRTWHTQPLGPCNTIIIGR</td>\n      <td>0</td>\n    </tr>\n    <tr>\n      <th>3850</th>\n      <td>3823</td>\n      <td>YPR196W</td>\n      <td>0.0</td>\n      <td>YPR196W SGDID:S000006400,'nuclear protein (put...</td>\n      <td>0</td>\n      <td>0.0</td>\n      <td>0</td>\n      <td>0.000</td>\n      <td>FFDDLSNSDIFRIMTYYCLHR</td>\n      <td>0</td>\n    </tr>\n    <tr>\n      <th>3851</th>\n      <td>3824a</td>\n      <td>YGR032W</td>\n      <td>0.0</td>\n      <td>GSC2 SGDID:S000003264,'Catalytic subunit of 1,...</td>\n      <td>0</td>\n      <td>0.0</td>\n      <td>0</td>\n      <td>0.000</td>\n      <td>APTFFVSQDDNNFETEFFPR+DLGFGTILNFTTK+EQTFGTLFAR+...</td>\n      <td>1</td>\n    </tr>\n    <tr>\n      <th>3852</th>\n      <td>3824b</td>\n      <td>YMR306W</td>\n      <td>0.0</td>\n      <td>FKS3 SGDID:S000004923,'Protein of unknown func...</td>\n      <td>0</td>\n      <td>0.0</td>\n      <td>0</td>\n      <td>0.000</td>\n      <td>EQTFGTLFAR+SFLKEAESSHDEDR</td>\n      <td>0</td>\n    </tr>\n  </tbody>\n</table>\n<p>3853 rows × 10 columns</p>\n</div>"
     },
     "execution_count": 159,
     "metadata": {},
     "output_type": "execute_result"
    }
   ],
   "source": [
    "protein_MS"
   ],
   "metadata": {
    "collapsed": false,
    "pycharm": {
     "name": "#%%\n"
    }
   }
  },
  {
   "cell_type": "code",
   "execution_count": 160,
   "outputs": [],
   "source": [
    "protein_MS.iloc[:, 1:].to_csv('../data/yeast/raw/protein/yeast.csv', index=False)"
   ],
   "metadata": {
    "collapsed": false,
    "pycharm": {
     "name": "#%%\n"
    }
   }
  },
  {
   "cell_type": "code",
   "execution_count": 161,
   "outputs": [
    {
     "data": {
      "text/plain": "Index(['protein', 'protein probability', 'protein description',\n       'protein length', 'percent coverage', 'tot indep spectra',\n       'percent share of spectrum ids', 'peptides', 'y'],\n      dtype='object')"
     },
     "execution_count": 161,
     "metadata": {},
     "output_type": "execute_result"
    }
   ],
   "source": [
    "protein_MS.iloc[:, 1:].columns"
   ],
   "metadata": {
    "collapsed": false,
    "pycharm": {
     "name": "#%%\n"
    }
   }
  },
  {
   "cell_type": "code",
   "execution_count": 162,
   "outputs": [],
   "source": [
    "positive_protein.to_csv('../data/yeast/raw/reference/positive.txt', index=False)\n",
    "negative_protein.to_csv('../data/yeast/raw/reference/negative.txt', index=False)"
   ],
   "metadata": {
    "collapsed": false,
    "pycharm": {
     "name": "#%%\n"
    }
   }
  },
  {
   "cell_type": "code",
   "execution_count": 163,
   "outputs": [
    {
     "data": {
      "text/plain": "protein\nYAL003W    YAL003W\nYAL005C    YAL005C\nYAL012W    YAL012W\nYAL015C    YAL015C\nYAL016W    YAL016W\n            ...   \nYNL309W    YNL309W\nYOR357C    YOR357C\nYPL180W    YPL180W\nYPR141C    YPR141C\nYPR171W    YPR171W\nName: protein, Length: 1648, dtype: object"
     },
     "execution_count": 163,
     "metadata": {},
     "output_type": "execute_result"
    }
   ],
   "source": [
    "positive_protein"
   ],
   "metadata": {
    "collapsed": false,
    "pycharm": {
     "name": "#%%\n"
    }
   }
  },
  {
   "cell_type": "code",
   "execution_count": 164,
   "outputs": [],
   "source": [
    "# interaction = pd.read_csv('../data/yeast/raw/interaction/4932.protein.links.full.v11.5.tsv', sep=' ')"
   ],
   "metadata": {
    "collapsed": false,
    "pycharm": {
     "name": "#%%\n"
    }
   }
  },
  {
   "cell_type": "code",
   "execution_count": 165,
   "outputs": [],
   "source": [
    "# interaction.to_csv('../data/yeast/raw/interaction/yeast_interaction.csv', index_label=False)"
   ],
   "metadata": {
    "collapsed": false,
    "pycharm": {
     "name": "#%%\n"
    }
   }
  },
  {
   "cell_type": "code",
   "execution_count": 166,
   "outputs": [
    {
     "data": {
      "text/plain": "0         Q0010\n1         Q0017\n2         Q0032\n3         Q0045\n4         Q0050\n         ...   \n6325    YPR200C\n6326    YPR201W\n6327    YPR202W\n6328    YPR203W\n6329    YPR204W\nName: protein, Length: 3424, dtype: object"
     },
     "execution_count": 166,
     "metadata": {},
     "output_type": "execute_result"
    }
   ],
   "source": [
    "negative_protein"
   ],
   "metadata": {
    "collapsed": false,
    "pycharm": {
     "name": "#%%\n"
    }
   }
  },
  {
   "cell_type": "code",
   "execution_count": 167,
   "outputs": [
    {
     "data": {
      "text/plain": "        ID  mRNA(M)\n0  YDR444W     0.15\n1  YHR213W     0.16\n2  YLR465C     0.16\n3  YDR543C     0.18\n4  YCR038C     0.19",
      "text/html": "<div>\n<style scoped>\n    .dataframe tbody tr th:only-of-type {\n        vertical-align: middle;\n    }\n\n    .dataframe tbody tr th {\n        vertical-align: top;\n    }\n\n    .dataframe thead th {\n        text-align: right;\n    }\n</style>\n<table border=\"1\" class=\"dataframe\">\n  <thead>\n    <tr style=\"text-align: right;\">\n      <th></th>\n      <th>ID</th>\n      <th>mRNA(M)</th>\n    </tr>\n  </thead>\n  <tbody>\n    <tr>\n      <th>0</th>\n      <td>YDR444W</td>\n      <td>0.15</td>\n    </tr>\n    <tr>\n      <th>1</th>\n      <td>YHR213W</td>\n      <td>0.16</td>\n    </tr>\n    <tr>\n      <th>2</th>\n      <td>YLR465C</td>\n      <td>0.16</td>\n    </tr>\n    <tr>\n      <th>3</th>\n      <td>YDR543C</td>\n      <td>0.18</td>\n    </tr>\n    <tr>\n      <th>4</th>\n      <td>YCR038C</td>\n      <td>0.19</td>\n    </tr>\n  </tbody>\n</table>\n</div>"
     },
     "execution_count": 167,
     "metadata": {},
     "output_type": "execute_result"
    }
   ],
   "source": [
    "proteins = pd.read_table('../data/yeast/raw/additional/ypd_orbi_self-yp4gte2-or-notyp4_no-tm_score_id.txt', delimiter=' ', header=0,\n",
    "                         names=['ID', 'ProteinProphet_Score', 'P(K|S)', 'mRNA(M)', 'P(K|M)', 'MSpresso_Score', 'TP_or_TN_in_REFERENCEFILE'])\n",
    "proteins = proteins.loc[:, ['ID', 'ProteinProphet_Score', 'mRNA(M)', 'TP_or_TN_in_REFERENCEFILE']]\n",
    "proteins['y'] = np.where(proteins.TP_or_TN_in_REFERENCEFILE == 'TP', 1, 0)\n",
    "proteins = proteins[['ID', 'mRNA(M)']]\n",
    "proteins.head()"
   ],
   "metadata": {
    "collapsed": false,
    "pycharm": {
     "name": "#%%\n"
    }
   }
  },
  {
   "cell_type": "code",
   "execution_count": 168,
   "outputs": [],
   "source": [
    "protein_MS = pd.merge(protein_MS, proteins, how='left', left_on='protein', right_on='ID')\n",
    "protein_MS['mRNA(M)'].fillna(0, inplace=True)\n",
    "protein_MS.drop(['ID'], axis=1, inplace=True)"
   ],
   "metadata": {
    "collapsed": false,
    "pycharm": {
     "name": "#%%\n"
    }
   }
  },
  {
   "cell_type": "code",
   "execution_count": 169,
   "outputs": [],
   "source": [
    "protein_MS.to_csv('../data/yeast/raw/protein/yeast.csv')"
   ],
   "metadata": {
    "collapsed": false,
    "pycharm": {
     "name": "#%%\n"
    }
   }
  },
  {
   "cell_type": "code",
   "execution_count": 169,
   "outputs": [],
   "source": [],
   "metadata": {
    "collapsed": false,
    "pycharm": {
     "name": "#%%\n"
    }
   }
  }
 ],
 "metadata": {
  "kernelspec": {
   "display_name": "Python 3",
   "language": "python",
   "name": "python3"
  },
  "language_info": {
   "codemirror_mode": {
    "name": "ipython",
    "version": 2
   },
   "file_extension": ".py",
   "mimetype": "text/x-python",
   "name": "python",
   "nbconvert_exporter": "python",
   "pygments_lexer": "ipython2",
   "version": "2.7.6"
  }
 },
 "nbformat": 4,
 "nbformat_minor": 0
}
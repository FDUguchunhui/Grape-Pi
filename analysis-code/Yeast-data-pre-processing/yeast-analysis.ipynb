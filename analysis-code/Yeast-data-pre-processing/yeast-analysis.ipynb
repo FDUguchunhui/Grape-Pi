{
 "cells": [
  {
   "cell_type": "code",
   "execution_count": 28,
   "metadata": {
    "collapsed": true,
    "pycharm": {
     "name": "#%%\n"
    },
    "ExecuteTime": {
     "end_time": "2023-10-12T22:45:30.400624Z",
     "start_time": "2023-10-12T22:45:30.379465Z"
    }
   },
   "outputs": [],
   "source": [
    "import os\n",
    "from IPython.core.interactiveshell import InteractiveShell\n",
    "InteractiveShell.ast_node_interactivity = \"all\"\n",
    "import pandas as pd\n",
    "import numpy as np\n",
    "from functools import reduce"
   ]
  },
  {
   "cell_type": "code",
   "execution_count": 29,
   "outputs": [],
   "source": [
    "# %connect_info\n",
    "# %qtconsole"
   ],
   "metadata": {
    "collapsed": false,
    "pycharm": {
     "name": "#%%\n"
    },
    "ExecuteTime": {
     "end_time": "2023-10-12T22:45:30.726858Z",
     "start_time": "2023-10-12T22:45:30.705942Z"
    }
   }
  },
  {
   "cell_type": "code",
   "execution_count": 64,
   "outputs": [],
   "source": [
    "os.chdir('/Users/cgu3/Documents/Grape-Pi/data/rawdata/yeast')"
   ],
   "metadata": {
    "collapsed": false,
    "pycharm": {
     "name": "#%%\n"
    },
    "ExecuteTime": {
     "end_time": "2023-10-12T22:51:43.774164Z",
     "start_time": "2023-10-12T22:51:43.745034Z"
    }
   }
  },
  {
   "cell_type": "code",
   "execution_count": 31,
   "outputs": [],
   "source": [
    "# with open('../data/yeast/raw/reference/goldstandard1.txt') as f:\n",
    "#     content = f.read().splitlines()\n",
    "# content"
   ],
   "metadata": {
    "collapsed": false,
    "pycharm": {
     "name": "#%%\n"
    },
    "ExecuteTime": {
     "end_time": "2023-10-12T22:45:33.415163Z",
     "start_time": "2023-10-12T22:45:33.397408Z"
    }
   }
  },
  {
   "cell_type": "code",
   "execution_count": 65,
   "outputs": [],
   "source": [
    "gs1 = pd.read_csv('goldstandard1.txt', header=None, index_col=False, names=['protein'])\n",
    "gs2 = pd.read_csv('goldstandard2.txt', header=None, index_col=False, names=['protein'])\n",
    "gs3 = pd.read_csv('goldstandard3.txt', header=None, index_col=False, names=['protein'])\n",
    "gs4 = pd.read_csv('goldstandard4.txt', header=None, index_col=False, names=['protein'])\n",
    "# all = pd.read_csv('yeast_all.lst.txt', header=None, index_col=False, names=['protein'])"
   ],
   "metadata": {
    "collapsed": false,
    "pycharm": {
     "name": "#%%\n"
    },
    "ExecuteTime": {
     "end_time": "2023-10-12T22:51:46.332762Z",
     "start_time": "2023-10-12T22:51:46.312841Z"
    }
   }
  },
  {
   "cell_type": "code",
   "execution_count": 66,
   "outputs": [],
   "source": [
    "gs1['detected'] = 1\n",
    "gs2['detected'] = 1\n",
    "gs3['detected'] = 1\n",
    "gs4['detected'] = 1"
   ],
   "metadata": {
    "collapsed": false,
    "pycharm": {
     "name": "#%%\n"
    },
    "ExecuteTime": {
     "end_time": "2023-10-12T22:51:46.545389Z",
     "start_time": "2023-10-12T22:51:46.522237Z"
    }
   }
  },
  {
   "cell_type": "code",
   "execution_count": 67,
   "outputs": [
    {
     "data": {
      "text/plain": "      protein  detected\n0       Q0250         1\n1     YAL003W         1\n2     YAL005C         1\n3     YAL012W         1\n4     YAL015C         1\n...       ...       ...\n1998  YPR184W         1\n1999  YPR187W         1\n2000  YPR189W         1\n2001  YPR190C         1\n2002  YPR191W         1\n\n[2003 rows x 2 columns]",
      "text/html": "<div>\n<style scoped>\n    .dataframe tbody tr th:only-of-type {\n        vertical-align: middle;\n    }\n\n    .dataframe tbody tr th {\n        vertical-align: top;\n    }\n\n    .dataframe thead th {\n        text-align: right;\n    }\n</style>\n<table border=\"1\" class=\"dataframe\">\n  <thead>\n    <tr style=\"text-align: right;\">\n      <th></th>\n      <th>protein</th>\n      <th>detected</th>\n    </tr>\n  </thead>\n  <tbody>\n    <tr>\n      <th>0</th>\n      <td>Q0250</td>\n      <td>1</td>\n    </tr>\n    <tr>\n      <th>1</th>\n      <td>YAL003W</td>\n      <td>1</td>\n    </tr>\n    <tr>\n      <th>2</th>\n      <td>YAL005C</td>\n      <td>1</td>\n    </tr>\n    <tr>\n      <th>3</th>\n      <td>YAL012W</td>\n      <td>1</td>\n    </tr>\n    <tr>\n      <th>4</th>\n      <td>YAL015C</td>\n      <td>1</td>\n    </tr>\n    <tr>\n      <th>...</th>\n      <td>...</td>\n      <td>...</td>\n    </tr>\n    <tr>\n      <th>1998</th>\n      <td>YPR184W</td>\n      <td>1</td>\n    </tr>\n    <tr>\n      <th>1999</th>\n      <td>YPR187W</td>\n      <td>1</td>\n    </tr>\n    <tr>\n      <th>2000</th>\n      <td>YPR189W</td>\n      <td>1</td>\n    </tr>\n    <tr>\n      <th>2001</th>\n      <td>YPR190C</td>\n      <td>1</td>\n    </tr>\n    <tr>\n      <th>2002</th>\n      <td>YPR191W</td>\n      <td>1</td>\n    </tr>\n  </tbody>\n</table>\n<p>2003 rows × 2 columns</p>\n</div>"
     },
     "execution_count": 67,
     "metadata": {},
     "output_type": "execute_result"
    }
   ],
   "source": [
    "gs1"
   ],
   "metadata": {
    "collapsed": false,
    "pycharm": {
     "name": "#%%\n"
    },
    "ExecuteTime": {
     "end_time": "2023-10-12T22:51:46.719895Z",
     "start_time": "2023-10-12T22:51:46.684030Z"
    }
   }
  },
  {
   "cell_type": "code",
   "execution_count": 68,
   "outputs": [],
   "source": [
    "data_frames = [gs1, gs2, gs3, gs4]"
   ],
   "metadata": {
    "collapsed": false,
    "pycharm": {
     "name": "#%%\n"
    },
    "ExecuteTime": {
     "end_time": "2023-10-12T22:51:47.041834Z",
     "start_time": "2023-10-12T22:51:46.956201Z"
    }
   }
  },
  {
   "cell_type": "code",
   "execution_count": 69,
   "outputs": [],
   "source": [
    "df_merged = reduce(lambda  left,right: pd.merge(left,right,on=['protein'], suffixes=('', '_y'),\n",
    "                                            how='outer'), data_frames).fillna(0)"
   ],
   "metadata": {
    "collapsed": false,
    "pycharm": {
     "name": "#%%\n"
    },
    "ExecuteTime": {
     "end_time": "2023-10-12T22:51:47.662789Z",
     "start_time": "2023-10-12T22:51:47.612566Z"
    }
   }
  },
  {
   "cell_type": "code",
   "execution_count": 70,
   "outputs": [
    {
     "data": {
      "text/plain": "      protein  detected  detected_y  detected_y  detected_y\n0       Q0250       1.0         0.0         0.0         0.0\n1     YAL003W       1.0         1.0         1.0         1.0\n2     YAL005C       1.0         1.0         1.0         1.0\n3     YAL012W       1.0         1.0         1.0         0.0\n4     YAL015C       1.0         1.0         0.0         0.0\n...       ...       ...         ...         ...         ...\n2907  YPL209C       0.0         0.0         0.0         1.0\n2908  YPL267W       0.0         0.0         0.0         1.0\n2909  YPR008W       0.0         0.0         0.0         1.0\n2910  YPR095C       0.0         0.0         0.0         1.0\n2911  YPR122W       0.0         0.0         0.0         1.0\n\n[2912 rows x 5 columns]",
      "text/html": "<div>\n<style scoped>\n    .dataframe tbody tr th:only-of-type {\n        vertical-align: middle;\n    }\n\n    .dataframe tbody tr th {\n        vertical-align: top;\n    }\n\n    .dataframe thead th {\n        text-align: right;\n    }\n</style>\n<table border=\"1\" class=\"dataframe\">\n  <thead>\n    <tr style=\"text-align: right;\">\n      <th></th>\n      <th>protein</th>\n      <th>detected</th>\n      <th>detected_y</th>\n      <th>detected_y</th>\n      <th>detected_y</th>\n    </tr>\n  </thead>\n  <tbody>\n    <tr>\n      <th>0</th>\n      <td>Q0250</td>\n      <td>1.0</td>\n      <td>0.0</td>\n      <td>0.0</td>\n      <td>0.0</td>\n    </tr>\n    <tr>\n      <th>1</th>\n      <td>YAL003W</td>\n      <td>1.0</td>\n      <td>1.0</td>\n      <td>1.0</td>\n      <td>1.0</td>\n    </tr>\n    <tr>\n      <th>2</th>\n      <td>YAL005C</td>\n      <td>1.0</td>\n      <td>1.0</td>\n      <td>1.0</td>\n      <td>1.0</td>\n    </tr>\n    <tr>\n      <th>3</th>\n      <td>YAL012W</td>\n      <td>1.0</td>\n      <td>1.0</td>\n      <td>1.0</td>\n      <td>0.0</td>\n    </tr>\n    <tr>\n      <th>4</th>\n      <td>YAL015C</td>\n      <td>1.0</td>\n      <td>1.0</td>\n      <td>0.0</td>\n      <td>0.0</td>\n    </tr>\n    <tr>\n      <th>...</th>\n      <td>...</td>\n      <td>...</td>\n      <td>...</td>\n      <td>...</td>\n      <td>...</td>\n    </tr>\n    <tr>\n      <th>2907</th>\n      <td>YPL209C</td>\n      <td>0.0</td>\n      <td>0.0</td>\n      <td>0.0</td>\n      <td>1.0</td>\n    </tr>\n    <tr>\n      <th>2908</th>\n      <td>YPL267W</td>\n      <td>0.0</td>\n      <td>0.0</td>\n      <td>0.0</td>\n      <td>1.0</td>\n    </tr>\n    <tr>\n      <th>2909</th>\n      <td>YPR008W</td>\n      <td>0.0</td>\n      <td>0.0</td>\n      <td>0.0</td>\n      <td>1.0</td>\n    </tr>\n    <tr>\n      <th>2910</th>\n      <td>YPR095C</td>\n      <td>0.0</td>\n      <td>0.0</td>\n      <td>0.0</td>\n      <td>1.0</td>\n    </tr>\n    <tr>\n      <th>2911</th>\n      <td>YPR122W</td>\n      <td>0.0</td>\n      <td>0.0</td>\n      <td>0.0</td>\n      <td>1.0</td>\n    </tr>\n  </tbody>\n</table>\n<p>2912 rows × 5 columns</p>\n</div>"
     },
     "execution_count": 70,
     "metadata": {},
     "output_type": "execute_result"
    }
   ],
   "source": [
    "df_merged"
   ],
   "metadata": {
    "collapsed": false,
    "ExecuteTime": {
     "end_time": "2023-10-12T22:51:48.107969Z",
     "start_time": "2023-10-12T22:51:48.052694Z"
    }
   }
  },
  {
   "cell_type": "code",
   "execution_count": 71,
   "outputs": [],
   "source": [
    "df_merged.columns = ['protein', 'gs1', 'gs2', 'gs3', 'gs4']"
   ],
   "metadata": {
    "collapsed": false,
    "pycharm": {
     "name": "#%%\n"
    },
    "ExecuteTime": {
     "end_time": "2023-10-12T22:51:48.449247Z",
     "start_time": "2023-10-12T22:51:48.391530Z"
    }
   }
  },
  {
   "cell_type": "code",
   "execution_count": 72,
   "outputs": [],
   "source": [
    "df_merged = df_merged.set_index('protein')"
   ],
   "metadata": {
    "collapsed": false,
    "pycharm": {
     "name": "#%%\n"
    },
    "ExecuteTime": {
     "end_time": "2023-10-12T22:51:48.953966Z",
     "start_time": "2023-10-12T22:51:48.923913Z"
    }
   }
  },
  {
   "cell_type": "code",
   "execution_count": 73,
   "outputs": [],
   "source": [
    "positive_protein = df_merged[df_merged.sum(axis=1) >= 2].index.to_series()"
   ],
   "metadata": {
    "collapsed": false,
    "pycharm": {
     "name": "#%%\n"
    },
    "ExecuteTime": {
     "end_time": "2023-10-12T22:51:49.368328Z",
     "start_time": "2023-10-12T22:51:49.343127Z"
    }
   }
  },
  {
   "cell_type": "code",
   "execution_count": 74,
   "outputs": [
    {
     "data": {
      "text/plain": "1.0    1264\n2.0     764\n3.0     711\n4.0     173\nName: count, dtype: int64"
     },
     "execution_count": 74,
     "metadata": {},
     "output_type": "execute_result"
    }
   ],
   "source": [
    "df_merged.sum(axis=1).value_counts()"
   ],
   "metadata": {
    "collapsed": false,
    "pycharm": {
     "name": "#%%\n"
    },
    "ExecuteTime": {
     "end_time": "2023-10-12T22:51:49.588213Z",
     "start_time": "2023-10-12T22:51:49.570456Z"
    }
   }
  },
  {
   "cell_type": "code",
   "execution_count": 75,
   "outputs": [],
   "source": [
    "protein_with_evidence = df_merged.index.to_series()"
   ],
   "metadata": {
    "collapsed": false,
    "pycharm": {
     "name": "#%%\n"
    },
    "ExecuteTime": {
     "end_time": "2023-10-12T22:51:50.011059Z",
     "start_time": "2023-10-12T22:51:49.988788Z"
    }
   }
  },
  {
   "cell_type": "code",
   "execution_count": 76,
   "outputs": [],
   "source": [
    "all_protein = all.iloc[:, 0]"
   ],
   "metadata": {
    "collapsed": false,
    "pycharm": {
     "name": "#%%\n"
    },
    "ExecuteTime": {
     "end_time": "2023-10-12T22:51:50.677352Z",
     "start_time": "2023-10-12T22:51:50.656748Z"
    }
   }
  },
  {
   "cell_type": "code",
   "execution_count": 77,
   "outputs": [],
   "source": [
    "negative_protein = all_protein[~all_protein.isin(protein_with_evidence)]"
   ],
   "metadata": {
    "collapsed": false,
    "pycharm": {
     "name": "#%%\n"
    },
    "ExecuteTime": {
     "end_time": "2023-10-12T22:51:51.664966Z",
     "start_time": "2023-10-12T22:51:51.638427Z"
    }
   }
  },
  {
   "cell_type": "code",
   "execution_count": 96,
   "outputs": [],
   "source": [
    "positive_protein.to_csv('positive.txt', index=False)\n",
    "negative_protein.to_csv('negative.txt', index=False)"
   ],
   "metadata": {
    "collapsed": false,
    "ExecuteTime": {
     "end_time": "2023-10-12T22:58:12.380877Z",
     "start_time": "2023-10-12T22:58:12.342981Z"
    }
   }
  },
  {
   "cell_type": "markdown",
   "source": [
    "# For yeast-ORBI dataset"
   ],
   "metadata": {
    "collapsed": false
   }
  },
  {
   "cell_type": "code",
   "execution_count": 78,
   "outputs": [],
   "source": [
    "import pandas as pd\n",
    "dat_yeast_ORBI = pd.read_table('ypd_orbi_self-yp4gte2-or-notyp4_no-tm_score_id.txt', delimiter=' ', header=None,\n",
    "                         names=['ID', 'ProteinProphet_Score', 'P(K|S)', 'mRNA(M)', 'P(K|M)', 'MSpresso_Score', 'TP_or_TN_in_REFERENCEFILE'])\n",
    "dat_yeast_ORBI = dat_yeast_ORBI.loc[:, ['ID', 'ProteinProphet_Score', 'mRNA(M)']]\n",
    "dat_yeast_ORBI.columns = ['protein', 'protein probability', 'mRNA(M)']\n",
    "# yeast_orbi.to_csv('../data/yeast-LCQ/raw/protein/yeast-LCQ.csv', index=False)"
   ],
   "metadata": {
    "collapsed": false,
    "pycharm": {
     "name": "#%%\n"
    },
    "ExecuteTime": {
     "end_time": "2023-10-12T22:51:57.388076Z",
     "start_time": "2023-10-12T22:51:57.370400Z"
    }
   }
  },
  {
   "cell_type": "code",
   "execution_count": 79,
   "outputs": [],
   "source": [
    "dat_yeast_ORBI['y'] = -1\n",
    "dat_yeast_ORBI.loc[dat_yeast_ORBI['protein'].isin(list(positive_protein)), 'y'] = 1\n",
    "dat_yeast_ORBI.loc[dat_yeast_ORBI['protein'].isin(list(negative_protein)), 'y'] = 0"
   ],
   "metadata": {
    "collapsed": false,
    "pycharm": {
     "name": "#%%\n"
    },
    "ExecuteTime": {
     "end_time": "2023-10-12T22:51:57.982846Z",
     "start_time": "2023-10-12T22:51:57.960182Z"
    }
   }
  },
  {
   "cell_type": "code",
   "execution_count": 80,
   "outputs": [
    {
     "data": {
      "text/plain": "y\n0    1776\n1    1433\nName: count, dtype: int64"
     },
     "execution_count": 80,
     "metadata": {},
     "output_type": "execute_result"
    }
   ],
   "source": [
    "dat_yeast_ORBI['y'].value_counts()"
   ],
   "metadata": {
    "collapsed": false,
    "pycharm": {
     "name": "#%%\n"
    },
    "ExecuteTime": {
     "end_time": "2023-10-12T22:51:58.163644Z",
     "start_time": "2023-10-12T22:51:58.132950Z"
    }
   }
  },
  {
   "cell_type": "code",
   "execution_count": 97,
   "outputs": [
    {
     "data": {
      "text/plain": "      protein  protein_probability    mRNA  y\n0     YNR077C                 0.00    0.13  0\n1     YDR444W                 0.96    0.15  0\n2     YHR213W                 0.00    0.16  0\n3     YLR465C                 0.00    0.16  0\n4     YDR543C                 0.00    0.18  0\n...       ...                  ...     ... ..\n3204  YKL152C                 1.00  122.05  1\n3205  YDL184C                 0.00  125.56  0\n3206  YLR044C                 1.00  138.72  1\n3207  YKL060C                 1.00  153.36  1\n3208  YHR174W                 1.00  226.55  1\n\n[3209 rows x 4 columns]",
      "text/html": "<div>\n<style scoped>\n    .dataframe tbody tr th:only-of-type {\n        vertical-align: middle;\n    }\n\n    .dataframe tbody tr th {\n        vertical-align: top;\n    }\n\n    .dataframe thead th {\n        text-align: right;\n    }\n</style>\n<table border=\"1\" class=\"dataframe\">\n  <thead>\n    <tr style=\"text-align: right;\">\n      <th></th>\n      <th>protein</th>\n      <th>protein_probability</th>\n      <th>mRNA</th>\n      <th>y</th>\n    </tr>\n  </thead>\n  <tbody>\n    <tr>\n      <th>0</th>\n      <td>YNR077C</td>\n      <td>0.00</td>\n      <td>0.13</td>\n      <td>0</td>\n    </tr>\n    <tr>\n      <th>1</th>\n      <td>YDR444W</td>\n      <td>0.96</td>\n      <td>0.15</td>\n      <td>0</td>\n    </tr>\n    <tr>\n      <th>2</th>\n      <td>YHR213W</td>\n      <td>0.00</td>\n      <td>0.16</td>\n      <td>0</td>\n    </tr>\n    <tr>\n      <th>3</th>\n      <td>YLR465C</td>\n      <td>0.00</td>\n      <td>0.16</td>\n      <td>0</td>\n    </tr>\n    <tr>\n      <th>4</th>\n      <td>YDR543C</td>\n      <td>0.00</td>\n      <td>0.18</td>\n      <td>0</td>\n    </tr>\n    <tr>\n      <th>...</th>\n      <td>...</td>\n      <td>...</td>\n      <td>...</td>\n      <td>...</td>\n    </tr>\n    <tr>\n      <th>3204</th>\n      <td>YKL152C</td>\n      <td>1.00</td>\n      <td>122.05</td>\n      <td>1</td>\n    </tr>\n    <tr>\n      <th>3205</th>\n      <td>YDL184C</td>\n      <td>0.00</td>\n      <td>125.56</td>\n      <td>0</td>\n    </tr>\n    <tr>\n      <th>3206</th>\n      <td>YLR044C</td>\n      <td>1.00</td>\n      <td>138.72</td>\n      <td>1</td>\n    </tr>\n    <tr>\n      <th>3207</th>\n      <td>YKL060C</td>\n      <td>1.00</td>\n      <td>153.36</td>\n      <td>1</td>\n    </tr>\n    <tr>\n      <th>3208</th>\n      <td>YHR174W</td>\n      <td>1.00</td>\n      <td>226.55</td>\n      <td>1</td>\n    </tr>\n  </tbody>\n</table>\n<p>3209 rows × 4 columns</p>\n</div>"
     },
     "execution_count": 97,
     "metadata": {},
     "output_type": "execute_result"
    }
   ],
   "source": [
    "dat_yeast_ORBI.rename(columns={'protein probability': 'protein_probability', 'mRNA(M)': 'mRNA'}, inplace=True)\n",
    "dat_yeast_ORBI.to_csv('yeast-ORBI.csv', index=False)\n",
    "dat_yeast_ORBI"
   ],
   "metadata": {
    "collapsed": false,
    "ExecuteTime": {
     "end_time": "2023-10-12T23:02:02.553895Z",
     "start_time": "2023-10-12T23:02:02.507642Z"
    }
   }
  },
  {
   "cell_type": "markdown",
   "source": [
    "# For yeast-LCQ dataset"
   ],
   "metadata": {
    "collapsed": false
   }
  },
  {
   "cell_type": "code",
   "execution_count": 92,
   "outputs": [],
   "source": [
    "dat_yeast_LCQ = pd.read_table('ypd_orbi_self-yp4gte2-or-notyp4_no-tm_score_id.txt', delimiter=' ', header=None,\n",
    "                         names=['ID', 'ProteinProphet_Score', 'P(K|S)', 'mRNA(M)', 'P(K|M)', 'MSpresso_Score', 'TP_or_TN_in_REFERENCEFILE'])\n",
    "dat_yeast_LCQ = dat_yeast_LCQ.loc[:, ['ID', 'ProteinProphet_Score', 'mRNA(M)']]\n",
    "dat_yeast_LCQ.columns = ['protein', 'protein probability', 'mRNA(M)']"
   ],
   "metadata": {
    "collapsed": false,
    "pycharm": {
     "name": "#%%\n"
    },
    "ExecuteTime": {
     "end_time": "2023-10-12T22:56:18.417159Z",
     "start_time": "2023-10-12T22:56:18.389292Z"
    }
   }
  },
  {
   "cell_type": "code",
   "execution_count": 93,
   "outputs": [],
   "source": [
    "dat_yeast_LCQ['y'] = -1\n",
    "dat_yeast_LCQ.loc[dat_yeast_LCQ['protein'].isin(list(positive_protein)), 'y'] = 1\n",
    "dat_yeast_LCQ.loc[dat_yeast_LCQ['protein'].isin(list(negative_protein)), 'y'] = 0"
   ],
   "metadata": {
    "collapsed": false,
    "ExecuteTime": {
     "end_time": "2023-10-12T22:56:47.955036Z",
     "start_time": "2023-10-12T22:56:47.928182Z"
    }
   }
  },
  {
   "cell_type": "code",
   "execution_count": 94,
   "outputs": [
    {
     "data": {
      "text/plain": "y\n0    1776\n1    1433\nName: count, dtype: int64"
     },
     "execution_count": 94,
     "metadata": {},
     "output_type": "execute_result"
    }
   ],
   "source": [
    "dat_yeast_LCQ['y'].value_counts()"
   ],
   "metadata": {
    "collapsed": false,
    "ExecuteTime": {
     "end_time": "2023-10-12T22:56:53.555349Z",
     "start_time": "2023-10-12T22:56:53.512423Z"
    }
   }
  },
  {
   "cell_type": "code",
   "execution_count": 98,
   "outputs": [
    {
     "data": {
      "text/plain": "      protein  protein_probability    mRNA  y\n0     YNR077C                 0.00    0.13  0\n1     YDR444W                 0.96    0.15  0\n2     YHR213W                 0.00    0.16  0\n3     YLR465C                 0.00    0.16  0\n4     YDR543C                 0.00    0.18  0\n...       ...                  ...     ... ..\n3204  YKL152C                 1.00  122.05  1\n3205  YDL184C                 0.00  125.56  0\n3206  YLR044C                 1.00  138.72  1\n3207  YKL060C                 1.00  153.36  1\n3208  YHR174W                 1.00  226.55  1\n\n[3209 rows x 4 columns]",
      "text/html": "<div>\n<style scoped>\n    .dataframe tbody tr th:only-of-type {\n        vertical-align: middle;\n    }\n\n    .dataframe tbody tr th {\n        vertical-align: top;\n    }\n\n    .dataframe thead th {\n        text-align: right;\n    }\n</style>\n<table border=\"1\" class=\"dataframe\">\n  <thead>\n    <tr style=\"text-align: right;\">\n      <th></th>\n      <th>protein</th>\n      <th>protein_probability</th>\n      <th>mRNA</th>\n      <th>y</th>\n    </tr>\n  </thead>\n  <tbody>\n    <tr>\n      <th>0</th>\n      <td>YNR077C</td>\n      <td>0.00</td>\n      <td>0.13</td>\n      <td>0</td>\n    </tr>\n    <tr>\n      <th>1</th>\n      <td>YDR444W</td>\n      <td>0.96</td>\n      <td>0.15</td>\n      <td>0</td>\n    </tr>\n    <tr>\n      <th>2</th>\n      <td>YHR213W</td>\n      <td>0.00</td>\n      <td>0.16</td>\n      <td>0</td>\n    </tr>\n    <tr>\n      <th>3</th>\n      <td>YLR465C</td>\n      <td>0.00</td>\n      <td>0.16</td>\n      <td>0</td>\n    </tr>\n    <tr>\n      <th>4</th>\n      <td>YDR543C</td>\n      <td>0.00</td>\n      <td>0.18</td>\n      <td>0</td>\n    </tr>\n    <tr>\n      <th>...</th>\n      <td>...</td>\n      <td>...</td>\n      <td>...</td>\n      <td>...</td>\n    </tr>\n    <tr>\n      <th>3204</th>\n      <td>YKL152C</td>\n      <td>1.00</td>\n      <td>122.05</td>\n      <td>1</td>\n    </tr>\n    <tr>\n      <th>3205</th>\n      <td>YDL184C</td>\n      <td>0.00</td>\n      <td>125.56</td>\n      <td>0</td>\n    </tr>\n    <tr>\n      <th>3206</th>\n      <td>YLR044C</td>\n      <td>1.00</td>\n      <td>138.72</td>\n      <td>1</td>\n    </tr>\n    <tr>\n      <th>3207</th>\n      <td>YKL060C</td>\n      <td>1.00</td>\n      <td>153.36</td>\n      <td>1</td>\n    </tr>\n    <tr>\n      <th>3208</th>\n      <td>YHR174W</td>\n      <td>1.00</td>\n      <td>226.55</td>\n      <td>1</td>\n    </tr>\n  </tbody>\n</table>\n<p>3209 rows × 4 columns</p>\n</div>"
     },
     "execution_count": 98,
     "metadata": {},
     "output_type": "execute_result"
    }
   ],
   "source": [
    "dat_yeast_LCQ.rename(columns={'protein probability': 'protein_probability', 'mRNA(M)': 'mRNA'}, inplace=True)\n",
    "dat_yeast_LCQ.to_csv('yeast-LCQ.csv', index=False)\n",
    "dat_yeast_LCQ"
   ],
   "metadata": {
    "collapsed": false,
    "ExecuteTime": {
     "end_time": "2023-10-12T23:02:26.305802Z",
     "start_time": "2023-10-12T23:02:26.265696Z"
    }
   }
  },
  {
   "cell_type": "code",
   "execution_count": 13,
   "outputs": [],
   "source": [
    "# fill in missing values if we want the yeast dataset contains all yeast proteins\n",
    "# protein_MS = pd.merge(protein_MS, proteins, how='left', left_on='protein', right_on='ID')\n",
    "# protein_MS['mRNA(M)'].fillna(0, inplace=True)\n",
    "# protein_MS.drop(['ID'], axis=1, inplace=True)\n",
    "# protein_MS.to_csv('../data/yeast-multi-graph/raw/protein/yeast-LCQ.csv')"
   ],
   "metadata": {
    "collapsed": false,
    "pycharm": {
     "name": "#%%\n"
    },
    "ExecuteTime": {
     "end_time": "2023-08-13T11:47:48.899882Z",
     "start_time": "2023-08-13T11:47:48.879605Z"
    }
   }
  },
  {
   "cell_type": "markdown",
   "source": [
    "# Check protein graph created used by the created dataset"
   ],
   "metadata": {
    "collapsed": false
   }
  },
  {
   "cell_type": "code",
   "execution_count": 106,
   "outputs": [],
   "source": [
    "import torch\n",
    "\n",
    "# x = torch.tensor(merged_data.loc[:, ['protein_probability']].values, dtype=torch.float)\n",
    "x = torch.tensor(dat_yeast_ORBI.loc[:, ['protein_probability', 'mRNA']].values, dtype=torch.float)\n",
    "y = torch.tensor(dat_yeast_ORBI.loc[:, ['y']].values, dtype=torch.float)\n",
    "# ids = merged_data.loc[:, ['protein']].values"
   ],
   "metadata": {
    "collapsed": false,
    "pycharm": {
     "name": "#%%\n"
    },
    "ExecuteTime": {
     "end_time": "2023-10-12T23:06:43.278532Z",
     "start_time": "2023-10-12T23:06:43.254239Z"
    }
   }
  },
  {
   "cell_type": "code",
   "execution_count": 110,
   "outputs": [
    {
     "name": "stderr",
     "output_type": "stream",
     "text": [
      "Rebuilding...\n",
      "Done!\n"
     ]
    }
   ],
   "source": [
    "from graphgym.custom_graphgym.loader.protein import ProteinDataset\n",
    "yeast_ORBI_dataset = ProteinDataset(\"yeast-ORBI\", numeric_columns=['protein_probability', 'mRNA'], label_column=None, rebuild=True)"
   ],
   "metadata": {
    "collapsed": false,
    "ExecuteTime": {
     "end_time": "2023-10-12T23:09:44.474935Z",
     "start_time": "2023-10-12T23:09:39.632649Z"
    }
   }
  },
  {
   "cell_type": "code",
   "execution_count": 111,
   "outputs": [
    {
     "data": {
      "text/plain": "<Figure size 640x480 with 3 Axes>",
      "image/png": "[encoded data removed]"
     },
     "metadata": {},
     "output_type": "display_data"
    }
   ],
   "source": [
    "from matplotlib import pyplot as plt\n",
    "\n",
    "plt.subplot(3, 1, 1)\n",
    "plt.hist(x[:, 0], bins=100);\n",
    "plt.title('Raw protein_probability');\n",
    "# \n",
    "plt.subplot(3, 1, 2)\n",
    "plt.hist(x[:, 1], bins=100);\n",
    "plt.title('mRNA');\n",
    "\n",
    "plt.subplot(3, 1, 3)\n",
    "plt.hist(y.squeeze(-1), bins=100);\n",
    "plt.title('Target protein probability');\n",
    "\n",
    "plt.tight_layout(pad=2.0);\n",
    "plt.show();"
   ],
   "metadata": {
    "collapsed": false,
    "ExecuteTime": {
     "end_time": "2023-10-12T23:09:45.547401Z",
     "start_time": "2023-10-12T23:09:44.497854Z"
    }
   }
  },
  {
   "cell_type": "code",
   "execution_count": 112,
   "outputs": [
    {
     "data": {
      "text/plain": "<Figure size 640x480 with 1 Axes>",
      "image/png": "[encoded data removed]"
     },
     "metadata": {},
     "output_type": "display_data"
    }
   ],
   "source": [
    "from matplotlib import pyplot as plt\n",
    "from torch_geometric.utils import  degree\n",
    "plt.hist(degree(yeast_ORBI_dataset.edge_index[0]), bins=100)\n",
    "plt.xlabel('Node degree')\n",
    "plt.ylabel('Frequency')\n",
    "plt.title('Distribution of protein graph node degree')\n",
    "plt.grid(True);"
   ],
   "metadata": {
    "collapsed": false,
    "ExecuteTime": {
     "end_time": "2023-10-12T23:09:46.232758Z",
     "start_time": "2023-10-12T23:09:45.547952Z"
    }
   }
  },
  {
   "cell_type": "code",
   "execution_count": 113,
   "outputs": [
    {
     "data": {
      "text/plain": "<Figure size 640x480 with 1 Axes>",
      "image/png": "[encoded data removed]"
     },
     "metadata": {},
     "output_type": "display_data"
    }
   ],
   "source": [
    "plt.hist(yeast_ORBI_dataset.x[:, 0], bins=100)\n",
    "plt.xlabel('Raw protein probability')\n",
    "plt.ylabel('Frequency')\n",
    "plt.title('Distribution of raw protein probability')\n",
    "plt.grid(True);# maybe use mean aggregation is better to sample variation"
   ],
   "metadata": {
    "collapsed": false,
    "ExecuteTime": {
     "end_time": "2023-10-12T23:09:55.853400Z",
     "start_time": "2023-10-12T23:09:55.378716Z"
    }
   }
  },
  {
   "cell_type": "code",
   "execution_count": null,
   "outputs": [],
   "source": [],
   "metadata": {
    "collapsed": false
   }
  }
 ],
 "metadata": {
  "kernelspec": {
   "display_name": "Python 3",
   "language": "python",
   "name": "python3"
  },
  "language_info": {
   "codemirror_mode": {
    "name": "ipython",
    "version": 2
   },
   "file_extension": ".py",
   "mimetype": "text/x-python",
   "name": "python",
   "nbconvert_exporter": "python",
   "pygments_lexer": "ipython2",
   "version": "2.7.6"
  }
 },
 "nbformat": 4,
 "nbformat_minor": 0
}

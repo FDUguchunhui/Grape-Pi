{
 "cells": [
  {
   "cell_type": "code",
   "execution_count": 25,
   "outputs": [],
   "source": [
    "import os\n",
    "from graphgym.custom_graphgym.loader.protein import ProteinDataset\n",
    "import matplotlib.pyplot as plt"
   ],
   "metadata": {
    "collapsed": false,
    "ExecuteTime": {
     "end_time": "2023-10-15T00:55:33.370188Z",
     "start_time": "2023-10-15T00:55:33.349217Z"
    }
   },
   "id": "9a55c6dd18f6790a"
  },
  {
   "cell_type": "code",
   "execution_count": 26,
   "outputs": [],
   "source": [
    "os.chdir('/Users/cgu3/Documents/Grape-Pi')"
   ],
   "metadata": {
    "collapsed": false,
    "ExecuteTime": {
     "end_time": "2023-10-15T00:55:33.370903Z",
     "start_time": "2023-10-15T00:55:33.352604Z"
    }
   },
   "id": "cc1b48002b7c6fda"
  },
  {
   "cell_type": "code",
   "execution_count": 27,
   "id": "initial_id",
   "metadata": {
    "collapsed": true,
    "ExecuteTime": {
     "end_time": "2023-10-15T00:55:37.104649Z",
     "start_time": "2023-10-15T00:55:33.355425Z"
    }
   },
   "outputs": [
    {
     "name": "stderr",
     "output_type": "stream",
     "text": [
      "Rebuilding...\n",
      "Done!\n"
     ]
    }
   ],
   "source": [
    "dataset = ProteinDataset(\"data/single\", numeric_columns=['protein_probability'], label_column='protein_probability_soft_label', rebuild=True)\n",
    "# dataset = ProteinDataset(\"data/yeast-ORBI\", numeric_columns=['protein_probability'], label_column=None, rebuild=True)\n",
    "# dataset = ProteinDataset(\"data/human-ORBI\", numeric_columns=['protein_probability'], label_column='label', rebuild=True)"
   ]
  },
  {
   "cell_type": "code",
   "execution_count": 28,
   "outputs": [],
   "source": [
    "import copy\n",
    "import time\n",
    "import torch\n",
    "import torch.nn.functional as F\n",
    "from tqdm import tqdm\n",
    "from torch_geometric.loader import NeighborLoader\n",
    "from torch_geometric.nn import SAGEConv\n",
    "\n",
    "device = torch.device('cuda' if torch.cuda.is_available() else 'cpu')\n",
    "data = dataset[0].to(device, 'x', 'y', 'train_mask', 'val_mask', 'test_mask')"
   ],
   "metadata": {
    "collapsed": false,
    "ExecuteTime": {
     "end_time": "2023-10-15T00:55:37.108291Z",
     "start_time": "2023-10-15T00:55:37.105712Z"
    }
   },
   "id": "1d81189dc77095c9"
  },
  {
   "cell_type": "code",
   "execution_count": 29,
   "outputs": [],
   "source": [
    "import torchmetrics\n",
    "from torchmetrics.classification import BinaryAUROC, BinaryAccuracy, BinaryF1Score\n",
    "\n",
    "# \n",
    "approx_train_collection = torchmetrics.MetricCollection(\n",
    "    BinaryAccuracy(),\n",
    "    BinaryAUROC(),\n",
    "    BinaryF1Score()\n",
    ")\n",
    "\n",
    "train_collection = torchmetrics.MetricCollection(\n",
    "    BinaryAccuracy(),\n",
    "    BinaryAUROC(),\n",
    "    BinaryF1Score()\n",
    ")\n",
    "\n",
    "val_collection = torchmetrics.MetricCollection(\n",
    "    BinaryAccuracy(),\n",
    "    BinaryAUROC(),\n",
    "    BinaryF1Score()\n",
    ")\n",
    "\n",
    "test_collection = torchmetrics.MetricCollection(\n",
    "    BinaryAccuracy(),\n",
    "    BinaryAUROC(),\n",
    "    BinaryF1Score()\n",
    ")\n",
    "\n",
    "approx_train_tracker = torchmetrics.wrappers.MetricTracker(approx_train_collection)\n",
    "train_tracker = torchmetrics.wrappers.MetricTracker(train_collection)\n",
    "val_tracker = torchmetrics.wrappers.MetricTracker(val_collection)\n",
    "test_tracker = torchmetrics.wrappers.MetricTracker(test_collection)\n",
    "    "
   ],
   "metadata": {
    "collapsed": false,
    "ExecuteTime": {
     "end_time": "2023-10-15T00:55:37.113965Z",
     "start_time": "2023-10-15T00:55:37.110118Z"
    }
   },
   "id": "ea51fb41564b409c"
  },
  {
   "cell_type": "code",
   "execution_count": 30,
   "outputs": [],
   "source": [
    "kwargs = {'batch_size': 128, 'num_workers': 4, 'persistent_workers': True}\n",
    "train_loader = NeighborLoader(data, input_nodes=data.train_mask,\n",
    "                              num_neighbors=[20], shuffle=True, **kwargs)\n",
    "\n",
    "subgraph_loader = NeighborLoader(copy.copy(data), input_nodes=None,\n",
    "                                 num_neighbors=[-1], shuffle=False, **kwargs)\n",
    "\n",
    "# No need to maintain these features during evaluation:\n",
    "del subgraph_loader.data.x, subgraph_loader.data.y\n",
    "# Add global node index information.\n",
    "subgraph_loader.data.num_nodes = data.num_nodes\n",
    "subgraph_loader.data.n_id = torch.arange(data.num_nodes)\n",
    "\n",
    "\n",
    "class SAGE(torch.nn.Module):\n",
    "    def __init__(self, in_channels, hidden_channels, out_channels):\n",
    "        super().__init__()\n",
    "        self.convs = torch.nn.ModuleList()\n",
    "        # a single conv layer and a single linear layer\n",
    "        self.convs.append(SAGEConv(in_channels, hidden_channels))\n",
    "        self.lin1 = torch.nn.Linear(hidden_channels, out_channels)\n",
    "\n",
    "    def forward(self, x, edge_index):\n",
    "        for i, conv in enumerate(self.convs):\n",
    "            x = conv(x, edge_index)\n",
    "            x = x.relu_()\n",
    "            x = self.lin1(x)\n",
    "        return x\n",
    "\n",
    "    @torch.no_grad()\n",
    "    def inference(self, x_all, subgraph_loader):\n",
    "        pbar = tqdm(total=len(subgraph_loader.dataset) * len(self.convs))\n",
    "        pbar.set_description('Evaluating')\n",
    "\n",
    "        # Compute representations of nodes layer by layer, using *all*\n",
    "        # available edges. This leads to faster computation in contrast to\n",
    "        # immediately computing the final representations of each batch:\n",
    "        for i, conv in enumerate(self.convs):\n",
    "            xs = []\n",
    "            for batch in subgraph_loader:\n",
    "                x = x_all[batch.n_id.to(x_all.device)].to(device)\n",
    "                x = conv(x, batch.edge_index.to(device))\n",
    "                x = x.relu_()\n",
    "                x = self.lin1(x)\n",
    "                xs.append(x[:batch.batch_size].cpu())\n",
    "                pbar.update(batch.batch_size)\n",
    "            x_all = torch.cat(xs, dim=0)\n",
    "        pbar.close()\n",
    "        return x_all\n",
    "\n",
    "\n",
    "model = SAGE(dataset.num_features, 10, 1).to(device)\n",
    "optimizer = torch.optim.Adam(model.parameters(), lr=0.001)\n",
    "\n",
    "def train(epoch):\n",
    "    model.train()\n",
    "\n",
    "    pbar = tqdm(total=int(len(train_loader.dataset)))\n",
    "    pbar.set_description(f'Epoch {epoch:02d}')\n",
    "    \n",
    "    total_loss = total_examples = 0\n",
    "    approx_train_tracker.increment() # the start of a new epoch\n",
    "    \n",
    "    for batch in train_loader:\n",
    "        optimizer.zero_grad()\n",
    "        y = batch.y[:batch.batch_size]\n",
    "        logits = model(batch.x, batch.edge_index.to(device))[:batch.batch_size].squeeze(-1)\n",
    "        \n",
    "        # create hard label only for confidence proteins and used for binary classification evaluation\n",
    "        y_pred_prob = torch.nn.functional.sigmoid(logits)\n",
    "        y_hard = torch.where(y > 0.99, 1, \n",
    "                             torch.where(y < 0.5, 0, -1))\n",
    "        binary_mask = (y_hard != -1).bool()\n",
    "        y_hard = y_hard.to(y_pred_prob.device)\n",
    "        y = y.to(y_pred_prob.device)\n",
    "        \n",
    "        loss = F.binary_cross_entropy_with_logits(logits.squeeze(-1), y)\n",
    "        loss.backward()\n",
    "        optimizer.step()\n",
    "\n",
    "        total_loss += float(loss) * batch.batch_size\n",
    "        approx_train_tracker.update(y_pred_prob[binary_mask], y_hard[binary_mask])\n",
    "        total_examples += batch.batch_size\n",
    "        pbar.update(batch.batch_size)\n",
    "    pbar.close()\n",
    "\n",
    "    return total_loss / total_examples\n",
    "\n",
    "\n",
    "\n",
    "@torch.no_grad()\n",
    "def test():\n",
    "    model.eval()\n",
    "    logits = model.inference(data.x, subgraph_loader).squeeze(-1)\n",
    "    y_pred_prob = torch.nn.functional.sigmoid(logits)\n",
    " \n",
    "    # create hard label only for confidence proteins\n",
    "    y_hard = torch.where(data.y > 0.99, 1, \n",
    "                         torch.where(data.y < 0.5, 0, -1))\n",
    "    binary_mask = (y_hard != -1).bool()\n",
    "    y_hard = y_hard.to(y_pred_prob.device)\n",
    "    y = data.y.to(y_pred_prob.device)\n",
    "\n",
    "    loss = []\n",
    "    train_tracker.update(y_pred_prob[data.train_mask & binary_mask], y_hard[data.train_mask & binary_mask])\n",
    "    val_tracker.update(y_pred_prob[data.val_mask & binary_mask], y_hard[data.val_mask & binary_mask])\n",
    "    test_tracker.update(y_pred_prob[data.test_mask & binary_mask], y_hard[data.test_mask & binary_mask])\n",
    "    \n",
    "    for mask in [data.train_mask, data.val_mask, data.test_mask]:\n",
    "        mask = mask & binary_mask\n",
    "        loss.append(F.binary_cross_entropy_with_logits(logits[mask], y[mask]))\n",
    "    \n",
    "    return loss"
   ],
   "metadata": {
    "collapsed": false,
    "ExecuteTime": {
     "end_time": "2023-10-15T00:55:37.703828Z",
     "start_time": "2023-10-15T00:55:37.122345Z"
    }
   },
   "id": "ed6a72c0fcaf4ee"
  },
  {
   "cell_type": "code",
   "execution_count": 31,
   "outputs": [
    {
     "name": "stderr",
     "output_type": "stream",
     "text": [
      "Evaluating: 100%|██████████| 10503/10503 [00:02<00:00, 4869.46it/s]\n"
     ]
    },
    {
     "name": "stdout",
     "output_type": "stream",
     "text": [
      "Epoch: 01, Train Loss: 0.7528, Val Loss: 0.7478, Test Loss: 0.7544\n",
      "Epoch: 01, Train Acc: 0.2511, Val Acc: 0.2813, Test AUC: 0.2466\n",
      "Epoch: 01, Train AUC: 0.8151, Val AUC: 0.8476, Test AUC: 0.7939\n",
      "Epoch: 01, Train F1: 0.0000, Val F1: 0.0000, Test F1: 0.0000\n"
     ]
    },
    {
     "name": "stderr",
     "output_type": "stream",
     "text": [
      "Epoch 01: 100%|██████████| 8403/8403 [00:01<00:00, 4286.94it/s]\n"
     ]
    },
    {
     "name": "stdout",
     "output_type": "stream",
     "text": [
      "Epoch 01, Approx train loss: 0.7064, Approx. Train Acc: 0.5693,Approx. Train AUC: 0.7625, Approx. Train F1: 0.6159\n"
     ]
    },
    {
     "name": "stderr",
     "output_type": "stream",
     "text": [
      "Evaluating: 100%|██████████| 10503/10503 [00:00<00:00, 58913.70it/s]\n"
     ]
    },
    {
     "name": "stdout",
     "output_type": "stream",
     "text": [
      "Epoch: 02, Train Loss: 0.6365, Val Loss: 0.6372, Test Loss: 0.6368\n",
      "Epoch: 02, Train Acc: 0.8158, Val Acc: 0.8148, Test AUC: 0.8138\n",
      "Epoch: 02, Train AUC: 0.8727, Val AUC: 0.8928, Test AUC: 0.8594\n",
      "Epoch: 02, Train F1: 0.8760, Val F1: 0.8714, Test F1: 0.8756\n"
     ]
    },
    {
     "name": "stderr",
     "output_type": "stream",
     "text": [
      "Epoch 02: 100%|██████████| 8403/8403 [00:00<00:00, 118872.47it/s]\n"
     ]
    },
    {
     "name": "stdout",
     "output_type": "stream",
     "text": [
      "Epoch 02, Approx train loss: 0.6185, Approx. Train Acc: 0.7686,Approx. Train AUC: 0.8286, Approx. Train F1: 0.8637\n"
     ]
    },
    {
     "name": "stderr",
     "output_type": "stream",
     "text": [
      "Evaluating: 100%|██████████| 10503/10503 [00:00<00:00, 56421.35it/s]\n"
     ]
    },
    {
     "name": "stdout",
     "output_type": "stream",
     "text": [
      "Epoch: 03, Train Loss: 0.5537, Val Loss: 0.5599, Test Loss: 0.5528\n",
      "Epoch: 03, Train Acc: 0.7489, Val Acc: 0.7187, Test AUC: 0.7534\n",
      "Epoch: 03, Train AUC: 0.8734, Val AUC: 0.8924, Test AUC: 0.8621\n",
      "Epoch: 03, Train F1: 0.8564, Val F1: 0.8363, Test F1: 0.8594\n"
     ]
    },
    {
     "name": "stderr",
     "output_type": "stream",
     "text": [
      "Epoch 03: 100%|██████████| 8403/8403 [00:00<00:00, 112607.31it/s]\n"
     ]
    },
    {
     "name": "stdout",
     "output_type": "stream",
     "text": [
      "Epoch 03, Approx train loss: 0.5494, Approx. Train Acc: 0.7489,Approx. Train AUC: 0.8347, Approx. Train F1: 0.8564\n"
     ]
    },
    {
     "name": "stderr",
     "output_type": "stream",
     "text": [
      "Evaluating: 100%|██████████| 10503/10503 [00:00<00:00, 57640.71it/s]\n"
     ]
    },
    {
     "name": "stdout",
     "output_type": "stream",
     "text": [
      "Epoch: 04, Train Loss: 0.4907, Val Loss: 0.5031, Test Loss: 0.4885\n",
      "Epoch: 04, Train Acc: 0.7489, Val Acc: 0.7187, Test AUC: 0.7534\n",
      "Epoch: 04, Train AUC: 0.8755, Val AUC: 0.8933, Test AUC: 0.8659\n",
      "Epoch: 04, Train F1: 0.8564, Val F1: 0.8363, Test F1: 0.8594\n"
     ]
    },
    {
     "name": "stderr",
     "output_type": "stream",
     "text": [
      "Epoch 04: 100%|██████████| 8403/8403 [00:00<00:00, 114217.73it/s]\n"
     ]
    },
    {
     "name": "stdout",
     "output_type": "stream",
     "text": [
      "Epoch 04, Approx train loss: 0.4993, Approx. Train Acc: 0.7489,Approx. Train AUC: 0.8368, Approx. Train F1: 0.8564\n"
     ]
    },
    {
     "name": "stderr",
     "output_type": "stream",
     "text": [
      "Evaluating: 100%|██████████| 10503/10503 [00:00<00:00, 58472.81it/s]\n"
     ]
    },
    {
     "name": "stdout",
     "output_type": "stream",
     "text": [
      "Epoch: 05, Train Loss: 0.4467, Val Loss: 0.4651, Test Loss: 0.4431\n",
      "Epoch: 05, Train Acc: 0.7489, Val Acc: 0.7187, Test AUC: 0.7534\n",
      "Epoch: 05, Train AUC: 0.8762, Val AUC: 0.8942, Test AUC: 0.8664\n",
      "Epoch: 05, Train F1: 0.8564, Val F1: 0.8363, Test F1: 0.8594\n"
     ]
    },
    {
     "name": "stderr",
     "output_type": "stream",
     "text": [
      "Epoch 05: 100%|██████████| 8403/8403 [00:00<00:00, 112999.39it/s]\n"
     ]
    },
    {
     "name": "stdout",
     "output_type": "stream",
     "text": [
      "Epoch 05, Approx train loss: 0.4669, Approx. Train Acc: 0.7489,Approx. Train AUC: 0.8522, Approx. Train F1: 0.8564\n"
     ]
    },
    {
     "name": "stderr",
     "output_type": "stream",
     "text": [
      "Evaluating: 100%|██████████| 10503/10503 [00:00<00:00, 56208.19it/s]\n"
     ]
    },
    {
     "name": "stdout",
     "output_type": "stream",
     "text": [
      "Epoch: 06, Train Loss: 0.4208, Val Loss: 0.4438, Test Loss: 0.4163\n",
      "Epoch: 06, Train Acc: 0.7489, Val Acc: 0.7187, Test AUC: 0.7534\n",
      "Epoch: 06, Train AUC: 0.8767, Val AUC: 0.8952, Test AUC: 0.8659\n",
      "Epoch: 06, Train F1: 0.8564, Val F1: 0.8363, Test F1: 0.8594\n"
     ]
    },
    {
     "name": "stderr",
     "output_type": "stream",
     "text": [
      "Epoch 06: 100%|██████████| 8403/8403 [00:00<00:00, 114507.18it/s]\n"
     ]
    },
    {
     "name": "stdout",
     "output_type": "stream",
     "text": [
      "Epoch 06, Approx train loss: 0.4540, Approx. Train Acc: 0.7489,Approx. Train AUC: 0.8708, Approx. Train F1: 0.8564\n"
     ]
    },
    {
     "name": "stderr",
     "output_type": "stream",
     "text": [
      "Evaluating: 100%|██████████| 10503/10503 [00:00<00:00, 57729.46it/s]\n"
     ]
    },
    {
     "name": "stdout",
     "output_type": "stream",
     "text": [
      "Epoch: 07, Train Loss: 0.4111, Val Loss: 0.4367, Test Loss: 0.4062\n",
      "Epoch: 07, Train Acc: 0.7489, Val Acc: 0.7187, Test AUC: 0.7534\n",
      "Epoch: 07, Train AUC: 0.8770, Val AUC: 0.8954, Test AUC: 0.8666\n",
      "Epoch: 07, Train F1: 0.8564, Val F1: 0.8363, Test F1: 0.8594\n"
     ]
    },
    {
     "name": "stderr",
     "output_type": "stream",
     "text": [
      "Epoch 07: 100%|██████████| 8403/8403 [00:00<00:00, 114236.24it/s]\n"
     ]
    },
    {
     "name": "stdout",
     "output_type": "stream",
     "text": [
      "Epoch 07, Approx train loss: 0.4499, Approx. Train Acc: 0.7489,Approx. Train AUC: 0.8722, Approx. Train F1: 0.8564\n"
     ]
    },
    {
     "name": "stderr",
     "output_type": "stream",
     "text": [
      "Evaluating: 100%|██████████| 10503/10503 [00:00<00:00, 57846.73it/s]\n"
     ]
    },
    {
     "name": "stdout",
     "output_type": "stream",
     "text": [
      "Epoch: 08, Train Loss: 0.4064, Val Loss: 0.4326, Test Loss: 0.4013\n",
      "Epoch: 08, Train Acc: 0.7489, Val Acc: 0.7187, Test AUC: 0.7534\n",
      "Epoch: 08, Train AUC: 0.8770, Val AUC: 0.8955, Test AUC: 0.8666\n",
      "Epoch: 08, Train F1: 0.8564, Val F1: 0.8363, Test F1: 0.8594\n"
     ]
    },
    {
     "name": "stderr",
     "output_type": "stream",
     "text": [
      "Epoch 08: 100%|██████████| 8403/8403 [00:00<00:00, 114536.95it/s]\n"
     ]
    },
    {
     "name": "stdout",
     "output_type": "stream",
     "text": [
      "Epoch 08, Approx train loss: 0.4476, Approx. Train Acc: 0.7489,Approx. Train AUC: 0.8747, Approx. Train F1: 0.8564\n"
     ]
    },
    {
     "name": "stderr",
     "output_type": "stream",
     "text": [
      "Evaluating: 100%|██████████| 10503/10503 [00:00<00:00, 58943.33it/s]\n"
     ]
    },
    {
     "name": "stdout",
     "output_type": "stream",
     "text": [
      "Epoch: 09, Train Loss: 0.4026, Val Loss: 0.4288, Test Loss: 0.3977\n",
      "Epoch: 09, Train Acc: 0.7489, Val Acc: 0.7187, Test AUC: 0.7534\n",
      "Epoch: 09, Train AUC: 0.8769, Val AUC: 0.8955, Test AUC: 0.8666\n",
      "Epoch: 09, Train F1: 0.8564, Val F1: 0.8363, Test F1: 0.8594\n"
     ]
    },
    {
     "name": "stderr",
     "output_type": "stream",
     "text": [
      "Epoch 09: 100%|██████████| 8403/8403 [00:00<00:00, 116115.01it/s]\n"
     ]
    },
    {
     "name": "stdout",
     "output_type": "stream",
     "text": [
      "Epoch 09, Approx train loss: 0.4459, Approx. Train Acc: 0.7489,Approx. Train AUC: 0.8748, Approx. Train F1: 0.8564\n"
     ]
    },
    {
     "name": "stderr",
     "output_type": "stream",
     "text": [
      "Evaluating: 100%|██████████| 10503/10503 [00:00<00:00, 59200.93it/s]\n"
     ]
    },
    {
     "name": "stdout",
     "output_type": "stream",
     "text": [
      "Epoch: 10, Train Loss: 0.3993, Val Loss: 0.4252, Test Loss: 0.3946\n",
      "Epoch: 10, Train Acc: 0.7489, Val Acc: 0.7187, Test AUC: 0.7534\n",
      "Epoch: 10, Train AUC: 0.8770, Val AUC: 0.8955, Test AUC: 0.8664\n",
      "Epoch: 10, Train F1: 0.8564, Val F1: 0.8363, Test F1: 0.8594\n"
     ]
    },
    {
     "name": "stderr",
     "output_type": "stream",
     "text": [
      "Epoch 10: 100%|██████████| 8403/8403 [00:00<00:00, 112130.11it/s]\n"
     ]
    },
    {
     "name": "stdout",
     "output_type": "stream",
     "text": [
      "Epoch 10, Approx train loss: 0.4443, Approx. Train Acc: 0.7489,Approx. Train AUC: 0.8742, Approx. Train F1: 0.8564\n"
     ]
    },
    {
     "name": "stderr",
     "output_type": "stream",
     "text": [
      "Evaluating: 100%|██████████| 10503/10503 [00:00<00:00, 58052.94it/s]\n"
     ]
    },
    {
     "name": "stdout",
     "output_type": "stream",
     "text": [
      "Epoch: 11, Train Loss: 0.3962, Val Loss: 0.4218, Test Loss: 0.3916\n",
      "Epoch: 11, Train Acc: 0.7489, Val Acc: 0.7187, Test AUC: 0.7534\n",
      "Epoch: 11, Train AUC: 0.8769, Val AUC: 0.8955, Test AUC: 0.8663\n",
      "Epoch: 11, Train F1: 0.8564, Val F1: 0.8363, Test F1: 0.8594\n"
     ]
    },
    {
     "name": "stderr",
     "output_type": "stream",
     "text": [
      "Epoch 11: 100%|██████████| 8403/8403 [00:00<00:00, 112393.65it/s]\n"
     ]
    },
    {
     "name": "stdout",
     "output_type": "stream",
     "text": [
      "Epoch 11, Approx train loss: 0.4427, Approx. Train Acc: 0.7489,Approx. Train AUC: 0.8752, Approx. Train F1: 0.8564\n"
     ]
    },
    {
     "name": "stderr",
     "output_type": "stream",
     "text": [
      "Evaluating: 100%|██████████| 10503/10503 [00:00<00:00, 58228.74it/s]\n"
     ]
    },
    {
     "name": "stdout",
     "output_type": "stream",
     "text": [
      "Epoch: 12, Train Loss: 0.3933, Val Loss: 0.4184, Test Loss: 0.3888\n",
      "Epoch: 12, Train Acc: 0.7489, Val Acc: 0.7187, Test AUC: 0.7534\n",
      "Epoch: 12, Train AUC: 0.8769, Val AUC: 0.8954, Test AUC: 0.8663\n",
      "Epoch: 12, Train F1: 0.8564, Val F1: 0.8363, Test F1: 0.8594\n"
     ]
    },
    {
     "name": "stderr",
     "output_type": "stream",
     "text": [
      "Epoch 12: 100%|██████████| 8403/8403 [00:00<00:00, 114549.23it/s]\n"
     ]
    },
    {
     "name": "stdout",
     "output_type": "stream",
     "text": [
      "Epoch 12, Approx train loss: 0.4412, Approx. Train Acc: 0.7489,Approx. Train AUC: 0.8742, Approx. Train F1: 0.8564\n"
     ]
    },
    {
     "name": "stderr",
     "output_type": "stream",
     "text": [
      "Evaluating: 100%|██████████| 10503/10503 [00:00<00:00, 57322.92it/s]\n"
     ]
    },
    {
     "name": "stdout",
     "output_type": "stream",
     "text": [
      "Epoch: 13, Train Loss: 0.3904, Val Loss: 0.4151, Test Loss: 0.3861\n",
      "Epoch: 13, Train Acc: 0.7489, Val Acc: 0.7187, Test AUC: 0.7534\n",
      "Epoch: 13, Train AUC: 0.8768, Val AUC: 0.8954, Test AUC: 0.8661\n",
      "Epoch: 13, Train F1: 0.8564, Val F1: 0.8363, Test F1: 0.8594\n"
     ]
    },
    {
     "name": "stderr",
     "output_type": "stream",
     "text": [
      "Epoch 13: 100%|██████████| 8403/8403 [00:00<00:00, 116666.57it/s]\n"
     ]
    },
    {
     "name": "stdout",
     "output_type": "stream",
     "text": [
      "Epoch 13, Approx train loss: 0.4401, Approx. Train Acc: 0.7489,Approx. Train AUC: 0.8730, Approx. Train F1: 0.8564\n"
     ]
    },
    {
     "name": "stderr",
     "output_type": "stream",
     "text": [
      "Evaluating: 100%|██████████| 10503/10503 [00:00<00:00, 60997.35it/s]\n"
     ]
    },
    {
     "name": "stdout",
     "output_type": "stream",
     "text": [
      "Epoch: 14, Train Loss: 0.3878, Val Loss: 0.4122, Test Loss: 0.3836\n",
      "Epoch: 14, Train Acc: 0.7489, Val Acc: 0.7187, Test AUC: 0.7534\n",
      "Epoch: 14, Train AUC: 0.8768, Val AUC: 0.8951, Test AUC: 0.8662\n",
      "Epoch: 14, Train F1: 0.8564, Val F1: 0.8363, Test F1: 0.8594\n"
     ]
    },
    {
     "name": "stderr",
     "output_type": "stream",
     "text": [
      "Epoch 14: 100%|██████████| 8403/8403 [00:00<00:00, 117017.12it/s]\n"
     ]
    },
    {
     "name": "stdout",
     "output_type": "stream",
     "text": [
      "Epoch 14, Approx train loss: 0.4387, Approx. Train Acc: 0.7489,Approx. Train AUC: 0.8748, Approx. Train F1: 0.8564\n"
     ]
    },
    {
     "name": "stderr",
     "output_type": "stream",
     "text": [
      "Evaluating: 100%|██████████| 10503/10503 [00:00<00:00, 60152.21it/s]\n"
     ]
    },
    {
     "name": "stdout",
     "output_type": "stream",
     "text": [
      "Epoch: 15, Train Loss: 0.3853, Val Loss: 0.4093, Test Loss: 0.3812\n",
      "Epoch: 15, Train Acc: 0.7489, Val Acc: 0.7187, Test AUC: 0.7534\n",
      "Epoch: 15, Train AUC: 0.8767, Val AUC: 0.8950, Test AUC: 0.8660\n",
      "Epoch: 15, Train F1: 0.8564, Val F1: 0.8363, Test F1: 0.8594\n"
     ]
    },
    {
     "name": "stderr",
     "output_type": "stream",
     "text": [
      "Epoch 15: 100%|██████████| 8403/8403 [00:00<00:00, 121682.53it/s]\n"
     ]
    },
    {
     "name": "stdout",
     "output_type": "stream",
     "text": [
      "Epoch 15, Approx train loss: 0.4377, Approx. Train Acc: 0.7489,Approx. Train AUC: 0.8755, Approx. Train F1: 0.8564\n"
     ]
    },
    {
     "name": "stderr",
     "output_type": "stream",
     "text": [
      "Evaluating: 100%|██████████| 10503/10503 [00:00<00:00, 61933.90it/s]\n"
     ]
    },
    {
     "name": "stdout",
     "output_type": "stream",
     "text": [
      "Epoch: 16, Train Loss: 0.3829, Val Loss: 0.4065, Test Loss: 0.3790\n",
      "Epoch: 16, Train Acc: 0.7489, Val Acc: 0.7187, Test AUC: 0.7534\n",
      "Epoch: 16, Train AUC: 0.8766, Val AUC: 0.8947, Test AUC: 0.8659\n",
      "Epoch: 16, Train F1: 0.8564, Val F1: 0.8363, Test F1: 0.8594\n"
     ]
    },
    {
     "name": "stderr",
     "output_type": "stream",
     "text": [
      "Epoch 16: 100%|██████████| 8403/8403 [00:00<00:00, 120335.61it/s]\n"
     ]
    },
    {
     "name": "stdout",
     "output_type": "stream",
     "text": [
      "Epoch 16, Approx train loss: 0.4368, Approx. Train Acc: 0.7489,Approx. Train AUC: 0.8749, Approx. Train F1: 0.8564\n"
     ]
    },
    {
     "name": "stderr",
     "output_type": "stream",
     "text": [
      "Evaluating: 100%|██████████| 10503/10503 [00:00<00:00, 61160.20it/s]\n"
     ]
    },
    {
     "name": "stdout",
     "output_type": "stream",
     "text": [
      "Epoch: 17, Train Loss: 0.3807, Val Loss: 0.4039, Test Loss: 0.3769\n",
      "Epoch: 17, Train Acc: 0.7489, Val Acc: 0.7187, Test AUC: 0.7534\n",
      "Epoch: 17, Train AUC: 0.8765, Val AUC: 0.8947, Test AUC: 0.8660\n",
      "Epoch: 17, Train F1: 0.8564, Val F1: 0.8363, Test F1: 0.8594\n"
     ]
    },
    {
     "name": "stderr",
     "output_type": "stream",
     "text": [
      "Epoch 17: 100%|██████████| 8403/8403 [00:00<00:00, 122360.99it/s]\n"
     ]
    },
    {
     "name": "stdout",
     "output_type": "stream",
     "text": [
      "Epoch 17, Approx train loss: 0.4358, Approx. Train Acc: 0.7489,Approx. Train AUC: 0.8742, Approx. Train F1: 0.8564\n"
     ]
    },
    {
     "name": "stderr",
     "output_type": "stream",
     "text": [
      "Evaluating: 100%|██████████| 10503/10503 [00:00<00:00, 61454.38it/s]\n"
     ]
    },
    {
     "name": "stdout",
     "output_type": "stream",
     "text": [
      "Epoch: 18, Train Loss: 0.3787, Val Loss: 0.4018, Test Loss: 0.3750\n",
      "Epoch: 18, Train Acc: 0.7489, Val Acc: 0.7187, Test AUC: 0.7534\n",
      "Epoch: 18, Train AUC: 0.8765, Val AUC: 0.8945, Test AUC: 0.8665\n",
      "Epoch: 18, Train F1: 0.8564, Val F1: 0.8363, Test F1: 0.8594\n"
     ]
    },
    {
     "name": "stderr",
     "output_type": "stream",
     "text": [
      "Epoch 18: 100%|██████████| 8403/8403 [00:00<00:00, 121084.31it/s]\n"
     ]
    },
    {
     "name": "stdout",
     "output_type": "stream",
     "text": [
      "Epoch 18, Approx train loss: 0.4350, Approx. Train Acc: 0.7489,Approx. Train AUC: 0.8751, Approx. Train F1: 0.8564\n"
     ]
    },
    {
     "name": "stderr",
     "output_type": "stream",
     "text": [
      "Evaluating: 100%|██████████| 10503/10503 [00:00<00:00, 62702.60it/s]\n"
     ]
    },
    {
     "name": "stdout",
     "output_type": "stream",
     "text": [
      "Epoch: 19, Train Loss: 0.3768, Val Loss: 0.3997, Test Loss: 0.3732\n",
      "Epoch: 19, Train Acc: 0.7489, Val Acc: 0.7187, Test AUC: 0.7534\n",
      "Epoch: 19, Train AUC: 0.8764, Val AUC: 0.8947, Test AUC: 0.8663\n",
      "Epoch: 19, Train F1: 0.8564, Val F1: 0.8363, Test F1: 0.8594\n"
     ]
    },
    {
     "name": "stderr",
     "output_type": "stream",
     "text": [
      "Epoch 19: 100%|██████████| 8403/8403 [00:00<00:00, 120393.57it/s]\n"
     ]
    },
    {
     "name": "stdout",
     "output_type": "stream",
     "text": [
      "Epoch 19, Approx train loss: 0.4342, Approx. Train Acc: 0.7489,Approx. Train AUC: 0.8747, Approx. Train F1: 0.8564\n"
     ]
    },
    {
     "name": "stderr",
     "output_type": "stream",
     "text": [
      "Evaluating: 100%|██████████| 10503/10503 [00:00<00:00, 61680.08it/s]\n"
     ]
    },
    {
     "name": "stdout",
     "output_type": "stream",
     "text": [
      "Epoch: 20, Train Loss: 0.3749, Val Loss: 0.3975, Test Loss: 0.3714\n",
      "Epoch: 20, Train Acc: 0.7489, Val Acc: 0.7187, Test AUC: 0.7534\n",
      "Epoch: 20, Train AUC: 0.8763, Val AUC: 0.8945, Test AUC: 0.8662\n",
      "Epoch: 20, Train F1: 0.8564, Val F1: 0.8363, Test F1: 0.8594\n"
     ]
    },
    {
     "name": "stderr",
     "output_type": "stream",
     "text": [
      "Epoch 20: 100%|██████████| 8403/8403 [00:00<00:00, 121143.41it/s]\n"
     ]
    },
    {
     "name": "stdout",
     "output_type": "stream",
     "text": [
      "Epoch 20, Approx train loss: 0.4335, Approx. Train Acc: 0.7489,Approx. Train AUC: 0.8750, Approx. Train F1: 0.8564\n"
     ]
    },
    {
     "name": "stderr",
     "output_type": "stream",
     "text": [
      "Evaluating: 100%|██████████| 10503/10503 [00:00<00:00, 60509.48it/s]\n"
     ]
    },
    {
     "name": "stdout",
     "output_type": "stream",
     "text": [
      "Epoch: 21, Train Loss: 0.3732, Val Loss: 0.3955, Test Loss: 0.3698\n",
      "Epoch: 21, Train Acc: 0.7489, Val Acc: 0.7187, Test AUC: 0.7534\n",
      "Epoch: 21, Train AUC: 0.8762, Val AUC: 0.8944, Test AUC: 0.8662\n",
      "Epoch: 21, Train F1: 0.8564, Val F1: 0.8363, Test F1: 0.8594\n"
     ]
    },
    {
     "name": "stderr",
     "output_type": "stream",
     "text": [
      "Epoch 21: 100%|██████████| 8403/8403 [00:00<00:00, 121901.38it/s]\n"
     ]
    },
    {
     "name": "stdout",
     "output_type": "stream",
     "text": [
      "Epoch 21, Approx train loss: 0.4331, Approx. Train Acc: 0.7489,Approx. Train AUC: 0.8731, Approx. Train F1: 0.8564\n"
     ]
    },
    {
     "name": "stderr",
     "output_type": "stream",
     "text": [
      "Evaluating: 100%|██████████| 10503/10503 [00:00<00:00, 61011.37it/s]\n"
     ]
    },
    {
     "name": "stdout",
     "output_type": "stream",
     "text": [
      "Epoch: 22, Train Loss: 0.3715, Val Loss: 0.3935, Test Loss: 0.3683\n",
      "Epoch: 22, Train Acc: 0.7489, Val Acc: 0.7187, Test AUC: 0.7534\n",
      "Epoch: 22, Train AUC: 0.8761, Val AUC: 0.8941, Test AUC: 0.8666\n",
      "Epoch: 22, Train F1: 0.8564, Val F1: 0.8363, Test F1: 0.8594\n"
     ]
    },
    {
     "name": "stderr",
     "output_type": "stream",
     "text": [
      "Epoch 22: 100%|██████████| 8403/8403 [00:00<00:00, 119616.01it/s]\n"
     ]
    },
    {
     "name": "stdout",
     "output_type": "stream",
     "text": [
      "Epoch 22, Approx train loss: 0.4325, Approx. Train Acc: 0.7489,Approx. Train AUC: 0.8740, Approx. Train F1: 0.8564\n"
     ]
    },
    {
     "name": "stderr",
     "output_type": "stream",
     "text": [
      "Evaluating: 100%|██████████| 10503/10503 [00:00<00:00, 58690.39it/s]\n"
     ]
    },
    {
     "name": "stdout",
     "output_type": "stream",
     "text": [
      "Epoch: 23, Train Loss: 0.3701, Val Loss: 0.3918, Test Loss: 0.3669\n",
      "Epoch: 23, Train Acc: 0.7489, Val Acc: 0.7187, Test AUC: 0.7534\n",
      "Epoch: 23, Train AUC: 0.8761, Val AUC: 0.8940, Test AUC: 0.8666\n",
      "Epoch: 23, Train F1: 0.8564, Val F1: 0.8363, Test F1: 0.8594\n"
     ]
    },
    {
     "name": "stderr",
     "output_type": "stream",
     "text": [
      "Epoch 23: 100%|██████████| 8403/8403 [00:00<00:00, 117706.88it/s]\n"
     ]
    },
    {
     "name": "stdout",
     "output_type": "stream",
     "text": [
      "Epoch 23, Approx train loss: 0.4320, Approx. Train Acc: 0.7489,Approx. Train AUC: 0.8749, Approx. Train F1: 0.8564\n"
     ]
    },
    {
     "name": "stderr",
     "output_type": "stream",
     "text": [
      "Evaluating: 100%|██████████| 10503/10503 [00:00<00:00, 57097.28it/s]\n"
     ]
    },
    {
     "name": "stdout",
     "output_type": "stream",
     "text": [
      "Epoch: 24, Train Loss: 0.3687, Val Loss: 0.3902, Test Loss: 0.3656\n",
      "Epoch: 24, Train Acc: 0.7489, Val Acc: 0.7187, Test AUC: 0.7534\n",
      "Epoch: 24, Train AUC: 0.8761, Val AUC: 0.8940, Test AUC: 0.8666\n",
      "Epoch: 24, Train F1: 0.8564, Val F1: 0.8363, Test F1: 0.8594\n"
     ]
    },
    {
     "name": "stderr",
     "output_type": "stream",
     "text": [
      "Epoch 24: 100%|██████████| 8403/8403 [00:00<00:00, 114046.98it/s]\n"
     ]
    },
    {
     "name": "stdout",
     "output_type": "stream",
     "text": [
      "Epoch 24, Approx train loss: 0.4318, Approx. Train Acc: 0.7489,Approx. Train AUC: 0.8736, Approx. Train F1: 0.8564\n"
     ]
    },
    {
     "name": "stderr",
     "output_type": "stream",
     "text": [
      "Evaluating: 100%|██████████| 10503/10503 [00:00<00:00, 57013.04it/s]\n"
     ]
    },
    {
     "name": "stdout",
     "output_type": "stream",
     "text": [
      "Epoch: 25, Train Loss: 0.3675, Val Loss: 0.3888, Test Loss: 0.3644\n",
      "Epoch: 25, Train Acc: 0.7489, Val Acc: 0.7187, Test AUC: 0.7534\n",
      "Epoch: 25, Train AUC: 0.8760, Val AUC: 0.8938, Test AUC: 0.8665\n",
      "Epoch: 25, Train F1: 0.8564, Val F1: 0.8363, Test F1: 0.8594\n"
     ]
    },
    {
     "name": "stderr",
     "output_type": "stream",
     "text": [
      "Epoch 25: 100%|██████████| 8403/8403 [00:00<00:00, 114928.74it/s]\n"
     ]
    },
    {
     "name": "stdout",
     "output_type": "stream",
     "text": [
      "Epoch 25, Approx train loss: 0.4314, Approx. Train Acc: 0.7489,Approx. Train AUC: 0.8733, Approx. Train F1: 0.8564\n"
     ]
    },
    {
     "name": "stderr",
     "output_type": "stream",
     "text": [
      "Evaluating: 100%|██████████| 10503/10503 [00:00<00:00, 56115.33it/s]\n"
     ]
    },
    {
     "name": "stdout",
     "output_type": "stream",
     "text": [
      "Epoch: 26, Train Loss: 0.3665, Val Loss: 0.3877, Test Loss: 0.3635\n",
      "Epoch: 26, Train Acc: 0.7489, Val Acc: 0.7187, Test AUC: 0.7534\n",
      "Epoch: 26, Train AUC: 0.8759, Val AUC: 0.8943, Test AUC: 0.8665\n",
      "Epoch: 26, Train F1: 0.8564, Val F1: 0.8363, Test F1: 0.8594\n"
     ]
    },
    {
     "name": "stderr",
     "output_type": "stream",
     "text": [
      "Epoch 26: 100%|██████████| 8403/8403 [00:00<00:00, 114912.63it/s]\n"
     ]
    },
    {
     "name": "stdout",
     "output_type": "stream",
     "text": [
      "Epoch 26, Approx train loss: 0.4310, Approx. Train Acc: 0.7489,Approx. Train AUC: 0.8746, Approx. Train F1: 0.8564\n"
     ]
    },
    {
     "name": "stderr",
     "output_type": "stream",
     "text": [
      "Evaluating: 100%|██████████| 10503/10503 [00:00<00:00, 57210.58it/s]\n"
     ]
    },
    {
     "name": "stdout",
     "output_type": "stream",
     "text": [
      "Epoch: 27, Train Loss: 0.3655, Val Loss: 0.3867, Test Loss: 0.3626\n",
      "Epoch: 27, Train Acc: 0.7489, Val Acc: 0.7187, Test AUC: 0.7534\n",
      "Epoch: 27, Train AUC: 0.8759, Val AUC: 0.8943, Test AUC: 0.8663\n",
      "Epoch: 27, Train F1: 0.8564, Val F1: 0.8363, Test F1: 0.8594\n"
     ]
    },
    {
     "name": "stderr",
     "output_type": "stream",
     "text": [
      "Epoch 27: 100%|██████████| 8403/8403 [00:00<00:00, 113498.65it/s]\n"
     ]
    },
    {
     "name": "stdout",
     "output_type": "stream",
     "text": [
      "Epoch 27, Approx train loss: 0.4308, Approx. Train Acc: 0.7489,Approx. Train AUC: 0.8747, Approx. Train F1: 0.8564\n"
     ]
    },
    {
     "name": "stderr",
     "output_type": "stream",
     "text": [
      "Evaluating: 100%|██████████| 10503/10503 [00:00<00:00, 56619.39it/s]\n"
     ]
    },
    {
     "name": "stdout",
     "output_type": "stream",
     "text": [
      "Epoch: 28, Train Loss: 0.3645, Val Loss: 0.3853, Test Loss: 0.3616\n",
      "Epoch: 28, Train Acc: 0.7489, Val Acc: 0.7187, Test AUC: 0.7534\n",
      "Epoch: 28, Train AUC: 0.8758, Val AUC: 0.8946, Test AUC: 0.8661\n",
      "Epoch: 28, Train F1: 0.8564, Val F1: 0.8363, Test F1: 0.8594\n"
     ]
    },
    {
     "name": "stderr",
     "output_type": "stream",
     "text": [
      "Epoch 28: 100%|██████████| 8403/8403 [00:00<00:00, 114881.54it/s]\n"
     ]
    },
    {
     "name": "stdout",
     "output_type": "stream",
     "text": [
      "Epoch 28, Approx train loss: 0.4307, Approx. Train Acc: 0.7489,Approx. Train AUC: 0.8745, Approx. Train F1: 0.8564\n"
     ]
    },
    {
     "name": "stderr",
     "output_type": "stream",
     "text": [
      "Evaluating: 100%|██████████| 10503/10503 [00:00<00:00, 55415.08it/s]\n"
     ]
    },
    {
     "name": "stdout",
     "output_type": "stream",
     "text": [
      "Epoch: 29, Train Loss: 0.3637, Val Loss: 0.3843, Test Loss: 0.3609\n",
      "Epoch: 29, Train Acc: 0.7489, Val Acc: 0.7187, Test AUC: 0.7534\n",
      "Epoch: 29, Train AUC: 0.8758, Val AUC: 0.8946, Test AUC: 0.8660\n",
      "Epoch: 29, Train F1: 0.8564, Val F1: 0.8363, Test F1: 0.8594\n"
     ]
    },
    {
     "name": "stderr",
     "output_type": "stream",
     "text": [
      "Epoch 29: 100%|██████████| 8403/8403 [00:00<00:00, 112252.61it/s]"
     ]
    },
    {
     "name": "stdout",
     "output_type": "stream",
     "text": [
      "Epoch 29, Approx train loss: 0.4304, Approx. Train Acc: 0.7489,Approx. Train AUC: 0.8738, Approx. Train F1: 0.8564\n",
      "Median time per epoch: 0.2626s\n"
     ]
    },
    {
     "name": "stderr",
     "output_type": "stream",
     "text": [
      "\n"
     ]
    }
   ],
   "source": [
    "approx_train_losses = []\n",
    "train_losses = []\n",
    "val_losses = []\n",
    "test_losses = []\n",
    "\n",
    "times = []\n",
    "for epoch in range(1, 30):\n",
    "    start = time.time()\n",
    "    \n",
    "    # Evaluation before first training epoch starts\n",
    "    train_tracker.increment()\n",
    "    val_tracker.increment()\n",
    "    test_tracker.increment()\n",
    "\n",
    "    train_loss, val_loss, test_loss = test()\n",
    "    train_losses.append(train_loss)\n",
    "    val_losses.append(val_loss)\n",
    "    test_losses.append(test_loss)\n",
    "    \n",
    "    train_metrics = train_tracker.compute()\n",
    "    val_metrics = val_tracker.compute()\n",
    "    test_metrics = test_tracker.compute()\n",
    "    \n",
    "    print(f'Epoch: {epoch:02d}, Train Loss: {train_loss:.4f}, Val Loss: {val_loss:.4f}, '\n",
    "          f'Test Loss: {test_loss:.4f}')\n",
    "    print(f'Epoch: {epoch:02d}, Train Acc: {train_metrics[\"BinaryAccuracy\"]:.4f}, Val Acc: {val_metrics[\"BinaryAccuracy\"]:.4f}, '\n",
    "          f'Test AUC: {test_metrics[\"BinaryAccuracy\"]:.4f}')\n",
    "    print(f'Epoch: {epoch:02d}, Train AUC: {train_metrics[\"BinaryAUROC\"]:.4f}, Val AUC: {val_metrics[\"BinaryAUROC\"]:.4f}, '\n",
    "          f'Test AUC: {test_metrics[\"BinaryAUROC\"]:.4f}')\n",
    "    print(f'Epoch: {epoch:02d}, Train F1: {train_metrics[\"BinaryF1Score\"]:.4f}, Val F1: {val_metrics[\"BinaryF1Score\"]:.4f}, '\n",
    "            f'Test F1: {test_metrics[\"BinaryF1Score\"]:.4f}')\n",
    "    \n",
    "    approx_train_loss = train(epoch)\n",
    "    approx_train_losses.append(approx_train_loss)\n",
    "    approx_train_metrics = approx_train_tracker.compute()\n",
    "    print(f'Epoch {epoch:02d}, Approx train loss: {approx_train_loss:.4f}, Approx. Train Acc: {approx_train_metrics[\"BinaryAccuracy\"]:.4f},'\n",
    "          f'Approx. Train AUC: {approx_train_metrics[\"BinaryAUROC\"]:.4f}, Approx. Train F1: {approx_train_metrics[\"BinaryF1Score\"]:.4f}')\n",
    "    \n",
    "    \n",
    "    times.append(time.time() - start)\n",
    "print(f\"Median time per epoch: {torch.tensor(times).median():.4f}s\")"
   ],
   "metadata": {
    "collapsed": false,
    "ExecuteTime": {
     "end_time": "2023-10-15T00:55:49.114324Z",
     "start_time": "2023-10-15T00:55:37.705855Z"
    }
   },
   "id": "6c62e37d979f323a"
  },
  {
   "cell_type": "code",
   "execution_count": 32,
   "outputs": [
    {
     "data": {
      "text/plain": "<Figure size 640x480 with 1 Axes>",
      "image/png": "[encoded data removed]"
     },
     "metadata": {},
     "output_type": "display_data"
    }
   ],
   "source": [
    "approx_train_tracker.plot()\n",
    "plt.show()"
   ],
   "metadata": {
    "collapsed": false,
    "ExecuteTime": {
     "end_time": "2023-10-15T00:56:29.416058Z",
     "start_time": "2023-10-15T00:55:49.114626Z"
    }
   },
   "id": "9dc7bb5751a6e29"
  },
  {
   "cell_type": "code",
   "execution_count": 33,
   "outputs": [
    {
     "data": {
      "text/plain": "<Figure size 640x480 with 1 Axes>",
      "image/png": "[encoded data removed]"
     },
     "metadata": {},
     "output_type": "display_data"
    }
   ],
   "source": [
    "plt.plot(approx_train_losses);\n",
    "plt.show()"
   ],
   "metadata": {
    "collapsed": false,
    "ExecuteTime": {
     "end_time": "2023-10-15T00:56:29.495615Z",
     "start_time": "2023-10-15T00:56:29.472573Z"
    }
   },
   "id": "d68832e463d84c70"
  },
  {
   "cell_type": "code",
   "execution_count": 34,
   "outputs": [
    {
     "data": {
      "text/plain": "<Figure size 640x480 with 1 Axes>",
      "image/png": "[encoded data removed]"
     },
     "metadata": {},
     "output_type": "display_data"
    }
   ],
   "source": [
    "test_tracker.plot();\n",
    "plt.show()"
   ],
   "metadata": {
    "collapsed": false,
    "ExecuteTime": {
     "end_time": "2023-10-15T00:56:29.610506Z",
     "start_time": "2023-10-15T00:56:29.525130Z"
    }
   },
   "id": "fe515b8f1316afb9"
  },
  {
   "cell_type": "code",
   "execution_count": 15,
   "outputs": [
    {
     "data": {
      "text/plain": "<Figure size 640x480 with 1 Axes>",
      "image/png": "[encoded data removed]"
     },
     "metadata": {},
     "output_type": "display_data"
    }
   ],
   "source": [],
   "metadata": {
    "collapsed": false,
    "ExecuteTime": {
     "end_time": "2023-10-15T00:52:06.285267Z",
     "start_time": "2023-10-15T00:52:06.193017Z"
    }
   },
   "id": "ef32c1046436c312"
  },
  {
   "cell_type": "code",
   "execution_count": 23,
   "outputs": [],
   "source": [
    "approx_train_tracker.reset_all()\n",
    "train_tracker.reset_all()\n",
    "val_tracker.reset_all()\n",
    "test_tracker.reset_all()"
   ],
   "metadata": {
    "collapsed": false,
    "ExecuteTime": {
     "end_time": "2023-10-15T00:48:43.026974Z",
     "start_time": "2023-10-15T00:48:42.980500Z"
    }
   },
   "id": "ea36a1292392f7be"
  },
  {
   "cell_type": "code",
   "execution_count": null,
   "outputs": [],
   "source": [],
   "metadata": {
    "collapsed": false
   },
   "id": "a052c1c67980772b"
  }
 ],
 "metadata": {
  "kernelspec": {
   "display_name": "Python 3",
   "language": "python",
   "name": "python3"
  },
  "language_info": {
   "codemirror_mode": {
    "name": "ipython",
    "version": 2
   },
   "file_extension": ".py",
   "mimetype": "text/x-python",
   "name": "python",
   "nbconvert_exporter": "python",
   "pygments_lexer": "ipython2",
   "version": "2.7.6"
  }
 },
 "nbformat": 4,
 "nbformat_minor": 5
}

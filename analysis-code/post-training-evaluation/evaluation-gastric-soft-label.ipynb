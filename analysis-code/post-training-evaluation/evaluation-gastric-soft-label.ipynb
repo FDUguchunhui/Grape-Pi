{
 "cells": [
  {
   "cell_type": "code",
   "execution_count": 115,
   "outputs": [],
   "source": [
    "# %connect_info\n",
    "%qtconsole"
   ],
   "metadata": {
    "collapsed": false,
    "pycharm": {
     "name": "#%%\n"
    },
    "ExecuteTime": {
     "end_time": "2023-10-12T03:03:23.997059Z",
     "start_time": "2023-10-12T03:03:23.876612Z"
    }
   }
  },
  {
   "cell_type": "code",
   "execution_count": 115,
   "outputs": [],
   "source": [
    "from IPython.core.interactiveshell import InteractiveShell\n",
    "InteractiveShell.ast_node_interactivity = \"all\"\n",
    "import pandas as pd\n",
    "import numpy as np\n",
    "from graphgym.custom_graphgym.loader.protein import ProteinDataset\n",
    "import matplotlib.pyplot as plt\n",
    "import os"
   ],
   "metadata": {
    "collapsed": false,
    "ExecuteTime": {
     "end_time": "2023-10-12T03:03:24.193200Z",
     "start_time": "2023-10-12T03:03:23.884888Z"
    }
   }
  },
  {
   "cell_type": "code",
   "execution_count": 116,
   "outputs": [],
   "source": [
    "os.chdir('/Users/cgu3/Documents/Grape-Pi')"
   ],
   "metadata": {
    "collapsed": false,
    "ExecuteTime": {
     "end_time": "2023-10-12T03:03:24.211359Z",
     "start_time": "2023-10-12T03:03:23.894090Z"
    }
   }
  },
  {
   "cell_type": "markdown",
   "source": [
    "Import data from csv fies"
   ],
   "metadata": {
    "collapsed": false,
    "pycharm": {
     "name": "#%% md\n"
    },
    "ExecuteTime": {
     "end_time": "2023-10-12T03:03:24.211502Z",
     "start_time": "2023-10-12T03:03:23.909922Z"
    }
   }
  },
  {
   "cell_type": "code",
   "execution_count": 82,
   "outputs": [],
   "source": [
    "\n",
    "# dataset = ProteinDataset(\"data/yeast-ORBI\", numeric_columns=['protein probability'], label_column=None)\n",
    "# dataset = ProteinBatchDataset(\"data/yeast-LCQ\", numeric_params=['protein probability'])\n",
    "# dataset = ProteinBatchDataset(\"data/yeast-ORBI-mRNA\", numeric_params=['protein probability', 'mRNA(M)'])\n",
    "# dataset = ProteinBatchDataset(\"data/yeast-LCQ-mRNA\", numeric_params=['protein probability', 'mRNA(M)'])\n",
    "# dataset = ProteinDataset(\"data/single-soft-label\", numeric_columns=['protein_probability', 'mRNA_TPM'], label_column=None)\n",
    "dataset = ProteinDataset(\"data/single\", numeric_columns=['protein_probability'], label_column=None)"
   ],
   "metadata": {
    "collapsed": false,
    "ExecuteTime": {
     "end_time": "2023-10-10T04:54:25.489288Z",
     "start_time": "2023-10-10T04:54:25.454349Z"
    }
   }
  },
  {
   "cell_type": "code",
   "execution_count": 118,
   "outputs": [],
   "source": [
    "\n",
    "df = pd.read_csv('data/single-soft-label/raw/protein/data_train_with_soft_label.csv')\n",
    "# df = pd.read_csv('/Users/cgu3/Documents/data/SG_combined_protein_0982_with_protein_probability.csv')"
   ],
   "metadata": {
    "collapsed": false,
    "ExecuteTime": {
     "end_time": "2023-10-12T03:03:24.220700Z",
     "start_time": "2023-10-12T03:03:23.915384Z"
    }
   }
  },
  {
   "cell_type": "code",
   "execution_count": 119,
   "outputs": [],
   "source": [
    "import torch\n",
    "from torch.utils.data import Dataset\n",
    "\n",
    "class CustomDataset(Dataset):\n",
    "    def __init__(self, data, labels, ids, train_mask=None, val_mask=None, test_mask=None):\n",
    "        self.data = data\n",
    "        self.labels = labels\n",
    "        self.ids = ids\n",
    "\n",
    "    def __len__(self):\n",
    "        return len(self.data)\n",
    "\n",
    "    def __getitem__(self, index):\n",
    "        sample_data = self.data[index]\n",
    "        sample_label = self.labels[index]\n",
    "        sample_id = self.ids[index].tolist()\n",
    "        return sample_data, sample_label, sample_id\n"
   ],
   "metadata": {
    "collapsed": false,
    "ExecuteTime": {
     "end_time": "2023-10-12T03:03:24.220883Z",
     "start_time": "2023-10-12T03:03:24.033205Z"
    }
   }
  },
  {
   "cell_type": "code",
   "execution_count": 120,
   "outputs": [],
   "source": [
    "x = torch.tensor(df.loc[:, ['protein_probability']].values, dtype=torch.float)\n",
    "# x = torch.tensor(df.loc[:, ['protein_probability', 'mRNA_TPM']].values, dtype=torch.float)\n",
    "y = torch.tensor(df.loc[:, ['protein_probability_soft_label']].values, dtype=torch.float)\n",
    "ids = df.loc[:, ['protein.Accession']].values"
   ],
   "metadata": {
    "collapsed": false,
    "ExecuteTime": {
     "end_time": "2023-10-12T03:03:24.220973Z",
     "start_time": "2023-10-12T03:03:24.039412Z"
    }
   }
  },
  {
   "cell_type": "code",
   "execution_count": 121,
   "outputs": [],
   "source": [
    "plt.subplot(3, 1, 1)\n",
    "plt.hist(x[:, 0], bins=100);\n",
    "plt.title('protein_probability');\n",
    "# \n",
    "# plt.subplot(3, 1, 2)\n",
    "# plt.hist(x[:, 1], bins=100);\n",
    "# plt.title('mRNA_TPM');\n",
    "\n",
    "plt.subplot(3, 1, 3)\n",
    "plt.hist(y.squeeze(-1), bins=100);\n",
    "plt.title('soft_label');"
   ],
   "metadata": {
    "collapsed": false,
    "ExecuteTime": {
     "end_time": "2023-10-12T03:03:24.248061Z",
     "start_time": "2023-10-12T03:03:24.065572Z"
    }
   }
  },
  {
   "cell_type": "code",
   "execution_count": 122,
   "outputs": [],
   "source": [
    "protein_dataset = ProteinDataset(\"data/single\", numeric_columns=['protein_probability'], label_column='hard_label', rebuild=True)\n",
    "# protein_dataset = ProteinDataset(\"data/yeast-ORBI\", numeric_columns=['protein_probability'], label_column=None, rebuild=True)"
   ],
   "metadata": {
    "collapsed": false,
    "ExecuteTime": {
     "end_time": "2023-10-12T03:03:24.248204Z",
     "start_time": "2023-10-12T03:03:24.076780Z"
    }
   }
  },
  {
   "cell_type": "code",
   "execution_count": 123,
   "outputs": [
    {
     "data": {
      "text/plain": "<Figure size 640x480 with 3 Axes>",
      "image/png": "[encoded data removed]"
     },
     "metadata": {},
     "output_type": "display_data"
    }
   ],
   "source": [
    "from torch.utils.data import Dataset, Subset\n",
    "dataset = CustomDataset(protein_dataset.x, protein_dataset.y, ids)\n",
    "\n",
    "train_indices = torch.nonzero(protein_dataset.train_mask).squeeze().tolist()\n",
    "train_dataset = Subset(dataset, train_indices)\n",
    "\n",
    "val_indices = torch.nonzero(protein_dataset.val_mask).squeeze().tolist()\n",
    "val_dataset = Subset(dataset, val_indices)\n",
    "\n",
    "test_indices = torch.nonzero(protein_dataset.test_mask).squeeze().tolist()\n",
    "test_dataset = Subset(dataset, test_indices)\n"
   ],
   "metadata": {
    "collapsed": false,
    "ExecuteTime": {
     "end_time": "2023-10-12T03:03:24.973606Z",
     "start_time": "2023-10-12T03:03:24.140900Z"
    }
   }
  },
  {
   "cell_type": "code",
   "execution_count": 124,
   "outputs": [
    {
     "name": "stderr",
     "output_type": "stream",
     "text": [
      "Rebuilding...\n",
      "Done!\n"
     ]
    }
   ],
   "source": [
    "from torch.utils.data import DataLoader\n",
    "train_dataloader = DataLoader(train_dataset, batch_size=64, shuffle=True)\n",
    "val_dataloader = DataLoader(val_dataset, batch_size=64, shuffle=False)\n",
    "test_dataloader = DataLoader(test_dataset, batch_size=64, shuffle=False)"
   ],
   "metadata": {
    "collapsed": false,
    "ExecuteTime": {
     "end_time": "2023-10-12T03:03:35.180118Z",
     "start_time": "2023-10-12T03:03:24.972418Z"
    }
   }
  },
  {
   "cell_type": "code",
   "execution_count": 125,
   "outputs": [
    {
     "name": "stderr",
     "output_type": "stream",
     "text": [
      "/Users/cgu3/Documents/Grape-Pi/torch_geometric/data/in_memory_dataset.py:188: UserWarning: It is not recommended to directly access the internal storage format `data` of an 'InMemoryDataset'. If you are absolutely certain what you are doing, access the internal storage via `InMemoryDataset._data` instead to suppress this warning. Alternatively, you can access stacked individual attributes of every graph via `dataset.{attr_name}`.\n",
      "  warnings.warn(msg)\n"
     ]
    },
    {
     "data": {
      "text/plain": "<Figure size 640x480 with 1 Axes>",
      "image/png": "[encoded data removed]"
     },
     "metadata": {},
     "output_type": "display_data"
    }
   ],
   "source": [
    "import os\n",
    "from torch import optim, nn, utils, Tensor\n",
    "from torchvision.datasets import MNIST\n",
    "from torchvision.transforms import ToTensor\n",
    "import pytorch_lightning as pl\n",
    "from torchmetrics.classification import BinaryAUROC, BinaryAccuracy, BinaryF1Score\n",
    "\n",
    "\n",
    "# define the LightningModule\n",
    "class MLP(pl.LightningModule):\n",
    "    def __init__(self, num_features, hidden_channels, num_classes, criterion):\n",
    "        super().__init__()\n",
    "        torch.manual_seed(12345)\n",
    "        self.lin1 = nn.Linear(num_features, hidden_channels)\n",
    "        self.lin2 = nn.Linear(hidden_channels, num_classes)\n",
    "        # self.lin3 = nn.Linear(hidden_channels, num_classes)\n",
    "        self.criterion = criterion\n",
    "        self.val_auroc = BinaryAUROC()\n",
    "        self.test_auroc = BinaryAUROC()\n",
    "        self.val_accuracy = BinaryAccuracy()\n",
    "        self.test_accuracy = BinaryAccuracy()\n",
    "        self.val_F1 = BinaryF1Score()\n",
    "        self.test_F1 = BinaryF1Score()\n",
    "\n",
    "    def forward(self, x):\n",
    "        x = self.lin1(x)\n",
    "        x = x.relu()\n",
    "        x = self.lin2(x)\n",
    "        # x = x.relu()\n",
    "        # x = self.lin3(x)\n",
    "        return x\n",
    "\n",
    "    def get_auc(self, out, target):\n",
    "        return self.auroc(out, target)\n",
    "\n",
    "    def training_step(self, batch, batch_idx):\n",
    "        x, y, id = batch\n",
    "        logits = self(x).squeeze(-1)  # Perform a single forward pass.\n",
    "\n",
    "        loss = self.criterion(logits, y)  # Compute the loss solely based on the training nodes.\n",
    "        values = {\"loss\": loss}\n",
    "        self.log_dict(values, prog_bar=True)\n",
    "        return loss\n",
    "\n",
    "    def validation_step(self, batch, batch_idx):\n",
    "        x, y, ids = batch\n",
    "        logits = self(x).squeeze(-1)  # Perform a single forward pass.\n",
    "        y = torch.where(y > 0.95, 1.0, 0.0)\n",
    "        self.val_accuracy.update(logits, y)\n",
    "        loss = self.criterion(logits, y)  # Compute the loss solely based on the training nodes.\n",
    "        self.val_auroc.update(logits, y)\n",
    "        self.val_F1.update(logits, y)\n",
    "        values = {\"val_loss\": loss, \"val_acc\": self.val_accuracy, \"val_auroc\": self.val_auroc, \"val_F1\": self.val_F1}\n",
    "        self.log_dict(values, prog_bar=True, on_step=False, on_epoch=True)\n",
    "        return loss\n",
    "\n",
    "    def test_step(self, batch, batch_idx):\n",
    "        x, y, ids = batch\n",
    "        logits = self(x).squeeze(-1)\n",
    "        y = torch.where(y > 0.95, 1.0, 0.0)\n",
    "        self.test_accuracy.update(logits, y)\n",
    "        loss = self.criterion(logits, y)\n",
    "        self.test_auroc.update(logits, y)\n",
    "        self.test_F1.update(logits, y)\n",
    "        values = {\"test_loss\": loss, \"test_acc\": self.test_accuracy, \"test_auroc\": self.test_auroc, \"test_F1\": self.test_F1}\n",
    "        self.log_dict(values, prog_bar=True, on_step=False, on_epoch=True)\n",
    "        return loss\n",
    "    \n",
    "    def predict_step(self, batch, batch_idx):\n",
    "        x, y, ids = batch\n",
    "        ids = [item for sublist in ids for item in sublist]\n",
    "        logits = self(x).squeeze(-1)\n",
    "        pred_prob = torch.nn.functional.sigmoid(logits)\n",
    "        return (ids, x[:, 0], x[:, 1], pred_prob, y)\n",
    "\n",
    "    def configure_optimizers(self):\n",
    "        optimizer = optim.Adam(self.parameters(), lr=1e-3)\n",
    "        return optimizer\n",
    "\n"
   ],
   "metadata": {
    "collapsed": false,
    "ExecuteTime": {
     "end_time": "2023-10-12T03:03:35.697096Z",
     "start_time": "2023-10-12T03:03:35.183028Z"
    }
   }
  },
  {
   "cell_type": "code",
   "execution_count": 126,
   "outputs": [],
   "source": [
    "# init the autoencoder\n",
    "MLP_model = MLP(1, 1, 1, criterion = torch.nn.BCEWithLogitsLoss())\n",
    "# MLP_model = MLP(dataset.num_node_features, 10, 2, criterion = torch.nn.CrossEntropyLoss())"
   ],
   "metadata": {
    "collapsed": false,
    "ExecuteTime": {
     "end_time": "2023-10-12T03:03:35.742139Z",
     "start_time": "2023-10-12T03:03:35.696249Z"
    }
   }
  },
  {
   "cell_type": "code",
   "execution_count": 127,
   "outputs": [
    {
     "data": {
      "text/plain": "<torch._C.Generator at 0x1057efa70>"
     },
     "execution_count": 127,
     "metadata": {},
     "output_type": "execute_result"
    }
   ],
   "source": [
    "import sys\n",
    "from pytorch_lightning.callbacks import TQDMProgressBar\n",
    "\n",
    "\n",
    "class MyProgressBar(TQDMProgressBar):\n",
    "    def init_validation_tqdm(self):\n",
    "        bar = super().init_validation_tqdm()\n",
    "        if not sys.stdout.isatty():\n",
    "            bar.disable = True\n",
    "        return bar\n",
    "\n",
    "    def init_predict_tqdm(self):\n",
    "        bar = super().init_predict_tqdm()\n",
    "        if not sys.stdout.isatty():\n",
    "            bar.disable = True\n",
    "        return bar\n",
    "\n",
    "    def init_test_tqdm(self):\n",
    "        bar = super().init_test_tqdm()\n",
    "        if not sys.stdout.isatty():\n",
    "            bar.disable = True\n",
    "        return bar\n",
    "\n"
   ],
   "metadata": {
    "collapsed": false,
    "ExecuteTime": {
     "end_time": "2023-10-12T03:03:35.742467Z",
     "start_time": "2023-10-12T03:03:35.730646Z"
    }
   }
  },
  {
   "cell_type": "code",
   "execution_count": 128,
   "outputs": [],
   "source": [
    "trainer = pl.Trainer(limit_train_batches=100, max_epochs=100, callbacks=[MyProgressBar()])"
   ],
   "metadata": {
    "collapsed": false,
    "ExecuteTime": {
     "end_time": "2023-10-12T03:03:35.761234Z",
     "start_time": "2023-10-12T03:03:35.754355Z"
    }
   }
  },
  {
   "cell_type": "code",
   "execution_count": 129,
   "outputs": [],
   "source": [
    "trainer.fit(model=MLP_model, train_dataloaders=train_dataloader, val_dataloaders=val_dataloader)"
   ],
   "metadata": {
    "collapsed": false,
    "ExecuteTime": {
     "end_time": "2023-10-12T03:03:35.809029Z",
     "start_time": "2023-10-12T03:03:35.764004Z"
    }
   }
  },
  {
   "cell_type": "code",
   "execution_count": 130,
   "outputs": [
    {
     "name": "stderr",
     "output_type": "stream",
     "text": [
      "GPU available: False, used: False\n",
      "TPU available: False, using: 0 TPU cores\n",
      "IPU available: False, using: 0 IPUs\n",
      "HPU available: False, using: 0 HPUs\n",
      "\n",
      "  | Name             | Type              | Params\n",
      "-------------------------------------------------------\n",
      "0 | lin1             | Linear            | 20    \n",
      "1 | lin2             | Linear            | 11    \n",
      "2 | criterion        | BCEWithLogitsLoss | 0     \n",
      "3 | train_collection | MetricCollection  | 0     \n",
      "4 | val_collection   | MetricCollection  | 0     \n",
      "5 | test_collection  | MetricCollection  | 0     \n",
      "-------------------------------------------------------\n",
      "31        Trainable params\n",
      "0         Non-trainable params\n",
      "31        Total params\n",
      "0.000     Total estimated model params size (MB)\n"
     ]
    },
    {
     "name": "stdout",
     "output_type": "stream",
     "text": [
      "                                                                            "
     ]
    },
    {
     "name": "stderr",
     "output_type": "stream",
     "text": [
      "/Users/cgu3/opt/anaconda3/envs/Grape-Pi/lib/python3.10/site-packages/pytorch_lightning/trainer/connectors/data_connector.py:438: PossibleUserWarning: The dataloader, val_dataloader, does not have many workers which may be a bottleneck. Consider increasing the value of the `num_workers` argument` (try 8 which is the number of cpus on this machine) in the `DataLoader` init to improve performance.\n",
      "  rank_zero_warn(\n",
      "/Users/cgu3/opt/anaconda3/envs/Grape-Pi/lib/python3.10/site-packages/pytorch_lightning/trainer/connectors/data_connector.py:438: PossibleUserWarning: The dataloader, train_dataloader, does not have many workers which may be a bottleneck. Consider increasing the value of the `num_workers` argument` (try 8 which is the number of cpus on this machine) in the `DataLoader` init to improve performance.\n",
      "  rank_zero_warn(\n"
     ]
    },
    {
     "name": "stdout",
     "output_type": "stream",
     "text": [
      "Epoch 0: 100%|██████████| 132/132 [00:01<00:00, 126.71it/s, v_num=112, loss=0.751]\n",
      "Epoch 1:  20%|██        | 27/132 [00:00<00:00, 144.39it/s, v_num=112, loss=0.712, val_loss=0.759, val_acc=0.271, val_auc=0.147, val_f1=0.000] "
     ]
    },
    {
     "name": "stderr",
     "output_type": "stream",
     "text": [
      "/Users/cgu3/opt/anaconda3/envs/Grape-Pi/lib/python3.10/site-packages/pytorch_lightning/utilities/data.py:76: UserWarning: Trying to infer the `batch_size` from an ambiguous collection. The batch size we found is 26. To avoid any miscalculations, use `self.log(..., batch_size=batch_size)`.\n",
      "  warning_cache.warn(\n"
     ]
    },
    {
     "name": "stdout",
     "output_type": "stream",
     "text": [
      "Epoch 1: 100%|██████████| 132/132 [00:00<00:00, 140.15it/s, v_num=112, loss=0.497, val_loss=0.759, val_acc=0.271, val_auc=0.147, val_f1=0.000]\n",
      "Epoch 2: 100%|██████████| 132/132 [00:01<00:00, 127.47it/s, v_num=112, loss=0.492, val_loss=0.555, val_acc=0.729, val_auc=0.853, val_f1=0.843]\n",
      "Epoch 3: 100%|██████████| 132/132 [00:01<00:00, 115.73it/s, v_num=112, loss=0.561, val_loss=0.479, val_acc=0.729, val_auc=0.854, val_f1=0.843]\n",
      "Epoch 4: 100%|██████████| 132/132 [00:01<00:00, 121.47it/s, v_num=112, loss=0.531, val_loss=0.465, val_acc=0.729, val_auc=0.853, val_f1=0.843]\n",
      "Epoch 5: 100%|██████████| 132/132 [00:00<00:00, 133.50it/s, v_num=112, loss=0.389, val_loss=0.462, val_acc=0.729, val_auc=0.853, val_f1=0.843]\n",
      "Epoch 6: 100%|██████████| 132/132 [00:01<00:00, 125.23it/s, v_num=112, loss=0.472, val_loss=0.461, val_acc=0.729, val_auc=0.854, val_f1=0.843]\n",
      "Epoch 7: 100%|██████████| 132/132 [00:01<00:00, 115.61it/s, v_num=112, loss=0.395, val_loss=0.459, val_acc=0.729, val_auc=0.854, val_f1=0.843]\n",
      "Epoch 8: 100%|██████████| 132/132 [00:01<00:00, 123.95it/s, v_num=112, loss=0.533, val_loss=0.457, val_acc=0.729, val_auc=0.854, val_f1=0.843]\n",
      "Epoch 9: 100%|██████████| 132/132 [00:01<00:00, 124.10it/s, v_num=112, loss=0.395, val_loss=0.456, val_acc=0.729, val_auc=0.854, val_f1=0.843]\n",
      "Epoch 10: 100%|██████████| 132/132 [00:00<00:00, 136.33it/s, v_num=112, loss=0.380, val_loss=0.454, val_acc=0.729, val_auc=0.854, val_f1=0.843]\n",
      "Epoch 11: 100%|██████████| 132/132 [00:00<00:00, 137.84it/s, v_num=112, loss=0.460, val_loss=0.453, val_acc=0.729, val_auc=0.854, val_f1=0.843]\n",
      "Epoch 12: 100%|██████████| 132/132 [00:00<00:00, 142.06it/s, v_num=112, loss=0.384, val_loss=0.452, val_acc=0.729, val_auc=0.854, val_f1=0.843]\n",
      "Epoch 13: 100%|██████████| 132/132 [00:00<00:00, 140.34it/s, v_num=112, loss=0.479, val_loss=0.451, val_acc=0.729, val_auc=0.854, val_f1=0.843]\n",
      "Epoch 14: 100%|██████████| 132/132 [00:00<00:00, 135.39it/s, v_num=112, loss=0.456, val_loss=0.450, val_acc=0.729, val_auc=0.853, val_f1=0.843]\n",
      "Epoch 15: 100%|██████████| 132/132 [00:00<00:00, 143.13it/s, v_num=112, loss=0.319, val_loss=0.449, val_acc=0.729, val_auc=0.854, val_f1=0.843]\n",
      "Epoch 16: 100%|██████████| 132/132 [00:00<00:00, 139.85it/s, v_num=112, loss=0.383, val_loss=0.449, val_acc=0.729, val_auc=0.854, val_f1=0.843]\n",
      "Epoch 17: 100%|██████████| 132/132 [00:00<00:00, 149.82it/s, v_num=112, loss=0.347, val_loss=0.449, val_acc=0.729, val_auc=0.854, val_f1=0.843]\n",
      "Epoch 18: 100%|██████████| 132/132 [00:00<00:00, 151.46it/s, v_num=112, loss=0.525, val_loss=0.449, val_acc=0.729, val_auc=0.854, val_f1=0.843]\n",
      "Epoch 19: 100%|██████████| 132/132 [00:00<00:00, 152.03it/s, v_num=112, loss=0.517, val_loss=0.448, val_acc=0.729, val_auc=0.854, val_f1=0.843]\n",
      "Epoch 20: 100%|██████████| 132/132 [00:01<00:00, 122.07it/s, v_num=112, loss=0.362, val_loss=0.449, val_acc=0.729, val_auc=0.854, val_f1=0.843]\n",
      "Epoch 21: 100%|██████████| 132/132 [00:00<00:00, 147.28it/s, v_num=112, loss=0.359, val_loss=0.448, val_acc=0.729, val_auc=0.854, val_f1=0.843]\n",
      "Epoch 22: 100%|██████████| 132/132 [00:00<00:00, 152.47it/s, v_num=112, loss=0.412, val_loss=0.449, val_acc=0.729, val_auc=0.853, val_f1=0.843]\n",
      "Epoch 23: 100%|██████████| 132/132 [00:00<00:00, 134.70it/s, v_num=112, loss=0.476, val_loss=0.448, val_acc=0.729, val_auc=0.854, val_f1=0.843]\n",
      "Epoch 24: 100%|██████████| 132/132 [00:00<00:00, 139.93it/s, v_num=112, loss=0.520, val_loss=0.449, val_acc=0.729, val_auc=0.854, val_f1=0.843]\n",
      "Epoch 25: 100%|██████████| 132/132 [00:01<00:00, 129.93it/s, v_num=112, loss=0.279, val_loss=0.448, val_acc=0.729, val_auc=0.854, val_f1=0.843]\n",
      "Epoch 26: 100%|██████████| 132/132 [00:00<00:00, 146.95it/s, v_num=112, loss=0.411, val_loss=0.448, val_acc=0.729, val_auc=0.854, val_f1=0.843]\n",
      "Epoch 27: 100%|██████████| 132/132 [00:01<00:00, 114.07it/s, v_num=112, loss=0.374, val_loss=0.448, val_acc=0.729, val_auc=0.854, val_f1=0.843]\n",
      "Epoch 28: 100%|██████████| 132/132 [00:01<00:00, 113.66it/s, v_num=112, loss=0.468, val_loss=0.448, val_acc=0.729, val_auc=0.854, val_f1=0.843]\n",
      "Epoch 29: 100%|██████████| 132/132 [00:00<00:00, 146.52it/s, v_num=112, loss=0.282, val_loss=0.448, val_acc=0.729, val_auc=0.854, val_f1=0.843]\n",
      "Epoch 30: 100%|██████████| 132/132 [00:00<00:00, 149.06it/s, v_num=112, loss=0.346, val_loss=0.449, val_acc=0.729, val_auc=0.853, val_f1=0.843]\n",
      "Epoch 31: 100%|██████████| 132/132 [00:00<00:00, 147.67it/s, v_num=112, loss=0.297, val_loss=0.449, val_acc=0.729, val_auc=0.854, val_f1=0.843]\n",
      "Epoch 32: 100%|██████████| 132/132 [00:00<00:00, 144.69it/s, v_num=112, loss=0.390, val_loss=0.449, val_acc=0.729, val_auc=0.854, val_f1=0.843]\n",
      "Epoch 33: 100%|██████████| 132/132 [00:00<00:00, 149.58it/s, v_num=112, loss=0.426, val_loss=0.449, val_acc=0.729, val_auc=0.853, val_f1=0.843]\n",
      "Epoch 34: 100%|██████████| 132/132 [00:00<00:00, 151.17it/s, v_num=112, loss=0.307, val_loss=0.448, val_acc=0.729, val_auc=0.853, val_f1=0.843]\n",
      "Epoch 35: 100%|██████████| 132/132 [00:00<00:00, 153.43it/s, v_num=112, loss=0.517, val_loss=0.448, val_acc=0.729, val_auc=0.853, val_f1=0.843]\n",
      "Epoch 36: 100%|██████████| 132/132 [00:00<00:00, 158.42it/s, v_num=112, loss=0.552, val_loss=0.449, val_acc=0.729, val_auc=0.854, val_f1=0.843]\n",
      "Epoch 37: 100%|██████████| 132/132 [00:00<00:00, 138.80it/s, v_num=112, loss=0.515, val_loss=0.448, val_acc=0.729, val_auc=0.854, val_f1=0.843]\n",
      "Epoch 38: 100%|██████████| 132/132 [00:01<00:00, 128.09it/s, v_num=112, loss=0.627, val_loss=0.448, val_acc=0.729, val_auc=0.854, val_f1=0.843]\n",
      "Epoch 39: 100%|██████████| 132/132 [00:00<00:00, 135.33it/s, v_num=112, loss=0.507, val_loss=0.448, val_acc=0.729, val_auc=0.854, val_f1=0.843]\n",
      "Epoch 40: 100%|██████████| 132/132 [00:01<00:00, 130.75it/s, v_num=112, loss=0.388, val_loss=0.449, val_acc=0.729, val_auc=0.853, val_f1=0.843]\n",
      "Epoch 41: 100%|██████████| 132/132 [00:00<00:00, 141.47it/s, v_num=112, loss=0.391, val_loss=0.448, val_acc=0.729, val_auc=0.853, val_f1=0.843]\n",
      "Epoch 42: 100%|██████████| 132/132 [00:00<00:00, 148.94it/s, v_num=112, loss=0.451, val_loss=0.449, val_acc=0.729, val_auc=0.853, val_f1=0.843]\n",
      "Epoch 43: 100%|██████████| 132/132 [00:00<00:00, 144.85it/s, v_num=112, loss=0.456, val_loss=0.448, val_acc=0.729, val_auc=0.854, val_f1=0.843]\n",
      "Epoch 44: 100%|██████████| 132/132 [00:00<00:00, 138.85it/s, v_num=112, loss=0.468, val_loss=0.448, val_acc=0.729, val_auc=0.854, val_f1=0.843]\n",
      "Epoch 45: 100%|██████████| 132/132 [00:00<00:00, 150.82it/s, v_num=112, loss=0.269, val_loss=0.449, val_acc=0.729, val_auc=0.854, val_f1=0.843]\n",
      "Epoch 46: 100%|██████████| 132/132 [00:00<00:00, 146.05it/s, v_num=112, loss=0.434, val_loss=0.448, val_acc=0.729, val_auc=0.854, val_f1=0.843]\n",
      "Epoch 47: 100%|██████████| 132/132 [00:00<00:00, 150.61it/s, v_num=112, loss=0.350, val_loss=0.448, val_acc=0.729, val_auc=0.853, val_f1=0.843]\n",
      "Epoch 48: 100%|██████████| 132/132 [00:00<00:00, 151.15it/s, v_num=112, loss=0.446, val_loss=0.449, val_acc=0.729, val_auc=0.853, val_f1=0.843]\n",
      "Epoch 49: 100%|██████████| 132/132 [00:00<00:00, 152.21it/s, v_num=112, loss=0.395, val_loss=0.449, val_acc=0.729, val_auc=0.854, val_f1=0.843]\n",
      "Epoch 49: 100%|██████████| 132/132 [00:00<00:00, 141.14it/s, v_num=112, loss=0.395, val_loss=0.449, val_acc=0.729, val_auc=0.854, val_f1=0.843]"
     ]
    },
    {
     "name": "stderr",
     "output_type": "stream",
     "text": [
      "`Trainer.fit` stopped: `max_epochs=50` reached.\n"
     ]
    },
    {
     "name": "stdout",
     "output_type": "stream",
     "text": [
      "Epoch 49: 100%|██████████| 132/132 [00:00<00:00, 139.97it/s, v_num=112, loss=0.395, val_loss=0.449, val_acc=0.729, val_auc=0.854, val_f1=0.843]\n"
     ]
    }
   ],
   "source": [
    "trainer.test(model=MLP_model, dataloaders=test_dataloader)"
   ],
   "metadata": {
    "collapsed": false,
    "ExecuteTime": {
     "end_time": "2023-10-12T03:04:27.800681Z",
     "start_time": "2023-10-12T03:03:35.773196Z"
    }
   }
  },
  {
   "cell_type": "code",
   "execution_count": 131,
   "outputs": [
    {
     "name": "stderr",
     "output_type": "stream",
     "text": [
      "/Users/cgu3/opt/anaconda3/envs/Grape-Pi/lib/python3.10/site-packages/pytorch_lightning/trainer/connectors/data_connector.py:438: PossibleUserWarning: The dataloader, test_dataloader, does not have many workers which may be a bottleneck. Consider increasing the value of the `num_workers` argument` (try 8 which is the number of cpus on this machine) in the `DataLoader` init to improve performance.\n",
      "  rank_zero_warn(\n"
     ]
    },
    {
     "name": "stdout",
     "output_type": "stream",
     "text": [
      "Testing: 0it [00:00, ?it/s]────────────────────────────────────────────────────────────────────────────────────────────────────────────────────────\n",
      "       Test metric             DataLoader 0\n",
      "────────────────────────────────────────────────────────────────────────────────────────────────────────────────────────\n",
      "        test_acc            0.7352941036224365\n",
      "        test_auc            0.8867013454437256\n",
      "         test_f1            0.8474576473236084\n",
      "        test_loss           0.4340077340602875\n",
      "────────────────────────────────────────────────────────────────────────────────────────────────────────────────────────\n"
     ]
    },
    {
     "data": {
      "text/plain": "[{'test_loss': 0.4340077340602875,\n  'test_acc': 0.7352941036224365,\n  'test_auc': 0.8867013454437256,\n  'test_f1': 0.8474576473236084}]"
     },
     "execution_count": 131,
     "metadata": {},
     "output_type": "execute_result"
    }
   ],
   "source": [
    "out = trainer.predict(MLP_model, dataloaders=test_dataloader)\n",
    "out"
   ],
   "metadata": {
    "collapsed": false,
    "ExecuteTime": {
     "end_time": "2023-10-12T03:04:28.597185Z",
     "start_time": "2023-10-12T03:04:28.505782Z"
    }
   }
  },
  {
   "cell_type": "code",
   "execution_count": 281,
   "outputs": [
    {
     "name": "stderr",
     "output_type": "stream",
     "text": [
      "/Users/cgu3/opt/anaconda3/envs/Grape-Pi/lib/python3.10/site-packages/pytorch_lightning/callbacks/model_checkpoint.py:617: UserWarning: Checkpoint directory /Users/cgu3/Documents/Grape-Pi/lightning_logs/version_97/checkpoints exists and is not empty.\n",
      "  rank_zero_warn(f\"Checkpoint directory {dirpath} exists and is not empty.\")\n",
      "\n",
      "  | Name             | Type              | Params\n",
      "-------------------------------------------------------\n",
      "0 | lin1             | Linear            | 20    \n",
      "1 | lin2             | Linear            | 11    \n",
      "2 | criterion        | BCEWithLogitsLoss | 0     \n",
      "3 | train_collection | MetricCollection  | 0     \n",
      "4 | val_collection   | MetricCollection  | 0     \n",
      "5 | test_collection  | MetricCollection  | 0     \n",
      "-------------------------------------------------------\n",
      "31        Trainable params\n",
      "0         Non-trainable params\n",
      "31        Total params\n",
      "0.000     Total estimated model params size (MB)\n"
     ]
    },
    {
     "name": "stdout",
     "output_type": "stream",
     "text": [
      "Epoch 10:  45%|████▍     | 47/105 [01:47<02:13,  2.29s/it, v_num=97, loss=-.203, val_loss=-.0114, val_acc=0.760, val_auc=0.830, val_f1=0.711] \n",
      "                                                                            "
     ]
    },
    {
     "name": "stderr",
     "output_type": "stream",
     "text": [
      "/Users/cgu3/opt/anaconda3/envs/Grape-Pi/lib/python3.10/site-packages/pytorch_lightning/trainer/connectors/data_connector.py:438: PossibleUserWarning: The dataloader, val_dataloader, does not have many workers which may be a bottleneck. Consider increasing the value of the `num_workers` argument` (try 8 which is the number of cpus on this machine) in the `DataLoader` init to improve performance.\n",
      "  rank_zero_warn(\n",
      "/Users/cgu3/opt/anaconda3/envs/Grape-Pi/lib/python3.10/site-packages/pytorch_lightning/trainer/connectors/data_connector.py:438: PossibleUserWarning: The dataloader, train_dataloader, does not have many workers which may be a bottleneck. Consider increasing the value of the `num_workers` argument` (try 8 which is the number of cpus on this machine) in the `DataLoader` init to improve performance.\n",
      "  rank_zero_warn(\n"
     ]
    },
    {
     "name": "stdout",
     "output_type": "stream",
     "text": [
      "Epoch 10: 100%|██████████| 105/105 [00:00<00:00, 143.22it/s, v_num=97, loss=-.314] \n",
      "Epoch 11: 100%|██████████| 105/105 [00:00<00:00, 146.27it/s, v_num=97, loss=0.736, val_loss=-.0882, val_acc=0.764, val_auc=0.830, val_f1=0.721]  \n",
      "Epoch 12: 100%|██████████| 105/105 [00:00<00:00, 152.38it/s, v_num=97, loss=-.784, val_loss=-.141, val_acc=0.766, val_auc=0.830, val_f1=0.724] \n",
      "Epoch 13: 100%|██████████| 105/105 [00:00<00:00, 153.06it/s, v_num=97, loss=0.166, val_loss=-.192, val_acc=0.765, val_auc=0.830, val_f1=0.723]\n",
      "Epoch 14: 100%|██████████| 105/105 [00:00<00:00, 151.92it/s, v_num=97, loss=-.323, val_loss=-.241, val_acc=0.765, val_auc=0.830, val_f1=0.718] \n",
      "Epoch 15: 100%|██████████| 105/105 [00:00<00:00, 154.61it/s, v_num=97, loss=-.104, val_loss=-.298, val_acc=0.765, val_auc=0.830, val_f1=0.723]  \n",
      "Epoch 16: 100%|██████████| 105/105 [00:00<00:00, 156.63it/s, v_num=97, loss=-.197, val_loss=-.352, val_acc=0.772, val_auc=0.830, val_f1=0.735]  \n",
      "Epoch 17: 100%|██████████| 105/105 [00:00<00:00, 146.07it/s, v_num=97, loss=-1.27, val_loss=-.408, val_acc=0.766, val_auc=0.830, val_f1=0.724]\n",
      "Epoch 18: 100%|██████████| 105/105 [00:00<00:00, 147.83it/s, v_num=97, loss=-2.42, val_loss=-.467, val_acc=0.765, val_auc=0.830, val_f1=0.723] \n",
      "Epoch 19: 100%|██████████| 105/105 [00:00<00:00, 145.77it/s, v_num=97, loss=-.0566, val_loss=-.528, val_acc=0.766, val_auc=0.830, val_f1=0.724]\n",
      "Epoch 20: 100%|██████████| 105/105 [00:00<00:00, 150.87it/s, v_num=97, loss=-1.16, val_loss=-.591, val_acc=0.764, val_auc=0.830, val_f1=0.721] \n",
      "Epoch 21: 100%|██████████| 105/105 [00:00<00:00, 148.15it/s, v_num=97, loss=0.0126, val_loss=-.656, val_acc=0.764, val_auc=0.830, val_f1=0.721]\n",
      "Epoch 22: 100%|██████████| 105/105 [00:00<00:00, 143.99it/s, v_num=97, loss=-.245, val_loss=-.724, val_acc=0.764, val_auc=0.830, val_f1=0.720] \n",
      "Epoch 23: 100%|██████████| 105/105 [00:00<00:00, 163.27it/s, v_num=97, loss=-1.71, val_loss=-.789, val_acc=0.764, val_auc=0.830, val_f1=0.720]\n",
      "Epoch 24: 100%|██████████| 105/105 [00:00<00:00, 155.39it/s, v_num=97, loss=1.460, val_loss=-.860, val_acc=0.765, val_auc=0.830, val_f1=0.722]\n",
      "Epoch 25: 100%|██████████| 105/105 [00:00<00:00, 151.49it/s, v_num=97, loss=-3.33, val_loss=-.932, val_acc=0.764, val_auc=0.830, val_f1=0.720]\n",
      "Epoch 26: 100%|██████████| 105/105 [00:00<00:00, 157.02it/s, v_num=97, loss=-1.60, val_loss=-1.01, val_acc=0.764, val_auc=0.830, val_f1=0.720]\n",
      "Epoch 27: 100%|██████████| 105/105 [00:00<00:00, 149.74it/s, v_num=97, loss=-.413, val_loss=-1.08, val_acc=0.765, val_auc=0.830, val_f1=0.718] \n",
      "Epoch 28: 100%|██████████| 105/105 [00:00<00:00, 154.82it/s, v_num=97, loss=-1.27, val_loss=-1.16, val_acc=0.764, val_auc=0.830, val_f1=0.717] \n",
      "Epoch 29: 100%|██████████| 105/105 [00:00<00:00, 152.59it/s, v_num=97, loss=-.292, val_loss=-1.24, val_acc=0.763, val_auc=0.830, val_f1=0.716]\n",
      "Epoch 30: 100%|██████████| 105/105 [00:00<00:00, 128.96it/s, v_num=97, loss=-1.61, val_loss=-1.33, val_acc=0.763, val_auc=0.830, val_f1=0.716]  \n",
      "Epoch 31:  13%|█▎        | 14/105 [00:00<00:00, 148.83it/s, v_num=97, loss=-1.21, val_loss=-1.41, val_acc=0.759, val_auc=0.830, val_f1=0.708] "
     ]
    },
    {
     "name": "stderr",
     "output_type": "stream",
     "text": [
      "/Users/cgu3/opt/anaconda3/envs/Grape-Pi/lib/python3.10/site-packages/pytorch_lightning/trainer/call.py:53: UserWarning: Detected KeyboardInterrupt, attempting graceful shutdown...\n",
      "  rank_zero_warn(\"Detected KeyboardInterrupt, attempting graceful shutdown...\")\n"
     ]
    }
   ],
   "source": [
    "accession, raw_prob, mRNA, pred_prob, soft_label = zip(*out)\n",
    "accession = [item for sublist in accession for item in sublist]\n",
    "raw_prob = [item.item() for sublist in raw_prob for item in sublist]\n",
    "mRNA = [item.item() for sublist in mRNA for item in sublist]\n",
    "pred_prob = [item.item() for sublist in pred_prob for item in sublist]\n",
    "soft_label = [item.item() for sublist in soft_label for item in sublist]\n",
    "pd.DataFrame({'accession': accession, 'raw_prob': raw_prob, 'mRNA': mRNA, 'pred_prob': pred_prob, 'soft_label': soft_label})"
   ],
   "metadata": {
    "collapsed": false,
    "ExecuteTime": {
     "end_time": "2023-10-12T02:34:30.613594Z",
     "start_time": "2023-10-12T02:34:14.340022Z"
    }
   }
  },
  {
   "cell_type": "code",
   "execution_count": 102,
   "outputs": [
    {
     "data": {
      "text/plain": "<torch.utils.data.dataloader.DataLoader at 0x156841660>"
     },
     "execution_count": 102,
     "metadata": {},
     "output_type": "execute_result"
    }
   ],
   "source": [
    "test_dataloader"
   ],
   "metadata": {
    "collapsed": false,
    "ExecuteTime": {
     "end_time": "2023-10-04T19:24:41.068889Z",
     "start_time": "2023-10-04T19:24:40.966076Z"
    }
   }
  },
  {
   "cell_type": "code",
   "execution_count": 54,
   "outputs": [
    {
     "data": {
      "text/plain": "Launching TensorBoard..."
     },
     "metadata": {},
     "output_type": "display_data"
    }
   ],
   "source": [
    "%reload_ext tensorboard\n",
    "%tensorboard --logdir=lightning_logs/"
   ],
   "metadata": {
    "collapsed": false,
    "ExecuteTime": {
     "end_time": "2023-09-22T21:19:13.658811Z",
     "start_time": "2023-09-22T21:19:09.970212Z"
    }
   }
  },
  {
   "cell_type": "code",
   "execution_count": null,
   "outputs": [],
   "source": [],
   "metadata": {
    "collapsed": false
   }
  }
 ],
 "metadata": {
  "kernelspec": {
   "display_name": "Python 3",
   "language": "python",
   "name": "python3"
  },
  "language_info": {
   "codemirror_mode": {
    "name": "ipython",
    "version": 2
   },
   "file_extension": ".py",
   "mimetype": "text/x-python",
   "name": "python",
   "nbconvert_exporter": "python",
   "pygments_lexer": "ipython2",
   "version": "2.7.6"
  }
 },
 "nbformat": 4,
 "nbformat_minor": 0
}

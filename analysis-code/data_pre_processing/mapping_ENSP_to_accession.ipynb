{
 "cells": [
  {
   "cell_type": "code",
   "execution_count": 2,
   "outputs": [],
   "source": [
    "import pandas as pd"
   ],
   "metadata": {
    "collapsed": false,
    "ExecuteTime": {
     "end_time": "2023-10-03T23:16:49.516028Z",
     "start_time": "2023-10-03T23:16:48.884148Z"
    }
   },
   "id": "bb9e08d295657b00"
  },
  {
   "cell_type": "code",
   "execution_count": null,
   "id": "initial_id",
   "metadata": {
    "collapsed": true
   },
   "outputs": [],
   "source": [
    "# read string interaction data file\n",
    "```{r}\n",
    "string_interaction <- read_delim('PPI-for-protein-detection/data/STRING/9606.protein.links.v11.5.txt', delim=' ', show_col_types = FALSE)\n",
    "```\n",
    "\n",
    "# extract the protein ID in the STRING interaction file\n",
    "```{r}\n",
    "proteins_ENSP <- unique(c(string_interaction$protein1, string_interaction$protein2))\n",
    "```\n",
    "\n",
    "# write protein ID needed to be mapped to Uniprot accession ID\n",
    "```{r}\n",
    "write_csv(data.frame(proteins=proteins_ENSP), 'data/STRING/proteins-ENSP.csv')\n",
    "```\n",
    "\n",
    "```{r}\n",
    "mapping_dat <- read_delim('PPI-for-protein-detection/data/STRING/ENSP-to-accession.tsv', delim = '\\t', show_col_types = FALSE)\n",
    "mapping_dat <- janitor::clean_names(mapping_dat)\n",
    "```\n",
    "\n",
    "\n",
    "# mapping ENSP to accession\n",
    "```{r}\n",
    "dictionary <- mapping_dat %>% select(from, entry)\n",
    "string_interaction$protein1_acc <-  mapping(string_interaction$protein1, dictionary = dictionary)\n",
    "string_interaction$protein2_acc <-  mapping(string_interaction$protein2, dictionary = dictionary)\n",
    "# remove interaction that contain any proteins that cannot be mapped back to accession\n",
    "#  11,938,498 -> 11,607,094\n",
    "string_interaction_acc <- string_interaction %>% select(protein1_acc, protein2_acc, combined_score) %>% filter(!(is.na(protein1_acc) | is.na(protein2_acc)))\n",
    "```\n",
    "\n",
    "```{r}\n",
    "write_csv(string_interaction_acc, 'PPI-for-protein-detection/data/STRING/STRING-interaction-acc.csv')\n",
    "```"
   ]
  },
  {
   "cell_type": "code",
   "execution_count": 14,
   "outputs": [],
   "source": [
    "ppi = pd.read_csv('/Users/cgu3/Documents/Grape-Pi/data/single-soft-label/raw/additional/STRING-interaction-swiss-lite.csv')"
   ],
   "metadata": {
    "collapsed": false,
    "ExecuteTime": {
     "end_time": "2023-10-04T00:56:04.883371Z",
     "start_time": "2023-10-04T00:56:04.404880Z"
    }
   },
   "id": "c347fbf215ab0aa6"
  },
  {
   "cell_type": "code",
   "execution_count": 15,
   "outputs": [],
   "source": [
    "mask = ppi['combined_score'] >= 500"
   ],
   "metadata": {
    "collapsed": false,
    "ExecuteTime": {
     "end_time": "2023-10-04T00:56:04.909555Z",
     "start_time": "2023-10-04T00:56:04.864385Z"
    }
   },
   "id": "ac2a3383781aad51"
  },
  {
   "cell_type": "code",
   "execution_count": 17,
   "outputs": [
    {
     "data": {
      "text/plain": "        protein1_acc protein2_acc  combined_score\n4             P84085       Q15057             767\n34            P84085       P13987             600\n90            P84085       P09874             543\n93            P84085       P62820             730\n119           P84085       P01308             605\n...              ...          ...             ...\n1048515       Q05209       P01133             921\n1048522       Q05209       Q15303             923\n1048530       Q05209       P56975             900\n1048537       Q05209       P62993             837\n1048547       Q05209       Q14511             775\n\n[107835 rows x 3 columns]",
      "text/html": "<div>\n<style scoped>\n    .dataframe tbody tr th:only-of-type {\n        vertical-align: middle;\n    }\n\n    .dataframe tbody tr th {\n        vertical-align: top;\n    }\n\n    .dataframe thead th {\n        text-align: right;\n    }\n</style>\n<table border=\"1\" class=\"dataframe\">\n  <thead>\n    <tr style=\"text-align: right;\">\n      <th></th>\n      <th>protein1_acc</th>\n      <th>protein2_acc</th>\n      <th>combined_score</th>\n    </tr>\n  </thead>\n  <tbody>\n    <tr>\n      <th>4</th>\n      <td>P84085</td>\n      <td>Q15057</td>\n      <td>767</td>\n    </tr>\n    <tr>\n      <th>34</th>\n      <td>P84085</td>\n      <td>P13987</td>\n      <td>600</td>\n    </tr>\n    <tr>\n      <th>90</th>\n      <td>P84085</td>\n      <td>P09874</td>\n      <td>543</td>\n    </tr>\n    <tr>\n      <th>93</th>\n      <td>P84085</td>\n      <td>P62820</td>\n      <td>730</td>\n    </tr>\n    <tr>\n      <th>119</th>\n      <td>P84085</td>\n      <td>P01308</td>\n      <td>605</td>\n    </tr>\n    <tr>\n      <th>...</th>\n      <td>...</td>\n      <td>...</td>\n      <td>...</td>\n    </tr>\n    <tr>\n      <th>1048515</th>\n      <td>Q05209</td>\n      <td>P01133</td>\n      <td>921</td>\n    </tr>\n    <tr>\n      <th>1048522</th>\n      <td>Q05209</td>\n      <td>Q15303</td>\n      <td>923</td>\n    </tr>\n    <tr>\n      <th>1048530</th>\n      <td>Q05209</td>\n      <td>P56975</td>\n      <td>900</td>\n    </tr>\n    <tr>\n      <th>1048537</th>\n      <td>Q05209</td>\n      <td>P62993</td>\n      <td>837</td>\n    </tr>\n    <tr>\n      <th>1048547</th>\n      <td>Q05209</td>\n      <td>Q14511</td>\n      <td>775</td>\n    </tr>\n  </tbody>\n</table>\n<p>107835 rows × 3 columns</p>\n</div>"
     },
     "execution_count": 17,
     "metadata": {},
     "output_type": "execute_result"
    }
   ],
   "source": [
    "ppi_filtered = ppi[mask]\n",
    "ppi_filtered"
   ],
   "metadata": {
    "collapsed": false,
    "ExecuteTime": {
     "end_time": "2023-10-04T00:56:19.180150Z",
     "start_time": "2023-10-04T00:56:19.125828Z"
    }
   },
   "id": "2aca0c57f6460a07"
  },
  {
   "cell_type": "code",
   "execution_count": 13,
   "outputs": [],
   "source": [
    "ppi_filtered.to_csv('/Users/cgu3/Documents/Grape-Pi/data/single-soft-label/raw/additional/STRING-interaction-swiss-lite-filtered.csv', index=False)"
   ],
   "metadata": {
    "collapsed": false,
    "ExecuteTime": {
     "end_time": "2023-10-04T00:53:19.240753Z",
     "start_time": "2023-10-04T00:53:19.125025Z"
    }
   },
   "id": "dc8af14d7a27c6e3"
  },
  {
   "cell_type": "markdown",
   "source": [],
   "metadata": {
    "collapsed": false
   },
   "id": "4c5f0f6d42a9216b"
  },
  {
   "cell_type": "code",
   "execution_count": null,
   "outputs": [],
   "source": [],
   "metadata": {
    "collapsed": false
   },
   "id": "f25b454b7af9538c"
  }
 ],
 "metadata": {
  "kernelspec": {
   "display_name": "Python 3",
   "language": "python",
   "name": "python3"
  },
  "language_info": {
   "codemirror_mode": {
    "name": "ipython",
    "version": 2
   },
   "file_extension": ".py",
   "mimetype": "text/x-python",
   "name": "python",
   "nbconvert_exporter": "python",
   "pygments_lexer": "ipython2",
   "version": "2.7.6"
  }
 },
 "nbformat": 4,
 "nbformat_minor": 5
}

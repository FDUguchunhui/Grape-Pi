{
 "cells": [
  {
   "cell_type": "code",
   "execution_count": 1,
   "outputs": [],
   "source": [
    "import os\n",
    "from graphgym.custom_graphgym.loader.protein import ProteinDataset\n",
    "import matplotlib.pyplot as plt"
   ],
   "metadata": {
    "collapsed": false,
    "ExecuteTime": {
     "end_time": "2023-10-16T17:30:03.623368Z",
     "start_time": "2023-10-16T17:30:00.793975Z"
    }
   },
   "id": "9a55c6dd18f6790a"
  },
  {
   "cell_type": "code",
   "execution_count": 2,
   "outputs": [],
   "source": [
    "os.chdir('/Users/cgu3/Documents/Grape-Pi')"
   ],
   "metadata": {
    "collapsed": false,
    "ExecuteTime": {
     "end_time": "2023-10-16T17:30:03.629480Z",
     "start_time": "2023-10-16T17:30:03.624583Z"
    }
   },
   "id": "cc1b48002b7c6fda"
  },
  {
   "cell_type": "code",
   "execution_count": 3,
   "id": "initial_id",
   "metadata": {
    "collapsed": true,
    "ExecuteTime": {
     "end_time": "2023-10-16T17:30:06.138812Z",
     "start_time": "2023-10-16T17:30:03.627165Z"
    }
   },
   "outputs": [
    {
     "name": "stderr",
     "output_type": "stream",
     "text": [
      "Rebuilding...\n",
      "Done!\n"
     ]
    }
   ],
   "source": [
    "dataset = ProteinDataset(\"data/single\", numeric_columns=['protein_probability'], label_column='hard_label', rebuild=True)\n",
    "# dataset = ProteinDataset(\"data/yeast-ORBI\", numeric_columns=['protein_probability'], label_column=None, rebuild=True)\n",
    "# dataset = ProteinDataset(\"data/human-ORBI\", numeric_columns=['protein_probability'], label_column='label', rebuild=True)"
   ]
  },
  {
   "cell_type": "code",
   "execution_count": 4,
   "outputs": [],
   "source": [
    "import copy\n",
    "import time\n",
    "import torch\n",
    "import torch.nn.functional as F\n",
    "from tqdm import tqdm\n",
    "from torch_geometric.loader import NeighborLoader\n",
    "from torch_geometric.nn import SAGEConv\n",
    "\n",
    "device = torch.device('cuda' if torch.cuda.is_available() else 'cpu')\n",
    "data = dataset[0].to(device, 'x', 'y', 'train_mask', 'val_mask', 'test_mask')"
   ],
   "metadata": {
    "collapsed": false,
    "ExecuteTime": {
     "end_time": "2023-10-16T17:30:06.140463Z",
     "start_time": "2023-10-16T17:30:06.138733Z"
    }
   },
   "id": "1d81189dc77095c9"
  },
  {
   "cell_type": "code",
   "execution_count": 5,
   "outputs": [],
   "source": [
    "import torchmetrics\n",
    "from torchmetrics.classification import BinaryAUROC, BinaryAccuracy, BinaryF1Score\n",
    "\n",
    "# \n",
    "approx_train_collection = torchmetrics.MetricCollection(\n",
    "    BinaryAccuracy(),\n",
    "    BinaryAUROC(),\n",
    "    BinaryF1Score()\n",
    ")\n",
    "\n",
    "train_collection = torchmetrics.MetricCollection(\n",
    "    BinaryAccuracy(),\n",
    "    BinaryAUROC(),\n",
    "    BinaryF1Score()\n",
    ")\n",
    "\n",
    "val_collection = torchmetrics.MetricCollection(\n",
    "    BinaryAccuracy(),\n",
    "    BinaryAUROC(),\n",
    "    BinaryF1Score()\n",
    ")\n",
    "\n",
    "test_collection = torchmetrics.MetricCollection(\n",
    "    BinaryAccuracy(),\n",
    "    BinaryAUROC(),\n",
    "    BinaryF1Score()\n",
    ")\n",
    "\n",
    "approx_train_tracker = torchmetrics.wrappers.MetricTracker(approx_train_collection)\n",
    "train_tracker = torchmetrics.wrappers.MetricTracker(train_collection)\n",
    "val_tracker = torchmetrics.wrappers.MetricTracker(val_collection)\n",
    "test_tracker = torchmetrics.wrappers.MetricTracker(test_collection)\n",
    "    "
   ],
   "metadata": {
    "collapsed": false,
    "ExecuteTime": {
     "end_time": "2023-10-16T17:30:06.146306Z",
     "start_time": "2023-10-16T17:30:06.142329Z"
    }
   },
   "id": "ea51fb41564b409c"
  },
  {
   "cell_type": "code",
   "execution_count": 6,
   "outputs": [],
   "source": [
    "from torch_geometric.seed import seed_everything\n",
    "seed_everything(42)\n",
    "\n",
    "kwargs = {'batch_size': 512, 'num_workers': 2, 'persistent_workers': True}\n",
    "train_loader = NeighborLoader(data, input_nodes=data.train_mask,\n",
    "                              num_neighbors=[50], shuffle=True, **kwargs)\n",
    "\n",
    "subgraph_loader = NeighborLoader(copy.copy(data), input_nodes=None,\n",
    "                                 num_neighbors=[-1], shuffle=False, **kwargs)\n",
    "\n",
    "# No need to maintain these features during evaluation:\n",
    "del subgraph_loader.data.x, subgraph_loader.data.y\n",
    "# Add global node index information.\n",
    "subgraph_loader.data.num_nodes = data.num_nodes\n",
    "subgraph_loader.data.n_id = torch.arange(data.num_nodes)\n",
    "\n",
    "\n",
    "class SAGE(torch.nn.Module):\n",
    "    def __init__(self, in_channels, hidden_channels, out_channels):\n",
    "        super().__init__()\n",
    "        self.convs = torch.nn.ModuleList()\n",
    "        # a single conv layer and a single linear layer\n",
    "        self.convs.append(SAGEConv(in_channels, hidden_channels))\n",
    "        self.lin1 = torch.nn.Linear(hidden_channels, out_channels)\n",
    "\n",
    "    def forward(self, x, edge_index):\n",
    "        for i, conv in enumerate(self.convs):\n",
    "            x = conv(x, edge_index)\n",
    "            x = x.relu_()\n",
    "            x = self.lin1(x)\n",
    "        return x\n",
    "\n",
    "    @torch.no_grad()\n",
    "    def inference(self, x_all, subgraph_loader):\n",
    "        # pbar = tqdm(total=len(subgraph_loader.dataset) * len(self.convs))\n",
    "        # pbar.set_description('Evaluating')\n",
    "\n",
    "        # Compute representations of nodes layer by layer, using *all*\n",
    "        # available edges. This leads to faster computation in contrast to\n",
    "        # immediately computing the final representations of each batch:\n",
    "        for i, conv in enumerate(self.convs):\n",
    "            xs = []\n",
    "            for batch in subgraph_loader:\n",
    "                x = x_all[batch.n_id.to(x_all.device)].to(device)\n",
    "                x = conv(x, batch.edge_index.to(device))\n",
    "                x = x.relu_()\n",
    "                x = self.lin1(x)\n",
    "                xs.append(x[:batch.batch_size].cpu())\n",
    "                # pbar.update(batch.batch_size)\n",
    "            x_all = torch.cat(xs, dim=0)\n",
    "        # pbar.close()\n",
    "        return x_all\n",
    "\n",
    "\n",
    "model = SAGE(dataset.num_features, 10, 1).to(device)\n",
    "optimizer = torch.optim.Adam(model.parameters(), lr=0.001)\n",
    "\n",
    "def train(epoch):\n",
    "    model.train()\n",
    "\n",
    "    pbar = tqdm(total=int(len(train_loader.dataset)))\n",
    "    pbar.set_description(f'Epoch {epoch:02d}')\n",
    "    \n",
    "    total_loss = total_examples = 0\n",
    "    approx_train_tracker.increment() # the start of a new epoch\n",
    "    \n",
    "    for batch in train_loader:\n",
    "        optimizer.zero_grad()\n",
    "        y = batch.y[:batch.batch_size]\n",
    "        logits = model(batch.x, batch.edge_index.to(device))[:batch.batch_size].squeeze(-1)\n",
    "        \n",
    "        # create hard label only for confidence proteins and used for binary classification evaluation\n",
    "        y_pred_prob = torch.nn.functional.sigmoid(logits)\n",
    "        # y_hard = torch.where(y > 0.99, 1, \n",
    "        #                      torch.where(y < 0.5, 0, -1))\n",
    "        # binary_mask = (y_hard != -1).bool()\n",
    "\n",
    "        \n",
    "        loss = F.binary_cross_entropy_with_logits(logits.squeeze(-1), y)\n",
    "        loss.backward()\n",
    "        optimizer.step()\n",
    "\n",
    "        total_loss += float(loss) * batch.batch_size\n",
    "        approx_train_tracker.update(y_pred_prob, y)\n",
    "        total_examples += batch.batch_size\n",
    "        pbar.update(batch.batch_size)\n",
    "    pbar.close()\n",
    "\n",
    "    return total_loss / total_examples\n",
    "\n",
    "\n",
    "\n",
    "@torch.no_grad()\n",
    "def test():\n",
    "    model.eval()\n",
    "    logits = model.inference(data.x, subgraph_loader).squeeze(-1)\n",
    "    y_pred_prob = torch.nn.functional.sigmoid(logits)\n",
    " \n",
    "    loss = []\n",
    "    train_tracker.update(y_pred_prob[data.train_mask], data.y[data.train_mask])\n",
    "    val_tracker.update(y_pred_prob[data.val_mask], data.y[data.val_mask])\n",
    "    test_tracker.update(y_pred_prob[data.test_mask], data.y[data.test_mask])\n",
    "    # train_tracker.update(y_pred_prob[data.train_mask & binary_mask], y_hard[data.train_mask & binary_mask])\n",
    "    # val_tracker.update(y_pred_prob[data.val_mask & binary_mask], y_hard[data.val_mask & binary_mask])\n",
    "    # test_tracker.update(y_pred_prob[data.test_mask & binary_mask], y_hard[data.test_mask & binary_mask])\n",
    "    \n",
    "    for mask in [data.train_mask, data.val_mask, data.test_mask]:\n",
    "        loss.append(F.binary_cross_entropy_with_logits(logits[mask], data.y[mask]))\n",
    "    \n",
    "    return loss"
   ],
   "metadata": {
    "collapsed": false,
    "ExecuteTime": {
     "end_time": "2023-10-16T17:30:06.421491Z",
     "start_time": "2023-10-16T17:30:06.152758Z"
    }
   },
   "id": "ed6a72c0fcaf4ee"
  },
  {
   "cell_type": "code",
   "execution_count": 7,
   "outputs": [
    {
     "name": "stdout",
     "output_type": "stream",
     "text": [
      "Epoch: 01, Train Loss: 0.7571, Val Loss: 0.7570, Test Loss: 0.7542\n",
      "Epoch: 01, Train Acc: 0.3200, Val Acc: 0.3092, Test Acc: 0.3183\n",
      "Epoch: 01, Train AUC: 0.0453, Val AUC: 0.0559, Test AUC: 0.0356\n",
      "Epoch: 01, Train F1: 0.4847, Val F1: 0.4724, Test F1: 0.4829\n"
     ]
    },
    {
     "name": "stderr",
     "output_type": "stream",
     "text": [
      "Epoch 01: 100%|██████████| 4425/4425 [00:01<00:00, 2771.97it/s]\n"
     ]
    },
    {
     "name": "stdout",
     "output_type": "stream",
     "text": [
      "Epoch 01, Approx train loss: 0.7536, Approx. Train Acc: 0.4221,Approx. Train AUC: 0.0461, Approx. Train F1: 0.5935\n",
      "Epoch: 02, Train Loss: 0.7492, Val Loss: 0.7495, Test Loss: 0.7462\n",
      "Epoch: 02, Train Acc: 0.4606, Val Acc: 0.4503, Test Acc: 0.4756\n",
      "Epoch: 02, Train AUC: 0.0449, Val AUC: 0.0555, Test AUC: 0.0361\n",
      "Epoch: 02, Train F1: 0.6307, Val F1: 0.6209, Test F1: 0.6446\n"
     ]
    },
    {
     "name": "stderr",
     "output_type": "stream",
     "text": [
      "Epoch 02: 100%|██████████| 4425/4425 [00:00<00:00, 81297.07it/s]\n"
     ]
    },
    {
     "name": "stdout",
     "output_type": "stream",
     "text": [
      "Epoch 02, Approx train loss: 0.7460, Approx. Train Acc: 0.4606,Approx. Train AUC: 0.0467, Approx. Train F1: 0.6307\n",
      "Epoch: 03, Train Loss: 0.7418, Val Loss: 0.7426, Test Loss: 0.7389\n",
      "Epoch: 03, Train Acc: 0.4606, Val Acc: 0.4503, Test Acc: 0.4756\n",
      "Epoch: 03, Train AUC: 0.0444, Val AUC: 0.0553, Test AUC: 0.0358\n",
      "Epoch: 03, Train F1: 0.6307, Val F1: 0.6209, Test F1: 0.6446\n"
     ]
    },
    {
     "name": "stderr",
     "output_type": "stream",
     "text": [
      "Epoch 03: 100%|██████████| 4425/4425 [00:00<00:00, 82834.41it/s]\n"
     ]
    },
    {
     "name": "stdout",
     "output_type": "stream",
     "text": [
      "Epoch 03, Approx train loss: 0.7389, Approx. Train Acc: 0.4606,Approx. Train AUC: 0.0461, Approx. Train F1: 0.6307\n",
      "Epoch: 04, Train Loss: 0.7349, Val Loss: 0.7361, Test Loss: 0.7320\n",
      "Epoch: 04, Train Acc: 0.4606, Val Acc: 0.4503, Test Acc: 0.4756\n",
      "Epoch: 04, Train AUC: 0.0437, Val AUC: 0.0556, Test AUC: 0.0352\n",
      "Epoch: 04, Train F1: 0.6307, Val F1: 0.6209, Test F1: 0.6446\n"
     ]
    },
    {
     "name": "stderr",
     "output_type": "stream",
     "text": [
      "Epoch 04: 100%|██████████| 4425/4425 [00:00<00:00, 82178.62it/s]\n"
     ]
    },
    {
     "name": "stdout",
     "output_type": "stream",
     "text": [
      "Epoch 04, Approx train loss: 0.7322, Approx. Train Acc: 0.4606,Approx. Train AUC: 0.0446, Approx. Train F1: 0.6307\n",
      "Epoch: 05, Train Loss: 0.7284, Val Loss: 0.7300, Test Loss: 0.7255\n",
      "Epoch: 05, Train Acc: 0.4606, Val Acc: 0.4503, Test Acc: 0.4756\n",
      "Epoch: 05, Train AUC: 0.0434, Val AUC: 0.0566, Test AUC: 0.0350\n",
      "Epoch: 05, Train F1: 0.6307, Val F1: 0.6209, Test F1: 0.6446\n"
     ]
    },
    {
     "name": "stderr",
     "output_type": "stream",
     "text": [
      "Epoch 05: 100%|██████████| 4425/4425 [00:00<00:00, 82141.89it/s]\n"
     ]
    },
    {
     "name": "stdout",
     "output_type": "stream",
     "text": [
      "Epoch 05, Approx train loss: 0.7258, Approx. Train Acc: 0.4606,Approx. Train AUC: 0.0508, Approx. Train F1: 0.6307\n",
      "Epoch: 06, Train Loss: 0.7223, Val Loss: 0.7241, Test Loss: 0.7195\n",
      "Epoch: 06, Train Acc: 0.4606, Val Acc: 0.4503, Test Acc: 0.4756\n",
      "Epoch: 06, Train AUC: 0.0637, Val AUC: 0.0754, Test AUC: 0.0500\n",
      "Epoch: 06, Train F1: 0.6307, Val F1: 0.6209, Test F1: 0.6446\n"
     ]
    },
    {
     "name": "stderr",
     "output_type": "stream",
     "text": [
      "Epoch 06: 100%|██████████| 4425/4425 [00:00<00:00, 80667.40it/s]"
     ]
    },
    {
     "name": "stdout",
     "output_type": "stream",
     "text": [
      "Epoch 06, Approx train loss: 0.7197, Approx. Train Acc: 0.4606,Approx. Train AUC: 0.0827, Approx. Train F1: 0.6307\n"
     ]
    },
    {
     "name": "stderr",
     "output_type": "stream",
     "text": [
      "\n"
     ]
    },
    {
     "name": "stdout",
     "output_type": "stream",
     "text": [
      "Epoch: 07, Train Loss: 0.7164, Val Loss: 0.7185, Test Loss: 0.7138\n",
      "Epoch: 07, Train Acc: 0.4606, Val Acc: 0.4503, Test Acc: 0.4756\n",
      "Epoch: 07, Train AUC: 0.1002, Val AUC: 0.1127, Test AUC: 0.0868\n",
      "Epoch: 07, Train F1: 0.6307, Val F1: 0.6209, Test F1: 0.6446\n"
     ]
    },
    {
     "name": "stderr",
     "output_type": "stream",
     "text": [
      "Epoch 07: 100%|██████████| 4425/4425 [00:00<00:00, 82793.39it/s]\n"
     ]
    },
    {
     "name": "stdout",
     "output_type": "stream",
     "text": [
      "Epoch 07, Approx train loss: 0.7140, Approx. Train Acc: 0.4606,Approx. Train AUC: 0.1439, Approx. Train F1: 0.6307\n",
      "Epoch: 08, Train Loss: 0.7107, Val Loss: 0.7130, Test Loss: 0.7083\n",
      "Epoch: 08, Train Acc: 0.4606, Val Acc: 0.4503, Test Acc: 0.4756\n",
      "Epoch: 08, Train AUC: 0.2915, Val AUC: 0.2776, Test AUC: 0.2454\n",
      "Epoch: 08, Train F1: 0.6307, Val F1: 0.6209, Test F1: 0.6446\n"
     ]
    },
    {
     "name": "stderr",
     "output_type": "stream",
     "text": [
      "Epoch 08: 100%|██████████| 4425/4425 [00:00<00:00, 80347.87it/s]"
     ]
    },
    {
     "name": "stdout",
     "output_type": "stream",
     "text": [
      "Epoch 08, Approx train loss: 0.7084, Approx. Train Acc: 0.4606,Approx. Train AUC: 0.4154, Approx. Train F1: 0.6307\n"
     ]
    },
    {
     "name": "stderr",
     "output_type": "stream",
     "text": [
      "\n"
     ]
    },
    {
     "name": "stdout",
     "output_type": "stream",
     "text": [
      "Epoch: 09, Train Loss: 0.7052, Val Loss: 0.7077, Test Loss: 0.7029\n",
      "Epoch: 09, Train Acc: 0.4606, Val Acc: 0.4503, Test Acc: 0.4756\n",
      "Epoch: 09, Train AUC: 0.5565, Val AUC: 0.5408, Test AUC: 0.5151\n",
      "Epoch: 09, Train F1: 0.6307, Val F1: 0.6209, Test F1: 0.6446\n"
     ]
    },
    {
     "name": "stderr",
     "output_type": "stream",
     "text": [
      "Epoch 09: 100%|██████████| 4425/4425 [00:00<00:00, 80293.64it/s]\n"
     ]
    },
    {
     "name": "stdout",
     "output_type": "stream",
     "text": [
      "Epoch 09, Approx train loss: 0.7029, Approx. Train Acc: 0.4606,Approx. Train AUC: 0.6534, Approx. Train F1: 0.6307\n",
      "Epoch: 10, Train Loss: 0.6996, Val Loss: 0.7025, Test Loss: 0.6976\n",
      "Epoch: 10, Train Acc: 0.4606, Val Acc: 0.4503, Test Acc: 0.4756\n",
      "Epoch: 10, Train AUC: 0.8051, Val AUC: 0.7952, Test AUC: 0.7675\n",
      "Epoch: 10, Train F1: 0.6307, Val F1: 0.6209, Test F1: 0.6446\n"
     ]
    },
    {
     "name": "stderr",
     "output_type": "stream",
     "text": [
      "Epoch 10: 100%|██████████| 4425/4425 [00:00<00:00, 82507.05it/s]"
     ]
    },
    {
     "name": "stdout",
     "output_type": "stream",
     "text": [
      "Epoch 10, Approx train loss: 0.6974, Approx. Train Acc: 0.4606,Approx. Train AUC: 0.8216, Approx. Train F1: 0.6307\n",
      "Epoch: 11, Train Loss: 0.6941, Val Loss: 0.6972, Test Loss: 0.6923\n",
      "Epoch: 11, Train Acc: 0.4606, Val Acc: 0.4503, Test Acc: 0.4756\n",
      "Epoch: 11, Train AUC: 0.8361, Val AUC: 0.8245, Test AUC: 0.8066\n",
      "Epoch: 11, Train F1: 0.6307, Val F1: 0.6209, Test F1: 0.6446\n"
     ]
    },
    {
     "name": "stderr",
     "output_type": "stream",
     "text": [
      "\n",
      "Epoch 11: 100%|██████████| 4425/4425 [00:00<00:00, 82140.80it/s]\n"
     ]
    },
    {
     "name": "stdout",
     "output_type": "stream",
     "text": [
      "Epoch 11, Approx train loss: 0.6919, Approx. Train Acc: 0.4606,Approx. Train AUC: 0.8413, Approx. Train F1: 0.6307\n",
      "Epoch: 12, Train Loss: 0.6886, Val Loss: 0.6919, Test Loss: 0.6870\n",
      "Epoch: 12, Train Acc: 0.4606, Val Acc: 0.4503, Test Acc: 0.4756\n",
      "Epoch: 12, Train AUC: 0.8488, Val AUC: 0.8386, Test AUC: 0.8207\n",
      "Epoch: 12, Train F1: 0.6307, Val F1: 0.6209, Test F1: 0.6446\n"
     ]
    },
    {
     "name": "stderr",
     "output_type": "stream",
     "text": [
      "Epoch 12: 100%|██████████| 4425/4425 [00:00<00:00, 81948.94it/s]"
     ]
    },
    {
     "name": "stdout",
     "output_type": "stream",
     "text": [
      "Epoch 12, Approx train loss: 0.6863, Approx. Train Acc: 0.4606,Approx. Train AUC: 0.8534, Approx. Train F1: 0.6307\n"
     ]
    },
    {
     "name": "stderr",
     "output_type": "stream",
     "text": [
      "\n"
     ]
    },
    {
     "name": "stdout",
     "output_type": "stream",
     "text": [
      "Epoch: 13, Train Loss: 0.6830, Val Loss: 0.6866, Test Loss: 0.6817\n",
      "Epoch: 13, Train Acc: 0.4606, Val Acc: 0.4503, Test Acc: 0.4756\n",
      "Epoch: 13, Train AUC: 0.8577, Val AUC: 0.8493, Test AUC: 0.8274\n",
      "Epoch: 13, Train F1: 0.6307, Val F1: 0.6209, Test F1: 0.6446\n"
     ]
    },
    {
     "name": "stderr",
     "output_type": "stream",
     "text": [
      "Epoch 13: 100%|██████████| 4425/4425 [00:00<00:00, 80903.00it/s]\n"
     ]
    },
    {
     "name": "stdout",
     "output_type": "stream",
     "text": [
      "Epoch 13, Approx train loss: 0.6806, Approx. Train Acc: 0.4606,Approx. Train AUC: 0.8618, Approx. Train F1: 0.6307\n",
      "Epoch: 14, Train Loss: 0.6772, Val Loss: 0.6811, Test Loss: 0.6762\n",
      "Epoch: 14, Train Acc: 0.4606, Val Acc: 0.4503, Test Acc: 0.4756\n",
      "Epoch: 14, Train AUC: 0.8631, Val AUC: 0.8538, Test AUC: 0.8386\n",
      "Epoch: 14, Train F1: 0.6307, Val F1: 0.6209, Test F1: 0.6446\n"
     ]
    },
    {
     "name": "stderr",
     "output_type": "stream",
     "text": [
      "Epoch 14: 100%|██████████| 4425/4425 [00:00<00:00, 81075.11it/s]\n"
     ]
    },
    {
     "name": "stdout",
     "output_type": "stream",
     "text": [
      "Epoch 14, Approx train loss: 0.6748, Approx. Train Acc: 0.4606,Approx. Train AUC: 0.8655, Approx. Train F1: 0.6307\n",
      "Epoch: 15, Train Loss: 0.6712, Val Loss: 0.6754, Test Loss: 0.6706\n",
      "Epoch: 15, Train Acc: 0.4606, Val Acc: 0.4503, Test Acc: 0.4756\n",
      "Epoch: 15, Train AUC: 0.8667, Val AUC: 0.8557, Test AUC: 0.8424\n",
      "Epoch: 15, Train F1: 0.6307, Val F1: 0.6209, Test F1: 0.6446\n"
     ]
    },
    {
     "name": "stderr",
     "output_type": "stream",
     "text": [
      "Epoch 15: 100%|██████████| 4425/4425 [00:00<00:00, 80155.97it/s]\n"
     ]
    },
    {
     "name": "stdout",
     "output_type": "stream",
     "text": [
      "Epoch 15, Approx train loss: 0.6688, Approx. Train Acc: 0.4606,Approx. Train AUC: 0.8680, Approx. Train F1: 0.6307\n",
      "Epoch: 16, Train Loss: 0.6651, Val Loss: 0.6695, Test Loss: 0.6647\n",
      "Epoch: 16, Train Acc: 0.4606, Val Acc: 0.4503, Test Acc: 0.4756\n",
      "Epoch: 16, Train AUC: 0.8698, Val AUC: 0.8610, Test AUC: 0.8446\n",
      "Epoch: 16, Train F1: 0.6307, Val F1: 0.6209, Test F1: 0.6446\n"
     ]
    },
    {
     "name": "stderr",
     "output_type": "stream",
     "text": [
      "Epoch 16: 100%|██████████| 4425/4425 [00:00<00:00, 82515.48it/s]\n"
     ]
    },
    {
     "name": "stdout",
     "output_type": "stream",
     "text": [
      "Epoch 16, Approx train loss: 0.6625, Approx. Train Acc: 0.4599,Approx. Train AUC: 0.8718, Approx. Train F1: 0.6289\n",
      "Epoch: 17, Train Loss: 0.6587, Val Loss: 0.6634, Test Loss: 0.6586\n",
      "Epoch: 17, Train Acc: 0.4610, Val Acc: 0.4467, Test Acc: 0.4756\n",
      "Epoch: 17, Train AUC: 0.8731, Val AUC: 0.8629, Test AUC: 0.8474\n",
      "Epoch: 17, Train F1: 0.6278, Val F1: 0.6156, Test F1: 0.6420\n"
     ]
    },
    {
     "name": "stderr",
     "output_type": "stream",
     "text": [
      "Epoch 17: 100%|██████████| 4425/4425 [00:00<00:00, 83220.69it/s]\n"
     ]
    },
    {
     "name": "stdout",
     "output_type": "stream",
     "text": [
      "Epoch 17, Approx train loss: 0.6560, Approx. Train Acc: 0.4660,Approx. Train AUC: 0.8741, Approx. Train F1: 0.6227\n",
      "Epoch: 18, Train Loss: 0.6520, Val Loss: 0.6570, Test Loss: 0.6522\n",
      "Epoch: 18, Train Acc: 0.4793, Val Acc: 0.4503, Test Acc: 0.4665\n",
      "Epoch: 18, Train AUC: 0.8755, Val AUC: 0.8635, Test AUC: 0.8514\n",
      "Epoch: 18, Train F1: 0.6222, Val F1: 0.6021, Test F1: 0.6174\n"
     ]
    },
    {
     "name": "stderr",
     "output_type": "stream",
     "text": [
      "Epoch 18: 100%|██████████| 4425/4425 [00:00<00:00, 80009.46it/s]"
     ]
    },
    {
     "name": "stdout",
     "output_type": "stream",
     "text": [
      "Epoch 18, Approx train loss: 0.6492, Approx. Train Acc: 0.5012,Approx. Train AUC: 0.8775, Approx. Train F1: 0.6304\n"
     ]
    },
    {
     "name": "stderr",
     "output_type": "stream",
     "text": [
      "\n"
     ]
    },
    {
     "name": "stdout",
     "output_type": "stream",
     "text": [
      "Epoch: 19, Train Loss: 0.6450, Val Loss: 0.6503, Test Loss: 0.6456\n",
      "Epoch: 19, Train Acc: 0.5376, Val Acc: 0.5045, Test Acc: 0.5208\n",
      "Epoch: 19, Train AUC: 0.8774, Val AUC: 0.8644, Test AUC: 0.8537\n",
      "Epoch: 19, Train F1: 0.6444, Val F1: 0.6215, Test F1: 0.6365\n"
     ]
    },
    {
     "name": "stderr",
     "output_type": "stream",
     "text": [
      "Epoch 19: 100%|██████████| 4425/4425 [00:00<00:00, 82102.64it/s]"
     ]
    },
    {
     "name": "stdout",
     "output_type": "stream",
     "text": [
      "Epoch 19, Approx train loss: 0.6420, Approx. Train Acc: 0.5598,Approx. Train AUC: 0.8785, Approx. Train F1: 0.6550\n"
     ]
    },
    {
     "name": "stderr",
     "output_type": "stream",
     "text": [
      "\n"
     ]
    },
    {
     "name": "stdout",
     "output_type": "stream",
     "text": [
      "Epoch: 20, Train Loss: 0.6377, Val Loss: 0.6433, Test Loss: 0.6385\n",
      "Epoch: 20, Train Acc: 0.5876, Val Acc: 0.5624, Test Acc: 0.5859\n",
      "Epoch: 20, Train AUC: 0.8792, Val AUC: 0.8655, Test AUC: 0.8560\n",
      "Epoch: 20, Train F1: 0.6675, Val F1: 0.6483, Test F1: 0.6686\n"
     ]
    },
    {
     "name": "stderr",
     "output_type": "stream",
     "text": [
      "Epoch 20: 100%|██████████| 4425/4425 [00:00<00:00, 79953.28it/s]"
     ]
    },
    {
     "name": "stdout",
     "output_type": "stream",
     "text": [
      "Epoch 20, Approx train loss: 0.6346, Approx. Train Acc: 0.6127,Approx. Train AUC: 0.8805, Approx. Train F1: 0.6806\n"
     ]
    },
    {
     "name": "stderr",
     "output_type": "stream",
     "text": [
      "\n"
     ]
    },
    {
     "name": "stdout",
     "output_type": "stream",
     "text": [
      "Epoch: 21, Train Loss: 0.6300, Val Loss: 0.6360, Test Loss: 0.6311\n",
      "Epoch: 21, Train Acc: 0.6479, Val Acc: 0.6148, Test Acc: 0.6383\n",
      "Epoch: 21, Train AUC: 0.8812, Val AUC: 0.8675, Test AUC: 0.8577\n",
      "Epoch: 21, Train F1: 0.6993, Val F1: 0.6748, Test F1: 0.6970\n"
     ]
    },
    {
     "name": "stderr",
     "output_type": "stream",
     "text": [
      "Epoch 21: 100%|██████████| 4425/4425 [00:00<00:00, 79504.95it/s]"
     ]
    },
    {
     "name": "stdout",
     "output_type": "stream",
     "text": [
      "Epoch 21, Approx train loss: 0.6269, Approx. Train Acc: 0.6610,Approx. Train AUC: 0.8816, Approx. Train F1: 0.7067\n",
      "Epoch: 22, Train Loss: 0.6220, Val Loss: 0.6283, Test Loss: 0.6234"
     ]
    },
    {
     "name": "stderr",
     "output_type": "stream",
     "text": [
      "\n"
     ]
    },
    {
     "name": "stdout",
     "output_type": "stream",
     "text": [
      "\n",
      "Epoch: 22, Train Acc: 0.6854, Val Acc: 0.6546, Test Acc: 0.6727\n",
      "Epoch: 22, Train AUC: 0.8830, Val AUC: 0.8683, Test AUC: 0.8592\n",
      "Epoch: 22, Train F1: 0.7214, Val F1: 0.6963, Test F1: 0.7167\n"
     ]
    },
    {
     "name": "stderr",
     "output_type": "stream",
     "text": [
      "Epoch 22: 100%|██████████| 4425/4425 [00:00<00:00, 77623.24it/s]"
     ]
    },
    {
     "name": "stdout",
     "output_type": "stream",
     "text": [
      "Epoch 22, Approx train loss: 0.6187, Approx. Train Acc: 0.6969,Approx. Train AUC: 0.8838, Approx. Train F1: 0.7289\n"
     ]
    },
    {
     "name": "stderr",
     "output_type": "stream",
     "text": [
      "\n"
     ]
    },
    {
     "name": "stdout",
     "output_type": "stream",
     "text": [
      "Epoch: 23, Train Loss: 0.6137, Val Loss: 0.6204, Test Loss: 0.6153\n",
      "Epoch: 23, Train Acc: 0.7137, Val Acc: 0.6872, Test Acc: 0.6872\n",
      "Epoch: 23, Train AUC: 0.8842, Val AUC: 0.8710, Test AUC: 0.8597\n",
      "Epoch: 23, Train F1: 0.7395, Val F1: 0.7169, Test F1: 0.7232\n"
     ]
    },
    {
     "name": "stderr",
     "output_type": "stream",
     "text": [
      "Epoch 23: 100%|██████████| 4425/4425 [00:00<00:00, 82791.92it/s]"
     ]
    },
    {
     "name": "stdout",
     "output_type": "stream",
     "text": [
      "Epoch 23, Approx train loss: 0.6103, Approx. Train Acc: 0.7184,Approx. Train AUC: 0.8858, Approx. Train F1: 0.7421\n"
     ]
    },
    {
     "name": "stderr",
     "output_type": "stream",
     "text": [
      "\n"
     ]
    },
    {
     "name": "stdout",
     "output_type": "stream",
     "text": [
      "Epoch: 24, Train Loss: 0.6051, Val Loss: 0.6122, Test Loss: 0.6071\n",
      "Epoch: 24, Train Acc: 0.7220, Val Acc: 0.6926, Test Acc: 0.7016\n",
      "Epoch: 24, Train AUC: 0.8855, Val AUC: 0.8716, Test AUC: 0.8602\n",
      "Epoch: 24, Train F1: 0.7441, Val F1: 0.7195, Test F1: 0.7300\n"
     ]
    },
    {
     "name": "stderr",
     "output_type": "stream",
     "text": [
      "Epoch 24: 100%|██████████| 4425/4425 [00:00<00:00, 80849.78it/s]\n"
     ]
    },
    {
     "name": "stdout",
     "output_type": "stream",
     "text": [
      "Epoch 24, Approx train loss: 0.6016, Approx. Train Acc: 0.8312,Approx. Train AUC: 0.8866, Approx. Train F1: 0.8244\n",
      "Epoch: 25, Train Loss: 0.5964, Val Loss: 0.6038, Test Loss: 0.5986\n",
      "Epoch: 25, Train Acc: 0.8703, Val Acc: 0.8463, Test Acc: 0.8553\n",
      "Epoch: 25, Train AUC: 0.8865, Val AUC: 0.8729, Test AUC: 0.8619\n",
      "Epoch: 25, Train F1: 0.8587, Val F1: 0.8330, Test F1: 0.8467\n"
     ]
    },
    {
     "name": "stderr",
     "output_type": "stream",
     "text": [
      "Epoch 25: 100%|██████████| 4425/4425 [00:00<00:00, 82616.13it/s]\n"
     ]
    },
    {
     "name": "stdout",
     "output_type": "stream",
     "text": [
      "Epoch 25, Approx train loss: 0.5927, Approx. Train Acc: 0.8710,Approx. Train AUC: 0.8891, Approx. Train F1: 0.8592\n",
      "Epoch: 26, Train Loss: 0.5874, Val Loss: 0.5953, Test Loss: 0.5899\n",
      "Epoch: 26, Train Acc: 0.8730, Val Acc: 0.8499, Test Acc: 0.8590\n",
      "Epoch: 26, Train AUC: 0.8881, Val AUC: 0.8734, Test AUC: 0.8658\n",
      "Epoch: 26, Train F1: 0.8612, Val F1: 0.8356, Test F1: 0.8500\n"
     ]
    },
    {
     "name": "stderr",
     "output_type": "stream",
     "text": [
      "Epoch 26: 100%|██████████| 4425/4425 [00:00<00:00, 80190.61it/s]\n"
     ]
    },
    {
     "name": "stdout",
     "output_type": "stream",
     "text": [
      "Epoch 26, Approx train loss: 0.5837, Approx. Train Acc: 0.8725,Approx. Train AUC: 0.8896, Approx. Train F1: 0.8603\n",
      "Epoch: 27, Train Loss: 0.5782, Val Loss: 0.5864, Test Loss: 0.5810\n",
      "Epoch: 27, Train Acc: 0.8753, Val Acc: 0.8517, Test Acc: 0.8608\n",
      "Epoch: 27, Train AUC: 0.8887, Val AUC: 0.8748, Test AUC: 0.8671\n",
      "Epoch: 27, Train F1: 0.8630, Val F1: 0.8367, Test F1: 0.8516\n"
     ]
    },
    {
     "name": "stderr",
     "output_type": "stream",
     "text": [
      "Epoch 27: 100%|██████████| 4425/4425 [00:00<00:00, 81412.25it/s]\n"
     ]
    },
    {
     "name": "stdout",
     "output_type": "stream",
     "text": [
      "Epoch 27, Approx train loss: 0.5743, Approx. Train Acc: 0.8757,Approx. Train AUC: 0.8900, Approx. Train F1: 0.8631\n",
      "Epoch: 28, Train Loss: 0.5688, Val Loss: 0.5774, Test Loss: 0.5719\n",
      "Epoch: 28, Train Acc: 0.8773, Val Acc: 0.8590, Test Acc: 0.8608\n",
      "Epoch: 28, Train AUC: 0.8890, Val AUC: 0.8750, Test AUC: 0.8707\n",
      "Epoch: 28, Train F1: 0.8646, Val F1: 0.8434, Test F1: 0.8511\n"
     ]
    },
    {
     "name": "stderr",
     "output_type": "stream",
     "text": [
      "Epoch 28: 100%|██████████| 4425/4425 [00:00<00:00, 81391.19it/s]\n"
     ]
    },
    {
     "name": "stdout",
     "output_type": "stream",
     "text": [
      "Epoch 28, Approx train loss: 0.5649, Approx. Train Acc: 0.8786,Approx. Train AUC: 0.8909, Approx. Train F1: 0.8658\n",
      "Epoch: 29, Train Loss: 0.5593, Val Loss: 0.5683, Test Loss: 0.5626\n",
      "Epoch: 29, Train Acc: 0.8809, Val Acc: 0.8553, Test Acc: 0.8662\n",
      "Epoch: 29, Train AUC: 0.8907, Val AUC: 0.8774, Test AUC: 0.8711\n",
      "Epoch: 29, Train F1: 0.8678, Val F1: 0.8387, Test F1: 0.8549\n"
     ]
    },
    {
     "name": "stderr",
     "output_type": "stream",
     "text": [
      "Epoch 29: 100%|██████████| 4425/4425 [00:00<00:00, 81204.59it/s]"
     ]
    },
    {
     "name": "stdout",
     "output_type": "stream",
     "text": [
      "Epoch 29, Approx train loss: 0.5554, Approx. Train Acc: 0.8809,Approx. Train AUC: 0.8932, Approx. Train F1: 0.8676\n",
      "Median time per epoch: 0.1001s\n"
     ]
    },
    {
     "name": "stderr",
     "output_type": "stream",
     "text": [
      "\n"
     ]
    }
   ],
   "source": [
    "approx_train_losses = []\n",
    "train_losses = []\n",
    "val_losses = []\n",
    "test_losses = []\n",
    "\n",
    "times = []\n",
    "for epoch in range(1, 30):\n",
    "    start = time.time()\n",
    "    \n",
    "    # Evaluation before first training epoch starts\n",
    "    train_tracker.increment()\n",
    "    val_tracker.increment()\n",
    "    test_tracker.increment()\n",
    "\n",
    "    train_loss, val_loss, test_loss = test()\n",
    "    train_losses.append(train_loss)\n",
    "    val_losses.append(val_loss)\n",
    "    test_losses.append(test_loss)\n",
    "    \n",
    "    train_metrics = train_tracker.compute()\n",
    "    val_metrics = val_tracker.compute()\n",
    "    test_metrics = test_tracker.compute()\n",
    "    \n",
    "    print(f'Epoch: {epoch:02d}, Train Loss: {train_loss:.4f}, Val Loss: {val_loss:.4f}, '\n",
    "          f'Test Loss: {test_loss:.4f}')\n",
    "    print(f'Epoch: {epoch:02d}, Train Acc: {train_metrics[\"BinaryAccuracy\"]:.4f}, Val Acc: {val_metrics[\"BinaryAccuracy\"]:.4f}, '\n",
    "          f'Test Acc: {test_metrics[\"BinaryAccuracy\"]:.4f}')\n",
    "    print(f'Epoch: {epoch:02d}, Train AUC: {train_metrics[\"BinaryAUROC\"]:.4f}, Val AUC: {val_metrics[\"BinaryAUROC\"]:.4f}, '\n",
    "          f'Test AUC: {test_metrics[\"BinaryAUROC\"]:.4f}')\n",
    "    print(f'Epoch: {epoch:02d}, Train F1: {train_metrics[\"BinaryF1Score\"]:.4f}, Val F1: {val_metrics[\"BinaryF1Score\"]:.4f}, '\n",
    "            f'Test F1: {test_metrics[\"BinaryF1Score\"]:.4f}')\n",
    "    \n",
    "    approx_train_loss = train(epoch)\n",
    "    approx_train_losses.append(approx_train_loss)\n",
    "    approx_train_metrics = approx_train_tracker.compute()\n",
    "    print(f'Epoch {epoch:02d}, Approx train loss: {approx_train_loss:.4f}, Approx. Train Acc: {approx_train_metrics[\"BinaryAccuracy\"]:.4f},'\n",
    "          f'Approx. Train AUC: {approx_train_metrics[\"BinaryAUROC\"]:.4f}, Approx. Train F1: {approx_train_metrics[\"BinaryF1Score\"]:.4f}')\n",
    "    \n",
    "    \n",
    "    times.append(time.time() - start)\n",
    "print(f\"Median time per epoch: {torch.tensor(times).median():.4f}s\")"
   ],
   "metadata": {
    "collapsed": false,
    "ExecuteTime": {
     "end_time": "2023-10-16T17:30:12.456088Z",
     "start_time": "2023-10-16T17:30:06.423247Z"
    }
   },
   "id": "6c62e37d979f323a"
  },
  {
   "cell_type": "code",
   "execution_count": 8,
   "outputs": [
    {
     "data": {
      "text/plain": "<Figure size 640x480 with 1 Axes>",
      "image/png": "[encoded data removed]"
     },
     "metadata": {},
     "output_type": "display_data"
    }
   ],
   "source": [
    "approx_train_tracker.plot()\n",
    "plt.show()"
   ],
   "metadata": {
    "collapsed": false,
    "ExecuteTime": {
     "end_time": "2023-10-16T17:30:14.683835Z",
     "start_time": "2023-10-16T17:30:14.552998Z"
    }
   },
   "id": "9dc7bb5751a6e29"
  },
  {
   "cell_type": "code",
   "execution_count": 9,
   "outputs": [
    {
     "data": {
      "text/plain": "<Figure size 640x480 with 1 Axes>",
      "image/png": "[encoded data removed]"
     },
     "metadata": {},
     "output_type": "display_data"
    }
   ],
   "source": [
    "val_tracker.plot()\n",
    "plt.show()"
   ],
   "metadata": {
    "collapsed": false,
    "ExecuteTime": {
     "end_time": "2023-10-16T17:30:24.043971Z",
     "start_time": "2023-10-16T17:30:23.958466Z"
    }
   },
   "id": "6c707a250acf6b23"
  },
  {
   "cell_type": "code",
   "execution_count": 10,
   "outputs": [
    {
     "data": {
      "text/plain": "<Figure size 640x480 with 1 Axes>",
      "image/png": "[encoded data removed]"
     },
     "metadata": {},
     "output_type": "display_data"
    }
   ],
   "source": [
    "test_tracker.plot()\n",
    "plt.show()"
   ],
   "metadata": {
    "collapsed": false,
    "ExecuteTime": {
     "end_time": "2023-10-16T17:30:24.581478Z",
     "start_time": "2023-10-16T17:30:24.500517Z"
    }
   },
   "id": "6e69c908ce213b11"
  },
  {
   "cell_type": "code",
   "execution_count": 33,
   "outputs": [
    {
     "data": {
      "text/plain": "<Figure size 640x480 with 1 Axes>",
      "image/png": "[encoded data removed]"
     },
     "metadata": {},
     "output_type": "display_data"
    }
   ],
   "source": [
    "plt.plot(approx_train_losses, color='b')\n",
    "plt.plot(val_losses, color='orange')\n",
    "plt.plot(test_losses, color='g')\n",
    "plt.show()"
   ],
   "metadata": {
    "collapsed": false,
    "ExecuteTime": {
     "end_time": "2023-10-16T15:29:16.891649Z",
     "start_time": "2023-10-16T15:29:16.838047Z"
    }
   },
   "id": "d68832e463d84c70"
  },
  {
   "cell_type": "code",
   "execution_count": null,
   "outputs": [],
   "source": [
    "test_tracker.plot();\n",
    "plt.show()"
   ],
   "metadata": {
    "collapsed": false,
    "ExecuteTime": {
     "end_time": "2023-10-15T22:57:16.211511Z",
     "start_time": "2023-10-15T22:57:16.210726Z"
    }
   },
   "id": "fe515b8f1316afb9"
  },
  {
   "cell_type": "code",
   "execution_count": null,
   "outputs": [],
   "source": [],
   "metadata": {
    "collapsed": false,
    "ExecuteTime": {
     "start_time": "2023-10-15T22:57:16.211698Z"
    }
   },
   "id": "ef32c1046436c312"
  },
  {
   "cell_type": "code",
   "execution_count": 23,
   "outputs": [],
   "source": [
    "approx_train_tracker.reset_all()\n",
    "train_tracker.reset_all()\n",
    "val_tracker.reset_all()\n",
    "test_tracker.reset_all()"
   ],
   "metadata": {
    "collapsed": false,
    "ExecuteTime": {
     "end_time": "2023-10-15T00:48:43.026974Z",
     "start_time": "2023-10-15T00:48:42.980500Z"
    }
   },
   "id": "ea36a1292392f7be"
  },
  {
   "cell_type": "code",
   "execution_count": null,
   "outputs": [],
   "source": [],
   "metadata": {
    "collapsed": false
   },
   "id": "a052c1c67980772b"
  }
 ],
 "metadata": {
  "kernelspec": {
   "display_name": "Python 3",
   "language": "python",
   "name": "python3"
  },
  "language_info": {
   "codemirror_mode": {
    "name": "ipython",
    "version": 2
   },
   "file_extension": ".py",
   "mimetype": "text/x-python",
   "name": "python",
   "nbconvert_exporter": "python",
   "pygments_lexer": "ipython2",
   "version": "2.7.6"
  }
 },
 "nbformat": 4,
 "nbformat_minor": 5
}

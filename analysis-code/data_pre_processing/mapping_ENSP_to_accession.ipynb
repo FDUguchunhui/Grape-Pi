{
 "cells": [
  {
   "cell_type": "code",
   "execution_count": 2,
   "outputs": [],
   "source": [
    "import pandas as pd"
   ],
   "metadata": {
    "collapsed": false,
    "ExecuteTime": {
     "end_time": "2023-10-03T23:16:49.516028Z",
     "start_time": "2023-10-03T23:16:48.884148Z"
    }
   },
   "id": "bb9e08d295657b00"
  },
  {
   "cell_type": "code",
   "execution_count": null,
   "id": "initial_id",
   "metadata": {
    "collapsed": true
   },
   "outputs": [],
   "source": [
    "# read string interaction data file\n",
    "```{r}\n",
    "string_interaction <- read_delim('PPI-for-protein-detection/data/STRING/9606.protein.links.v11.5.txt', delim=' ', show_col_types = FALSE)\n",
    "```\n",
    "\n",
    "# extract the protein ID in the STRING interaction file\n",
    "```{r}\n",
    "proteins_ENSP <- unique(c(string_interaction$protein1, string_interaction$protein2))\n",
    "```\n",
    "\n",
    "# write protein ID needed to be mapped to Uniprot accession ID\n",
    "```{r}\n",
    "write_csv(data.frame(proteins=proteins_ENSP), 'data/STRING/proteins-ENSP.csv')\n",
    "```\n",
    "\n",
    "```{r}\n",
    "mapping_dat <- read_delim('PPI-for-protein-detection/data/STRING/ENSP-to-accession.tsv', delim = '\\t', show_col_types = FALSE)\n",
    "mapping_dat <- janitor::clean_names(mapping_dat)\n",
    "```\n",
    "\n",
    "\n",
    "# mapping ENSP to accession\n",
    "```{r}\n",
    "dictionary <- mapping_dat %>% select(from, entry)\n",
    "string_interaction$protein1_acc <-  mapping(string_interaction$protein1, dictionary = dictionary)\n",
    "string_interaction$protein2_acc <-  mapping(string_interaction$protein2, dictionary = dictionary)\n",
    "# remove interaction that contain any proteins that cannot be mapped back to accession\n",
    "#  11,938,498 -> 11,607,094\n",
    "string_interaction_acc <- string_interaction %>% select(protein1_acc, protein2_acc, combined_score) %>% filter(!(is.na(protein1_acc) | is.na(protein2_acc)))\n",
    "```\n",
    "\n",
    "```{r}\n",
    "write_csv(string_interaction_acc, 'PPI-for-protein-detection/data/STRING/STRING-interaction-acc.csv')\n",
    "```"
   ]
  },
  {
   "cell_type": "code",
   "execution_count": 3,
   "outputs": [],
   "source": [
    "ppi = pd.read_csv('/Users/cgu3/Documents/Grape-Pi/data/single-soft-label/raw/additional/STRING-interaction-swiss-lite.csv')"
   ],
   "metadata": {
    "collapsed": false,
    "ExecuteTime": {
     "end_time": "2023-10-03T23:16:52.134812Z",
     "start_time": "2023-10-03T23:16:51.640363Z"
    }
   },
   "id": "c347fbf215ab0aa6"
  },
  {
   "cell_type": "code",
   "execution_count": 4,
   "outputs": [],
   "source": [
    "mask = ppi['combined_score'] >= 300"
   ],
   "metadata": {
    "collapsed": false,
    "ExecuteTime": {
     "end_time": "2023-10-03T23:17:11.979216Z",
     "start_time": "2023-10-03T23:17:11.959159Z"
    }
   },
   "id": "ac2a3383781aad51"
  },
  {
   "cell_type": "code",
   "execution_count": 5,
   "outputs": [],
   "source": [
    "ppi_filtered = ppi[mask]"
   ],
   "metadata": {
    "collapsed": false,
    "ExecuteTime": {
     "end_time": "2023-10-03T23:17:23.328453Z",
     "start_time": "2023-10-03T23:17:23.292148Z"
    }
   },
   "id": "2aca0c57f6460a07"
  },
  {
   "cell_type": "code",
   "execution_count": 6,
   "outputs": [],
   "source": [
    "ppi_filtered.to_csv('/Users/cgu3/Documents/Grape-Pi/data/single-soft-label/raw/additional/STRING-interaction-swiss-lite-filtered.csv', index=False)"
   ],
   "metadata": {
    "collapsed": false,
    "ExecuteTime": {
     "end_time": "2023-10-03T23:17:32.219705Z",
     "start_time": "2023-10-03T23:17:31.648594Z"
    }
   },
   "id": "dc8af14d7a27c6e3"
  },
  {
   "cell_type": "markdown",
   "source": [],
   "metadata": {
    "collapsed": false
   },
   "id": "4c5f0f6d42a9216b"
  },
  {
   "cell_type": "code",
   "execution_count": null,
   "outputs": [],
   "source": [],
   "metadata": {
    "collapsed": false
   },
   "id": "f25b454b7af9538c"
  }
 ],
 "metadata": {
  "kernelspec": {
   "display_name": "Python 3",
   "language": "python",
   "name": "python3"
  },
  "language_info": {
   "codemirror_mode": {
    "name": "ipython",
    "version": 2
   },
   "file_extension": ".py",
   "mimetype": "text/x-python",
   "name": "python",
   "nbconvert_exporter": "python",
   "pygments_lexer": "ipython2",
   "version": "2.7.6"
  }
 },
 "nbformat": 4,
 "nbformat_minor": 5
}

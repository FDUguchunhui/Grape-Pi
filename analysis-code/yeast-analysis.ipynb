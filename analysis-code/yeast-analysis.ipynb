{
 "cells": [
  {
   "cell_type": "code",
   "execution_count": 23,
   "metadata": {
    "collapsed": true,
    "pycharm": {
     "name": "#%%\n"
    },
    "ExecuteTime": {
     "end_time": "2023-08-16T14:11:46.286983Z",
     "start_time": "2023-08-16T14:11:46.275462Z"
    }
   },
   "outputs": [],
   "source": [
    "from IPython.core.interactiveshell import InteractiveShell\n",
    "InteractiveShell.ast_node_interactivity = \"all\"\n",
    "import pandas as pd\n",
    "import numpy as np\n",
    "from functools import reduce"
   ]
  },
  {
   "cell_type": "code",
   "execution_count": 24,
   "outputs": [
    {
     "name": "stdout",
     "output_type": "stream",
     "text": [
      "{\n",
      "  \"shell_port\": 49574,\n",
      "  \"iopub_port\": 49575,\n",
      "  \"stdin_port\": 49576,\n",
      "  \"control_port\": 49578,\n",
      "  \"hb_port\": 49577,\n",
      "  \"ip\": \"127.0.0.1\",\n",
      "  \"key\": \"0fa750e2-25d5b67f7c8eb737b55830d0\",\n",
      "  \"transport\": \"tcp\",\n",
      "  \"signature_scheme\": \"hmac-sha256\",\n",
      "  \"kernel_name\": \"python3\"\n",
      "}\n",
      "\n",
      "Paste the above JSON into a file, and connect with:\n",
      "    $> jupyter <app> --existing <file>\n",
      "or, if you are local, you can connect with just:\n",
      "    $> jupyter <app> --existing kernel-1cb3f228-cbda-4895-b28e-103b2a2ebc9b.json\n",
      "or even just:\n",
      "    $> jupyter <app> --existing\n",
      "if this is the most recent Jupyter kernel you have started.\n"
     ]
    }
   ],
   "source": [
    "%connect_info\n",
    "# %qtconsole\n"
   ],
   "metadata": {
    "collapsed": false,
    "pycharm": {
     "name": "#%%\n"
    },
    "ExecuteTime": {
     "end_time": "2023-08-16T14:11:48.761689Z",
     "start_time": "2023-08-16T14:11:48.730024Z"
    }
   }
  },
  {
   "cell_type": "code",
   "execution_count": 25,
   "outputs": [
    {
     "data": {
      "text/plain": "'/Users/guchunhui/Documents/GNN-PPI/graphgym/pre-processing_protein_data'"
     },
     "execution_count": 25,
     "metadata": {},
     "output_type": "execute_result"
    }
   ],
   "source": [
    "pwd"
   ],
   "metadata": {
    "collapsed": false,
    "pycharm": {
     "name": "#%%\n"
    },
    "ExecuteTime": {
     "end_time": "2023-08-16T14:11:56.298482Z",
     "start_time": "2023-08-16T14:11:56.280826Z"
    }
   }
  },
  {
   "cell_type": "code",
   "execution_count": 26,
   "outputs": [],
   "source": [
    "# with open('../data/yeast/raw/reference/goldstandard1.txt') as f:\n",
    "#     content = f.read().splitlines()\n",
    "# content"
   ],
   "metadata": {
    "collapsed": false,
    "pycharm": {
     "name": "#%%\n"
    },
    "ExecuteTime": {
     "end_time": "2023-08-16T14:11:56.479630Z",
     "start_time": "2023-08-16T14:11:56.471696Z"
    }
   }
  },
  {
   "cell_type": "code",
   "execution_count": 27,
   "outputs": [],
   "source": [
    "gs1 = pd.read_csv('../data/yeast/raw/additional/goldstandard1.txt', header=None, index_col=False, names=['protein'])\n",
    "gs2 = pd.read_csv('../data/yeast/raw/additional/goldstandard2.txt', header=None, index_col=False, names=['protein'])\n",
    "gs3 = pd.read_csv('../data/yeast/raw/additional/goldstandard3.txt', header=None, index_col=False, names=['protein'])\n",
    "gs4 = pd.read_csv('../data/yeast/raw/additional/goldstandard4.txt', header=None, index_col=False, names=['protein'])\n",
    "all = pd.read_csv('../data/yeast/raw/additional/yeast_all.lst.txt', header=None, index_col=False, names=['protein'])"
   ],
   "metadata": {
    "collapsed": false,
    "pycharm": {
     "name": "#%%\n"
    },
    "ExecuteTime": {
     "end_time": "2023-08-16T14:11:56.650335Z",
     "start_time": "2023-08-16T14:11:56.626048Z"
    }
   }
  },
  {
   "cell_type": "code",
   "execution_count": 28,
   "outputs": [],
   "source": [
    "gs1['detected'] = 1\n",
    "gs2['detected'] = 1\n",
    "gs3['detected'] = 1\n",
    "gs4['detected'] = 1"
   ],
   "metadata": {
    "collapsed": false,
    "pycharm": {
     "name": "#%%\n"
    },
    "ExecuteTime": {
     "end_time": "2023-08-16T14:11:56.833877Z",
     "start_time": "2023-08-16T14:11:56.804596Z"
    }
   }
  },
  {
   "cell_type": "code",
   "execution_count": 29,
   "outputs": [
    {
     "data": {
      "text/plain": "      protein  detected\n0       Q0250         1\n1     YAL003W         1\n2     YAL005C         1\n3     YAL012W         1\n4     YAL015C         1\n...       ...       ...\n1998  YPR184W         1\n1999  YPR187W         1\n2000  YPR189W         1\n2001  YPR190C         1\n2002  YPR191W         1\n\n[2003 rows x 2 columns]",
      "text/html": "<div>\n<style scoped>\n    .dataframe tbody tr th:only-of-type {\n        vertical-align: middle;\n    }\n\n    .dataframe tbody tr th {\n        vertical-align: top;\n    }\n\n    .dataframe thead th {\n        text-align: right;\n    }\n</style>\n<table border=\"1\" class=\"dataframe\">\n  <thead>\n    <tr style=\"text-align: right;\">\n      <th></th>\n      <th>protein</th>\n      <th>detected</th>\n    </tr>\n  </thead>\n  <tbody>\n    <tr>\n      <th>0</th>\n      <td>Q0250</td>\n      <td>1</td>\n    </tr>\n    <tr>\n      <th>1</th>\n      <td>YAL003W</td>\n      <td>1</td>\n    </tr>\n    <tr>\n      <th>2</th>\n      <td>YAL005C</td>\n      <td>1</td>\n    </tr>\n    <tr>\n      <th>3</th>\n      <td>YAL012W</td>\n      <td>1</td>\n    </tr>\n    <tr>\n      <th>4</th>\n      <td>YAL015C</td>\n      <td>1</td>\n    </tr>\n    <tr>\n      <th>...</th>\n      <td>...</td>\n      <td>...</td>\n    </tr>\n    <tr>\n      <th>1998</th>\n      <td>YPR184W</td>\n      <td>1</td>\n    </tr>\n    <tr>\n      <th>1999</th>\n      <td>YPR187W</td>\n      <td>1</td>\n    </tr>\n    <tr>\n      <th>2000</th>\n      <td>YPR189W</td>\n      <td>1</td>\n    </tr>\n    <tr>\n      <th>2001</th>\n      <td>YPR190C</td>\n      <td>1</td>\n    </tr>\n    <tr>\n      <th>2002</th>\n      <td>YPR191W</td>\n      <td>1</td>\n    </tr>\n  </tbody>\n</table>\n<p>2003 rows × 2 columns</p>\n</div>"
     },
     "execution_count": 29,
     "metadata": {},
     "output_type": "execute_result"
    }
   ],
   "source": [
    "gs1"
   ],
   "metadata": {
    "collapsed": false,
    "pycharm": {
     "name": "#%%\n"
    },
    "ExecuteTime": {
     "end_time": "2023-08-16T14:11:57.003173Z",
     "start_time": "2023-08-16T14:11:56.956356Z"
    }
   }
  },
  {
   "cell_type": "code",
   "execution_count": 30,
   "outputs": [],
   "source": [
    "data_frames = [gs1, gs2, gs3, gs4]"
   ],
   "metadata": {
    "collapsed": false,
    "pycharm": {
     "name": "#%%\n"
    },
    "ExecuteTime": {
     "end_time": "2023-08-16T14:11:57.724014Z",
     "start_time": "2023-08-16T14:11:57.718568Z"
    }
   }
  },
  {
   "cell_type": "code",
   "execution_count": 31,
   "outputs": [],
   "source": [
    "df_merged = reduce(lambda  left,right: pd.merge(left,right,on=['protein'], suffixes=('', '_y'),\n",
    "                                            how='outer'), data_frames).fillna(0)"
   ],
   "metadata": {
    "collapsed": false,
    "pycharm": {
     "name": "#%%\n"
    },
    "ExecuteTime": {
     "end_time": "2023-08-16T14:11:57.927397Z",
     "start_time": "2023-08-16T14:11:57.901391Z"
    }
   }
  },
  {
   "cell_type": "code",
   "execution_count": 32,
   "outputs": [
    {
     "data": {
      "text/plain": "      protein  detected  detected_y  detected_y  detected_y\n0       Q0250       1.0         0.0         0.0         0.0\n1     YAL003W       1.0         1.0         1.0         1.0\n2     YAL005C       1.0         1.0         1.0         1.0\n3     YAL012W       1.0         1.0         1.0         0.0\n4     YAL015C       1.0         1.0         0.0         0.0\n...       ...       ...         ...         ...         ...\n2907  YPL209C       0.0         0.0         0.0         1.0\n2908  YPL267W       0.0         0.0         0.0         1.0\n2909  YPR008W       0.0         0.0         0.0         1.0\n2910  YPR095C       0.0         0.0         0.0         1.0\n2911  YPR122W       0.0         0.0         0.0         1.0\n\n[2912 rows x 5 columns]",
      "text/html": "<div>\n<style scoped>\n    .dataframe tbody tr th:only-of-type {\n        vertical-align: middle;\n    }\n\n    .dataframe tbody tr th {\n        vertical-align: top;\n    }\n\n    .dataframe thead th {\n        text-align: right;\n    }\n</style>\n<table border=\"1\" class=\"dataframe\">\n  <thead>\n    <tr style=\"text-align: right;\">\n      <th></th>\n      <th>protein</th>\n      <th>detected</th>\n      <th>detected_y</th>\n      <th>detected_y</th>\n      <th>detected_y</th>\n    </tr>\n  </thead>\n  <tbody>\n    <tr>\n      <th>0</th>\n      <td>Q0250</td>\n      <td>1.0</td>\n      <td>0.0</td>\n      <td>0.0</td>\n      <td>0.0</td>\n    </tr>\n    <tr>\n      <th>1</th>\n      <td>YAL003W</td>\n      <td>1.0</td>\n      <td>1.0</td>\n      <td>1.0</td>\n      <td>1.0</td>\n    </tr>\n    <tr>\n      <th>2</th>\n      <td>YAL005C</td>\n      <td>1.0</td>\n      <td>1.0</td>\n      <td>1.0</td>\n      <td>1.0</td>\n    </tr>\n    <tr>\n      <th>3</th>\n      <td>YAL012W</td>\n      <td>1.0</td>\n      <td>1.0</td>\n      <td>1.0</td>\n      <td>0.0</td>\n    </tr>\n    <tr>\n      <th>4</th>\n      <td>YAL015C</td>\n      <td>1.0</td>\n      <td>1.0</td>\n      <td>0.0</td>\n      <td>0.0</td>\n    </tr>\n    <tr>\n      <th>...</th>\n      <td>...</td>\n      <td>...</td>\n      <td>...</td>\n      <td>...</td>\n      <td>...</td>\n    </tr>\n    <tr>\n      <th>2907</th>\n      <td>YPL209C</td>\n      <td>0.0</td>\n      <td>0.0</td>\n      <td>0.0</td>\n      <td>1.0</td>\n    </tr>\n    <tr>\n      <th>2908</th>\n      <td>YPL267W</td>\n      <td>0.0</td>\n      <td>0.0</td>\n      <td>0.0</td>\n      <td>1.0</td>\n    </tr>\n    <tr>\n      <th>2909</th>\n      <td>YPR008W</td>\n      <td>0.0</td>\n      <td>0.0</td>\n      <td>0.0</td>\n      <td>1.0</td>\n    </tr>\n    <tr>\n      <th>2910</th>\n      <td>YPR095C</td>\n      <td>0.0</td>\n      <td>0.0</td>\n      <td>0.0</td>\n      <td>1.0</td>\n    </tr>\n    <tr>\n      <th>2911</th>\n      <td>YPR122W</td>\n      <td>0.0</td>\n      <td>0.0</td>\n      <td>0.0</td>\n      <td>1.0</td>\n    </tr>\n  </tbody>\n</table>\n<p>2912 rows × 5 columns</p>\n</div>"
     },
     "execution_count": 32,
     "metadata": {},
     "output_type": "execute_result"
    }
   ],
   "source": [
    "df_merged"
   ],
   "metadata": {
    "collapsed": false,
    "ExecuteTime": {
     "end_time": "2023-08-16T14:11:58.108022Z",
     "start_time": "2023-08-16T14:11:58.084524Z"
    }
   }
  },
  {
   "cell_type": "code",
   "execution_count": 33,
   "outputs": [],
   "source": [
    "df_merged.columns = ['protein', 'gs1', 'gs2', 'gs3', 'gs4']"
   ],
   "metadata": {
    "collapsed": false,
    "pycharm": {
     "name": "#%%\n"
    },
    "ExecuteTime": {
     "end_time": "2023-08-16T14:11:58.911197Z",
     "start_time": "2023-08-16T14:11:58.905432Z"
    }
   }
  },
  {
   "cell_type": "code",
   "execution_count": 34,
   "outputs": [],
   "source": [
    "df_merged = df_merged.set_index('protein')"
   ],
   "metadata": {
    "collapsed": false,
    "pycharm": {
     "name": "#%%\n"
    },
    "ExecuteTime": {
     "end_time": "2023-08-16T14:11:59.497194Z",
     "start_time": "2023-08-16T14:11:59.478092Z"
    }
   }
  },
  {
   "cell_type": "code",
   "execution_count": 35,
   "outputs": [],
   "source": [
    "positive_protein = df_merged[df_merged.sum(axis=1) >= 2].index.to_series()"
   ],
   "metadata": {
    "collapsed": false,
    "pycharm": {
     "name": "#%%\n"
    },
    "ExecuteTime": {
     "end_time": "2023-08-16T14:11:59.691411Z",
     "start_time": "2023-08-16T14:11:59.656583Z"
    }
   }
  },
  {
   "cell_type": "code",
   "execution_count": 39,
   "outputs": [
    {
     "data": {
      "text/plain": "Empty DataFrame\nColumns: [gs1, gs2, gs3, gs4]\nIndex: []",
      "text/html": "<div>\n<style scoped>\n    .dataframe tbody tr th:only-of-type {\n        vertical-align: middle;\n    }\n\n    .dataframe tbody tr th {\n        vertical-align: top;\n    }\n\n    .dataframe thead th {\n        text-align: right;\n    }\n</style>\n<table border=\"1\" class=\"dataframe\">\n  <thead>\n    <tr style=\"text-align: right;\">\n      <th></th>\n      <th>gs1</th>\n      <th>gs2</th>\n      <th>gs3</th>\n      <th>gs4</th>\n    </tr>\n    <tr>\n      <th>protein</th>\n      <th></th>\n      <th></th>\n      <th></th>\n      <th></th>\n    </tr>\n  </thead>\n  <tbody>\n  </tbody>\n</table>\n</div>"
     },
     "execution_count": 39,
     "metadata": {},
     "output_type": "execute_result"
    }
   ],
   "source": [
    "df_merged[df_merged.sum(axis=1) == 0]"
   ],
   "metadata": {
    "collapsed": false,
    "pycharm": {
     "name": "#%%\n"
    },
    "ExecuteTime": {
     "end_time": "2023-08-16T14:12:19.263824Z",
     "start_time": "2023-08-16T14:12:19.245114Z"
    }
   }
  },
  {
   "cell_type": "code",
   "execution_count": 37,
   "outputs": [],
   "source": [
    "protein_with_evidence = df_merged.index.to_series()"
   ],
   "metadata": {
    "collapsed": false,
    "pycharm": {
     "name": "#%%\n"
    },
    "ExecuteTime": {
     "end_time": "2023-08-16T14:12:00.149463Z",
     "start_time": "2023-08-16T14:12:00.063843Z"
    }
   }
  },
  {
   "cell_type": "code",
   "execution_count": 16,
   "outputs": [],
   "source": [
    "all_protein = all.iloc[:, 0]"
   ],
   "metadata": {
    "collapsed": false,
    "pycharm": {
     "name": "#%%\n"
    },
    "ExecuteTime": {
     "end_time": "2023-08-16T14:05:57.953033Z",
     "start_time": "2023-08-16T14:05:57.706712Z"
    }
   }
  },
  {
   "cell_type": "code",
   "execution_count": 17,
   "outputs": [],
   "source": [
    "negative_protein = all_protein[~all_protein.isin(protein_with_evidence)]"
   ],
   "metadata": {
    "collapsed": false,
    "pycharm": {
     "name": "#%%\n"
    },
    "ExecuteTime": {
     "end_time": "2023-08-16T14:05:57.954876Z",
     "start_time": "2023-08-16T14:05:57.723851Z"
    }
   }
  },
  {
   "cell_type": "code",
   "execution_count": 82,
   "outputs": [],
   "source": [
    "yeast_orbi = pd.read_table('../data/yeast-multi-graph/raw/additional/ypd_orbi_self-yp4gte2-or-notyp4_no-tm_score_id.txt', delimiter=' ', header=None,\n",
    "                         names=['ID', 'ProteinProphet_Score', 'P(K|S)', 'mRNA(M)', 'P(K|M)', 'MSpresso_Score', 'TP_or_TN_in_REFERENCEFILE'])\n",
    "yeast_orbi = yeast_orbi.loc[:, ['ID', 'ProteinProphet_Score', 'mRNA(M)']]\n",
    "yeast_orbi.columns = ['protein', 'protein probability', 'mRNA(M)']"
   ],
   "metadata": {
    "collapsed": false,
    "pycharm": {
     "name": "#%%\n"
    },
    "ExecuteTime": {
     "end_time": "2023-08-16T14:23:04.517845Z",
     "start_time": "2023-08-16T14:23:04.495166Z"
    }
   }
  },
  {
   "cell_type": "code",
   "execution_count": 80,
   "outputs": [],
   "source": [
    "yeast_orbi['y'] = -1\n",
    "yeast_orbi.loc[yeast_orbi['protein'].isin(list(positive_protein)), 'y'] = 1\n",
    "yeast_orbi.loc[yeast_orbi['protein'].isin(list(negative_protein)), 'y'] = 0"
   ],
   "metadata": {
    "collapsed": false,
    "pycharm": {
     "name": "#%%\n"
    },
    "ExecuteTime": {
     "end_time": "2023-08-16T14:22:52.231558Z",
     "start_time": "2023-08-16T14:22:52.215705Z"
    }
   }
  },
  {
   "cell_type": "code",
   "execution_count": 81,
   "outputs": [
    {
     "data": {
      "text/plain": "y\n0    1776\n1    1433\nName: count, dtype: int64"
     },
     "execution_count": 81,
     "metadata": {},
     "output_type": "execute_result"
    }
   ],
   "source": [
    "yeast_orbi['y'].value_counts()"
   ],
   "metadata": {
    "collapsed": false,
    "pycharm": {
     "name": "#%%\n"
    },
    "ExecuteTime": {
     "end_time": "2023-08-16T14:22:53.256996Z",
     "start_time": "2023-08-16T14:22:53.241624Z"
    }
   }
  },
  {
   "cell_type": "markdown",
   "source": [
    "For yeast-LCQ dataset"
   ],
   "metadata": {
    "collapsed": false
   }
  },
  {
   "cell_type": "code",
   "execution_count": 74,
   "outputs": [],
   "source": [
    "yeast_LCQ = pd.read_table('../data/yeast-multi-graph/raw/additional/marcottelab.org_MSpresso_roc_and_scores_MAIN_PAPER_ypd_lcq_self_yp4gte2-or-notyp4_no-tm_ypd_lcq_self_yp4gte2-or-notyp4_no-tm_score_id.txt', delimiter=' ', header=None,\n",
    "                         names=['ID', 'ProteinProphet_Score', 'P(K|S)', 'mRNA(M)', 'P(K|M)', 'MSpresso_Score', 'TP_or_TN_in_REFERENCEFILE'])\n",
    "yeast_LCQ = yeast_LCQ.loc[:, ['ID', 'ProteinProphet_Score', 'mRNA(M)']]\n",
    "yeast_LCQ.columns = ['protein', 'protein probability', 'mRNA(M)']"
   ],
   "metadata": {
    "collapsed": false,
    "pycharm": {
     "name": "#%%\n"
    },
    "ExecuteTime": {
     "end_time": "2023-08-16T14:21:46.881875Z",
     "start_time": "2023-08-16T14:21:46.839218Z"
    }
   }
  },
  {
   "cell_type": "code",
   "execution_count": 72,
   "outputs": [],
   "source": [
    "yeast_LCQ['y'] = -1\n",
    "yeast_LCQ.loc[yeast_LCQ['protein'].isin(list(positive_protein)), 'y'] = 1\n",
    "yeast_LCQ.loc[yeast_LCQ['protein'].isin(list(negative_protein)), 'y'] = 0"
   ],
   "metadata": {
    "collapsed": false,
    "ExecuteTime": {
     "end_time": "2023-08-16T14:21:34.864154Z",
     "start_time": "2023-08-16T14:21:34.849446Z"
    }
   }
  },
  {
   "cell_type": "code",
   "execution_count": 73,
   "outputs": [
    {
     "data": {
      "text/plain": "y\n0    1776\n1    1433\nName: count, dtype: int64"
     },
     "execution_count": 73,
     "metadata": {},
     "output_type": "execute_result"
    }
   ],
   "source": [
    "yeast_LCQ['y'].value_counts()"
   ],
   "metadata": {
    "collapsed": false,
    "ExecuteTime": {
     "end_time": "2023-08-16T14:21:35.233187Z",
     "start_time": "2023-08-16T14:21:35.214710Z"
    }
   }
  },
  {
   "cell_type": "code",
   "execution_count": null,
   "outputs": [],
   "source": [],
   "metadata": {
    "collapsed": false
   }
  },
  {
   "cell_type": "code",
   "execution_count": 58,
   "outputs": [],
   "source": [
    "protein_MS.iloc[:, 1:].to_csv('../data/yeast/raw/protein/yeast.csv', index=False)"
   ],
   "metadata": {
    "collapsed": false,
    "pycharm": {
     "name": "#%%\n"
    },
    "ExecuteTime": {
     "end_time": "2023-08-12T05:24:09.996830Z",
     "start_time": "2023-08-12T05:24:09.946874Z"
    }
   }
  },
  {
   "cell_type": "code",
   "execution_count": 59,
   "outputs": [
    {
     "data": {
      "text/plain": "Index(['protein', 'protein probability', 'protein description',\n       'protein length', 'percent coverage', 'tot indep spectra',\n       'percent share of spectrum ids', 'peptides', 'y'],\n      dtype='object')"
     },
     "execution_count": 59,
     "metadata": {},
     "output_type": "execute_result"
    }
   ],
   "source": [
    "protein_MS.iloc[:, 1:].columns"
   ],
   "metadata": {
    "collapsed": false,
    "pycharm": {
     "name": "#%%\n"
    },
    "ExecuteTime": {
     "end_time": "2023-08-12T05:24:19.257555Z",
     "start_time": "2023-08-12T05:24:19.242630Z"
    }
   }
  },
  {
   "cell_type": "code",
   "execution_count": 162,
   "outputs": [],
   "source": [
    "positive_protein.to_csv('../data/yeast/raw/reference/positive.txt', index=False)\n",
    "negative_protein.to_csv('../data/yeast/raw/reference/negative.txt', index=False)"
   ],
   "metadata": {
    "collapsed": false,
    "pycharm": {
     "name": "#%%\n"
    }
   }
  },
  {
   "cell_type": "code",
   "execution_count": 163,
   "outputs": [
    {
     "data": {
      "text/plain": "protein\nYAL003W    YAL003W\nYAL005C    YAL005C\nYAL012W    YAL012W\nYAL015C    YAL015C\nYAL016W    YAL016W\n            ...   \nYNL309W    YNL309W\nYOR357C    YOR357C\nYPL180W    YPL180W\nYPR141C    YPR141C\nYPR171W    YPR171W\nName: protein, Length: 1648, dtype: object"
     },
     "execution_count": 163,
     "metadata": {},
     "output_type": "execute_result"
    }
   ],
   "source": [
    "positive_protein"
   ],
   "metadata": {
    "collapsed": false,
    "pycharm": {
     "name": "#%%\n"
    }
   }
  },
  {
   "cell_type": "code",
   "execution_count": 164,
   "outputs": [],
   "source": [
    "# interaction = pd.read_csv('../data/yeast/raw/interaction/4932.protein.links.full.v11.5.tsv', sep=' ')"
   ],
   "metadata": {
    "collapsed": false,
    "pycharm": {
     "name": "#%%\n"
    }
   }
  },
  {
   "cell_type": "code",
   "execution_count": 165,
   "outputs": [],
   "source": [
    "# interaction.to_csv('../data/yeast/raw/interaction/yeast_interaction.csv', index_label=False)"
   ],
   "metadata": {
    "collapsed": false,
    "pycharm": {
     "name": "#%%\n"
    }
   }
  },
  {
   "cell_type": "code",
   "execution_count": 166,
   "outputs": [
    {
     "data": {
      "text/plain": "0         Q0010\n1         Q0017\n2         Q0032\n3         Q0045\n4         Q0050\n         ...   \n6325    YPR200C\n6326    YPR201W\n6327    YPR202W\n6328    YPR203W\n6329    YPR204W\nName: protein, Length: 3424, dtype: object"
     },
     "execution_count": 166,
     "metadata": {},
     "output_type": "execute_result"
    }
   ],
   "source": [
    "negative_protein"
   ],
   "metadata": {
    "collapsed": false,
    "pycharm": {
     "name": "#%%\n"
    }
   }
  },
  {
   "cell_type": "code",
   "execution_count": 12,
   "outputs": [
    {
     "data": {
      "text/plain": "        ID  protein probability  mRNA(M)\n0  YDR444W                 0.96     0.15\n1  YHR213W                 0.00     0.16\n2  YLR465C                 0.00     0.16\n3  YDR543C                 0.00     0.18\n4  YCR038C                 0.00     0.19",
      "text/html": "<div>\n<style scoped>\n    .dataframe tbody tr th:only-of-type {\n        vertical-align: middle;\n    }\n\n    .dataframe tbody tr th {\n        vertical-align: top;\n    }\n\n    .dataframe thead th {\n        text-align: right;\n    }\n</style>\n<table border=\"1\" class=\"dataframe\">\n  <thead>\n    <tr style=\"text-align: right;\">\n      <th></th>\n      <th>ID</th>\n      <th>protein probability</th>\n      <th>mRNA(M)</th>\n    </tr>\n  </thead>\n  <tbody>\n    <tr>\n      <th>0</th>\n      <td>YDR444W</td>\n      <td>0.96</td>\n      <td>0.15</td>\n    </tr>\n    <tr>\n      <th>1</th>\n      <td>YHR213W</td>\n      <td>0.00</td>\n      <td>0.16</td>\n    </tr>\n    <tr>\n      <th>2</th>\n      <td>YLR465C</td>\n      <td>0.00</td>\n      <td>0.16</td>\n    </tr>\n    <tr>\n      <th>3</th>\n      <td>YDR543C</td>\n      <td>0.00</td>\n      <td>0.18</td>\n    </tr>\n    <tr>\n      <th>4</th>\n      <td>YCR038C</td>\n      <td>0.00</td>\n      <td>0.19</td>\n    </tr>\n  </tbody>\n</table>\n</div>"
     },
     "execution_count": 12,
     "metadata": {},
     "output_type": "execute_result"
    }
   ],
   "source": [
    "proteins = pd.read_table('../data/yeast-multi-graph/raw/additional/marcottelab.org_MSpresso_roc_and_scores_MAIN_PAPER_ypd_lcq_self_yp4gte2-or-notyp4_no-tm_ypd_lcq_self_yp4gte2-or-notyp4_no-tm_score_id.txt', delimiter=' ', header=0,\n",
    "                         names=['ID', 'ProteinProphet_Score', 'P(K|S)', 'mRNA(M)', 'P(K|M)', 'MSpresso_Score', 'TP_or_TN_in_REFERENCEFILE'])\n",
    "proteins = proteins.loc[:, ['ID', 'ProteinProphet_Score', 'mRNA(M)', 'TP_or_TN_in_REFERENCEFILE']]\n",
    "# proteins['y'] = np.where(proteins.TP_or_TN_in_REFERENCEFILE == 'TP', 1, 0)\n",
    "proteins = proteins[['ID', 'ProteinProphet_Score', 'mRNA(M)']]\n",
    "proteins.head()"
   ],
   "metadata": {
    "collapsed": false,
    "pycharm": {
     "name": "#%%\n"
    },
    "ExecuteTime": {
     "end_time": "2023-08-13T11:47:41.172587Z",
     "start_time": "2023-08-13T11:47:41.127731Z"
    }
   }
  },
  {
   "cell_type": "code",
   "execution_count": 13,
   "outputs": [],
   "source": [
    "protein_MS = pd.merge(protein_MS, proteins, how='left', left_on='protein', right_on='ID')\n",
    "protein_MS['mRNA(M)'].fillna(0, inplace=True)\n",
    "protein_MS.drop(['ID'], axis=1, inplace=True)"
   ],
   "metadata": {
    "collapsed": false,
    "pycharm": {
     "name": "#%%\n"
    },
    "ExecuteTime": {
     "end_time": "2023-08-13T11:47:48.899882Z",
     "start_time": "2023-08-13T11:47:48.879605Z"
    }
   }
  },
  {
   "cell_type": "code",
   "execution_count": 83,
   "outputs": [
    {
     "data": {
      "text/plain": "     entry no.  protein  protein probability  \\\n0            1  YAL003W                  1.0   \n1            2  YAL005C                  1.0   \n2            3  YAL012W                  1.0   \n3            4  YAL016W                  1.0   \n4            5  YAL021C                  1.0   \n...        ...      ...                  ...   \n3848      3821  YPR188C                  0.0   \n3849      3822  YPR195C                  0.0   \n3850      3823  YPR196W                  0.0   \n3851     3824a  YGR032W                  0.0   \n3852     3824b  YMR306W                  0.0   \n\n                                    protein description  protein length  \\\n0     EFB1 SGDID:S000000003,'Translation elongation ...               0   \n1     SSA1 SGDID:S000000004,'ATPase involved in prot...               0   \n2     CYS3 SGDID:S000000010,'Cystathionine gamma-lya...               0   \n3     TPD3 SGDID:S000000014,'Regulatory subunit A of...               0   \n4     CCR4 SGDID:S000000019,'Component of the CCR4-N...               0   \n...                                                 ...             ...   \n3848  MLC2 SGDID:S000006392,'Regulatory light chain ...               0   \n3849  YPR195C SGDID:S000006399,'Hypothetical protein...               0   \n3850  YPR196W SGDID:S000006400,'nuclear protein (put...               0   \n3851  GSC2 SGDID:S000003264,'Catalytic subunit of 1,...               0   \n3852  FKS3 SGDID:S000004923,'Protein of unknown func...               0   \n\n      percent coverage  tot indep spectra  percent share of spectrum ids  \\\n0                 42.7                312                          0.425   \n1                 54.5                838                          0.797   \n2                 36.5                235                          0.321   \n3                 13.9                 17                          0.021   \n4                  5.7                  8                          0.007   \n...                ...                ...                            ...   \n3848               0.0                  0                          0.000   \n3849               0.0                  0                          0.000   \n3850               0.0                  0                          0.000   \n3851               0.0                  0                          0.000   \n3852               0.0                  0                          0.000   \n\n                                               peptides  ProteinProphet_Score  \\\n0     AFQSAYPEFSR+AIEMEGLTWGAHQFIPIGFGIK+IETLKQLNASL...                  1.00   \n1     AEETISWLDSNTTASKEEFDDKLK+ARFEELCADLFR+ATAGDTHL...                  1.00   \n2     AIHAGEHVDVHGSVIEPISLSTTFK+DALGGGMISFR+EASGVFDD...                  1.00   \n3     DSDSNESLYPLALLMDELK+FLNDPSIILNK+ILPAVQNLSMDESE...                  0.00   \n4     DAMDFSGAWMKHKK+FIGFPNDKFPSDHIPLLAR+LSQYSIDEDDD...                  0.28   \n...                                                 ...                   ...   \n3848                                MDHSESLTFNQLTQDYINK                  0.00   \n3849                        GCDGTVTTFRTWHTQPLGPCNTIIIGR                   NaN   \n3850                              FFDDLSNSDIFRIMTYYCLHR                   NaN   \n3851  APTFFVSQDDNNFETEFFPR+DLGFGTILNFTTK+EQTFGTLFAR+...                   NaN   \n3852                          EQTFGTLFAR+SFLKEAESSHDEDR                   NaN   \n\n      mRNA(M)  \n0       25.55  \n1        9.78  \n2        8.94  \n3        3.12  \n4        1.39  \n...       ...  \n3848     1.67  \n3849     0.00  \n3850     0.00  \n3851     0.00  \n3852     0.00  \n\n[3853 rows x 11 columns]",
      "text/html": "<div>\n<style scoped>\n    .dataframe tbody tr th:only-of-type {\n        vertical-align: middle;\n    }\n\n    .dataframe tbody tr th {\n        vertical-align: top;\n    }\n\n    .dataframe thead th {\n        text-align: right;\n    }\n</style>\n<table border=\"1\" class=\"dataframe\">\n  <thead>\n    <tr style=\"text-align: right;\">\n      <th></th>\n      <th>entry no.</th>\n      <th>protein</th>\n      <th>protein probability</th>\n      <th>protein description</th>\n      <th>protein length</th>\n      <th>percent coverage</th>\n      <th>tot indep spectra</th>\n      <th>percent share of spectrum ids</th>\n      <th>peptides</th>\n      <th>ProteinProphet_Score</th>\n      <th>mRNA(M)</th>\n    </tr>\n  </thead>\n  <tbody>\n    <tr>\n      <th>0</th>\n      <td>1</td>\n      <td>YAL003W</td>\n      <td>1.0</td>\n      <td>EFB1 SGDID:S000000003,'Translation elongation ...</td>\n      <td>0</td>\n      <td>42.7</td>\n      <td>312</td>\n      <td>0.425</td>\n      <td>AFQSAYPEFSR+AIEMEGLTWGAHQFIPIGFGIK+IETLKQLNASL...</td>\n      <td>1.00</td>\n      <td>25.55</td>\n    </tr>\n    <tr>\n      <th>1</th>\n      <td>2</td>\n      <td>YAL005C</td>\n      <td>1.0</td>\n      <td>SSA1 SGDID:S000000004,'ATPase involved in prot...</td>\n      <td>0</td>\n      <td>54.5</td>\n      <td>838</td>\n      <td>0.797</td>\n      <td>AEETISWLDSNTTASKEEFDDKLK+ARFEELCADLFR+ATAGDTHL...</td>\n      <td>1.00</td>\n      <td>9.78</td>\n    </tr>\n    <tr>\n      <th>2</th>\n      <td>3</td>\n      <td>YAL012W</td>\n      <td>1.0</td>\n      <td>CYS3 SGDID:S000000010,'Cystathionine gamma-lya...</td>\n      <td>0</td>\n      <td>36.5</td>\n      <td>235</td>\n      <td>0.321</td>\n      <td>AIHAGEHVDVHGSVIEPISLSTTFK+DALGGGMISFR+EASGVFDD...</td>\n      <td>1.00</td>\n      <td>8.94</td>\n    </tr>\n    <tr>\n      <th>3</th>\n      <td>4</td>\n      <td>YAL016W</td>\n      <td>1.0</td>\n      <td>TPD3 SGDID:S000000014,'Regulatory subunit A of...</td>\n      <td>0</td>\n      <td>13.9</td>\n      <td>17</td>\n      <td>0.021</td>\n      <td>DSDSNESLYPLALLMDELK+FLNDPSIILNK+ILPAVQNLSMDESE...</td>\n      <td>0.00</td>\n      <td>3.12</td>\n    </tr>\n    <tr>\n      <th>4</th>\n      <td>5</td>\n      <td>YAL021C</td>\n      <td>1.0</td>\n      <td>CCR4 SGDID:S000000019,'Component of the CCR4-N...</td>\n      <td>0</td>\n      <td>5.7</td>\n      <td>8</td>\n      <td>0.007</td>\n      <td>DAMDFSGAWMKHKK+FIGFPNDKFPSDHIPLLAR+LSQYSIDEDDD...</td>\n      <td>0.28</td>\n      <td>1.39</td>\n    </tr>\n    <tr>\n      <th>...</th>\n      <td>...</td>\n      <td>...</td>\n      <td>...</td>\n      <td>...</td>\n      <td>...</td>\n      <td>...</td>\n      <td>...</td>\n      <td>...</td>\n      <td>...</td>\n      <td>...</td>\n      <td>...</td>\n    </tr>\n    <tr>\n      <th>3848</th>\n      <td>3821</td>\n      <td>YPR188C</td>\n      <td>0.0</td>\n      <td>MLC2 SGDID:S000006392,'Regulatory light chain ...</td>\n      <td>0</td>\n      <td>0.0</td>\n      <td>0</td>\n      <td>0.000</td>\n      <td>MDHSESLTFNQLTQDYINK</td>\n      <td>0.00</td>\n      <td>1.67</td>\n    </tr>\n    <tr>\n      <th>3849</th>\n      <td>3822</td>\n      <td>YPR195C</td>\n      <td>0.0</td>\n      <td>YPR195C SGDID:S000006399,'Hypothetical protein...</td>\n      <td>0</td>\n      <td>0.0</td>\n      <td>0</td>\n      <td>0.000</td>\n      <td>GCDGTVTTFRTWHTQPLGPCNTIIIGR</td>\n      <td>NaN</td>\n      <td>0.00</td>\n    </tr>\n    <tr>\n      <th>3850</th>\n      <td>3823</td>\n      <td>YPR196W</td>\n      <td>0.0</td>\n      <td>YPR196W SGDID:S000006400,'nuclear protein (put...</td>\n      <td>0</td>\n      <td>0.0</td>\n      <td>0</td>\n      <td>0.000</td>\n      <td>FFDDLSNSDIFRIMTYYCLHR</td>\n      <td>NaN</td>\n      <td>0.00</td>\n    </tr>\n    <tr>\n      <th>3851</th>\n      <td>3824a</td>\n      <td>YGR032W</td>\n      <td>0.0</td>\n      <td>GSC2 SGDID:S000003264,'Catalytic subunit of 1,...</td>\n      <td>0</td>\n      <td>0.0</td>\n      <td>0</td>\n      <td>0.000</td>\n      <td>APTFFVSQDDNNFETEFFPR+DLGFGTILNFTTK+EQTFGTLFAR+...</td>\n      <td>NaN</td>\n      <td>0.00</td>\n    </tr>\n    <tr>\n      <th>3852</th>\n      <td>3824b</td>\n      <td>YMR306W</td>\n      <td>0.0</td>\n      <td>FKS3 SGDID:S000004923,'Protein of unknown func...</td>\n      <td>0</td>\n      <td>0.0</td>\n      <td>0</td>\n      <td>0.000</td>\n      <td>EQTFGTLFAR+SFLKEAESSHDEDR</td>\n      <td>NaN</td>\n      <td>0.00</td>\n    </tr>\n  </tbody>\n</table>\n<p>3853 rows × 11 columns</p>\n</div>"
     },
     "execution_count": 83,
     "metadata": {},
     "output_type": "execute_result"
    }
   ],
   "source": [
    "protein_MS"
   ],
   "metadata": {
    "collapsed": false,
    "ExecuteTime": {
     "end_time": "2023-08-12T15:37:22.448531Z",
     "start_time": "2023-08-12T15:37:22.411877Z"
    }
   }
  },
  {
   "cell_type": "code",
   "execution_count": 74,
   "outputs": [],
   "source": [
    "protein_MS.to_csv('../data/yeast-multi-graph/raw/protein/yeast-LCQ.csv')"
   ],
   "metadata": {
    "collapsed": false,
    "pycharm": {
     "name": "#%%\n"
    },
    "ExecuteTime": {
     "end_time": "2023-08-12T06:08:20.932523Z",
     "start_time": "2023-08-12T06:08:20.875983Z"
    }
   }
  },
  {
   "cell_type": "code",
   "execution_count": 169,
   "outputs": [],
   "source": [
    "# need to manually remove extra ID columns"
   ],
   "metadata": {
    "collapsed": false,
    "pycharm": {
     "name": "#%%\n"
    }
   }
  }
 ],
 "metadata": {
  "kernelspec": {
   "display_name": "Python 3",
   "language": "python",
   "name": "python3"
  },
  "language_info": {
   "codemirror_mode": {
    "name": "ipython",
    "version": 2
   },
   "file_extension": ".py",
   "mimetype": "text/x-python",
   "name": "python",
   "nbconvert_exporter": "python",
   "pygments_lexer": "ipython2",
   "version": "2.7.6"
  }
 },
 "nbformat": 4,
 "nbformat_minor": 0
}

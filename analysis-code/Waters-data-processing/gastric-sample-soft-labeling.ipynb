{
 "cells": [
  {
   "cell_type": "code",
   "execution_count": 1,
   "metadata": {
    "collapsed": true,
    "pycharm": {
     "name": "#%%\n"
    },
    "ExecuteTime": {
     "end_time": "2023-10-05T21:00:48.375691Z",
     "start_time": "2023-10-05T21:00:47.240365Z"
    }
   },
   "outputs": [],
   "source": [
    "import os\n",
    "import re\n",
    "\n",
    "from IPython.core.interactiveshell import InteractiveShell\n",
    "InteractiveShell.ast_node_interactivity = \"all\"\n",
    "import pandas as pd\n",
    "import numpy as np\n",
    "from functools import reduce\n",
    "import matplotlib.pyplot as plt"
   ]
  },
  {
   "cell_type": "code",
   "execution_count": 24,
   "outputs": [],
   "source": [
    "# %connect_info\n",
    "%qtconsole"
   ],
   "metadata": {
    "collapsed": false,
    "pycharm": {
     "name": "#%%\n"
    },
    "ExecuteTime": {
     "end_time": "2023-09-30T22:24:46.948658Z",
     "start_time": "2023-09-30T22:24:46.733893Z"
    }
   }
  },
  {
   "cell_type": "code",
   "execution_count": 2,
   "outputs": [],
   "source": [
    "os.chdir('/Users/cgu3/Documents/data')"
   ],
   "metadata": {
    "collapsed": false,
    "ExecuteTime": {
     "end_time": "2023-10-05T21:00:48.379740Z",
     "start_time": "2023-10-05T21:00:48.372850Z"
    }
   }
  },
  {
   "cell_type": "code",
   "execution_count": 3,
   "outputs": [
    {
     "data": {
      "text/plain": "'/Users/cgu3/Documents/data'"
     },
     "execution_count": 3,
     "metadata": {},
     "output_type": "execute_result"
    }
   ],
   "source": [
    "pwd"
   ],
   "metadata": {
    "collapsed": false,
    "pycharm": {
     "name": "#%%\n"
    },
    "ExecuteTime": {
     "end_time": "2023-10-05T21:00:48.394391Z",
     "start_time": "2023-10-05T21:00:48.382927Z"
    }
   }
  },
  {
   "cell_type": "code",
   "execution_count": 4,
   "outputs": [
    {
     "name": "stdout",
     "output_type": "stream",
     "text": [
      "['SG_combined_protein_0993_with_protein_probability.csv', 'SG_combined_protein_7105_with_protein_probability.csv', 'SG_combined_protein_7103_with_protein_probability.csv', 'SG_combined_protein_0995_with_protein_probability.csv', 'SG_combined_protein_7100_with_protein_probability.csv', 'SG_combined_protein_0981_with_protein_probability.csv', 'SG_combined_protein_0982_with_protein_probability.csv', 'SG_combined_protein_0999_with_protein_probability.csv']\n"
     ]
    }
   ],
   "source": [
    "# Define the regular expression\n",
    "pattern = re.compile(r'.*_with_protein_probability\\.csv$')\n",
    "\n",
    "# Get a list of all files in the current directory\n",
    "files = os.listdir()\n",
    "\n",
    "# Filter the list of files to only include those that match the regular expression\n",
    "matching_files = [file for file in files if pattern.match(file)]\n",
    "\n",
    "# Print the list of matching files\n",
    "print(matching_files)"
   ],
   "metadata": {
    "collapsed": false,
    "ExecuteTime": {
     "end_time": "2023-10-05T21:01:04.353988Z",
     "start_time": "2023-10-05T21:01:04.335639Z"
    }
   }
  },
  {
   "cell_type": "code",
   "execution_count": 22,
   "outputs": [],
   "source": [
    "csv_files = []\n",
    "i = 0\n",
    "for file in matching_files:\n",
    "    if file in ['SG_combined_protein_0981_with_protein_probability.csv', 'SG_combined_protein_0982_with_protein_probability.csv']:\n",
    "        continue\n",
    "    csv_file = pd.read_csv(file)\n",
    "    csv_file.rename(columns={'protein_probability': 'protein_probability' + str(i)}, inplace=True)\n",
    "    csv_files.append(csv_file)\n",
    "    i += 1"
   ],
   "metadata": {
    "collapsed": false,
    "ExecuteTime": {
     "end_time": "2023-10-05T21:17:11.888764Z",
     "start_time": "2023-10-05T21:17:11.783920Z"
    }
   }
  },
  {
   "cell_type": "code",
   "execution_count": 23,
   "outputs": [
    {
     "data": {
      "text/plain": "6"
     },
     "execution_count": 23,
     "metadata": {},
     "output_type": "execute_result"
    }
   ],
   "source": [
    "len(csv_files)"
   ],
   "metadata": {
    "collapsed": false,
    "ExecuteTime": {
     "end_time": "2023-10-05T21:17:12.750905Z",
     "start_time": "2023-10-05T21:17:12.734589Z"
    }
   }
  },
  {
   "cell_type": "code",
   "execution_count": 24,
   "outputs": [
    {
     "data": {
      "text/plain": "  protein.Accession  protein_probability0\n0        A0A024RBG1              0.999992\n1        A0A075B6J2              0.939846\n2        A0A075B6K0              0.991211\n3        A0A075B6K2              0.331800\n4        A0A075B6K4              0.469839",
      "text/html": "<div>\n<style scoped>\n    .dataframe tbody tr th:only-of-type {\n        vertical-align: middle;\n    }\n\n    .dataframe tbody tr th {\n        vertical-align: top;\n    }\n\n    .dataframe thead th {\n        text-align: right;\n    }\n</style>\n<table border=\"1\" class=\"dataframe\">\n  <thead>\n    <tr style=\"text-align: right;\">\n      <th></th>\n      <th>protein.Accession</th>\n      <th>protein_probability0</th>\n    </tr>\n  </thead>\n  <tbody>\n    <tr>\n      <th>0</th>\n      <td>A0A024RBG1</td>\n      <td>0.999992</td>\n    </tr>\n    <tr>\n      <th>1</th>\n      <td>A0A075B6J2</td>\n      <td>0.939846</td>\n    </tr>\n    <tr>\n      <th>2</th>\n      <td>A0A075B6K0</td>\n      <td>0.991211</td>\n    </tr>\n    <tr>\n      <th>3</th>\n      <td>A0A075B6K2</td>\n      <td>0.331800</td>\n    </tr>\n    <tr>\n      <th>4</th>\n      <td>A0A075B6K4</td>\n      <td>0.469839</td>\n    </tr>\n  </tbody>\n</table>\n</div>"
     },
     "execution_count": 24,
     "metadata": {},
     "output_type": "execute_result"
    }
   ],
   "source": [
    "csv_files[0].head()"
   ],
   "metadata": {
    "collapsed": false,
    "ExecuteTime": {
     "end_time": "2023-10-05T21:17:16.760195Z",
     "start_time": "2023-10-05T21:17:16.744428Z"
    }
   }
  },
  {
   "cell_type": "code",
   "execution_count": 25,
   "outputs": [
    {
     "data": {
      "text/plain": "      protein.Accession  protein_probability0  protein_probability1  \\\n0            A0A024RBG1              0.999992              0.999766   \n1            A0A075B6J2              0.939846              0.000000   \n2            A0A075B6K0              0.991211              0.000000   \n3            A0A075B6K2              0.331800              0.000000   \n4            A0A075B6K4              0.469839              0.000000   \n...                 ...                   ...                   ...   \n20421            Q9UI72              0.000000              0.000000   \n20422            Q9Y3F1              0.000000              0.748260   \n20423            Q9Y6C7              0.000000              0.000000   \n20424            Q9Y6Z2              0.000000              0.000000   \n20425            X6R8R1              0.000000              0.769844   \n\n       protein_probability2  protein_probability3  protein_probability4  \\\n0                  0.000000              0.990977              0.000000   \n1                  0.000000              0.000000              0.000000   \n2                  0.000000              0.000000              0.000000   \n3                  0.000000              0.000000              0.997536   \n4                  0.000000              0.000000              0.956788   \n...                     ...                   ...                   ...   \n20421              0.000000              0.000000              0.000000   \n20422              0.000000              0.000000              0.633704   \n20423              0.000000              0.000000              0.000000   \n20424              0.000000              0.000000              0.000000   \n20425              0.583961              0.383530              0.000000   \n\n       protein_probability5  \n0                  0.999911  \n1                  0.000000  \n2                  0.000000  \n3                  0.000000  \n4                  0.356269  \n...                     ...  \n20421              0.000000  \n20422              0.000000  \n20423              0.652250  \n20424              0.000000  \n20425              0.000000  \n\n[20426 rows x 7 columns]",
      "text/html": "<div>\n<style scoped>\n    .dataframe tbody tr th:only-of-type {\n        vertical-align: middle;\n    }\n\n    .dataframe tbody tr th {\n        vertical-align: top;\n    }\n\n    .dataframe thead th {\n        text-align: right;\n    }\n</style>\n<table border=\"1\" class=\"dataframe\">\n  <thead>\n    <tr style=\"text-align: right;\">\n      <th></th>\n      <th>protein.Accession</th>\n      <th>protein_probability0</th>\n      <th>protein_probability1</th>\n      <th>protein_probability2</th>\n      <th>protein_probability3</th>\n      <th>protein_probability4</th>\n      <th>protein_probability5</th>\n    </tr>\n  </thead>\n  <tbody>\n    <tr>\n      <th>0</th>\n      <td>A0A024RBG1</td>\n      <td>0.999992</td>\n      <td>0.999766</td>\n      <td>0.000000</td>\n      <td>0.990977</td>\n      <td>0.000000</td>\n      <td>0.999911</td>\n    </tr>\n    <tr>\n      <th>1</th>\n      <td>A0A075B6J2</td>\n      <td>0.939846</td>\n      <td>0.000000</td>\n      <td>0.000000</td>\n      <td>0.000000</td>\n      <td>0.000000</td>\n      <td>0.000000</td>\n    </tr>\n    <tr>\n      <th>2</th>\n      <td>A0A075B6K0</td>\n      <td>0.991211</td>\n      <td>0.000000</td>\n      <td>0.000000</td>\n      <td>0.000000</td>\n      <td>0.000000</td>\n      <td>0.000000</td>\n    </tr>\n    <tr>\n      <th>3</th>\n      <td>A0A075B6K2</td>\n      <td>0.331800</td>\n      <td>0.000000</td>\n      <td>0.000000</td>\n      <td>0.000000</td>\n      <td>0.997536</td>\n      <td>0.000000</td>\n    </tr>\n    <tr>\n      <th>4</th>\n      <td>A0A075B6K4</td>\n      <td>0.469839</td>\n      <td>0.000000</td>\n      <td>0.000000</td>\n      <td>0.000000</td>\n      <td>0.956788</td>\n      <td>0.356269</td>\n    </tr>\n    <tr>\n      <th>...</th>\n      <td>...</td>\n      <td>...</td>\n      <td>...</td>\n      <td>...</td>\n      <td>...</td>\n      <td>...</td>\n      <td>...</td>\n    </tr>\n    <tr>\n      <th>20421</th>\n      <td>Q9UI72</td>\n      <td>0.000000</td>\n      <td>0.000000</td>\n      <td>0.000000</td>\n      <td>0.000000</td>\n      <td>0.000000</td>\n      <td>0.000000</td>\n    </tr>\n    <tr>\n      <th>20422</th>\n      <td>Q9Y3F1</td>\n      <td>0.000000</td>\n      <td>0.748260</td>\n      <td>0.000000</td>\n      <td>0.000000</td>\n      <td>0.633704</td>\n      <td>0.000000</td>\n    </tr>\n    <tr>\n      <th>20423</th>\n      <td>Q9Y6C7</td>\n      <td>0.000000</td>\n      <td>0.000000</td>\n      <td>0.000000</td>\n      <td>0.000000</td>\n      <td>0.000000</td>\n      <td>0.652250</td>\n    </tr>\n    <tr>\n      <th>20424</th>\n      <td>Q9Y6Z2</td>\n      <td>0.000000</td>\n      <td>0.000000</td>\n      <td>0.000000</td>\n      <td>0.000000</td>\n      <td>0.000000</td>\n      <td>0.000000</td>\n    </tr>\n    <tr>\n      <th>20425</th>\n      <td>X6R8R1</td>\n      <td>0.000000</td>\n      <td>0.769844</td>\n      <td>0.583961</td>\n      <td>0.383530</td>\n      <td>0.000000</td>\n      <td>0.000000</td>\n    </tr>\n  </tbody>\n</table>\n<p>20426 rows × 7 columns</p>\n</div>"
     },
     "execution_count": 25,
     "metadata": {},
     "output_type": "execute_result"
    }
   ],
   "source": [
    "joined_file = reduce(lambda left,right: pd.merge(left,right,on='protein.Accession'), csv_files)\n",
    "joined_file"
   ],
   "metadata": {
    "collapsed": false,
    "ExecuteTime": {
     "end_time": "2023-10-05T21:17:18.162411Z",
     "start_time": "2023-10-05T21:17:18.086829Z"
    }
   }
  },
  {
   "cell_type": "code",
   "execution_count": 47,
   "outputs": [
    {
     "data": {
      "text/plain": "      protein.Accession  protein_probability0  protein_probability1  \\\n0            A0A024RBG1              0.999992              0.999766   \n1            A0A075B6J2              0.939846              0.000000   \n2            A0A075B6K0              0.991211              0.000000   \n3            A0A075B6K2              0.331800              0.000000   \n4            A0A075B6K4              0.469839              0.000000   \n...                 ...                   ...                   ...   \n20421            Q9UI72              0.000000              0.000000   \n20422            Q9Y3F1              0.000000              0.748260   \n20423            Q9Y6C7              0.000000              0.000000   \n20424            Q9Y6Z2              0.000000              0.000000   \n20425            X6R8R1              0.000000              0.769844   \n\n       protein_probability2  protein_probability3  protein_probability4  \\\n0                  0.000000              0.990977              0.000000   \n1                  0.000000              0.000000              0.000000   \n2                  0.000000              0.000000              0.000000   \n3                  0.000000              0.000000              0.997536   \n4                  0.000000              0.000000              0.956788   \n...                     ...                   ...                   ...   \n20421              0.000000              0.000000              0.000000   \n20422              0.000000              0.000000              0.633704   \n20423              0.000000              0.000000              0.000000   \n20424              0.000000              0.000000              0.000000   \n20425              0.583961              0.383530              0.000000   \n\n       protein_probability5       max  \n0                  0.999911  0.999992  \n1                  0.000000  0.939846  \n2                  0.000000  0.991211  \n3                  0.000000  0.997536  \n4                  0.356269  0.956788  \n...                     ...       ...  \n20421              0.000000  0.000000  \n20422              0.000000  0.748260  \n20423              0.652250  0.652250  \n20424              0.000000  0.000000  \n20425              0.000000  0.769844  \n\n[20426 rows x 8 columns]",
      "text/html": "<div>\n<style scoped>\n    .dataframe tbody tr th:only-of-type {\n        vertical-align: middle;\n    }\n\n    .dataframe tbody tr th {\n        vertical-align: top;\n    }\n\n    .dataframe thead th {\n        text-align: right;\n    }\n</style>\n<table border=\"1\" class=\"dataframe\">\n  <thead>\n    <tr style=\"text-align: right;\">\n      <th></th>\n      <th>protein.Accession</th>\n      <th>protein_probability0</th>\n      <th>protein_probability1</th>\n      <th>protein_probability2</th>\n      <th>protein_probability3</th>\n      <th>protein_probability4</th>\n      <th>protein_probability5</th>\n      <th>max</th>\n    </tr>\n  </thead>\n  <tbody>\n    <tr>\n      <th>0</th>\n      <td>A0A024RBG1</td>\n      <td>0.999992</td>\n      <td>0.999766</td>\n      <td>0.000000</td>\n      <td>0.990977</td>\n      <td>0.000000</td>\n      <td>0.999911</td>\n      <td>0.999992</td>\n    </tr>\n    <tr>\n      <th>1</th>\n      <td>A0A075B6J2</td>\n      <td>0.939846</td>\n      <td>0.000000</td>\n      <td>0.000000</td>\n      <td>0.000000</td>\n      <td>0.000000</td>\n      <td>0.000000</td>\n      <td>0.939846</td>\n    </tr>\n    <tr>\n      <th>2</th>\n      <td>A0A075B6K0</td>\n      <td>0.991211</td>\n      <td>0.000000</td>\n      <td>0.000000</td>\n      <td>0.000000</td>\n      <td>0.000000</td>\n      <td>0.000000</td>\n      <td>0.991211</td>\n    </tr>\n    <tr>\n      <th>3</th>\n      <td>A0A075B6K2</td>\n      <td>0.331800</td>\n      <td>0.000000</td>\n      <td>0.000000</td>\n      <td>0.000000</td>\n      <td>0.997536</td>\n      <td>0.000000</td>\n      <td>0.997536</td>\n    </tr>\n    <tr>\n      <th>4</th>\n      <td>A0A075B6K4</td>\n      <td>0.469839</td>\n      <td>0.000000</td>\n      <td>0.000000</td>\n      <td>0.000000</td>\n      <td>0.956788</td>\n      <td>0.356269</td>\n      <td>0.956788</td>\n    </tr>\n    <tr>\n      <th>...</th>\n      <td>...</td>\n      <td>...</td>\n      <td>...</td>\n      <td>...</td>\n      <td>...</td>\n      <td>...</td>\n      <td>...</td>\n      <td>...</td>\n    </tr>\n    <tr>\n      <th>20421</th>\n      <td>Q9UI72</td>\n      <td>0.000000</td>\n      <td>0.000000</td>\n      <td>0.000000</td>\n      <td>0.000000</td>\n      <td>0.000000</td>\n      <td>0.000000</td>\n      <td>0.000000</td>\n    </tr>\n    <tr>\n      <th>20422</th>\n      <td>Q9Y3F1</td>\n      <td>0.000000</td>\n      <td>0.748260</td>\n      <td>0.000000</td>\n      <td>0.000000</td>\n      <td>0.633704</td>\n      <td>0.000000</td>\n      <td>0.748260</td>\n    </tr>\n    <tr>\n      <th>20423</th>\n      <td>Q9Y6C7</td>\n      <td>0.000000</td>\n      <td>0.000000</td>\n      <td>0.000000</td>\n      <td>0.000000</td>\n      <td>0.000000</td>\n      <td>0.652250</td>\n      <td>0.652250</td>\n    </tr>\n    <tr>\n      <th>20424</th>\n      <td>Q9Y6Z2</td>\n      <td>0.000000</td>\n      <td>0.000000</td>\n      <td>0.000000</td>\n      <td>0.000000</td>\n      <td>0.000000</td>\n      <td>0.000000</td>\n      <td>0.000000</td>\n    </tr>\n    <tr>\n      <th>20425</th>\n      <td>X6R8R1</td>\n      <td>0.000000</td>\n      <td>0.769844</td>\n      <td>0.583961</td>\n      <td>0.383530</td>\n      <td>0.000000</td>\n      <td>0.000000</td>\n      <td>0.769844</td>\n    </tr>\n  </tbody>\n</table>\n<p>20426 rows × 8 columns</p>\n</div>"
     },
     "execution_count": 47,
     "metadata": {},
     "output_type": "execute_result"
    }
   ],
   "source": [
    "# joined_file['max'] = joined_file.iloc[:, 1:].mean(axis=1)\n",
    "joined_file['max'] = joined_file.iloc[:, 1:].max(axis=1)\n",
    "joined_file"
   ],
   "metadata": {
    "collapsed": false,
    "ExecuteTime": {
     "end_time": "2023-10-06T03:48:43.706751Z",
     "start_time": "2023-10-06T03:48:43.653114Z"
    }
   }
  },
  {
   "cell_type": "code",
   "execution_count": 48,
   "outputs": [
    {
     "data": {
      "text/plain": "      protein.Accession  protein_probability\n0            A0A024RBG1             0.999992\n1            A0A075B6J2             0.939846\n2            A0A075B6K0             0.991211\n3            A0A075B6K2             0.997536\n4            A0A075B6K4             0.956788\n...                 ...                  ...\n20421            Q9UI72             0.000000\n20422            Q9Y3F1             0.748260\n20423            Q9Y6C7             0.652250\n20424            Q9Y6Z2             0.000000\n20425            X6R8R1             0.769844\n\n[20426 rows x 2 columns]",
      "text/html": "<div>\n<style scoped>\n    .dataframe tbody tr th:only-of-type {\n        vertical-align: middle;\n    }\n\n    .dataframe tbody tr th {\n        vertical-align: top;\n    }\n\n    .dataframe thead th {\n        text-align: right;\n    }\n</style>\n<table border=\"1\" class=\"dataframe\">\n  <thead>\n    <tr style=\"text-align: right;\">\n      <th></th>\n      <th>protein.Accession</th>\n      <th>protein_probability</th>\n    </tr>\n  </thead>\n  <tbody>\n    <tr>\n      <th>0</th>\n      <td>A0A024RBG1</td>\n      <td>0.999992</td>\n    </tr>\n    <tr>\n      <th>1</th>\n      <td>A0A075B6J2</td>\n      <td>0.939846</td>\n    </tr>\n    <tr>\n      <th>2</th>\n      <td>A0A075B6K0</td>\n      <td>0.991211</td>\n    </tr>\n    <tr>\n      <th>3</th>\n      <td>A0A075B6K2</td>\n      <td>0.997536</td>\n    </tr>\n    <tr>\n      <th>4</th>\n      <td>A0A075B6K4</td>\n      <td>0.956788</td>\n    </tr>\n    <tr>\n      <th>...</th>\n      <td>...</td>\n      <td>...</td>\n    </tr>\n    <tr>\n      <th>20421</th>\n      <td>Q9UI72</td>\n      <td>0.000000</td>\n    </tr>\n    <tr>\n      <th>20422</th>\n      <td>Q9Y3F1</td>\n      <td>0.748260</td>\n    </tr>\n    <tr>\n      <th>20423</th>\n      <td>Q9Y6C7</td>\n      <td>0.652250</td>\n    </tr>\n    <tr>\n      <th>20424</th>\n      <td>Q9Y6Z2</td>\n      <td>0.000000</td>\n    </tr>\n    <tr>\n      <th>20425</th>\n      <td>X6R8R1</td>\n      <td>0.769844</td>\n    </tr>\n  </tbody>\n</table>\n<p>20426 rows × 2 columns</p>\n</div>"
     },
     "execution_count": 48,
     "metadata": {},
     "output_type": "execute_result"
    }
   ],
   "source": [
    "soft_label = joined_file.loc[:, ['protein.Accession', 'max']]\n",
    "soft_label.rename(columns={'max': 'protein_probability'}, inplace=True)\n",
    "soft_label"
   ],
   "metadata": {
    "collapsed": false,
    "ExecuteTime": {
     "end_time": "2023-10-06T03:48:44.873686Z",
     "start_time": "2023-10-06T03:48:44.865986Z"
    }
   }
  },
  {
   "cell_type": "code",
   "execution_count": 49,
   "outputs": [
    {
     "data": {
      "text/plain": "<Axes: >"
     },
     "execution_count": 49,
     "metadata": {},
     "output_type": "execute_result"
    },
    {
     "data": {
      "text/plain": "<Figure size 640x480 with 1 Axes>",
      "image/png": "[encoded data removed]"
     },
     "metadata": {},
     "output_type": "display_data"
    }
   ],
   "source": [
    "soft_label['protein_probability'].hist(bins=100)"
   ],
   "metadata": {
    "collapsed": false,
    "ExecuteTime": {
     "end_time": "2023-10-06T03:48:45.921572Z",
     "start_time": "2023-10-06T03:48:45.654348Z"
    }
   }
  },
  {
   "cell_type": "code",
   "execution_count": 50,
   "outputs": [],
   "source": [
    "soft_label.to_csv('soft_label.csv', index=False)"
   ],
   "metadata": {
    "collapsed": false,
    "ExecuteTime": {
     "end_time": "2023-10-06T03:48:47.561297Z",
     "start_time": "2023-10-06T03:48:47.490958Z"
    }
   }
  },
  {
   "cell_type": "code",
   "execution_count": 140,
   "outputs": [],
   "source": [
    "dat_train = pd.read_csv('/Users/cgu3/Documents/data/SG_combined_protein_0981_with_protein_probability.csv')"
   ],
   "metadata": {
    "collapsed": false,
    "ExecuteTime": {
     "end_time": "2023-10-08T18:26:59.865463Z",
     "start_time": "2023-10-08T18:26:59.832148Z"
    }
   }
  },
  {
   "cell_type": "code",
   "execution_count": 141,
   "outputs": [
    {
     "data": {
      "text/plain": "<Axes: >"
     },
     "execution_count": 141,
     "metadata": {},
     "output_type": "execute_result"
    },
    {
     "data": {
      "text/plain": "<Figure size 640x480 with 1 Axes>",
      "image/png": "[encoded data removed]"
     },
     "metadata": {},
     "output_type": "display_data"
    }
   ],
   "source": [
    "dat_train['protein_probability'].hist(bins=100)"
   ],
   "metadata": {
    "collapsed": false,
    "ExecuteTime": {
     "end_time": "2023-10-08T18:27:00.555487Z",
     "start_time": "2023-10-08T18:27:00.133786Z"
    }
   }
  },
  {
   "cell_type": "code",
   "execution_count": 142,
   "outputs": [
    {
     "data": {
      "text/plain": "hard_label\n-1    9343\n 1    6083\n 0    5000\nName: count, dtype: int64"
     },
     "execution_count": 142,
     "metadata": {},
     "output_type": "execute_result"
    }
   ],
   "source": [
    "dat_train = pd.merge(dat_train, soft_label, on='protein.Accession', suffixes=('', '_soft_label'))\n",
    "dat_train['hard_label'] = np.where(dat_train['protein_probability_soft_label'] > 0.99, 1, \n",
    "                                   np.where(dat_train['protein_probability_soft_label'] < 0.5, 0, -1))\n",
    "dat_train['hard_label'].value_counts()\n"
   ],
   "metadata": {
    "collapsed": false,
    "ExecuteTime": {
     "end_time": "2023-10-08T18:27:00.586442Z",
     "start_time": "2023-10-08T18:27:00.560421Z"
    }
   }
  },
  {
   "cell_type": "code",
   "execution_count": 143,
   "outputs": [],
   "source": [
    "dat_train = dat_train[dat_train['hard_label'] != -1]"
   ],
   "metadata": {
    "collapsed": false,
    "ExecuteTime": {
     "end_time": "2023-10-08T18:27:00.795282Z",
     "start_time": "2023-10-08T18:27:00.778615Z"
    }
   }
  },
  {
   "cell_type": "code",
   "execution_count": 144,
   "outputs": [],
   "source": [
    "# dat_train = dat_train[(dat_train['protein_probability'] > 0.6) | (dat_train['protein_probability'] < 0.4)]"
   ],
   "metadata": {
    "collapsed": false,
    "ExecuteTime": {
     "end_time": "2023-10-08T18:27:01.505910Z",
     "start_time": "2023-10-08T18:27:01.493603Z"
    }
   }
  },
  {
   "cell_type": "code",
   "execution_count": 145,
   "outputs": [],
   "source": [
    "dat_train.to_csv('/Users/cgu3/Documents/data/0981-confident-hard-label.csv', index=False)"
   ],
   "metadata": {
    "collapsed": false,
    "ExecuteTime": {
     "end_time": "2023-10-08T18:27:01.844454Z",
     "start_time": "2023-10-08T18:27:01.790505Z"
    }
   }
  },
  {
   "cell_type": "code",
   "execution_count": null,
   "outputs": [],
   "source": [],
   "metadata": {
    "collapsed": false
   }
  }
 ],
 "metadata": {
  "kernelspec": {
   "display_name": "Python 3",
   "language": "python",
   "name": "python3"
  },
  "language_info": {
   "codemirror_mode": {
    "name": "ipython",
    "version": 2
   },
   "file_extension": ".py",
   "mimetype": "text/x-python",
   "name": "python",
   "nbconvert_exporter": "python",
   "pygments_lexer": "ipython2",
   "version": "2.7.6"
  }
 },
 "nbformat": 4,
 "nbformat_minor": 0
}
